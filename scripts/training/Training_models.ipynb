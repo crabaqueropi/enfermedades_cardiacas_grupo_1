{
 "cells": [
  {
   "cell_type": "markdown",
   "id": "40e9ec4f",
   "metadata": {},
   "source": [
    "### Ejecuciones en la terminal"
   ]
  },
  {
   "cell_type": "code",
   "execution_count": null,
   "id": "b62f54e6",
   "metadata": {},
   "outputs": [],
   "source": [
    "#cd \"enfermedades_cardiacas_grupo_1\"\n",
    "# Ejecutar en la terminal\n",
    "\n"
   ]
  },
  {
   "cell_type": "code",
   "execution_count": null,
   "id": "7d5d4674",
   "metadata": {},
   "outputs": [],
   "source": [
    "import json\n",
    "import os\n",
    "with open(\"credentials.json\") as f:\n",
    "    os.environ[\"GDRIVE_CREDENTIALS_DATA\"] = f.read()\n",
    "\n",
    "\n",
    "\n",
    "drive_id = \"1VpJLIEIIely_NcvUVKy0F5IXGUkr3e_S\" # id carpeta\n",
    "os.environ[\"DRIVEID\"] = drive_id"
   ]
  },
  {
   "cell_type": "code",
   "execution_count": null,
   "id": "ddfa2dc5",
   "metadata": {},
   "outputs": [],
   "source": [
    "# dvc init\n",
    "# dvc remote add -d storage gdrive://1VpJLIEIIely_NcvUVKy0F5IXGUkr3e_S\n",
    "# dvc remote modify storage gdrive_service_account_json_file_path \"c:\\\\Users\\\\rosme\\\\OneDrive\\\\Documentos\\\\UNAL\\\\credentials.json\"\n",
    "# dvc pull"
   ]
  },
  {
   "cell_type": "code",
   "execution_count": null,
   "id": "sm7iokiujMeq",
   "metadata": {
    "colab": {
     "base_uri": "https://localhost:8080/"
    },
    "id": "sm7iokiujMeq",
    "outputId": "7ff84d8c-1b88-4736-efa0-8f858cc5dc8a"
   },
   "outputs": [
    {
     "name": "stdout",
     "output_type": "stream",
     "text": [
      "Collecting catboost\n",
      "  Downloading catboost-1.2.5-cp310-cp310-manylinux2014_x86_64.whl (98.2 MB)\n",
      "\u001b[2K     \u001b[90m━━━━━━━━━━━━━━━━━━━━━━━━━━━━━━━━━━━━━━━━\u001b[0m \u001b[32m98.2/98.2 MB\u001b[0m \u001b[31m6.2 MB/s\u001b[0m eta \u001b[36m0:00:00\u001b[0m\n",
      "\u001b[?25hRequirement already satisfied: graphviz in /usr/local/lib/python3.10/dist-packages (from catboost) (0.20.3)\n",
      "Requirement already satisfied: matplotlib in /usr/local/lib/python3.10/dist-packages (from catboost) (3.7.1)\n",
      "Requirement already satisfied: numpy>=1.16.0 in /usr/local/lib/python3.10/dist-packages (from catboost) (1.25.2)\n",
      "Requirement already satisfied: pandas>=0.24 in /usr/local/lib/python3.10/dist-packages (from catboost) (2.0.3)\n",
      "Requirement already satisfied: scipy in /usr/local/lib/python3.10/dist-packages (from catboost) (1.11.4)\n",
      "Requirement already satisfied: plotly in /usr/local/lib/python3.10/dist-packages (from catboost) (5.15.0)\n",
      "Requirement already satisfied: six in /usr/local/lib/python3.10/dist-packages (from catboost) (1.16.0)\n",
      "Requirement already satisfied: python-dateutil>=2.8.2 in /usr/local/lib/python3.10/dist-packages (from pandas>=0.24->catboost) (2.8.2)\n",
      "Requirement already satisfied: pytz>=2020.1 in /usr/local/lib/python3.10/dist-packages (from pandas>=0.24->catboost) (2023.4)\n",
      "Requirement already satisfied: tzdata>=2022.1 in /usr/local/lib/python3.10/dist-packages (from pandas>=0.24->catboost) (2024.1)\n",
      "Requirement already satisfied: contourpy>=1.0.1 in /usr/local/lib/python3.10/dist-packages (from matplotlib->catboost) (1.2.1)\n",
      "Requirement already satisfied: cycler>=0.10 in /usr/local/lib/python3.10/dist-packages (from matplotlib->catboost) (0.12.1)\n",
      "Requirement already satisfied: fonttools>=4.22.0 in /usr/local/lib/python3.10/dist-packages (from matplotlib->catboost) (4.51.0)\n",
      "Requirement already satisfied: kiwisolver>=1.0.1 in /usr/local/lib/python3.10/dist-packages (from matplotlib->catboost) (1.4.5)\n",
      "Requirement already satisfied: packaging>=20.0 in /usr/local/lib/python3.10/dist-packages (from matplotlib->catboost) (24.0)\n",
      "Requirement already satisfied: pillow>=6.2.0 in /usr/local/lib/python3.10/dist-packages (from matplotlib->catboost) (9.4.0)\n",
      "Requirement already satisfied: pyparsing>=2.3.1 in /usr/local/lib/python3.10/dist-packages (from matplotlib->catboost) (3.1.2)\n",
      "Requirement already satisfied: tenacity>=6.2.0 in /usr/local/lib/python3.10/dist-packages (from plotly->catboost) (8.2.3)\n",
      "Installing collected packages: catboost\n",
      "Successfully installed catboost-1.2.5\n"
     ]
    }
   ],
   "source": [
    "pip install catboost"
   ]
  },
  {
   "cell_type": "markdown",
   "id": "d9PWBmvNJd5W",
   "metadata": {
    "id": "d9PWBmvNJd5W"
   },
   "source": [
    "Creamos una función auxiliar para guardar las métricas principales de desempeño de cada modelo para a la final poder compararlos todos. Quedaran guardadas en el dataframe llamado \"EVALUACION_DATAFRAME\""
   ]
  },
  {
   "cell_type": "code",
   "execution_count": null,
   "id": "aduWu34oMXLi",
   "metadata": {
    "id": "aduWu34oMXLi"
   },
   "outputs": [],
   "source": [
    "import pandas as pd\n",
    "from sklearn.metrics import accuracy_score, precision_recall_fscore_support\n",
    "\n",
    "def agregar_modelo(df=None, modelo=None, descripcion_modelo=None, y_test=None, y_pred=None):\n",
    "    # Si no se proporciona un DataFrame, crear uno vacío\n",
    "    if df is None:\n",
    "        df = pd.DataFrame(columns=['modelo', 'descripcion_modelo', 'hiperparametros', 'accuracy', 'precision', 'recall', 'f1-score'])\n",
    "\n",
    "    # Definir los valores para cada columna del DataFrame\n",
    "    hiperparametros = modelo.best_params_\n",
    "    accuracy = accuracy_score(y_test, y_pred)\n",
    "    precision, recall, f1_score, _ = precision_recall_fscore_support(y_test, y_pred, average='macro')\n",
    "\n",
    "    # Crear un diccionario con los valores del nuevo registro\n",
    "    nuevo_registro = {\n",
    "        'modelo': [modelo.best_estimator_.steps[-1][0]],\n",
    "        'descripcion_modelo': [descripcion_modelo],\n",
    "        'hiperparametros': [hiperparametros],\n",
    "        'accuracy': [accuracy],\n",
    "        'precision': [precision],\n",
    "        'recall': [recall],\n",
    "        'f1-score': [f1_score]\n",
    "    }\n",
    "\n",
    "    # Convertir el diccionario en DataFrame\n",
    "    nuevo_df = pd.DataFrame(nuevo_registro)\n",
    "\n",
    "    # Concatenar el nuevo DataFrame al DataFrame existente\n",
    "    df_nuevo = pd.concat([df, nuevo_df], ignore_index=True)\n",
    "\n",
    "    return df_nuevo\n"
   ]
  },
  {
   "cell_type": "code",
   "execution_count": null,
   "id": "sjms3oezk7pJ",
   "metadata": {
    "colab": {
     "base_uri": "https://localhost:8080/"
    },
    "id": "sjms3oezk7pJ",
    "outputId": "0bed2d9f-4c07-4b24-fdb2-2358f56e5544"
   },
   "outputs": [
    {
     "name": "stdout",
     "output_type": "stream",
     "text": [
      "Mounted at /content/drive\n"
     ]
    }
   ],
   "source": [
    "import pandas as pd\n",
    "import numpy as np\n",
    "import matplotlib.pyplot as plt\n",
    "from google.colab import drive\n",
    "drive.mount('/content/drive')"
   ]
  },
  {
   "cell_type": "code",
   "execution_count": null,
   "id": "3HVXhW2CmMOo",
   "metadata": {
    "id": "3HVXhW2CmMOo"
   },
   "outputs": [],
   "source": [
    "from sklearn.compose import ColumnTransformer\n",
    "from sklearn.preprocessing import OneHotEncoder, StandardScaler\n",
    "from imblearn.over_sampling import RandomOverSampler\n",
    "from imblearn.under_sampling import RandomUnderSampler\n",
    "from sklearn.model_selection import train_test_split\n",
    "from sklearn.tree import DecisionTreeClassifier\n",
    "from sklearn.metrics import classification_report, confusion_matrix\n"
   ]
  },
  {
   "cell_type": "code",
   "execution_count": null,
   "id": "NCdHGkqHlLrO",
   "metadata": {
    "id": "NCdHGkqHlLrO"
   },
   "outputs": [],
   "source": [
    "df_heart_2022_no_nans = pd.read_csv(\"heart_2022_no_nans.csv\")"
   ]
  },
  {
   "cell_type": "code",
   "execution_count": null,
   "id": "kDc9OMk0lQ_O",
   "metadata": {
    "id": "kDc9OMk0lQ_O"
   },
   "outputs": [],
   "source": [
    "X = df_heart_2022_no_nans.drop('HadHeartAttack', axis=1)\n",
    "#X = pd.get_dummies(X)\n",
    "y = df_heart_2022_no_nans['HadHeartAttack']"
   ]
  },
  {
   "cell_type": "code",
   "execution_count": null,
   "id": "TzBKLq1Jl8t7",
   "metadata": {
    "id": "TzBKLq1Jl8t7"
   },
   "outputs": [],
   "source": [
    "categoricas = X.select_dtypes(include='object').columns.tolist()\n",
    "\n",
    "# Obtener los nombres de las variables numéricas\n",
    "numericas = X.select_dtypes(exclude='object').columns.tolist()\n"
   ]
  },
  {
   "cell_type": "code",
   "execution_count": null,
   "id": "iznox4K7mGcE",
   "metadata": {
    "id": "iznox4K7mGcE"
   },
   "outputs": [],
   "source": [
    "tf = ColumnTransformer([\n",
    "        ('onehot', OneHotEncoder(), categoricas),\n",
    "        ('scaler', StandardScaler(), numericas)])\n",
    "X = tf.fit_transform(X)"
   ]
  },
  {
   "cell_type": "code",
   "execution_count": null,
   "id": "1t8cF_OGoFDP",
   "metadata": {
    "id": "1t8cF_OGoFDP"
   },
   "outputs": [],
   "source": [
    "## Partición de los datos originales\n",
    "X_train, X_test, y_train, y_test = train_test_split(X, y, test_size=0.2, random_state=1234)"
   ]
  },
  {
   "cell_type": "code",
   "execution_count": null,
   "id": "8rfEL0Vbm05H",
   "metadata": {
    "id": "8rfEL0Vbm05H"
   },
   "outputs": [],
   "source": [
    "# Aplicar sobremuestreo\n",
    "oversample = RandomOverSampler(sampling_strategy='minority')\n",
    "X_resampled, y_resampled = oversample.fit_resample(X, y)\n",
    "\n",
    "# Dividir el conjunto de datos en entrenamiento y prueba\n",
    "X_train_O, X_test_O, y_train_O, y_test_O = train_test_split(X_resampled, y_resampled, test_size=0.2, random_state=1234)"
   ]
  },
  {
   "cell_type": "code",
   "execution_count": null,
   "id": "lMVTwyAvoDr6",
   "metadata": {
    "id": "lMVTwyAvoDr6"
   },
   "outputs": [],
   "source": [
    "# Aplicar submuestreo\n",
    "undersample = RandomUnderSampler(sampling_strategy='majority')\n",
    "X_resampled, y_resampled = undersample.fit_resample(X, y)\n",
    "\n",
    "# Dividir el conjunto de datos en entrenamiento y prueba\n",
    "X_train_U, X_test_U, y_train_U, y_test_U = train_test_split(X_resampled, y_resampled, test_size=0.2, random_state=1234)"
   ]
  },
  {
   "cell_type": "markdown",
   "id": "3fef6dbc",
   "metadata": {
    "id": "3fef6dbc"
   },
   "source": [
    "## **1. Selección y diseño de modelos**\n",
    "---\n",
    "\n",
    "Probaremos diversos modelos de clasificiación debido a que tenemos una variable a predecir que es: una persona tendrá ataque cardiaco o no (HadHeartAttack)"
   ]
  },
  {
   "cell_type": "code",
   "execution_count": null,
   "id": "DgMC4NYGoosp",
   "metadata": {
    "id": "DgMC4NYGoosp"
   },
   "outputs": [],
   "source": [
    "from sklearn.model_selection import train_test_split, GridSearchCV\n",
    "from sklearn.pipeline import Pipeline\n",
    "from sklearn.ensemble import RandomForestClassifier\n",
    "from sklearn.preprocessing import StandardScaler\n",
    "from sklearn.metrics import classification_report\n",
    "from joblib import dump, load"
   ]
  },
  {
   "cell_type": "code",
   "execution_count": null,
   "id": "on0jiyYwC_0R",
   "metadata": {
    "id": "on0jiyYwC_0R"
   },
   "outputs": [],
   "source": [
    "ruta_guardado = \"/content/drive/Shareddrives/2. Introducción a Machine Learning con Python/Entrega 4/Modelos guardados\""
   ]
  },
  {
   "cell_type": "markdown",
   "id": "dLDg0zRBJQuM",
   "metadata": {
    "id": "dLDg0zRBJQuM"
   },
   "source": [
    "### 1.1 modelo : LOGISTIC REGRESION\n"
   ]
  },
  {
   "cell_type": "code",
   "execution_count": null,
   "id": "ay7v5CCMJQDz",
   "metadata": {
    "colab": {
     "base_uri": "https://localhost:8080/"
    },
    "id": "ay7v5CCMJQDz",
    "outputId": "9645c114-8d3f-4ac1-c0fc-30e7fa7f3841"
   },
   "outputs": [
    {
     "name": "stdout",
     "output_type": "stream",
     "text": [
      "Fitting 5 folds for each of 6 candidates, totalling 30 fits\n"
     ]
    },
    {
     "name": "stderr",
     "output_type": "stream",
     "text": [
      "/usr/local/lib/python3.10/dist-packages/sklearn/model_selection/_validation.py:378: FitFailedWarning: \n",
      "15 fits failed out of a total of 30.\n",
      "The score on these train-test partitions for these parameters will be set to nan.\n",
      "If these failures are not expected, you can try to debug them by setting error_score='raise'.\n",
      "\n",
      "Below are more details about the failures:\n",
      "--------------------------------------------------------------------------------\n",
      "15 fits failed with the following error:\n",
      "Traceback (most recent call last):\n",
      "  File \"/usr/local/lib/python3.10/dist-packages/sklearn/model_selection/_validation.py\", line 686, in _fit_and_score\n",
      "    estimator.fit(X_train, y_train, **fit_params)\n",
      "  File \"/usr/local/lib/python3.10/dist-packages/sklearn/pipeline.py\", line 405, in fit\n",
      "    self._final_estimator.fit(Xt, y, **fit_params_last_step)\n",
      "  File \"/usr/local/lib/python3.10/dist-packages/sklearn/linear_model/_logistic.py\", line 1162, in fit\n",
      "    solver = _check_solver(self.solver, self.penalty, self.dual)\n",
      "  File \"/usr/local/lib/python3.10/dist-packages/sklearn/linear_model/_logistic.py\", line 54, in _check_solver\n",
      "    raise ValueError(\n",
      "ValueError: Solver lbfgs supports only 'l2' or 'none' penalties, got l1 penalty.\n",
      "\n",
      "  warnings.warn(some_fits_failed_message, FitFailedWarning)\n",
      "/usr/local/lib/python3.10/dist-packages/sklearn/model_selection/_search.py:952: UserWarning: One or more of the test scores are non-finite: [       nan 0.94841909        nan 0.94842417        nan 0.94841909]\n",
      "  warnings.warn(\n",
      "/usr/local/lib/python3.10/dist-packages/sklearn/linear_model/_logistic.py:458: ConvergenceWarning: lbfgs failed to converge (status=1):\n",
      "STOP: TOTAL NO. of ITERATIONS REACHED LIMIT.\n",
      "\n",
      "Increase the number of iterations (max_iter) or scale the data as shown in:\n",
      "    https://scikit-learn.org/stable/modules/preprocessing.html\n",
      "Please also refer to the documentation for alternative solver options:\n",
      "    https://scikit-learn.org/stable/modules/linear_model.html#logistic-regression\n",
      "  n_iter_i = _check_optimize_result(\n"
     ]
    },
    {
     "name": "stdout",
     "output_type": "stream",
     "text": [
      "Mejores hiperparámetros:\n",
      "{'lr__C': 1, 'lr__penalty': 'l2'}\n",
      "Informe de clasificación:\n",
      "              precision    recall  f1-score   support\n",
      "\n",
      "          No       0.96      0.99      0.97     46513\n",
      "         Yes       0.58      0.25      0.35      2692\n",
      "\n",
      "    accuracy                           0.95     49205\n",
      "   macro avg       0.77      0.62      0.66     49205\n",
      "weighted avg       0.94      0.95      0.94     49205\n",
      "\n"
     ]
    }
   ],
   "source": [
    "from sklearn.linear_model import LogisticRegression\n",
    "# Crear un pipeline con Regresión Logística\n",
    "pipeline = Pipeline([\n",
    "    ('scaler', StandardScaler(with_mean=False)),  # Escalar las características\n",
    "    ('lr', LogisticRegression(random_state=42))  # Clasificador Regresión Logística\n",
    "])\n",
    "\n",
    "# Definir la grilla de hiperparámetros específicos de Regresión Logística\n",
    "param_grid = {\n",
    "    'lr__C': [0.1, 1, 10],  # Inverso de la fuerza de regularización\n",
    "    'lr__penalty': ['l1', 'l2']  # Tipo de regularización (L1 o L2)\n",
    "}\n",
    "\n",
    "grid_search_LogisticRegression = GridSearchCV(pipeline, param_grid, cv=5, n_jobs=-1, verbose=10)\n",
    "grid_search_LogisticRegression.fit(X_train, y_train)\n",
    "\n",
    "# Mostrar los mejores hiperparámetros encontrados\n",
    "print(\"Mejores hiperparámetros:\")\n",
    "print(grid_search_LogisticRegression.best_params_)\n",
    "\n",
    "# Predecir en el conjunto de prueba\n",
    "y_pred = grid_search_LogisticRegression.predict(X_test)\n",
    "\n",
    "# Mostrar métricas de evaluación\n",
    "print(\"Informe de clasificación:\")\n",
    "Ligistic_regression_report=classification_report(y_test, y_pred)\n",
    "print(Ligistic_regression_report)\n"
   ]
  },
  {
   "cell_type": "code",
   "execution_count": null,
   "id": "PkHhaCQRkjBc",
   "metadata": {
    "colab": {
     "base_uri": "https://localhost:8080/"
    },
    "id": "PkHhaCQRkjBc",
    "outputId": "25933ba7-4560-4d5c-ce7c-4e48b2f2eb45"
   },
   "outputs": [
    {
     "data": {
      "text/plain": [
       "['/content/drive/Shareddrives/2. Introducción a Machine Learning con Python/Entrega 4/Modelos guardados/reg_logistica.joblib']"
      ]
     },
     "execution_count": 16,
     "metadata": {},
     "output_type": "execute_result"
    }
   ],
   "source": [
    "# Guardar el modelo\n",
    "# Guardar el mejor modelo de Regresión Logística\n",
    "best_model = grid_search.best_estimator_\n",
    "dump(best_model, ruta_guardado + \"/reg_logistica.joblib\")"
   ]
  },
  {
   "cell_type": "code",
   "execution_count": null,
   "id": "WPB2iyjWl9HY",
   "metadata": {
    "id": "WPB2iyjWl9HY"
   },
   "outputs": [],
   "source": [
    "# Prueba de carga del modelo guardado\n",
    "\n",
    "# Cargar el modelo guardado\n",
    "#best_model = load(ruta_guardado + \"/reg_logistica.joblib\")\n",
    "\n",
    "# Usar el modelo cargado para predecir\n",
    "#y_pred_loaded = loaded_model.predict(X_test)"
   ]
  },
  {
   "cell_type": "code",
   "execution_count": null,
   "id": "rJszxy39DZaL",
   "metadata": {
    "id": "rJszxy39DZaL"
   },
   "outputs": [],
   "source": [
    "EVALUACION_DATAFRAME=agregar_modelo(None, grid_search,\"logistic regresion  datos originales\",y_test, y_pred)"
   ]
  },
  {
   "cell_type": "markdown",
   "id": "Fd9vBNcCNY4k",
   "metadata": {
    "id": "Fd9vBNcCNY4k"
   },
   "source": [
    "### 1.2  modelo : SMV\n"
   ]
  },
  {
   "cell_type": "code",
   "execution_count": null,
   "id": "PyPSbfHPNYkI",
   "metadata": {
    "colab": {
     "base_uri": "https://localhost:8080/"
    },
    "id": "PyPSbfHPNYkI",
    "outputId": "6cc21391-b05a-424c-8c43-23905f95da8a"
   },
   "outputs": [
    {
     "name": "stdout",
     "output_type": "stream",
     "text": [
      "Fitting 3 folds for each of 1 candidates, totalling 3 fits\n",
      "Mejores hiperparámetros:\n",
      "{'svc__C': 1, 'svc__kernel': 'rbf'}\n",
      "Informe de clasificación:\n",
      "              precision    recall  f1-score   support\n",
      "\n",
      "          No       0.79      0.85      0.82      2686\n",
      "         Yes       0.83      0.77      0.80      2688\n",
      "\n",
      "    accuracy                           0.81      5374\n",
      "   macro avg       0.81      0.81      0.81      5374\n",
      "weighted avg       0.81      0.81      0.81      5374\n",
      "\n"
     ]
    }
   ],
   "source": [
    "from sklearn.svm import SVC\n",
    "# Crear un pipeline con SVM\n",
    "pipeline = Pipeline([\n",
    "    ('scaler', StandardScaler(with_mean=False)),  # Escalar las características\n",
    "    ('svc', SVC(random_state=42))  # Clasificador SVM\n",
    "])\n",
    "\n",
    "# Definir la grilla de hiperparámetros específicos de SVM\n",
    "param_grid = {\n",
    "    'svc__C': [1],  # Parámetro de regularización\n",
    "    'svc__kernel': ['rbf']  # Tipo de kernel\n",
    "}\n",
    "\n",
    "# Crear un objeto GridSearchCV\n",
    "svm_search = GridSearchCV(pipeline, param_grid, cv=3, n_jobs=-1, verbose=3)\n",
    "\n",
    "# Entrenar el modelo utilizando GridSearchCV\n",
    "svm_search.fit(X_train_U, y_train_U)\n",
    "\n",
    "# Mostrar los mejores hiperparámetros encontrados\n",
    "print(\"Mejores hiperparámetros:\")\n",
    "print(svm_search.best_params_)\n",
    "\n"
   ]
  },
  {
   "cell_type": "code",
   "execution_count": null,
   "id": "OfQoOWzwwbwD",
   "metadata": {
    "colab": {
     "base_uri": "https://localhost:8080/"
    },
    "id": "OfQoOWzwwbwD",
    "outputId": "f6c1465e-8076-41e0-bf08-abc3693d00d0"
   },
   "outputs": [
    {
     "name": "stdout",
     "output_type": "stream",
     "text": [
      "Informe de clasificación:\n",
      "              precision    recall  f1-score   support\n",
      "\n",
      "          No       0.99      0.84      0.91     46513\n",
      "         Yes       0.23      0.82      0.35      2692\n",
      "\n",
      "    accuracy                           0.84     49205\n",
      "   macro avg       0.61      0.83      0.63     49205\n",
      "weighted avg       0.95      0.84      0.88     49205\n",
      "\n"
     ]
    }
   ],
   "source": [
    "# Predecir en el conjunto de prueba\n",
    "y_pred = svm_search.predict(X_test)\n",
    "\n",
    "# Mostrar métricas de evaluación\n",
    "print(\"Informe de clasificación:\")\n",
    "svm_report = classification_report(y_test, y_pred)\n",
    "print(svm_report)\n"
   ]
  },
  {
   "cell_type": "code",
   "execution_count": null,
   "id": "BoZ72iALDRI-",
   "metadata": {
    "id": "BoZ72iALDRI-"
   },
   "outputs": [],
   "source": [
    "EVALUACION_DATAFRAME=agregar_modelo(EVALUACION_DATAFRAME, svm_search,\"Modelo SMv  datos originales\",y_test_U, y_pred)"
   ]
  },
  {
   "cell_type": "code",
   "execution_count": null,
   "id": "_cI-V3KkuPwn",
   "metadata": {
    "id": "_cI-V3KkuPwn"
   },
   "outputs": [],
   "source": [
    "EVALUACION_DATAFRAME.to_excel(\"Archivo V.xlsx\",index=False)"
   ]
  },
  {
   "cell_type": "code",
   "execution_count": null,
   "id": "ffJPC0X54Bda",
   "metadata": {
    "id": "ffJPC0X54Bda"
   },
   "outputs": [],
   "source": [
    "EVALUACION_DATAFRAME"
   ]
  },
  {
   "cell_type": "markdown",
   "id": "r51dX5vIwJXk",
   "metadata": {
    "id": "r51dX5vIwJXk"
   },
   "source": [
    "### 1.3: Modelo Random Forest"
   ]
  },
  {
   "cell_type": "code",
   "execution_count": null,
   "id": "dHN9CfM1CBGV",
   "metadata": {
    "id": "dHN9CfM1CBGV"
   },
   "outputs": [],
   "source": [
    "from sklearn.tree import plot_tree\n",
    "import matplotlib.pyplot as plt\n",
    "\n",
    "def plot_best_tree(grid_search):\n",
    "    # Extraer el mejor modelo del GridSearchCV\n",
    "    best_model = grid_search.best_estimator_\n",
    "\n",
    "    # Si el mejor modelo es un RandomForestClassifier\n",
    "    if 'rf' in best_model.named_steps:\n",
    "        # Extraer un árbol del bosque (por ejemplo, el primero)\n",
    "        primer_arbol = best_model['rf'].estimators_[0]\n",
    "\n",
    "        # Plotear el árbol\n",
    "        plt.figure(figsize=(20, 10))\n",
    "        plot_tree(primer_arbol, feature_names=X_train.columns, class_names=[\"Clase 0\", \"Clase 1\"], filled=True)\n",
    "        plt.show()\n",
    "    else:\n",
    "        print(\"El mejor modelo no es un RandomForestClassifier. No se puede visualizar un árbol.\")\n"
   ]
  },
  {
   "cell_type": "markdown",
   "id": "PDNhnrPCwPcG",
   "metadata": {
    "id": "PDNhnrPCwPcG"
   },
   "source": [
    "#### 1.3.1: Modelo Random Forest con los datos originales"
   ]
  },
  {
   "cell_type": "code",
   "execution_count": null,
   "id": "5KoeOhz-o8Al",
   "metadata": {
    "colab": {
     "base_uri": "https://localhost:8080/"
    },
    "id": "5KoeOhz-o8Al",
    "outputId": "6df7b4ea-ad56-406a-abd1-b944d6fe8db2"
   },
   "outputs": [
    {
     "name": "stdout",
     "output_type": "stream",
     "text": [
      "Fitting 5 folds for each of 24 candidates, totalling 120 fits\n",
      "Mejores hiperparámetros:\n",
      "{'rf__max_depth': 10, 'rf__min_samples_leaf': 2, 'rf__min_samples_split': 5, 'rf__n_estimators': 20}\n",
      "Informe de clasificación:\n",
      "              precision    recall  f1-score   support\n",
      "\n",
      "          No       0.95      1.00      0.97     46513\n",
      "         Yes       0.64      0.09      0.16      2692\n",
      "\n",
      "    accuracy                           0.95     49205\n",
      "   macro avg       0.80      0.55      0.57     49205\n",
      "weighted avg       0.93      0.95      0.93     49205\n",
      "\n"
     ]
    }
   ],
   "source": [
    "# Crear un pipeline\n",
    "pipeline = Pipeline([\n",
    "    ('scaler', StandardScaler(with_mean=False)),  # Escalar las características\n",
    "    ('rf', RandomForestClassifier(random_state=42))  # Clasificador Random Forest\n",
    "])\n",
    "\n",
    "# Definir la grilla de hiperparámetros\n",
    "param_grid = {\n",
    "    'rf__n_estimators': [10, 20],  # Número de árboles en el bosque\n",
    "    'rf__max_depth': [2, 5, 10],  # Profundidad máxima de los árboles\n",
    "    'rf__min_samples_split': [2, 5],  # Número mínimo de muestras requeridas para dividir un nodo\n",
    "    'rf__min_samples_leaf': [1, 2]  # Número mínimo de muestras requeridas en cada nodo hoja\n",
    "}\n",
    "\n",
    "# Crear un objeto GridSearchCV\n",
    "grid_search = GridSearchCV(pipeline, param_grid, cv=5, n_jobs=-1, verbose=10)\n",
    "\n",
    "# Entrenar el modelo utilizando GridSearchCV\n",
    "grid_search.fit(X_train, y_train)\n",
    "\n",
    "# Mostrar los mejores hiperparámetros encontrados\n",
    "print(\"Mejores hiperparámetros:\")\n",
    "print(grid_search.best_params_)\n",
    "\n",
    "# Predecir en el conjunto de prueba\n",
    "y_pred = grid_search.predict(X_test)\n",
    "\n",
    "# Mostrar métricas de evaluación\n",
    "print(\"Informe de clasificación:\")\n",
    "Random_forest_report = classification_report(y_test, y_pred)\n",
    "print(Random_forest_report)\n"
   ]
  },
  {
   "cell_type": "code",
   "execution_count": null,
   "id": "CaB1pTXcq209",
   "metadata": {
    "colab": {
     "base_uri": "https://localhost:8080/"
    },
    "id": "CaB1pTXcq209",
    "outputId": "639fb092-8190-4fdd-b874-b95df44126f5"
   },
   "outputs": [
    {
     "data": {
      "text/plain": [
       "['/content/drive/Shareddrives/2. Introducción a Machine Learning con Python/Entrega 4/Modelos guardados/random_forest.joblib']"
      ]
     },
     "execution_count": 22,
     "metadata": {},
     "output_type": "execute_result"
    }
   ],
   "source": [
    "# Guardar el mejor modelo de Regresión Logística\n",
    "best_model = grid_search.best_estimator_\n",
    "dump(best_model, ruta_guardado + \"/random_forest.joblib\")"
   ]
  },
  {
   "cell_type": "code",
   "execution_count": null,
   "id": "-NZ0r8J6qwaE",
   "metadata": {
    "id": "-NZ0r8J6qwaE"
   },
   "outputs": [],
   "source": [
    "# Cargar el modelo guardado\n",
    "#loaded_model = load(ruta_guardado + \"/random_forest.joblib\")\n",
    "\n",
    "# Usar el modelo cargado para predecir\n",
    "#y_pred_loaded = loaded_model.predict(X_test)"
   ]
  },
  {
   "cell_type": "code",
   "execution_count": null,
   "id": "V1GnFJQrVxc3",
   "metadata": {
    "id": "V1GnFJQrVxc3"
   },
   "outputs": [],
   "source": [
    "EVALUACION_DATAFRAME=agregar_modelo(EVALUACION_DATAFRAME, grid_search,\"Random Forest  datos originales\",y_test, y_pred)"
   ]
  },
  {
   "cell_type": "code",
   "execution_count": null,
   "id": "HAOkmrZrVzZh",
   "metadata": {
    "colab": {
     "base_uri": "https://localhost:8080/",
     "height": 81
    },
    "id": "HAOkmrZrVzZh",
    "outputId": "862f6f19-4eb2-4e5a-b74b-f257fd0f9a9d"
   },
   "outputs": [
    {
     "data": {
      "application/vnd.google.colaboratory.intrinsic+json": {
       "summary": "{\n  \"name\": \"EVALUACION_DATAFRAME\",\n  \"rows\": 1,\n  \"fields\": [\n    {\n      \"column\": \"modelo\",\n      \"properties\": {\n        \"dtype\": \"string\",\n        \"num_unique_values\": 1,\n        \"samples\": [\n          \"rf\"\n        ],\n        \"semantic_type\": \"\",\n        \"description\": \"\"\n      }\n    },\n    {\n      \"column\": \"descripcion_modelo\",\n      \"properties\": {\n        \"dtype\": \"string\",\n        \"num_unique_values\": 1,\n        \"samples\": [\n          \"Random Forest  datos originales\"\n        ],\n        \"semantic_type\": \"\",\n        \"description\": \"\"\n      }\n    },\n    {\n      \"column\": \"hiperparametros\",\n      \"properties\": {\n        \"dtype\": \"object\",\n        \"semantic_type\": \"\",\n        \"description\": \"\"\n      }\n    },\n    {\n      \"column\": \"accuracy\",\n      \"properties\": {\n        \"dtype\": \"number\",\n        \"std\": null,\n        \"min\": 0.9475459810994817,\n        \"max\": 0.9475459810994817,\n        \"num_unique_values\": 1,\n        \"samples\": [\n          0.9475459810994817\n        ],\n        \"semantic_type\": \"\",\n        \"description\": \"\"\n      }\n    },\n    {\n      \"column\": \"precision\",\n      \"properties\": {\n        \"dtype\": \"number\",\n        \"std\": null,\n        \"min\": 0.9330966862703315,\n        \"max\": 0.9330966862703315,\n        \"num_unique_values\": 1,\n        \"samples\": [\n          0.9330966862703315\n        ],\n        \"semantic_type\": \"\",\n        \"description\": \"\"\n      }\n    },\n    {\n      \"column\": \"recall\",\n      \"properties\": {\n        \"dtype\": \"number\",\n        \"std\": null,\n        \"min\": 0.9475459810994817,\n        \"max\": 0.9475459810994817,\n        \"num_unique_values\": 1,\n        \"samples\": [\n          0.9475459810994817\n        ],\n        \"semantic_type\": \"\",\n        \"description\": \"\"\n      }\n    },\n    {\n      \"column\": \"f1-score\",\n      \"properties\": {\n        \"dtype\": \"number\",\n        \"std\": null,\n        \"min\": 0.9286627678749779,\n        \"max\": 0.9286627678749779,\n        \"num_unique_values\": 1,\n        \"samples\": [\n          0.9286627678749779\n        ],\n        \"semantic_type\": \"\",\n        \"description\": \"\"\n      }\n    }\n  ]\n}",
       "type": "dataframe",
       "variable_name": "EVALUACION_DATAFRAME"
      },
      "text/html": [
       "\n",
       "  <div id=\"df-4250f845-ffc7-4ccf-ba4e-c2a2b5857cb2\" class=\"colab-df-container\">\n",
       "    <div>\n",
       "<style scoped>\n",
       "    .dataframe tbody tr th:only-of-type {\n",
       "        vertical-align: middle;\n",
       "    }\n",
       "\n",
       "    .dataframe tbody tr th {\n",
       "        vertical-align: top;\n",
       "    }\n",
       "\n",
       "    .dataframe thead th {\n",
       "        text-align: right;\n",
       "    }\n",
       "</style>\n",
       "<table border=\"1\" class=\"dataframe\">\n",
       "  <thead>\n",
       "    <tr style=\"text-align: right;\">\n",
       "      <th></th>\n",
       "      <th>modelo</th>\n",
       "      <th>descripcion_modelo</th>\n",
       "      <th>hiperparametros</th>\n",
       "      <th>accuracy</th>\n",
       "      <th>precision</th>\n",
       "      <th>recall</th>\n",
       "      <th>f1-score</th>\n",
       "    </tr>\n",
       "  </thead>\n",
       "  <tbody>\n",
       "    <tr>\n",
       "      <th>0</th>\n",
       "      <td>rf</td>\n",
       "      <td>Random Forest  datos originales</td>\n",
       "      <td>{'rf__max_depth': 10, 'rf__min_samples_leaf': ...</td>\n",
       "      <td>0.947546</td>\n",
       "      <td>0.933097</td>\n",
       "      <td>0.947546</td>\n",
       "      <td>0.928663</td>\n",
       "    </tr>\n",
       "  </tbody>\n",
       "</table>\n",
       "</div>\n",
       "    <div class=\"colab-df-buttons\">\n",
       "\n",
       "  <div class=\"colab-df-container\">\n",
       "    <button class=\"colab-df-convert\" onclick=\"convertToInteractive('df-4250f845-ffc7-4ccf-ba4e-c2a2b5857cb2')\"\n",
       "            title=\"Convert this dataframe to an interactive table.\"\n",
       "            style=\"display:none;\">\n",
       "\n",
       "  <svg xmlns=\"http://www.w3.org/2000/svg\" height=\"24px\" viewBox=\"0 -960 960 960\">\n",
       "    <path d=\"M120-120v-720h720v720H120Zm60-500h600v-160H180v160Zm220 220h160v-160H400v160Zm0 220h160v-160H400v160ZM180-400h160v-160H180v160Zm440 0h160v-160H620v160ZM180-180h160v-160H180v160Zm440 0h160v-160H620v160Z\"/>\n",
       "  </svg>\n",
       "    </button>\n",
       "\n",
       "  <style>\n",
       "    .colab-df-container {\n",
       "      display:flex;\n",
       "      gap: 12px;\n",
       "    }\n",
       "\n",
       "    .colab-df-convert {\n",
       "      background-color: #E8F0FE;\n",
       "      border: none;\n",
       "      border-radius: 50%;\n",
       "      cursor: pointer;\n",
       "      display: none;\n",
       "      fill: #1967D2;\n",
       "      height: 32px;\n",
       "      padding: 0 0 0 0;\n",
       "      width: 32px;\n",
       "    }\n",
       "\n",
       "    .colab-df-convert:hover {\n",
       "      background-color: #E2EBFA;\n",
       "      box-shadow: 0px 1px 2px rgba(60, 64, 67, 0.3), 0px 1px 3px 1px rgba(60, 64, 67, 0.15);\n",
       "      fill: #174EA6;\n",
       "    }\n",
       "\n",
       "    .colab-df-buttons div {\n",
       "      margin-bottom: 4px;\n",
       "    }\n",
       "\n",
       "    [theme=dark] .colab-df-convert {\n",
       "      background-color: #3B4455;\n",
       "      fill: #D2E3FC;\n",
       "    }\n",
       "\n",
       "    [theme=dark] .colab-df-convert:hover {\n",
       "      background-color: #434B5C;\n",
       "      box-shadow: 0px 1px 3px 1px rgba(0, 0, 0, 0.15);\n",
       "      filter: drop-shadow(0px 1px 2px rgba(0, 0, 0, 0.3));\n",
       "      fill: #FFFFFF;\n",
       "    }\n",
       "  </style>\n",
       "\n",
       "    <script>\n",
       "      const buttonEl =\n",
       "        document.querySelector('#df-4250f845-ffc7-4ccf-ba4e-c2a2b5857cb2 button.colab-df-convert');\n",
       "      buttonEl.style.display =\n",
       "        google.colab.kernel.accessAllowed ? 'block' : 'none';\n",
       "\n",
       "      async function convertToInteractive(key) {\n",
       "        const element = document.querySelector('#df-4250f845-ffc7-4ccf-ba4e-c2a2b5857cb2');\n",
       "        const dataTable =\n",
       "          await google.colab.kernel.invokeFunction('convertToInteractive',\n",
       "                                                    [key], {});\n",
       "        if (!dataTable) return;\n",
       "\n",
       "        const docLinkHtml = 'Like what you see? Visit the ' +\n",
       "          '<a target=\"_blank\" href=https://colab.research.google.com/notebooks/data_table.ipynb>data table notebook</a>'\n",
       "          + ' to learn more about interactive tables.';\n",
       "        element.innerHTML = '';\n",
       "        dataTable['output_type'] = 'display_data';\n",
       "        await google.colab.output.renderOutput(dataTable, element);\n",
       "        const docLink = document.createElement('div');\n",
       "        docLink.innerHTML = docLinkHtml;\n",
       "        element.appendChild(docLink);\n",
       "      }\n",
       "    </script>\n",
       "  </div>\n",
       "\n",
       "    </div>\n",
       "  </div>\n"
      ],
      "text/plain": [
       "  modelo               descripcion_modelo  \\\n",
       "0     rf  Random Forest  datos originales   \n",
       "\n",
       "                                     hiperparametros  accuracy  precision  \\\n",
       "0  {'rf__max_depth': 10, 'rf__min_samples_leaf': ...  0.947546   0.933097   \n",
       "\n",
       "     recall  f1-score  \n",
       "0  0.947546  0.928663  "
      ]
     },
     "execution_count": 15,
     "metadata": {},
     "output_type": "execute_result"
    }
   ],
   "source": [
    "EVALUACION_DATAFRAME"
   ]
  },
  {
   "cell_type": "code",
   "execution_count": null,
   "id": "6n6aaYb8OqGt",
   "metadata": {
    "colab": {
     "background_save": true
    },
    "id": "6n6aaYb8OqGt"
   },
   "outputs": [],
   "source": [
    "EVALUACION_DATAFRAME=agregar_modelo(EVALUACION_DATAFRAME, grid_search,\"Random Forest  datos originales\",y_test, y_pred)"
   ]
  },
  {
   "cell_type": "markdown",
   "id": "ihrvjHL0wUVx",
   "metadata": {
    "id": "ihrvjHL0wUVx"
   },
   "source": [
    "#### 1.3.2: Modelo Random Forest con sobremuestreo (Oversampling)"
   ]
  },
  {
   "cell_type": "code",
   "execution_count": null,
   "id": "PAs4_oeuwZx-",
   "metadata": {
    "colab": {
     "base_uri": "https://localhost:8080/"
    },
    "id": "PAs4_oeuwZx-",
    "outputId": "c6aca56e-019f-4e36-f90b-bdd47c5f74b7"
   },
   "outputs": [
    {
     "name": "stdout",
     "output_type": "stream",
     "text": [
      "Fitting 5 folds for each of 24 candidates, totalling 120 fits\n",
      "Mejores hiperparámetros:\n",
      "{'rf__max_depth': 10, 'rf__min_samples_leaf': 1, 'rf__min_samples_split': 5, 'rf__n_estimators': 20}\n"
     ]
    }
   ],
   "source": [
    "# Entrenar el modelo utilizando GridSearchCV\n",
    "grid_search.fit(X_train_O, y_train_O)\n",
    "\n",
    "# Mostrar los mejores hiperparámetros encontrados\n",
    "print(\"Mejores hiperparámetros:\")\n",
    "print(grid_search.best_params_)"
   ]
  },
  {
   "cell_type": "code",
   "execution_count": null,
   "id": "xZJw_zhAwsZP",
   "metadata": {
    "colab": {
     "base_uri": "https://localhost:8080/"
    },
    "id": "xZJw_zhAwsZP",
    "outputId": "e3759434-7d86-4b2f-e57e-61f566e41312"
   },
   "outputs": [
    {
     "name": "stdout",
     "output_type": "stream",
     "text": [
      "Informe de clasificación:\n",
      "              precision    recall  f1-score   support\n",
      "\n",
      "          No       0.80      0.84      0.82     46455\n",
      "         Yes       0.83      0.79      0.81     46580\n",
      "\n",
      "    accuracy                           0.81     93035\n",
      "   macro avg       0.81      0.81      0.81     93035\n",
      "weighted avg       0.81      0.81      0.81     93035\n",
      "\n"
     ]
    }
   ],
   "source": [
    "# Predecir en el conjunto de prueba\n",
    "y_pred = grid_search.predict(X_test_O)\n",
    "\n",
    "# Mostrar métricas de evaluación\n",
    "print(\"Informe de clasificación:\")\n",
    "print(classification_report(y_test_O, y_pred))"
   ]
  },
  {
   "cell_type": "code",
   "execution_count": null,
   "id": "3jwQVjODQldT",
   "metadata": {
    "id": "3jwQVjODQldT"
   },
   "outputs": [],
   "source": [
    "EVALUACION_DATAFRAME=agregar_modelo(EVALUACION_DATAFRAME, grid_search,\"Random Forest  Sobre muestreo\",y_test_O, y_pred)"
   ]
  },
  {
   "cell_type": "code",
   "execution_count": null,
   "id": "VAk_ep1yOgMF",
   "metadata": {
    "colab": {
     "background_save": true
    },
    "id": "VAk_ep1yOgMF"
   },
   "outputs": [],
   "source": [
    "plot_best_tree(grid_search)"
   ]
  },
  {
   "cell_type": "markdown",
   "id": "-2udTSFu1wCf",
   "metadata": {
    "id": "-2udTSFu1wCf"
   },
   "source": [
    "#### 1.3.3: Modelo Random Forest con submuestreo (Undersampling)"
   ]
  },
  {
   "cell_type": "code",
   "execution_count": null,
   "id": "NXZf3XYu15wN",
   "metadata": {
    "colab": {
     "base_uri": "https://localhost:8080/"
    },
    "id": "NXZf3XYu15wN",
    "outputId": "b8c1ed68-dda5-4812-bc23-3dad0802495c"
   },
   "outputs": [
    {
     "name": "stdout",
     "output_type": "stream",
     "text": [
      "Fitting 5 folds for each of 24 candidates, totalling 120 fits\n",
      "Mejores hiperparámetros:\n",
      "{'rf__max_depth': 10, 'rf__min_samples_leaf': 2, 'rf__min_samples_split': 2, 'rf__n_estimators': 20}\n"
     ]
    }
   ],
   "source": [
    "# Entrenar el modelo utilizando GridSearchCV\n",
    "grid_search.fit(X_train_U, y_train_U)\n",
    "\n",
    "# Se muestran los mejores hiperparámetros encontrados\n",
    "print(\"Mejores hiperparámetros:\")\n",
    "print(grid_search.best_params_)"
   ]
  },
  {
   "cell_type": "code",
   "execution_count": null,
   "id": "W6NE0pSqwGYh",
   "metadata": {
    "colab": {
     "base_uri": "https://localhost:8080/"
    },
    "id": "W6NE0pSqwGYh",
    "outputId": "05ed07e8-dd20-40ab-bf24-ec133ee1a601"
   },
   "outputs": [
    {
     "data": {
      "text/plain": [
       "['/content/drive/Shareddrives/2. Introducción a Machine Learning con Python/Entrega 4/Modelos guardados/random_forest_us.joblib']"
      ]
     },
     "execution_count": 25,
     "metadata": {},
     "output_type": "execute_result"
    }
   ],
   "source": [
    "best_model = grid_search.best_estimator_\n",
    "dump(best_model, ruta_guardado + \"/random_forest_us.joblib\")"
   ]
  },
  {
   "cell_type": "code",
   "execution_count": null,
   "id": "vMiyRnmZ3s1t",
   "metadata": {
    "colab": {
     "base_uri": "https://localhost:8080/"
    },
    "id": "vMiyRnmZ3s1t",
    "outputId": "80aa691f-be92-4b8c-8513-0cab9759c40e"
   },
   "outputs": [
    {
     "name": "stdout",
     "output_type": "stream",
     "text": [
      "Informe de clasificación:\n",
      "              precision    recall  f1-score   support\n",
      "\n",
      "          No       0.78      0.81      0.80      2686\n",
      "         Yes       0.81      0.77      0.79      2688\n",
      "\n",
      "    accuracy                           0.79      5374\n",
      "   macro avg       0.79      0.79      0.79      5374\n",
      "weighted avg       0.79      0.79      0.79      5374\n",
      "\n"
     ]
    }
   ],
   "source": [
    "# Predecir en el conjunto de prueba\n",
    "y_pred = grid_search.predict(X_test_U)\n",
    "\n",
    "# Mostrar métricas de evaluación\n",
    "print(\"Informe de clasificación:\")\n",
    "print(classification_report(y_test_U, y_pred))"
   ]
  },
  {
   "cell_type": "code",
   "execution_count": null,
   "id": "wFYgV1_WQt43",
   "metadata": {
    "id": "wFYgV1_WQt43"
   },
   "outputs": [],
   "source": [
    "EVALUACION_DATAFRAME=agregar_modelo(EVALUACION_DATAFRAME, grid_search,\"Random Forest  Sub muestreo\",y_test_U, y_pred)"
   ]
  },
  {
   "cell_type": "markdown",
   "id": "2d_krQ0Wbx5z",
   "metadata": {
    "id": "2d_krQ0Wbx5z"
   },
   "source": [
    "### 1.4: XGBoost"
   ]
  },
  {
   "cell_type": "markdown",
   "id": "UAEuRLv0cIq7",
   "metadata": {
    "id": "UAEuRLv0cIq7"
   },
   "source": [
    "#### 1.4.1: XGBoost: Datos originales"
   ]
  },
  {
   "cell_type": "code",
   "execution_count": null,
   "id": "mtOsDrG9b0BA",
   "metadata": {
    "colab": {
     "base_uri": "https://localhost:8080/",
     "height": 172
    },
    "id": "mtOsDrG9b0BA",
    "outputId": "b7d89354-2325-4c81-d361-67417c1a45b5"
   },
   "outputs": [
    {
     "name": "stdout",
     "output_type": "stream",
     "text": [
      "Fitting 5 folds for each of 48 candidates, totalling 240 fits\n"
     ]
    },
    {
     "data": {
      "text/html": [
       "<style>#sk-container-id-1 {color: black;background-color: white;}#sk-container-id-1 pre{padding: 0;}#sk-container-id-1 div.sk-toggleable {background-color: white;}#sk-container-id-1 label.sk-toggleable__label {cursor: pointer;display: block;width: 100%;margin-bottom: 0;padding: 0.3em;box-sizing: border-box;text-align: center;}#sk-container-id-1 label.sk-toggleable__label-arrow:before {content: \"▸\";float: left;margin-right: 0.25em;color: #696969;}#sk-container-id-1 label.sk-toggleable__label-arrow:hover:before {color: black;}#sk-container-id-1 div.sk-estimator:hover label.sk-toggleable__label-arrow:before {color: black;}#sk-container-id-1 div.sk-toggleable__content {max-height: 0;max-width: 0;overflow: hidden;text-align: left;background-color: #f0f8ff;}#sk-container-id-1 div.sk-toggleable__content pre {margin: 0.2em;color: black;border-radius: 0.25em;background-color: #f0f8ff;}#sk-container-id-1 input.sk-toggleable__control:checked~div.sk-toggleable__content {max-height: 200px;max-width: 100%;overflow: auto;}#sk-container-id-1 input.sk-toggleable__control:checked~label.sk-toggleable__label-arrow:before {content: \"▾\";}#sk-container-id-1 div.sk-estimator input.sk-toggleable__control:checked~label.sk-toggleable__label {background-color: #d4ebff;}#sk-container-id-1 div.sk-label input.sk-toggleable__control:checked~label.sk-toggleable__label {background-color: #d4ebff;}#sk-container-id-1 input.sk-hidden--visually {border: 0;clip: rect(1px 1px 1px 1px);clip: rect(1px, 1px, 1px, 1px);height: 1px;margin: -1px;overflow: hidden;padding: 0;position: absolute;width: 1px;}#sk-container-id-1 div.sk-estimator {font-family: monospace;background-color: #f0f8ff;border: 1px dotted black;border-radius: 0.25em;box-sizing: border-box;margin-bottom: 0.5em;}#sk-container-id-1 div.sk-estimator:hover {background-color: #d4ebff;}#sk-container-id-1 div.sk-parallel-item::after {content: \"\";width: 100%;border-bottom: 1px solid gray;flex-grow: 1;}#sk-container-id-1 div.sk-label:hover label.sk-toggleable__label {background-color: #d4ebff;}#sk-container-id-1 div.sk-serial::before {content: \"\";position: absolute;border-left: 1px solid gray;box-sizing: border-box;top: 0;bottom: 0;left: 50%;z-index: 0;}#sk-container-id-1 div.sk-serial {display: flex;flex-direction: column;align-items: center;background-color: white;padding-right: 0.2em;padding-left: 0.2em;position: relative;}#sk-container-id-1 div.sk-item {position: relative;z-index: 1;}#sk-container-id-1 div.sk-parallel {display: flex;align-items: stretch;justify-content: center;background-color: white;position: relative;}#sk-container-id-1 div.sk-item::before, #sk-container-id-1 div.sk-parallel-item::before {content: \"\";position: absolute;border-left: 1px solid gray;box-sizing: border-box;top: 0;bottom: 0;left: 50%;z-index: -1;}#sk-container-id-1 div.sk-parallel-item {display: flex;flex-direction: column;z-index: 1;position: relative;background-color: white;}#sk-container-id-1 div.sk-parallel-item:first-child::after {align-self: flex-end;width: 50%;}#sk-container-id-1 div.sk-parallel-item:last-child::after {align-self: flex-start;width: 50%;}#sk-container-id-1 div.sk-parallel-item:only-child::after {width: 0;}#sk-container-id-1 div.sk-dashed-wrapped {border: 1px dashed gray;margin: 0 0.4em 0.5em 0.4em;box-sizing: border-box;padding-bottom: 0.4em;background-color: white;}#sk-container-id-1 div.sk-label label {font-family: monospace;font-weight: bold;display: inline-block;line-height: 1.2em;}#sk-container-id-1 div.sk-label-container {text-align: center;}#sk-container-id-1 div.sk-container {/* jupyter's `normalize.less` sets `[hidden] { display: none; }` but bootstrap.min.css set `[hidden] { display: none !important; }` so we also need the `!important` here to be able to override the default hidden behavior on the sphinx rendered scikit-learn.org. See: https://github.com/scikit-learn/scikit-learn/issues/21755 */display: inline-block !important;position: relative;}#sk-container-id-1 div.sk-text-repr-fallback {display: none;}</style><div id=\"sk-container-id-1\" class=\"sk-top-container\"><div class=\"sk-text-repr-fallback\"><pre>GridSearchCV(cv=5,\n",
       "             estimator=Pipeline(steps=[(&#x27;scaler&#x27;,\n",
       "                                        StandardScaler(with_mean=False)),\n",
       "                                       (&#x27;xgb&#x27;,\n",
       "                                        XGBClassifier(base_score=None,\n",
       "                                                      booster=None,\n",
       "                                                      callbacks=None,\n",
       "                                                      colsample_bylevel=None,\n",
       "                                                      colsample_bynode=None,\n",
       "                                                      colsample_bytree=None,\n",
       "                                                      device=None,\n",
       "                                                      early_stopping_rounds=None,\n",
       "                                                      enable_categorical=False,\n",
       "                                                      eval_metric=None,\n",
       "                                                      feature_types=None,\n",
       "                                                      gamma=None,\n",
       "                                                      grow_policy=None,\n",
       "                                                      imp...\n",
       "                                                      max_depth=None,\n",
       "                                                      max_leaves=None,\n",
       "                                                      min_child_weight=None,\n",
       "                                                      missing=nan,\n",
       "                                                      monotone_constraints=None,\n",
       "                                                      multi_strategy=None,\n",
       "                                                      n_estimators=None,\n",
       "                                                      n_jobs=None,\n",
       "                                                      num_parallel_tree=None,\n",
       "                                                      random_state=42, ...))]),\n",
       "             n_jobs=-1,\n",
       "             param_grid={&#x27;xgb__gamma&#x27;: [0, 1],\n",
       "                         &#x27;xgb__learning_rate&#x27;: [0.05, 0.01],\n",
       "                         &#x27;xgb__max_depth&#x27;: [2, 5, 10],\n",
       "                         &#x27;xgb__min_child_weight&#x27;: [1, 2],\n",
       "                         &#x27;xgb__n_estimators&#x27;: [10, 20]},\n",
       "             verbose=10)</pre><b>In a Jupyter environment, please rerun this cell to show the HTML representation or trust the notebook. <br />On GitHub, the HTML representation is unable to render, please try loading this page with nbviewer.org.</b></div><div class=\"sk-container\" hidden><div class=\"sk-item sk-dashed-wrapped\"><div class=\"sk-label-container\"><div class=\"sk-label sk-toggleable\"><input class=\"sk-toggleable__control sk-hidden--visually\" id=\"sk-estimator-id-1\" type=\"checkbox\" ><label for=\"sk-estimator-id-1\" class=\"sk-toggleable__label sk-toggleable__label-arrow\">GridSearchCV</label><div class=\"sk-toggleable__content\"><pre>GridSearchCV(cv=5,\n",
       "             estimator=Pipeline(steps=[(&#x27;scaler&#x27;,\n",
       "                                        StandardScaler(with_mean=False)),\n",
       "                                       (&#x27;xgb&#x27;,\n",
       "                                        XGBClassifier(base_score=None,\n",
       "                                                      booster=None,\n",
       "                                                      callbacks=None,\n",
       "                                                      colsample_bylevel=None,\n",
       "                                                      colsample_bynode=None,\n",
       "                                                      colsample_bytree=None,\n",
       "                                                      device=None,\n",
       "                                                      early_stopping_rounds=None,\n",
       "                                                      enable_categorical=False,\n",
       "                                                      eval_metric=None,\n",
       "                                                      feature_types=None,\n",
       "                                                      gamma=None,\n",
       "                                                      grow_policy=None,\n",
       "                                                      imp...\n",
       "                                                      max_depth=None,\n",
       "                                                      max_leaves=None,\n",
       "                                                      min_child_weight=None,\n",
       "                                                      missing=nan,\n",
       "                                                      monotone_constraints=None,\n",
       "                                                      multi_strategy=None,\n",
       "                                                      n_estimators=None,\n",
       "                                                      n_jobs=None,\n",
       "                                                      num_parallel_tree=None,\n",
       "                                                      random_state=42, ...))]),\n",
       "             n_jobs=-1,\n",
       "             param_grid={&#x27;xgb__gamma&#x27;: [0, 1],\n",
       "                         &#x27;xgb__learning_rate&#x27;: [0.05, 0.01],\n",
       "                         &#x27;xgb__max_depth&#x27;: [2, 5, 10],\n",
       "                         &#x27;xgb__min_child_weight&#x27;: [1, 2],\n",
       "                         &#x27;xgb__n_estimators&#x27;: [10, 20]},\n",
       "             verbose=10)</pre></div></div></div><div class=\"sk-parallel\"><div class=\"sk-parallel-item\"><div class=\"sk-item\"><div class=\"sk-label-container\"><div class=\"sk-label sk-toggleable\"><input class=\"sk-toggleable__control sk-hidden--visually\" id=\"sk-estimator-id-2\" type=\"checkbox\" ><label for=\"sk-estimator-id-2\" class=\"sk-toggleable__label sk-toggleable__label-arrow\">estimator: Pipeline</label><div class=\"sk-toggleable__content\"><pre>Pipeline(steps=[(&#x27;scaler&#x27;, StandardScaler(with_mean=False)),\n",
       "                (&#x27;xgb&#x27;,\n",
       "                 XGBClassifier(base_score=None, booster=None, callbacks=None,\n",
       "                               colsample_bylevel=None, colsample_bynode=None,\n",
       "                               colsample_bytree=None, device=None,\n",
       "                               early_stopping_rounds=None,\n",
       "                               enable_categorical=False, eval_metric=None,\n",
       "                               feature_types=None, gamma=None, grow_policy=None,\n",
       "                               importance_type=None,\n",
       "                               interaction_constraints=None, learning_rate=None,\n",
       "                               max_bin=None, max_cat_threshold=None,\n",
       "                               max_cat_to_onehot=None, max_delta_step=None,\n",
       "                               max_depth=None, max_leaves=None,\n",
       "                               min_child_weight=None, missing=nan,\n",
       "                               monotone_constraints=None, multi_strategy=None,\n",
       "                               n_estimators=None, n_jobs=None,\n",
       "                               num_parallel_tree=None, random_state=42, ...))])</pre></div></div></div><div class=\"sk-serial\"><div class=\"sk-item\"><div class=\"sk-serial\"><div class=\"sk-item\"><div class=\"sk-estimator sk-toggleable\"><input class=\"sk-toggleable__control sk-hidden--visually\" id=\"sk-estimator-id-3\" type=\"checkbox\" ><label for=\"sk-estimator-id-3\" class=\"sk-toggleable__label sk-toggleable__label-arrow\">StandardScaler</label><div class=\"sk-toggleable__content\"><pre>StandardScaler(with_mean=False)</pre></div></div></div><div class=\"sk-item\"><div class=\"sk-estimator sk-toggleable\"><input class=\"sk-toggleable__control sk-hidden--visually\" id=\"sk-estimator-id-4\" type=\"checkbox\" ><label for=\"sk-estimator-id-4\" class=\"sk-toggleable__label sk-toggleable__label-arrow\">XGBClassifier</label><div class=\"sk-toggleable__content\"><pre>XGBClassifier(base_score=None, booster=None, callbacks=None,\n",
       "              colsample_bylevel=None, colsample_bynode=None,\n",
       "              colsample_bytree=None, device=None, early_stopping_rounds=None,\n",
       "              enable_categorical=False, eval_metric=None, feature_types=None,\n",
       "              gamma=None, grow_policy=None, importance_type=None,\n",
       "              interaction_constraints=None, learning_rate=None, max_bin=None,\n",
       "              max_cat_threshold=None, max_cat_to_onehot=None,\n",
       "              max_delta_step=None, max_depth=None, max_leaves=None,\n",
       "              min_child_weight=None, missing=nan, monotone_constraints=None,\n",
       "              multi_strategy=None, n_estimators=None, n_jobs=None,\n",
       "              num_parallel_tree=None, random_state=42, ...)</pre></div></div></div></div></div></div></div></div></div></div></div></div>"
      ],
      "text/plain": [
       "GridSearchCV(cv=5,\n",
       "             estimator=Pipeline(steps=[('scaler',\n",
       "                                        StandardScaler(with_mean=False)),\n",
       "                                       ('xgb',\n",
       "                                        XGBClassifier(base_score=None,\n",
       "                                                      booster=None,\n",
       "                                                      callbacks=None,\n",
       "                                                      colsample_bylevel=None,\n",
       "                                                      colsample_bynode=None,\n",
       "                                                      colsample_bytree=None,\n",
       "                                                      device=None,\n",
       "                                                      early_stopping_rounds=None,\n",
       "                                                      enable_categorical=False,\n",
       "                                                      eval_metric=None,\n",
       "                                                      feature_types=None,\n",
       "                                                      gamma=None,\n",
       "                                                      grow_policy=None,\n",
       "                                                      imp...\n",
       "                                                      max_depth=None,\n",
       "                                                      max_leaves=None,\n",
       "                                                      min_child_weight=None,\n",
       "                                                      missing=nan,\n",
       "                                                      monotone_constraints=None,\n",
       "                                                      multi_strategy=None,\n",
       "                                                      n_estimators=None,\n",
       "                                                      n_jobs=None,\n",
       "                                                      num_parallel_tree=None,\n",
       "                                                      random_state=42, ...))]),\n",
       "             n_jobs=-1,\n",
       "             param_grid={'xgb__gamma': [0, 1],\n",
       "                         'xgb__learning_rate': [0.05, 0.01],\n",
       "                         'xgb__max_depth': [2, 5, 10],\n",
       "                         'xgb__min_child_weight': [1, 2],\n",
       "                         'xgb__n_estimators': [10, 20]},\n",
       "             verbose=10)"
      ]
     },
     "execution_count": 26,
     "metadata": {},
     "output_type": "execute_result"
    }
   ],
   "source": [
    "from xgboost import XGBClassifier\n",
    "\n",
    "y_train_binary = y_train.map({'No': 0, 'Yes': 1})\n",
    "y_test_binary = y_test.map({'No': 0, 'Yes': 1})\n",
    "\n",
    "# Crear un pipeline\n",
    "pipeline = Pipeline([\n",
    "    ('scaler', StandardScaler(with_mean=False)),  # Escalar las características\n",
    "    ('xgb', XGBClassifier(random_state=42, objective='binary:logistic'))  # Clasificador XGBoost\n",
    "])\n",
    "\n",
    "# Definir la grilla de hiperparámetros\n",
    "param_grid = {\n",
    "    'xgb__n_estimators': [10, 20],  # Número de árboles\n",
    "    'xgb__max_depth': [2, 5, 10],  # Profundidad máxima de los árboles\n",
    "    'xgb__learning_rate': [0.05, 0.01],  # Tasa de aprendizaje\n",
    "    'xgb__min_child_weight': [1, 2],  # Peso mínimo de las hojas\n",
    "    #'xgb__subsample': [0.8, 1.0],  # Submuestra de observaciones\n",
    "    #'xgb__colsample_bytree': [0.8, 1.0],  # Submuestra de características\n",
    "    'xgb__gamma': [0, 1]  # Regularización gamma\n",
    "}\n",
    "\n",
    "# Crear un objeto GridSearchCV\n",
    "grid_search = GridSearchCV(pipeline, param_grid, cv=5, n_jobs=-1, verbose=10)\n",
    "\n",
    "# Entrenar el modelo utilizando GridSearchCV\n",
    "grid_search.fit(X_train, y_train_binary)\n"
   ]
  },
  {
   "cell_type": "code",
   "execution_count": null,
   "id": "1ZX4Wlm2erNW",
   "metadata": {
    "colab": {
     "base_uri": "https://localhost:8080/"
    },
    "id": "1ZX4Wlm2erNW",
    "outputId": "b248360d-8c76-4841-bcab-2f51a26af0a0"
   },
   "outputs": [
    {
     "name": "stdout",
     "output_type": "stream",
     "text": [
      "Mejores hiperparámetros:\n",
      "{'xgb__gamma': 1, 'xgb__learning_rate': 0.05, 'xgb__max_depth': 10, 'xgb__min_child_weight': 1, 'xgb__n_estimators': 20}\n"
     ]
    }
   ],
   "source": [
    "# Se muestran los mejores hiperparámetros encontrados\n",
    "print(\"Mejores hiperparámetros:\")\n",
    "print(grid_search.best_params_)"
   ]
  },
  {
   "cell_type": "code",
   "execution_count": null,
   "id": "hQGgDUEewQAP",
   "metadata": {
    "colab": {
     "base_uri": "https://localhost:8080/"
    },
    "id": "hQGgDUEewQAP",
    "outputId": "0862366c-a47c-430d-dade-4e3dd74accc1"
   },
   "outputs": [
    {
     "data": {
      "text/plain": [
       "['/content/drive/Shareddrives/2. Introducción a Machine Learning con Python/Entrega 4/Modelos guardados/xgboost.joblib']"
      ]
     },
     "execution_count": 28,
     "metadata": {},
     "output_type": "execute_result"
    }
   ],
   "source": [
    "best_model = grid_search.best_estimator_\n",
    "dump(best_model, ruta_guardado + \"/xgboost.joblib\")"
   ]
  },
  {
   "cell_type": "code",
   "execution_count": null,
   "id": "JdPIu_WuesXB",
   "metadata": {
    "colab": {
     "base_uri": "https://localhost:8080/"
    },
    "id": "JdPIu_WuesXB",
    "outputId": "51987320-2b15-4c67-964a-16276e9e9298"
   },
   "outputs": [
    {
     "name": "stdout",
     "output_type": "stream",
     "text": [
      "Informe de clasificación:\n",
      "              precision    recall  f1-score   support\n",
      "\n",
      "           0       0.95      1.00      0.97     46513\n",
      "           1       0.70      0.03      0.06      2692\n",
      "\n",
      "    accuracy                           0.95     49205\n",
      "   macro avg       0.82      0.51      0.51     49205\n",
      "weighted avg       0.93      0.95      0.92     49205\n",
      "\n"
     ]
    }
   ],
   "source": [
    "# Predecir en el conjunto de prueba\n",
    "y_pred = grid_search.predict(X_test)\n",
    "\n",
    "# Mostrar métricas de evaluación\n",
    "print(\"Informe de clasificación:\")\n",
    "print(classification_report(y_test_binary, y_pred))"
   ]
  },
  {
   "cell_type": "code",
   "execution_count": null,
   "id": "yA2xgLCfe5dt",
   "metadata": {
    "id": "yA2xgLCfe5dt"
   },
   "outputs": [],
   "source": [
    "EVALUACION_DATAFRAME=agregar_modelo(EVALUACION_DATAFRAME, grid_search,\"XGBoost Datos Originales\",y_test_binary, y_pred)"
   ]
  },
  {
   "cell_type": "markdown",
   "id": "xOCUvrX6fQ0m",
   "metadata": {
    "id": "xOCUvrX6fQ0m"
   },
   "source": [
    "#### 1.4.2: XGboost con Sobremuestreo"
   ]
  },
  {
   "cell_type": "code",
   "execution_count": null,
   "id": "X0V9YYycfS1Q",
   "metadata": {
    "colab": {
     "base_uri": "https://localhost:8080/",
     "height": 172
    },
    "id": "X0V9YYycfS1Q",
    "outputId": "7f0c550f-722a-458a-c0d7-8ace2cd4176c"
   },
   "outputs": [
    {
     "name": "stdout",
     "output_type": "stream",
     "text": [
      "Fitting 5 folds for each of 48 candidates, totalling 240 fits\n"
     ]
    },
    {
     "data": {
      "text/html": [
       "<style>#sk-container-id-2 {color: black;background-color: white;}#sk-container-id-2 pre{padding: 0;}#sk-container-id-2 div.sk-toggleable {background-color: white;}#sk-container-id-2 label.sk-toggleable__label {cursor: pointer;display: block;width: 100%;margin-bottom: 0;padding: 0.3em;box-sizing: border-box;text-align: center;}#sk-container-id-2 label.sk-toggleable__label-arrow:before {content: \"▸\";float: left;margin-right: 0.25em;color: #696969;}#sk-container-id-2 label.sk-toggleable__label-arrow:hover:before {color: black;}#sk-container-id-2 div.sk-estimator:hover label.sk-toggleable__label-arrow:before {color: black;}#sk-container-id-2 div.sk-toggleable__content {max-height: 0;max-width: 0;overflow: hidden;text-align: left;background-color: #f0f8ff;}#sk-container-id-2 div.sk-toggleable__content pre {margin: 0.2em;color: black;border-radius: 0.25em;background-color: #f0f8ff;}#sk-container-id-2 input.sk-toggleable__control:checked~div.sk-toggleable__content {max-height: 200px;max-width: 100%;overflow: auto;}#sk-container-id-2 input.sk-toggleable__control:checked~label.sk-toggleable__label-arrow:before {content: \"▾\";}#sk-container-id-2 div.sk-estimator input.sk-toggleable__control:checked~label.sk-toggleable__label {background-color: #d4ebff;}#sk-container-id-2 div.sk-label input.sk-toggleable__control:checked~label.sk-toggleable__label {background-color: #d4ebff;}#sk-container-id-2 input.sk-hidden--visually {border: 0;clip: rect(1px 1px 1px 1px);clip: rect(1px, 1px, 1px, 1px);height: 1px;margin: -1px;overflow: hidden;padding: 0;position: absolute;width: 1px;}#sk-container-id-2 div.sk-estimator {font-family: monospace;background-color: #f0f8ff;border: 1px dotted black;border-radius: 0.25em;box-sizing: border-box;margin-bottom: 0.5em;}#sk-container-id-2 div.sk-estimator:hover {background-color: #d4ebff;}#sk-container-id-2 div.sk-parallel-item::after {content: \"\";width: 100%;border-bottom: 1px solid gray;flex-grow: 1;}#sk-container-id-2 div.sk-label:hover label.sk-toggleable__label {background-color: #d4ebff;}#sk-container-id-2 div.sk-serial::before {content: \"\";position: absolute;border-left: 1px solid gray;box-sizing: border-box;top: 0;bottom: 0;left: 50%;z-index: 0;}#sk-container-id-2 div.sk-serial {display: flex;flex-direction: column;align-items: center;background-color: white;padding-right: 0.2em;padding-left: 0.2em;position: relative;}#sk-container-id-2 div.sk-item {position: relative;z-index: 1;}#sk-container-id-2 div.sk-parallel {display: flex;align-items: stretch;justify-content: center;background-color: white;position: relative;}#sk-container-id-2 div.sk-item::before, #sk-container-id-2 div.sk-parallel-item::before {content: \"\";position: absolute;border-left: 1px solid gray;box-sizing: border-box;top: 0;bottom: 0;left: 50%;z-index: -1;}#sk-container-id-2 div.sk-parallel-item {display: flex;flex-direction: column;z-index: 1;position: relative;background-color: white;}#sk-container-id-2 div.sk-parallel-item:first-child::after {align-self: flex-end;width: 50%;}#sk-container-id-2 div.sk-parallel-item:last-child::after {align-self: flex-start;width: 50%;}#sk-container-id-2 div.sk-parallel-item:only-child::after {width: 0;}#sk-container-id-2 div.sk-dashed-wrapped {border: 1px dashed gray;margin: 0 0.4em 0.5em 0.4em;box-sizing: border-box;padding-bottom: 0.4em;background-color: white;}#sk-container-id-2 div.sk-label label {font-family: monospace;font-weight: bold;display: inline-block;line-height: 1.2em;}#sk-container-id-2 div.sk-label-container {text-align: center;}#sk-container-id-2 div.sk-container {/* jupyter's `normalize.less` sets `[hidden] { display: none; }` but bootstrap.min.css set `[hidden] { display: none !important; }` so we also need the `!important` here to be able to override the default hidden behavior on the sphinx rendered scikit-learn.org. See: https://github.com/scikit-learn/scikit-learn/issues/21755 */display: inline-block !important;position: relative;}#sk-container-id-2 div.sk-text-repr-fallback {display: none;}</style><div id=\"sk-container-id-2\" class=\"sk-top-container\"><div class=\"sk-text-repr-fallback\"><pre>GridSearchCV(cv=5,\n",
       "             estimator=Pipeline(steps=[(&#x27;scaler&#x27;,\n",
       "                                        StandardScaler(with_mean=False)),\n",
       "                                       (&#x27;xgb&#x27;,\n",
       "                                        XGBClassifier(base_score=None,\n",
       "                                                      booster=None,\n",
       "                                                      callbacks=None,\n",
       "                                                      colsample_bylevel=None,\n",
       "                                                      colsample_bynode=None,\n",
       "                                                      colsample_bytree=None,\n",
       "                                                      device=None,\n",
       "                                                      early_stopping_rounds=None,\n",
       "                                                      enable_categorical=False,\n",
       "                                                      eval_metric=None,\n",
       "                                                      feature_types=None,\n",
       "                                                      gamma=None,\n",
       "                                                      grow_policy=None,\n",
       "                                                      imp...\n",
       "                                                      max_depth=None,\n",
       "                                                      max_leaves=None,\n",
       "                                                      min_child_weight=None,\n",
       "                                                      missing=nan,\n",
       "                                                      monotone_constraints=None,\n",
       "                                                      multi_strategy=None,\n",
       "                                                      n_estimators=None,\n",
       "                                                      n_jobs=None,\n",
       "                                                      num_parallel_tree=None,\n",
       "                                                      random_state=42, ...))]),\n",
       "             n_jobs=-1,\n",
       "             param_grid={&#x27;xgb__gamma&#x27;: [0, 1],\n",
       "                         &#x27;xgb__learning_rate&#x27;: [0.05, 0.01],\n",
       "                         &#x27;xgb__max_depth&#x27;: [2, 5, 10],\n",
       "                         &#x27;xgb__min_child_weight&#x27;: [1, 2],\n",
       "                         &#x27;xgb__n_estimators&#x27;: [10, 20]},\n",
       "             verbose=10)</pre><b>In a Jupyter environment, please rerun this cell to show the HTML representation or trust the notebook. <br />On GitHub, the HTML representation is unable to render, please try loading this page with nbviewer.org.</b></div><div class=\"sk-container\" hidden><div class=\"sk-item sk-dashed-wrapped\"><div class=\"sk-label-container\"><div class=\"sk-label sk-toggleable\"><input class=\"sk-toggleable__control sk-hidden--visually\" id=\"sk-estimator-id-5\" type=\"checkbox\" ><label for=\"sk-estimator-id-5\" class=\"sk-toggleable__label sk-toggleable__label-arrow\">GridSearchCV</label><div class=\"sk-toggleable__content\"><pre>GridSearchCV(cv=5,\n",
       "             estimator=Pipeline(steps=[(&#x27;scaler&#x27;,\n",
       "                                        StandardScaler(with_mean=False)),\n",
       "                                       (&#x27;xgb&#x27;,\n",
       "                                        XGBClassifier(base_score=None,\n",
       "                                                      booster=None,\n",
       "                                                      callbacks=None,\n",
       "                                                      colsample_bylevel=None,\n",
       "                                                      colsample_bynode=None,\n",
       "                                                      colsample_bytree=None,\n",
       "                                                      device=None,\n",
       "                                                      early_stopping_rounds=None,\n",
       "                                                      enable_categorical=False,\n",
       "                                                      eval_metric=None,\n",
       "                                                      feature_types=None,\n",
       "                                                      gamma=None,\n",
       "                                                      grow_policy=None,\n",
       "                                                      imp...\n",
       "                                                      max_depth=None,\n",
       "                                                      max_leaves=None,\n",
       "                                                      min_child_weight=None,\n",
       "                                                      missing=nan,\n",
       "                                                      monotone_constraints=None,\n",
       "                                                      multi_strategy=None,\n",
       "                                                      n_estimators=None,\n",
       "                                                      n_jobs=None,\n",
       "                                                      num_parallel_tree=None,\n",
       "                                                      random_state=42, ...))]),\n",
       "             n_jobs=-1,\n",
       "             param_grid={&#x27;xgb__gamma&#x27;: [0, 1],\n",
       "                         &#x27;xgb__learning_rate&#x27;: [0.05, 0.01],\n",
       "                         &#x27;xgb__max_depth&#x27;: [2, 5, 10],\n",
       "                         &#x27;xgb__min_child_weight&#x27;: [1, 2],\n",
       "                         &#x27;xgb__n_estimators&#x27;: [10, 20]},\n",
       "             verbose=10)</pre></div></div></div><div class=\"sk-parallel\"><div class=\"sk-parallel-item\"><div class=\"sk-item\"><div class=\"sk-label-container\"><div class=\"sk-label sk-toggleable\"><input class=\"sk-toggleable__control sk-hidden--visually\" id=\"sk-estimator-id-6\" type=\"checkbox\" ><label for=\"sk-estimator-id-6\" class=\"sk-toggleable__label sk-toggleable__label-arrow\">estimator: Pipeline</label><div class=\"sk-toggleable__content\"><pre>Pipeline(steps=[(&#x27;scaler&#x27;, StandardScaler(with_mean=False)),\n",
       "                (&#x27;xgb&#x27;,\n",
       "                 XGBClassifier(base_score=None, booster=None, callbacks=None,\n",
       "                               colsample_bylevel=None, colsample_bynode=None,\n",
       "                               colsample_bytree=None, device=None,\n",
       "                               early_stopping_rounds=None,\n",
       "                               enable_categorical=False, eval_metric=None,\n",
       "                               feature_types=None, gamma=None, grow_policy=None,\n",
       "                               importance_type=None,\n",
       "                               interaction_constraints=None, learning_rate=None,\n",
       "                               max_bin=None, max_cat_threshold=None,\n",
       "                               max_cat_to_onehot=None, max_delta_step=None,\n",
       "                               max_depth=None, max_leaves=None,\n",
       "                               min_child_weight=None, missing=nan,\n",
       "                               monotone_constraints=None, multi_strategy=None,\n",
       "                               n_estimators=None, n_jobs=None,\n",
       "                               num_parallel_tree=None, random_state=42, ...))])</pre></div></div></div><div class=\"sk-serial\"><div class=\"sk-item\"><div class=\"sk-serial\"><div class=\"sk-item\"><div class=\"sk-estimator sk-toggleable\"><input class=\"sk-toggleable__control sk-hidden--visually\" id=\"sk-estimator-id-7\" type=\"checkbox\" ><label for=\"sk-estimator-id-7\" class=\"sk-toggleable__label sk-toggleable__label-arrow\">StandardScaler</label><div class=\"sk-toggleable__content\"><pre>StandardScaler(with_mean=False)</pre></div></div></div><div class=\"sk-item\"><div class=\"sk-estimator sk-toggleable\"><input class=\"sk-toggleable__control sk-hidden--visually\" id=\"sk-estimator-id-8\" type=\"checkbox\" ><label for=\"sk-estimator-id-8\" class=\"sk-toggleable__label sk-toggleable__label-arrow\">XGBClassifier</label><div class=\"sk-toggleable__content\"><pre>XGBClassifier(base_score=None, booster=None, callbacks=None,\n",
       "              colsample_bylevel=None, colsample_bynode=None,\n",
       "              colsample_bytree=None, device=None, early_stopping_rounds=None,\n",
       "              enable_categorical=False, eval_metric=None, feature_types=None,\n",
       "              gamma=None, grow_policy=None, importance_type=None,\n",
       "              interaction_constraints=None, learning_rate=None, max_bin=None,\n",
       "              max_cat_threshold=None, max_cat_to_onehot=None,\n",
       "              max_delta_step=None, max_depth=None, max_leaves=None,\n",
       "              min_child_weight=None, missing=nan, monotone_constraints=None,\n",
       "              multi_strategy=None, n_estimators=None, n_jobs=None,\n",
       "              num_parallel_tree=None, random_state=42, ...)</pre></div></div></div></div></div></div></div></div></div></div></div></div>"
      ],
      "text/plain": [
       "GridSearchCV(cv=5,\n",
       "             estimator=Pipeline(steps=[('scaler',\n",
       "                                        StandardScaler(with_mean=False)),\n",
       "                                       ('xgb',\n",
       "                                        XGBClassifier(base_score=None,\n",
       "                                                      booster=None,\n",
       "                                                      callbacks=None,\n",
       "                                                      colsample_bylevel=None,\n",
       "                                                      colsample_bynode=None,\n",
       "                                                      colsample_bytree=None,\n",
       "                                                      device=None,\n",
       "                                                      early_stopping_rounds=None,\n",
       "                                                      enable_categorical=False,\n",
       "                                                      eval_metric=None,\n",
       "                                                      feature_types=None,\n",
       "                                                      gamma=None,\n",
       "                                                      grow_policy=None,\n",
       "                                                      imp...\n",
       "                                                      max_depth=None,\n",
       "                                                      max_leaves=None,\n",
       "                                                      min_child_weight=None,\n",
       "                                                      missing=nan,\n",
       "                                                      monotone_constraints=None,\n",
       "                                                      multi_strategy=None,\n",
       "                                                      n_estimators=None,\n",
       "                                                      n_jobs=None,\n",
       "                                                      num_parallel_tree=None,\n",
       "                                                      random_state=42, ...))]),\n",
       "             n_jobs=-1,\n",
       "             param_grid={'xgb__gamma': [0, 1],\n",
       "                         'xgb__learning_rate': [0.05, 0.01],\n",
       "                         'xgb__max_depth': [2, 5, 10],\n",
       "                         'xgb__min_child_weight': [1, 2],\n",
       "                         'xgb__n_estimators': [10, 20]},\n",
       "             verbose=10)"
      ]
     },
     "execution_count": 35,
     "metadata": {},
     "output_type": "execute_result"
    }
   ],
   "source": [
    "y_train_binary = y_train_O.map({'No': 0, 'Yes': 1})\n",
    "y_test_binary = y_test_O.map({'No': 0, 'Yes': 1})\n",
    "\n",
    "# Crear un pipeline\n",
    "pipeline = Pipeline([\n",
    "    ('scaler', StandardScaler(with_mean=False)),  # Escalar las características\n",
    "    ('xgb', XGBClassifier(random_state=42, objective='binary:logistic'))  # Clasificador XGBoost\n",
    "])\n",
    "\n",
    "# Definir la grilla de hiperparámetros\n",
    "param_grid = {\n",
    "    'xgb__n_estimators': [10, 20],  # Número de árboles\n",
    "    'xgb__max_depth': [2, 5, 10],  # Profundidad máxima de los árboles\n",
    "    'xgb__learning_rate': [0.05, 0.01],  # Tasa de aprendizaje\n",
    "    'xgb__min_child_weight': [1, 2],  # Peso mínimo de las hojas\n",
    "    #'xgb__subsample': [0.8, 1.0],  # Submuestra de observaciones\n",
    "    #'xgb__colsample_bytree': [0.8, 1.0],  # Submuestra de características\n",
    "    'xgb__gamma': [0, 1]  # Regularización gamma\n",
    "}\n",
    "\n",
    "# Crear un objeto GridSearchCV\n",
    "grid_search = GridSearchCV(pipeline, param_grid, cv=5, n_jobs=-1, verbose=10)\n",
    "\n",
    "# Entrenar el modelo utilizando GridSearchCV\n",
    "grid_search.fit(X_train_O, y_train_binary)"
   ]
  },
  {
   "cell_type": "code",
   "execution_count": null,
   "id": "s9h674EfiGB4",
   "metadata": {
    "colab": {
     "base_uri": "https://localhost:8080/"
    },
    "id": "s9h674EfiGB4",
    "outputId": "7768cf99-ab10-444f-e46d-f424b637e6d8"
   },
   "outputs": [
    {
     "name": "stdout",
     "output_type": "stream",
     "text": [
      "Informe de clasificación:\n",
      "              precision    recall  f1-score   support\n",
      "\n",
      "           0       0.82      0.85      0.83     46455\n",
      "           1       0.84      0.81      0.83     46580\n",
      "\n",
      "    accuracy                           0.83     93035\n",
      "   macro avg       0.83      0.83      0.83     93035\n",
      "weighted avg       0.83      0.83      0.83     93035\n",
      "\n"
     ]
    }
   ],
   "source": [
    "# Predecir en el conjunto de prueba\n",
    "y_pred = grid_search.predict(X_test_O)\n",
    "\n",
    "# Mostrar métricas de evaluación\n",
    "print(\"Informe de clasificación:\")\n",
    "print(classification_report(y_test_binary, y_pred))"
   ]
  },
  {
   "cell_type": "code",
   "execution_count": null,
   "id": "M1vgS1ImiIqu",
   "metadata": {
    "id": "M1vgS1ImiIqu"
   },
   "outputs": [],
   "source": [
    "EVALUACION_DATAFRAME=agregar_modelo(EVALUACION_DATAFRAME, grid_search,\"XGBoost Sobremuestreo\",y_test_binary, y_pred)"
   ]
  },
  {
   "cell_type": "markdown",
   "id": "FpKoGl6siUIF",
   "metadata": {
    "id": "FpKoGl6siUIF"
   },
   "source": [
    "#### 1.4.3: XGboost submustreo"
   ]
  },
  {
   "cell_type": "code",
   "execution_count": null,
   "id": "NyHmBufmiYfG",
   "metadata": {
    "colab": {
     "base_uri": "https://localhost:8080/",
     "height": 172
    },
    "id": "NyHmBufmiYfG",
    "outputId": "73e6468d-7144-457d-d1f1-ce23e96e06c3"
   },
   "outputs": [
    {
     "name": "stdout",
     "output_type": "stream",
     "text": [
      "Fitting 5 folds for each of 48 candidates, totalling 240 fits\n"
     ]
    },
    {
     "data": {
      "text/html": [
       "<style>#sk-container-id-2 {color: black;background-color: white;}#sk-container-id-2 pre{padding: 0;}#sk-container-id-2 div.sk-toggleable {background-color: white;}#sk-container-id-2 label.sk-toggleable__label {cursor: pointer;display: block;width: 100%;margin-bottom: 0;padding: 0.3em;box-sizing: border-box;text-align: center;}#sk-container-id-2 label.sk-toggleable__label-arrow:before {content: \"▸\";float: left;margin-right: 0.25em;color: #696969;}#sk-container-id-2 label.sk-toggleable__label-arrow:hover:before {color: black;}#sk-container-id-2 div.sk-estimator:hover label.sk-toggleable__label-arrow:before {color: black;}#sk-container-id-2 div.sk-toggleable__content {max-height: 0;max-width: 0;overflow: hidden;text-align: left;background-color: #f0f8ff;}#sk-container-id-2 div.sk-toggleable__content pre {margin: 0.2em;color: black;border-radius: 0.25em;background-color: #f0f8ff;}#sk-container-id-2 input.sk-toggleable__control:checked~div.sk-toggleable__content {max-height: 200px;max-width: 100%;overflow: auto;}#sk-container-id-2 input.sk-toggleable__control:checked~label.sk-toggleable__label-arrow:before {content: \"▾\";}#sk-container-id-2 div.sk-estimator input.sk-toggleable__control:checked~label.sk-toggleable__label {background-color: #d4ebff;}#sk-container-id-2 div.sk-label input.sk-toggleable__control:checked~label.sk-toggleable__label {background-color: #d4ebff;}#sk-container-id-2 input.sk-hidden--visually {border: 0;clip: rect(1px 1px 1px 1px);clip: rect(1px, 1px, 1px, 1px);height: 1px;margin: -1px;overflow: hidden;padding: 0;position: absolute;width: 1px;}#sk-container-id-2 div.sk-estimator {font-family: monospace;background-color: #f0f8ff;border: 1px dotted black;border-radius: 0.25em;box-sizing: border-box;margin-bottom: 0.5em;}#sk-container-id-2 div.sk-estimator:hover {background-color: #d4ebff;}#sk-container-id-2 div.sk-parallel-item::after {content: \"\";width: 100%;border-bottom: 1px solid gray;flex-grow: 1;}#sk-container-id-2 div.sk-label:hover label.sk-toggleable__label {background-color: #d4ebff;}#sk-container-id-2 div.sk-serial::before {content: \"\";position: absolute;border-left: 1px solid gray;box-sizing: border-box;top: 0;bottom: 0;left: 50%;z-index: 0;}#sk-container-id-2 div.sk-serial {display: flex;flex-direction: column;align-items: center;background-color: white;padding-right: 0.2em;padding-left: 0.2em;position: relative;}#sk-container-id-2 div.sk-item {position: relative;z-index: 1;}#sk-container-id-2 div.sk-parallel {display: flex;align-items: stretch;justify-content: center;background-color: white;position: relative;}#sk-container-id-2 div.sk-item::before, #sk-container-id-2 div.sk-parallel-item::before {content: \"\";position: absolute;border-left: 1px solid gray;box-sizing: border-box;top: 0;bottom: 0;left: 50%;z-index: -1;}#sk-container-id-2 div.sk-parallel-item {display: flex;flex-direction: column;z-index: 1;position: relative;background-color: white;}#sk-container-id-2 div.sk-parallel-item:first-child::after {align-self: flex-end;width: 50%;}#sk-container-id-2 div.sk-parallel-item:last-child::after {align-self: flex-start;width: 50%;}#sk-container-id-2 div.sk-parallel-item:only-child::after {width: 0;}#sk-container-id-2 div.sk-dashed-wrapped {border: 1px dashed gray;margin: 0 0.4em 0.5em 0.4em;box-sizing: border-box;padding-bottom: 0.4em;background-color: white;}#sk-container-id-2 div.sk-label label {font-family: monospace;font-weight: bold;display: inline-block;line-height: 1.2em;}#sk-container-id-2 div.sk-label-container {text-align: center;}#sk-container-id-2 div.sk-container {/* jupyter's `normalize.less` sets `[hidden] { display: none; }` but bootstrap.min.css set `[hidden] { display: none !important; }` so we also need the `!important` here to be able to override the default hidden behavior on the sphinx rendered scikit-learn.org. See: https://github.com/scikit-learn/scikit-learn/issues/21755 */display: inline-block !important;position: relative;}#sk-container-id-2 div.sk-text-repr-fallback {display: none;}</style><div id=\"sk-container-id-2\" class=\"sk-top-container\"><div class=\"sk-text-repr-fallback\"><pre>GridSearchCV(cv=5,\n",
       "             estimator=Pipeline(steps=[(&#x27;scaler&#x27;,\n",
       "                                        StandardScaler(with_mean=False)),\n",
       "                                       (&#x27;xgb&#x27;,\n",
       "                                        XGBClassifier(base_score=None,\n",
       "                                                      booster=None,\n",
       "                                                      callbacks=None,\n",
       "                                                      colsample_bylevel=None,\n",
       "                                                      colsample_bynode=None,\n",
       "                                                      colsample_bytree=None,\n",
       "                                                      device=None,\n",
       "                                                      early_stopping_rounds=None,\n",
       "                                                      enable_categorical=False,\n",
       "                                                      eval_metric=None,\n",
       "                                                      feature_types=None,\n",
       "                                                      gamma=None,\n",
       "                                                      grow_policy=None,\n",
       "                                                      imp...\n",
       "                                                      max_depth=None,\n",
       "                                                      max_leaves=None,\n",
       "                                                      min_child_weight=None,\n",
       "                                                      missing=nan,\n",
       "                                                      monotone_constraints=None,\n",
       "                                                      multi_strategy=None,\n",
       "                                                      n_estimators=None,\n",
       "                                                      n_jobs=None,\n",
       "                                                      num_parallel_tree=None,\n",
       "                                                      random_state=42, ...))]),\n",
       "             n_jobs=-1,\n",
       "             param_grid={&#x27;xgb__gamma&#x27;: [0, 1],\n",
       "                         &#x27;xgb__learning_rate&#x27;: [0.05, 0.01],\n",
       "                         &#x27;xgb__max_depth&#x27;: [2, 5, 10],\n",
       "                         &#x27;xgb__min_child_weight&#x27;: [1, 2],\n",
       "                         &#x27;xgb__n_estimators&#x27;: [10, 20]},\n",
       "             verbose=10)</pre><b>In a Jupyter environment, please rerun this cell to show the HTML representation or trust the notebook. <br />On GitHub, the HTML representation is unable to render, please try loading this page with nbviewer.org.</b></div><div class=\"sk-container\" hidden><div class=\"sk-item sk-dashed-wrapped\"><div class=\"sk-label-container\"><div class=\"sk-label sk-toggleable\"><input class=\"sk-toggleable__control sk-hidden--visually\" id=\"sk-estimator-id-5\" type=\"checkbox\" ><label for=\"sk-estimator-id-5\" class=\"sk-toggleable__label sk-toggleable__label-arrow\">GridSearchCV</label><div class=\"sk-toggleable__content\"><pre>GridSearchCV(cv=5,\n",
       "             estimator=Pipeline(steps=[(&#x27;scaler&#x27;,\n",
       "                                        StandardScaler(with_mean=False)),\n",
       "                                       (&#x27;xgb&#x27;,\n",
       "                                        XGBClassifier(base_score=None,\n",
       "                                                      booster=None,\n",
       "                                                      callbacks=None,\n",
       "                                                      colsample_bylevel=None,\n",
       "                                                      colsample_bynode=None,\n",
       "                                                      colsample_bytree=None,\n",
       "                                                      device=None,\n",
       "                                                      early_stopping_rounds=None,\n",
       "                                                      enable_categorical=False,\n",
       "                                                      eval_metric=None,\n",
       "                                                      feature_types=None,\n",
       "                                                      gamma=None,\n",
       "                                                      grow_policy=None,\n",
       "                                                      imp...\n",
       "                                                      max_depth=None,\n",
       "                                                      max_leaves=None,\n",
       "                                                      min_child_weight=None,\n",
       "                                                      missing=nan,\n",
       "                                                      monotone_constraints=None,\n",
       "                                                      multi_strategy=None,\n",
       "                                                      n_estimators=None,\n",
       "                                                      n_jobs=None,\n",
       "                                                      num_parallel_tree=None,\n",
       "                                                      random_state=42, ...))]),\n",
       "             n_jobs=-1,\n",
       "             param_grid={&#x27;xgb__gamma&#x27;: [0, 1],\n",
       "                         &#x27;xgb__learning_rate&#x27;: [0.05, 0.01],\n",
       "                         &#x27;xgb__max_depth&#x27;: [2, 5, 10],\n",
       "                         &#x27;xgb__min_child_weight&#x27;: [1, 2],\n",
       "                         &#x27;xgb__n_estimators&#x27;: [10, 20]},\n",
       "             verbose=10)</pre></div></div></div><div class=\"sk-parallel\"><div class=\"sk-parallel-item\"><div class=\"sk-item\"><div class=\"sk-label-container\"><div class=\"sk-label sk-toggleable\"><input class=\"sk-toggleable__control sk-hidden--visually\" id=\"sk-estimator-id-6\" type=\"checkbox\" ><label for=\"sk-estimator-id-6\" class=\"sk-toggleable__label sk-toggleable__label-arrow\">estimator: Pipeline</label><div class=\"sk-toggleable__content\"><pre>Pipeline(steps=[(&#x27;scaler&#x27;, StandardScaler(with_mean=False)),\n",
       "                (&#x27;xgb&#x27;,\n",
       "                 XGBClassifier(base_score=None, booster=None, callbacks=None,\n",
       "                               colsample_bylevel=None, colsample_bynode=None,\n",
       "                               colsample_bytree=None, device=None,\n",
       "                               early_stopping_rounds=None,\n",
       "                               enable_categorical=False, eval_metric=None,\n",
       "                               feature_types=None, gamma=None, grow_policy=None,\n",
       "                               importance_type=None,\n",
       "                               interaction_constraints=None, learning_rate=None,\n",
       "                               max_bin=None, max_cat_threshold=None,\n",
       "                               max_cat_to_onehot=None, max_delta_step=None,\n",
       "                               max_depth=None, max_leaves=None,\n",
       "                               min_child_weight=None, missing=nan,\n",
       "                               monotone_constraints=None, multi_strategy=None,\n",
       "                               n_estimators=None, n_jobs=None,\n",
       "                               num_parallel_tree=None, random_state=42, ...))])</pre></div></div></div><div class=\"sk-serial\"><div class=\"sk-item\"><div class=\"sk-serial\"><div class=\"sk-item\"><div class=\"sk-estimator sk-toggleable\"><input class=\"sk-toggleable__control sk-hidden--visually\" id=\"sk-estimator-id-7\" type=\"checkbox\" ><label for=\"sk-estimator-id-7\" class=\"sk-toggleable__label sk-toggleable__label-arrow\">StandardScaler</label><div class=\"sk-toggleable__content\"><pre>StandardScaler(with_mean=False)</pre></div></div></div><div class=\"sk-item\"><div class=\"sk-estimator sk-toggleable\"><input class=\"sk-toggleable__control sk-hidden--visually\" id=\"sk-estimator-id-8\" type=\"checkbox\" ><label for=\"sk-estimator-id-8\" class=\"sk-toggleable__label sk-toggleable__label-arrow\">XGBClassifier</label><div class=\"sk-toggleable__content\"><pre>XGBClassifier(base_score=None, booster=None, callbacks=None,\n",
       "              colsample_bylevel=None, colsample_bynode=None,\n",
       "              colsample_bytree=None, device=None, early_stopping_rounds=None,\n",
       "              enable_categorical=False, eval_metric=None, feature_types=None,\n",
       "              gamma=None, grow_policy=None, importance_type=None,\n",
       "              interaction_constraints=None, learning_rate=None, max_bin=None,\n",
       "              max_cat_threshold=None, max_cat_to_onehot=None,\n",
       "              max_delta_step=None, max_depth=None, max_leaves=None,\n",
       "              min_child_weight=None, missing=nan, monotone_constraints=None,\n",
       "              multi_strategy=None, n_estimators=None, n_jobs=None,\n",
       "              num_parallel_tree=None, random_state=42, ...)</pre></div></div></div></div></div></div></div></div></div></div></div></div>"
      ],
      "text/plain": [
       "GridSearchCV(cv=5,\n",
       "             estimator=Pipeline(steps=[('scaler',\n",
       "                                        StandardScaler(with_mean=False)),\n",
       "                                       ('xgb',\n",
       "                                        XGBClassifier(base_score=None,\n",
       "                                                      booster=None,\n",
       "                                                      callbacks=None,\n",
       "                                                      colsample_bylevel=None,\n",
       "                                                      colsample_bynode=None,\n",
       "                                                      colsample_bytree=None,\n",
       "                                                      device=None,\n",
       "                                                      early_stopping_rounds=None,\n",
       "                                                      enable_categorical=False,\n",
       "                                                      eval_metric=None,\n",
       "                                                      feature_types=None,\n",
       "                                                      gamma=None,\n",
       "                                                      grow_policy=None,\n",
       "                                                      imp...\n",
       "                                                      max_depth=None,\n",
       "                                                      max_leaves=None,\n",
       "                                                      min_child_weight=None,\n",
       "                                                      missing=nan,\n",
       "                                                      monotone_constraints=None,\n",
       "                                                      multi_strategy=None,\n",
       "                                                      n_estimators=None,\n",
       "                                                      n_jobs=None,\n",
       "                                                      num_parallel_tree=None,\n",
       "                                                      random_state=42, ...))]),\n",
       "             n_jobs=-1,\n",
       "             param_grid={'xgb__gamma': [0, 1],\n",
       "                         'xgb__learning_rate': [0.05, 0.01],\n",
       "                         'xgb__max_depth': [2, 5, 10],\n",
       "                         'xgb__min_child_weight': [1, 2],\n",
       "                         'xgb__n_estimators': [10, 20]},\n",
       "             verbose=10)"
      ]
     },
     "execution_count": 29,
     "metadata": {},
     "output_type": "execute_result"
    }
   ],
   "source": [
    "y_train_binary = y_train_U.map({'No': 0, 'Yes': 1})\n",
    "y_test_binary = y_test_U.map({'No': 0, 'Yes': 1})\n",
    "\n",
    "# Crear un pipeline\n",
    "pipeline = Pipeline([\n",
    "    ('scaler', StandardScaler(with_mean=False)),  # Escalar las características\n",
    "    ('xgb', XGBClassifier(random_state=42, objective='binary:logistic'))  # Clasificador XGBoost\n",
    "])\n",
    "\n",
    "# Definir la grilla de hiperparámetros\n",
    "param_grid = {\n",
    "    'xgb__n_estimators': [10, 20],  # Número de árboles\n",
    "    'xgb__max_depth': [2, 5, 10],  # Profundidad máxima de los árboles\n",
    "    'xgb__learning_rate': [0.05, 0.01],  # Tasa de aprendizaje\n",
    "    'xgb__min_child_weight': [1, 2],  # Peso mínimo de las hojas\n",
    "    #'xgb__subsample': [0.8, 1.0],  # Submuestra de observaciones\n",
    "    #'xgb__colsample_bytree': [0.8, 1.0],  # Submuestra de características\n",
    "    'xgb__gamma': [0, 1]  # Regularización gamma\n",
    "}\n",
    "\n",
    "# Crear un objeto GridSearchCV\n",
    "grid_search = GridSearchCV(pipeline, param_grid, cv=5, n_jobs=-1, verbose=10)\n",
    "\n",
    "# Entrenar el modelo utilizando GridSearchCV\n",
    "grid_search.fit(X_train_U, y_train_binary)"
   ]
  },
  {
   "cell_type": "code",
   "execution_count": null,
   "id": "MUFSLu7zwYUM",
   "metadata": {
    "colab": {
     "base_uri": "https://localhost:8080/"
    },
    "id": "MUFSLu7zwYUM",
    "outputId": "ea54c0a0-b0d7-4cbe-9c21-b382a6b387f0"
   },
   "outputs": [
    {
     "data": {
      "text/plain": [
       "['/content/drive/Shareddrives/2. Introducción a Machine Learning con Python/Entrega 4/Modelos guardados/xgboosts_us.joblib']"
      ]
     },
     "execution_count": 30,
     "metadata": {},
     "output_type": "execute_result"
    }
   ],
   "source": [
    "best_model = grid_search.best_estimator_\n",
    "dump(best_model, ruta_guardado + \"/xgboosts_us.joblib\")"
   ]
  },
  {
   "cell_type": "code",
   "execution_count": null,
   "id": "6JnRbNoOi6nJ",
   "metadata": {
    "colab": {
     "base_uri": "https://localhost:8080/"
    },
    "id": "6JnRbNoOi6nJ",
    "outputId": "da1e1792-3384-45ad-e87f-d34a123abeee"
   },
   "outputs": [
    {
     "name": "stdout",
     "output_type": "stream",
     "text": [
      "Informe de clasificación:\n",
      "              precision    recall  f1-score   support\n",
      "\n",
      "           0       0.75      0.86      0.80      2686\n",
      "           1       0.83      0.72      0.77      2688\n",
      "\n",
      "    accuracy                           0.79      5374\n",
      "   macro avg       0.79      0.79      0.79      5374\n",
      "weighted avg       0.79      0.79      0.79      5374\n",
      "\n"
     ]
    }
   ],
   "source": [
    "# Predecir en el conjunto de prueba\n",
    "y_pred = grid_search.predict(X_test_U)\n",
    "\n",
    "# Mostrar métricas de evaluación\n",
    "print(\"Informe de clasificación:\")\n",
    "print(classification_report(y_test_binary, y_pred))"
   ]
  },
  {
   "cell_type": "code",
   "execution_count": null,
   "id": "gxis01cOi83Y",
   "metadata": {
    "id": "gxis01cOi83Y"
   },
   "outputs": [],
   "source": [
    "EVALUACION_DATAFRAME=agregar_modelo(EVALUACION_DATAFRAME, grid_search,\"XGBoost Submuestreo\",y_test_binary, y_pred)"
   ]
  },
  {
   "cell_type": "markdown",
   "id": "WV8-W-5KjENK",
   "metadata": {
    "id": "WV8-W-5KjENK"
   },
   "source": [
    "### 1.5: Catboost"
   ]
  },
  {
   "cell_type": "markdown",
   "id": "_45rxwc0jUCd",
   "metadata": {
    "id": "_45rxwc0jUCd"
   },
   "source": [
    "#### 1.5.1: Catboost datos originales"
   ]
  },
  {
   "cell_type": "code",
   "execution_count": null,
   "id": "G2VCPCMdjagy",
   "metadata": {
    "id": "G2VCPCMdjagy"
   },
   "outputs": [],
   "source": [
    "from catboost import CatBoostClassifier"
   ]
  },
  {
   "cell_type": "code",
   "execution_count": null,
   "id": "mFChE8OhjbFc",
   "metadata": {
    "colab": {
     "base_uri": "https://localhost:8080/",
     "height": 172
    },
    "id": "mFChE8OhjbFc",
    "outputId": "f6515141-ba2c-426b-f254-bc332b79a4dd"
   },
   "outputs": [
    {
     "name": "stdout",
     "output_type": "stream",
     "text": [
      "Fitting 5 folds for each of 48 candidates, totalling 240 fits\n"
     ]
    },
    {
     "data": {
      "text/html": [
       "<style>#sk-container-id-4 {color: black;background-color: white;}#sk-container-id-4 pre{padding: 0;}#sk-container-id-4 div.sk-toggleable {background-color: white;}#sk-container-id-4 label.sk-toggleable__label {cursor: pointer;display: block;width: 100%;margin-bottom: 0;padding: 0.3em;box-sizing: border-box;text-align: center;}#sk-container-id-4 label.sk-toggleable__label-arrow:before {content: \"▸\";float: left;margin-right: 0.25em;color: #696969;}#sk-container-id-4 label.sk-toggleable__label-arrow:hover:before {color: black;}#sk-container-id-4 div.sk-estimator:hover label.sk-toggleable__label-arrow:before {color: black;}#sk-container-id-4 div.sk-toggleable__content {max-height: 0;max-width: 0;overflow: hidden;text-align: left;background-color: #f0f8ff;}#sk-container-id-4 div.sk-toggleable__content pre {margin: 0.2em;color: black;border-radius: 0.25em;background-color: #f0f8ff;}#sk-container-id-4 input.sk-toggleable__control:checked~div.sk-toggleable__content {max-height: 200px;max-width: 100%;overflow: auto;}#sk-container-id-4 input.sk-toggleable__control:checked~label.sk-toggleable__label-arrow:before {content: \"▾\";}#sk-container-id-4 div.sk-estimator input.sk-toggleable__control:checked~label.sk-toggleable__label {background-color: #d4ebff;}#sk-container-id-4 div.sk-label input.sk-toggleable__control:checked~label.sk-toggleable__label {background-color: #d4ebff;}#sk-container-id-4 input.sk-hidden--visually {border: 0;clip: rect(1px 1px 1px 1px);clip: rect(1px, 1px, 1px, 1px);height: 1px;margin: -1px;overflow: hidden;padding: 0;position: absolute;width: 1px;}#sk-container-id-4 div.sk-estimator {font-family: monospace;background-color: #f0f8ff;border: 1px dotted black;border-radius: 0.25em;box-sizing: border-box;margin-bottom: 0.5em;}#sk-container-id-4 div.sk-estimator:hover {background-color: #d4ebff;}#sk-container-id-4 div.sk-parallel-item::after {content: \"\";width: 100%;border-bottom: 1px solid gray;flex-grow: 1;}#sk-container-id-4 div.sk-label:hover label.sk-toggleable__label {background-color: #d4ebff;}#sk-container-id-4 div.sk-serial::before {content: \"\";position: absolute;border-left: 1px solid gray;box-sizing: border-box;top: 0;bottom: 0;left: 50%;z-index: 0;}#sk-container-id-4 div.sk-serial {display: flex;flex-direction: column;align-items: center;background-color: white;padding-right: 0.2em;padding-left: 0.2em;position: relative;}#sk-container-id-4 div.sk-item {position: relative;z-index: 1;}#sk-container-id-4 div.sk-parallel {display: flex;align-items: stretch;justify-content: center;background-color: white;position: relative;}#sk-container-id-4 div.sk-item::before, #sk-container-id-4 div.sk-parallel-item::before {content: \"\";position: absolute;border-left: 1px solid gray;box-sizing: border-box;top: 0;bottom: 0;left: 50%;z-index: -1;}#sk-container-id-4 div.sk-parallel-item {display: flex;flex-direction: column;z-index: 1;position: relative;background-color: white;}#sk-container-id-4 div.sk-parallel-item:first-child::after {align-self: flex-end;width: 50%;}#sk-container-id-4 div.sk-parallel-item:last-child::after {align-self: flex-start;width: 50%;}#sk-container-id-4 div.sk-parallel-item:only-child::after {width: 0;}#sk-container-id-4 div.sk-dashed-wrapped {border: 1px dashed gray;margin: 0 0.4em 0.5em 0.4em;box-sizing: border-box;padding-bottom: 0.4em;background-color: white;}#sk-container-id-4 div.sk-label label {font-family: monospace;font-weight: bold;display: inline-block;line-height: 1.2em;}#sk-container-id-4 div.sk-label-container {text-align: center;}#sk-container-id-4 div.sk-container {/* jupyter's `normalize.less` sets `[hidden] { display: none; }` but bootstrap.min.css set `[hidden] { display: none !important; }` so we also need the `!important` here to be able to override the default hidden behavior on the sphinx rendered scikit-learn.org. See: https://github.com/scikit-learn/scikit-learn/issues/21755 */display: inline-block !important;position: relative;}#sk-container-id-4 div.sk-text-repr-fallback {display: none;}</style><div id=\"sk-container-id-4\" class=\"sk-top-container\"><div class=\"sk-text-repr-fallback\"><pre>GridSearchCV(cv=5,\n",
       "             estimator=Pipeline(steps=[(&#x27;scaler&#x27;,\n",
       "                                        StandardScaler(with_mean=False)),\n",
       "                                       (&#x27;catboost&#x27;,\n",
       "                                        &lt;catboost.core.CatBoostClassifier object at 0x78fe18c13700&gt;)]),\n",
       "             n_jobs=-1,\n",
       "             param_grid={&#x27;catboost__depth&#x27;: [4, 6, 8],\n",
       "                         &#x27;catboost__l2_leaf_reg&#x27;: [1, 3, 5, 7],\n",
       "                         &#x27;catboost__learning_rate&#x27;: [0.01, 0.05],\n",
       "                         &#x27;catboost__n_estimators&#x27;: [10, 20]},\n",
       "             verbose=10)</pre><b>In a Jupyter environment, please rerun this cell to show the HTML representation or trust the notebook. <br />On GitHub, the HTML representation is unable to render, please try loading this page with nbviewer.org.</b></div><div class=\"sk-container\" hidden><div class=\"sk-item sk-dashed-wrapped\"><div class=\"sk-label-container\"><div class=\"sk-label sk-toggleable\"><input class=\"sk-toggleable__control sk-hidden--visually\" id=\"sk-estimator-id-13\" type=\"checkbox\" ><label for=\"sk-estimator-id-13\" class=\"sk-toggleable__label sk-toggleable__label-arrow\">GridSearchCV</label><div class=\"sk-toggleable__content\"><pre>GridSearchCV(cv=5,\n",
       "             estimator=Pipeline(steps=[(&#x27;scaler&#x27;,\n",
       "                                        StandardScaler(with_mean=False)),\n",
       "                                       (&#x27;catboost&#x27;,\n",
       "                                        &lt;catboost.core.CatBoostClassifier object at 0x78fe18c13700&gt;)]),\n",
       "             n_jobs=-1,\n",
       "             param_grid={&#x27;catboost__depth&#x27;: [4, 6, 8],\n",
       "                         &#x27;catboost__l2_leaf_reg&#x27;: [1, 3, 5, 7],\n",
       "                         &#x27;catboost__learning_rate&#x27;: [0.01, 0.05],\n",
       "                         &#x27;catboost__n_estimators&#x27;: [10, 20]},\n",
       "             verbose=10)</pre></div></div></div><div class=\"sk-parallel\"><div class=\"sk-parallel-item\"><div class=\"sk-item\"><div class=\"sk-label-container\"><div class=\"sk-label sk-toggleable\"><input class=\"sk-toggleable__control sk-hidden--visually\" id=\"sk-estimator-id-14\" type=\"checkbox\" ><label for=\"sk-estimator-id-14\" class=\"sk-toggleable__label sk-toggleable__label-arrow\">estimator: Pipeline</label><div class=\"sk-toggleable__content\"><pre>Pipeline(steps=[(&#x27;scaler&#x27;, StandardScaler(with_mean=False)),\n",
       "                (&#x27;catboost&#x27;,\n",
       "                 &lt;catboost.core.CatBoostClassifier object at 0x78fe18c13700&gt;)])</pre></div></div></div><div class=\"sk-serial\"><div class=\"sk-item\"><div class=\"sk-serial\"><div class=\"sk-item\"><div class=\"sk-estimator sk-toggleable\"><input class=\"sk-toggleable__control sk-hidden--visually\" id=\"sk-estimator-id-15\" type=\"checkbox\" ><label for=\"sk-estimator-id-15\" class=\"sk-toggleable__label sk-toggleable__label-arrow\">StandardScaler</label><div class=\"sk-toggleable__content\"><pre>StandardScaler(with_mean=False)</pre></div></div></div><div class=\"sk-item\"><div class=\"sk-estimator sk-toggleable\"><input class=\"sk-toggleable__control sk-hidden--visually\" id=\"sk-estimator-id-16\" type=\"checkbox\" ><label for=\"sk-estimator-id-16\" class=\"sk-toggleable__label sk-toggleable__label-arrow\">CatBoostClassifier</label><div class=\"sk-toggleable__content\"><pre>&lt;catboost.core.CatBoostClassifier object at 0x78fe18c13700&gt;</pre></div></div></div></div></div></div></div></div></div></div></div></div>"
      ],
      "text/plain": [
       "GridSearchCV(cv=5,\n",
       "             estimator=Pipeline(steps=[('scaler',\n",
       "                                        StandardScaler(with_mean=False)),\n",
       "                                       ('catboost',\n",
       "                                        <catboost.core.CatBoostClassifier object at 0x78fe18c13700>)]),\n",
       "             n_jobs=-1,\n",
       "             param_grid={'catboost__depth': [4, 6, 8],\n",
       "                         'catboost__l2_leaf_reg': [1, 3, 5, 7],\n",
       "                         'catboost__learning_rate': [0.01, 0.05],\n",
       "                         'catboost__n_estimators': [10, 20]},\n",
       "             verbose=10)"
      ]
     },
     "execution_count": 35,
     "metadata": {},
     "output_type": "execute_result"
    }
   ],
   "source": [
    "# Map 'No' to 0 and 'Yes' to 1 in the target variable y\n",
    "y_train_binary = y_train.map({'No': 0, 'Yes': 1})\n",
    "y_test_binary = y_test.map({'No': 0, 'Yes': 1})\n",
    "\n",
    "# Create a pipeline with CatBoost\n",
    "pipeline = Pipeline([\n",
    "    ('scaler', StandardScaler(with_mean=False)),  # Scale features\n",
    "    ('catboost', CatBoostClassifier(random_state=42, verbose=0))  # CatBoost classifier\n",
    "])\n",
    "\n",
    "# Define the parameter grid for GridSearchCV\n",
    "param_grid = {\n",
    "    'catboost__n_estimators': [10, 20],\n",
    "    'catboost__depth': [4, 6, 8],\n",
    "    'catboost__learning_rate': [0.01, 0.05], # Quitaré el learning rate de 0.1, es muy alto...\n",
    "    'catboost__l2_leaf_reg': [1, 3, 5, 7]\n",
    "}\n",
    "\n",
    "# Create a GridSearchCV object\n",
    "grid_search = GridSearchCV(pipeline, param_grid, cv=5, n_jobs=-1, verbose=10)\n",
    "\n",
    "# Train the model using GridSearchCV\n",
    "grid_search.fit(X_train, y_train_binary)\n"
   ]
  },
  {
   "cell_type": "code",
   "execution_count": null,
   "id": "5vfPnS6kwiLU",
   "metadata": {
    "colab": {
     "base_uri": "https://localhost:8080/"
    },
    "id": "5vfPnS6kwiLU",
    "outputId": "25a4f36b-5534-49e7-97fd-13fc837044b4"
   },
   "outputs": [
    {
     "data": {
      "text/plain": [
       "['/content/drive/Shareddrives/2. Introducción a Machine Learning con Python/Entrega 4/Modelos guardados/catboost.joblib']"
      ]
     },
     "execution_count": 36,
     "metadata": {},
     "output_type": "execute_result"
    }
   ],
   "source": [
    "best_model = grid_search.best_estimator_\n",
    "dump(best_model, ruta_guardado + \"/catboost.joblib\")"
   ]
  },
  {
   "cell_type": "code",
   "execution_count": null,
   "id": "c-rT1yitniDz",
   "metadata": {
    "colab": {
     "base_uri": "https://localhost:8080/"
    },
    "id": "c-rT1yitniDz",
    "outputId": "6a961818-f497-4bcd-e6cc-7bb057541ae4"
   },
   "outputs": [
    {
     "name": "stdout",
     "output_type": "stream",
     "text": [
      "Informe de clasificación:\n",
      "              precision    recall  f1-score   support\n",
      "\n",
      "           0       0.96      0.99      0.97     46513\n",
      "           1       0.61      0.19      0.29      2692\n",
      "\n",
      "    accuracy                           0.95     49205\n",
      "   macro avg       0.78      0.59      0.63     49205\n",
      "weighted avg       0.94      0.95      0.94     49205\n",
      "\n"
     ]
    }
   ],
   "source": [
    "# Predecir en el conjunto de prueba\n",
    "y_pred = grid_search.predict(X_test)\n",
    "\n",
    "# Mostrar métricas de evaluación\n",
    "print(\"Informe de clasificación:\")\n",
    "print(classification_report(y_test_binary, y_pred))"
   ]
  },
  {
   "cell_type": "code",
   "execution_count": null,
   "id": "odpeILIInlpr",
   "metadata": {
    "id": "odpeILIInlpr"
   },
   "outputs": [],
   "source": [
    "EVALUACION_DATAFRAME=agregar_modelo(EVALUACION_DATAFRAME, grid_search,\"Catboost Datos originales\",y_test_binary, y_pred)"
   ]
  },
  {
   "cell_type": "markdown",
   "id": "UzOmDj24n_FS",
   "metadata": {
    "id": "UzOmDj24n_FS"
   },
   "source": [
    "#### 1.5.3: Catboost sobremuestreo"
   ]
  },
  {
   "cell_type": "code",
   "execution_count": null,
   "id": "FRTPetOToQVR",
   "metadata": {
    "colab": {
     "base_uri": "https://localhost:8080/",
     "height": 172
    },
    "id": "FRTPetOToQVR",
    "outputId": "d3d6d44a-837a-4b4f-94d3-599649686cd5"
   },
   "outputs": [
    {
     "name": "stdout",
     "output_type": "stream",
     "text": [
      "Fitting 5 folds for each of 48 candidates, totalling 240 fits\n"
     ]
    },
    {
     "data": {
      "text/html": [
       "<style>#sk-container-id-5 {color: black;background-color: white;}#sk-container-id-5 pre{padding: 0;}#sk-container-id-5 div.sk-toggleable {background-color: white;}#sk-container-id-5 label.sk-toggleable__label {cursor: pointer;display: block;width: 100%;margin-bottom: 0;padding: 0.3em;box-sizing: border-box;text-align: center;}#sk-container-id-5 label.sk-toggleable__label-arrow:before {content: \"▸\";float: left;margin-right: 0.25em;color: #696969;}#sk-container-id-5 label.sk-toggleable__label-arrow:hover:before {color: black;}#sk-container-id-5 div.sk-estimator:hover label.sk-toggleable__label-arrow:before {color: black;}#sk-container-id-5 div.sk-toggleable__content {max-height: 0;max-width: 0;overflow: hidden;text-align: left;background-color: #f0f8ff;}#sk-container-id-5 div.sk-toggleable__content pre {margin: 0.2em;color: black;border-radius: 0.25em;background-color: #f0f8ff;}#sk-container-id-5 input.sk-toggleable__control:checked~div.sk-toggleable__content {max-height: 200px;max-width: 100%;overflow: auto;}#sk-container-id-5 input.sk-toggleable__control:checked~label.sk-toggleable__label-arrow:before {content: \"▾\";}#sk-container-id-5 div.sk-estimator input.sk-toggleable__control:checked~label.sk-toggleable__label {background-color: #d4ebff;}#sk-container-id-5 div.sk-label input.sk-toggleable__control:checked~label.sk-toggleable__label {background-color: #d4ebff;}#sk-container-id-5 input.sk-hidden--visually {border: 0;clip: rect(1px 1px 1px 1px);clip: rect(1px, 1px, 1px, 1px);height: 1px;margin: -1px;overflow: hidden;padding: 0;position: absolute;width: 1px;}#sk-container-id-5 div.sk-estimator {font-family: monospace;background-color: #f0f8ff;border: 1px dotted black;border-radius: 0.25em;box-sizing: border-box;margin-bottom: 0.5em;}#sk-container-id-5 div.sk-estimator:hover {background-color: #d4ebff;}#sk-container-id-5 div.sk-parallel-item::after {content: \"\";width: 100%;border-bottom: 1px solid gray;flex-grow: 1;}#sk-container-id-5 div.sk-label:hover label.sk-toggleable__label {background-color: #d4ebff;}#sk-container-id-5 div.sk-serial::before {content: \"\";position: absolute;border-left: 1px solid gray;box-sizing: border-box;top: 0;bottom: 0;left: 50%;z-index: 0;}#sk-container-id-5 div.sk-serial {display: flex;flex-direction: column;align-items: center;background-color: white;padding-right: 0.2em;padding-left: 0.2em;position: relative;}#sk-container-id-5 div.sk-item {position: relative;z-index: 1;}#sk-container-id-5 div.sk-parallel {display: flex;align-items: stretch;justify-content: center;background-color: white;position: relative;}#sk-container-id-5 div.sk-item::before, #sk-container-id-5 div.sk-parallel-item::before {content: \"\";position: absolute;border-left: 1px solid gray;box-sizing: border-box;top: 0;bottom: 0;left: 50%;z-index: -1;}#sk-container-id-5 div.sk-parallel-item {display: flex;flex-direction: column;z-index: 1;position: relative;background-color: white;}#sk-container-id-5 div.sk-parallel-item:first-child::after {align-self: flex-end;width: 50%;}#sk-container-id-5 div.sk-parallel-item:last-child::after {align-self: flex-start;width: 50%;}#sk-container-id-5 div.sk-parallel-item:only-child::after {width: 0;}#sk-container-id-5 div.sk-dashed-wrapped {border: 1px dashed gray;margin: 0 0.4em 0.5em 0.4em;box-sizing: border-box;padding-bottom: 0.4em;background-color: white;}#sk-container-id-5 div.sk-label label {font-family: monospace;font-weight: bold;display: inline-block;line-height: 1.2em;}#sk-container-id-5 div.sk-label-container {text-align: center;}#sk-container-id-5 div.sk-container {/* jupyter's `normalize.less` sets `[hidden] { display: none; }` but bootstrap.min.css set `[hidden] { display: none !important; }` so we also need the `!important` here to be able to override the default hidden behavior on the sphinx rendered scikit-learn.org. See: https://github.com/scikit-learn/scikit-learn/issues/21755 */display: inline-block !important;position: relative;}#sk-container-id-5 div.sk-text-repr-fallback {display: none;}</style><div id=\"sk-container-id-5\" class=\"sk-top-container\"><div class=\"sk-text-repr-fallback\"><pre>GridSearchCV(cv=5,\n",
       "             estimator=Pipeline(steps=[(&#x27;scaler&#x27;,\n",
       "                                        StandardScaler(with_mean=False)),\n",
       "                                       (&#x27;catboost&#x27;,\n",
       "                                        &lt;catboost.core.CatBoostClassifier object at 0x78fe18c132b0&gt;)]),\n",
       "             n_jobs=-1,\n",
       "             param_grid={&#x27;catboost__depth&#x27;: [4, 6, 8],\n",
       "                         &#x27;catboost__l2_leaf_reg&#x27;: [1, 3, 5, 7],\n",
       "                         &#x27;catboost__learning_rate&#x27;: [0.01, 0.05],\n",
       "                         &#x27;catboost__n_estimators&#x27;: [10, 20]},\n",
       "             verbose=10)</pre><b>In a Jupyter environment, please rerun this cell to show the HTML representation or trust the notebook. <br />On GitHub, the HTML representation is unable to render, please try loading this page with nbviewer.org.</b></div><div class=\"sk-container\" hidden><div class=\"sk-item sk-dashed-wrapped\"><div class=\"sk-label-container\"><div class=\"sk-label sk-toggleable\"><input class=\"sk-toggleable__control sk-hidden--visually\" id=\"sk-estimator-id-17\" type=\"checkbox\" ><label for=\"sk-estimator-id-17\" class=\"sk-toggleable__label sk-toggleable__label-arrow\">GridSearchCV</label><div class=\"sk-toggleable__content\"><pre>GridSearchCV(cv=5,\n",
       "             estimator=Pipeline(steps=[(&#x27;scaler&#x27;,\n",
       "                                        StandardScaler(with_mean=False)),\n",
       "                                       (&#x27;catboost&#x27;,\n",
       "                                        &lt;catboost.core.CatBoostClassifier object at 0x78fe18c132b0&gt;)]),\n",
       "             n_jobs=-1,\n",
       "             param_grid={&#x27;catboost__depth&#x27;: [4, 6, 8],\n",
       "                         &#x27;catboost__l2_leaf_reg&#x27;: [1, 3, 5, 7],\n",
       "                         &#x27;catboost__learning_rate&#x27;: [0.01, 0.05],\n",
       "                         &#x27;catboost__n_estimators&#x27;: [10, 20]},\n",
       "             verbose=10)</pre></div></div></div><div class=\"sk-parallel\"><div class=\"sk-parallel-item\"><div class=\"sk-item\"><div class=\"sk-label-container\"><div class=\"sk-label sk-toggleable\"><input class=\"sk-toggleable__control sk-hidden--visually\" id=\"sk-estimator-id-18\" type=\"checkbox\" ><label for=\"sk-estimator-id-18\" class=\"sk-toggleable__label sk-toggleable__label-arrow\">estimator: Pipeline</label><div class=\"sk-toggleable__content\"><pre>Pipeline(steps=[(&#x27;scaler&#x27;, StandardScaler(with_mean=False)),\n",
       "                (&#x27;catboost&#x27;,\n",
       "                 &lt;catboost.core.CatBoostClassifier object at 0x78fe18c132b0&gt;)])</pre></div></div></div><div class=\"sk-serial\"><div class=\"sk-item\"><div class=\"sk-serial\"><div class=\"sk-item\"><div class=\"sk-estimator sk-toggleable\"><input class=\"sk-toggleable__control sk-hidden--visually\" id=\"sk-estimator-id-19\" type=\"checkbox\" ><label for=\"sk-estimator-id-19\" class=\"sk-toggleable__label sk-toggleable__label-arrow\">StandardScaler</label><div class=\"sk-toggleable__content\"><pre>StandardScaler(with_mean=False)</pre></div></div></div><div class=\"sk-item\"><div class=\"sk-estimator sk-toggleable\"><input class=\"sk-toggleable__control sk-hidden--visually\" id=\"sk-estimator-id-20\" type=\"checkbox\" ><label for=\"sk-estimator-id-20\" class=\"sk-toggleable__label sk-toggleable__label-arrow\">CatBoostClassifier</label><div class=\"sk-toggleable__content\"><pre>&lt;catboost.core.CatBoostClassifier object at 0x78fe18c132b0&gt;</pre></div></div></div></div></div></div></div></div></div></div></div></div>"
      ],
      "text/plain": [
       "GridSearchCV(cv=5,\n",
       "             estimator=Pipeline(steps=[('scaler',\n",
       "                                        StandardScaler(with_mean=False)),\n",
       "                                       ('catboost',\n",
       "                                        <catboost.core.CatBoostClassifier object at 0x78fe18c132b0>)]),\n",
       "             n_jobs=-1,\n",
       "             param_grid={'catboost__depth': [4, 6, 8],\n",
       "                         'catboost__l2_leaf_reg': [1, 3, 5, 7],\n",
       "                         'catboost__learning_rate': [0.01, 0.05],\n",
       "                         'catboost__n_estimators': [10, 20]},\n",
       "             verbose=10)"
      ]
     },
     "execution_count": 37,
     "metadata": {},
     "output_type": "execute_result"
    }
   ],
   "source": [
    "# Map 'No' to 0 and 'Yes' to 1 in the target variable y\n",
    "y_train_binary = y_train_U.map({'No': 0, 'Yes': 1})\n",
    "y_test_binary = y_test_U.map({'No': 0, 'Yes': 1})\n",
    "\n",
    "# Create a pipeline with CatBoost\n",
    "pipeline = Pipeline([\n",
    "    ('scaler', StandardScaler(with_mean=False)),  # Scale features\n",
    "    ('catboost', CatBoostClassifier(random_state=42, verbose=0))  # CatBoost classifier\n",
    "])\n",
    "\n",
    "# Define the parameter grid for GridSearchCV\n",
    "param_grid = {\n",
    "    'catboost__n_estimators': [10, 20],\n",
    "    'catboost__depth': [4, 6, 8],\n",
    "    'catboost__learning_rate': [0.01, 0.05], # Quitaré el learning rate de 0.1, es muy alto...\n",
    "    'catboost__l2_leaf_reg': [1, 3, 5, 7]\n",
    "}\n",
    "\n",
    "# Create a GridSearchCV object\n",
    "grid_search = GridSearchCV(pipeline, param_grid, cv=5, n_jobs=-1, verbose=10)\n",
    "\n",
    "# Train the model using GridSearchCV\n",
    "grid_search.fit(X_train_U, y_train_binary)"
   ]
  },
  {
   "cell_type": "code",
   "execution_count": null,
   "id": "q8yoc7mQz42o",
   "metadata": {
    "colab": {
     "base_uri": "https://localhost:8080/"
    },
    "id": "q8yoc7mQz42o",
    "outputId": "99929020-4365-4dd0-9d86-2174289227ac"
   },
   "outputs": [
    {
     "data": {
      "text/plain": [
       "['/content/drive/Shareddrives/2. Introducción a Machine Learning con Python/Entrega 4/Modelos guardados/catboost_us.joblib']"
      ]
     },
     "execution_count": 38,
     "metadata": {},
     "output_type": "execute_result"
    }
   ],
   "source": [
    "best_model = grid_search.best_estimator_\n",
    "dump(best_model, ruta_guardado + \"/catboost_us.joblib\")"
   ]
  },
  {
   "cell_type": "code",
   "execution_count": null,
   "id": "cMGizqB_t7tM",
   "metadata": {
    "colab": {
     "base_uri": "https://localhost:8080/"
    },
    "id": "cMGizqB_t7tM",
    "outputId": "740245d1-11b1-436b-e16a-32eeaed0a0f6"
   },
   "outputs": [
    {
     "name": "stdout",
     "output_type": "stream",
     "text": [
      "Informe de clasificación:\n",
      "              precision    recall  f1-score   support\n",
      "\n",
      "           0       0.78      0.84      0.81     46455\n",
      "           1       0.83      0.77      0.80     46580\n",
      "\n",
      "    accuracy                           0.80     93035\n",
      "   macro avg       0.81      0.80      0.80     93035\n",
      "weighted avg       0.81      0.80      0.80     93035\n",
      "\n"
     ]
    }
   ],
   "source": [
    "# Predecir en el conjunto de prueba\n",
    "y_pred = grid_search.predict(X_test_U)\n",
    "\n",
    "# Mostrar métricas de evaluación\n",
    "print(\"Informe de clasificación:\")\n",
    "print(classification_report(y_test_binary, y_pred))"
   ]
  },
  {
   "cell_type": "code",
   "execution_count": null,
   "id": "XbdkX-c5t_B8",
   "metadata": {
    "id": "XbdkX-c5t_B8"
   },
   "outputs": [],
   "source": [
    "EVALUACION_DATAFRAME=agregar_modelo(EVALUACION_DATAFRAME, grid_search,\"Catboost Sobre muestreo\",y_test_binary, y_pred)"
   ]
  },
  {
   "cell_type": "markdown",
   "id": "CV8Ci3OkuHye",
   "metadata": {
    "id": "CV8Ci3OkuHye"
   },
   "source": [
    "#### 1.5.3: Catboost submuestreo"
   ]
  },
  {
   "cell_type": "code",
   "execution_count": null,
   "id": "xYM7MYnAuKqN",
   "metadata": {
    "colab": {
     "base_uri": "https://localhost:8080/",
     "height": 227
    },
    "id": "xYM7MYnAuKqN",
    "outputId": "af829b3b-a432-4329-a137-6356fbfec761"
   },
   "outputs": [
    {
     "name": "stdout",
     "output_type": "stream",
     "text": [
      "Fitting 5 folds for each of 48 candidates, totalling 240 fits\n"
     ]
    },
    {
     "name": "stderr",
     "output_type": "stream",
     "text": [
      "/usr/local/lib/python3.10/dist-packages/joblib/externals/loky/process_executor.py:752: UserWarning: A worker stopped while some jobs were given to the executor. This can be caused by a too short worker timeout or by a memory leak.\n",
      "  warnings.warn(\n"
     ]
    },
    {
     "data": {
      "text/html": [
       "<style>#sk-container-id-6 {color: black;background-color: white;}#sk-container-id-6 pre{padding: 0;}#sk-container-id-6 div.sk-toggleable {background-color: white;}#sk-container-id-6 label.sk-toggleable__label {cursor: pointer;display: block;width: 100%;margin-bottom: 0;padding: 0.3em;box-sizing: border-box;text-align: center;}#sk-container-id-6 label.sk-toggleable__label-arrow:before {content: \"▸\";float: left;margin-right: 0.25em;color: #696969;}#sk-container-id-6 label.sk-toggleable__label-arrow:hover:before {color: black;}#sk-container-id-6 div.sk-estimator:hover label.sk-toggleable__label-arrow:before {color: black;}#sk-container-id-6 div.sk-toggleable__content {max-height: 0;max-width: 0;overflow: hidden;text-align: left;background-color: #f0f8ff;}#sk-container-id-6 div.sk-toggleable__content pre {margin: 0.2em;color: black;border-radius: 0.25em;background-color: #f0f8ff;}#sk-container-id-6 input.sk-toggleable__control:checked~div.sk-toggleable__content {max-height: 200px;max-width: 100%;overflow: auto;}#sk-container-id-6 input.sk-toggleable__control:checked~label.sk-toggleable__label-arrow:before {content: \"▾\";}#sk-container-id-6 div.sk-estimator input.sk-toggleable__control:checked~label.sk-toggleable__label {background-color: #d4ebff;}#sk-container-id-6 div.sk-label input.sk-toggleable__control:checked~label.sk-toggleable__label {background-color: #d4ebff;}#sk-container-id-6 input.sk-hidden--visually {border: 0;clip: rect(1px 1px 1px 1px);clip: rect(1px, 1px, 1px, 1px);height: 1px;margin: -1px;overflow: hidden;padding: 0;position: absolute;width: 1px;}#sk-container-id-6 div.sk-estimator {font-family: monospace;background-color: #f0f8ff;border: 1px dotted black;border-radius: 0.25em;box-sizing: border-box;margin-bottom: 0.5em;}#sk-container-id-6 div.sk-estimator:hover {background-color: #d4ebff;}#sk-container-id-6 div.sk-parallel-item::after {content: \"\";width: 100%;border-bottom: 1px solid gray;flex-grow: 1;}#sk-container-id-6 div.sk-label:hover label.sk-toggleable__label {background-color: #d4ebff;}#sk-container-id-6 div.sk-serial::before {content: \"\";position: absolute;border-left: 1px solid gray;box-sizing: border-box;top: 0;bottom: 0;left: 50%;z-index: 0;}#sk-container-id-6 div.sk-serial {display: flex;flex-direction: column;align-items: center;background-color: white;padding-right: 0.2em;padding-left: 0.2em;position: relative;}#sk-container-id-6 div.sk-item {position: relative;z-index: 1;}#sk-container-id-6 div.sk-parallel {display: flex;align-items: stretch;justify-content: center;background-color: white;position: relative;}#sk-container-id-6 div.sk-item::before, #sk-container-id-6 div.sk-parallel-item::before {content: \"\";position: absolute;border-left: 1px solid gray;box-sizing: border-box;top: 0;bottom: 0;left: 50%;z-index: -1;}#sk-container-id-6 div.sk-parallel-item {display: flex;flex-direction: column;z-index: 1;position: relative;background-color: white;}#sk-container-id-6 div.sk-parallel-item:first-child::after {align-self: flex-end;width: 50%;}#sk-container-id-6 div.sk-parallel-item:last-child::after {align-self: flex-start;width: 50%;}#sk-container-id-6 div.sk-parallel-item:only-child::after {width: 0;}#sk-container-id-6 div.sk-dashed-wrapped {border: 1px dashed gray;margin: 0 0.4em 0.5em 0.4em;box-sizing: border-box;padding-bottom: 0.4em;background-color: white;}#sk-container-id-6 div.sk-label label {font-family: monospace;font-weight: bold;display: inline-block;line-height: 1.2em;}#sk-container-id-6 div.sk-label-container {text-align: center;}#sk-container-id-6 div.sk-container {/* jupyter's `normalize.less` sets `[hidden] { display: none; }` but bootstrap.min.css set `[hidden] { display: none !important; }` so we also need the `!important` here to be able to override the default hidden behavior on the sphinx rendered scikit-learn.org. See: https://github.com/scikit-learn/scikit-learn/issues/21755 */display: inline-block !important;position: relative;}#sk-container-id-6 div.sk-text-repr-fallback {display: none;}</style><div id=\"sk-container-id-6\" class=\"sk-top-container\"><div class=\"sk-text-repr-fallback\"><pre>GridSearchCV(cv=5,\n",
       "             estimator=Pipeline(steps=[(&#x27;scaler&#x27;,\n",
       "                                        StandardScaler(with_mean=False)),\n",
       "                                       (&#x27;catboost&#x27;,\n",
       "                                        &lt;catboost.core.CatBoostClassifier object at 0x7ba745b2fd60&gt;)]),\n",
       "             n_jobs=-1,\n",
       "             param_grid={&#x27;catboost__depth&#x27;: [4, 6, 8],\n",
       "                         &#x27;catboost__l2_leaf_reg&#x27;: [1, 3, 5, 7],\n",
       "                         &#x27;catboost__learning_rate&#x27;: [0.01, 0.05],\n",
       "                         &#x27;catboost__n_estimators&#x27;: [10, 20]},\n",
       "             verbose=10)</pre><b>In a Jupyter environment, please rerun this cell to show the HTML representation or trust the notebook. <br />On GitHub, the HTML representation is unable to render, please try loading this page with nbviewer.org.</b></div><div class=\"sk-container\" hidden><div class=\"sk-item sk-dashed-wrapped\"><div class=\"sk-label-container\"><div class=\"sk-label sk-toggleable\"><input class=\"sk-toggleable__control sk-hidden--visually\" id=\"sk-estimator-id-21\" type=\"checkbox\" ><label for=\"sk-estimator-id-21\" class=\"sk-toggleable__label sk-toggleable__label-arrow\">GridSearchCV</label><div class=\"sk-toggleable__content\"><pre>GridSearchCV(cv=5,\n",
       "             estimator=Pipeline(steps=[(&#x27;scaler&#x27;,\n",
       "                                        StandardScaler(with_mean=False)),\n",
       "                                       (&#x27;catboost&#x27;,\n",
       "                                        &lt;catboost.core.CatBoostClassifier object at 0x7ba745b2fd60&gt;)]),\n",
       "             n_jobs=-1,\n",
       "             param_grid={&#x27;catboost__depth&#x27;: [4, 6, 8],\n",
       "                         &#x27;catboost__l2_leaf_reg&#x27;: [1, 3, 5, 7],\n",
       "                         &#x27;catboost__learning_rate&#x27;: [0.01, 0.05],\n",
       "                         &#x27;catboost__n_estimators&#x27;: [10, 20]},\n",
       "             verbose=10)</pre></div></div></div><div class=\"sk-parallel\"><div class=\"sk-parallel-item\"><div class=\"sk-item\"><div class=\"sk-label-container\"><div class=\"sk-label sk-toggleable\"><input class=\"sk-toggleable__control sk-hidden--visually\" id=\"sk-estimator-id-22\" type=\"checkbox\" ><label for=\"sk-estimator-id-22\" class=\"sk-toggleable__label sk-toggleable__label-arrow\">estimator: Pipeline</label><div class=\"sk-toggleable__content\"><pre>Pipeline(steps=[(&#x27;scaler&#x27;, StandardScaler(with_mean=False)),\n",
       "                (&#x27;catboost&#x27;,\n",
       "                 &lt;catboost.core.CatBoostClassifier object at 0x7ba745b2fd60&gt;)])</pre></div></div></div><div class=\"sk-serial\"><div class=\"sk-item\"><div class=\"sk-serial\"><div class=\"sk-item\"><div class=\"sk-estimator sk-toggleable\"><input class=\"sk-toggleable__control sk-hidden--visually\" id=\"sk-estimator-id-23\" type=\"checkbox\" ><label for=\"sk-estimator-id-23\" class=\"sk-toggleable__label sk-toggleable__label-arrow\">StandardScaler</label><div class=\"sk-toggleable__content\"><pre>StandardScaler(with_mean=False)</pre></div></div></div><div class=\"sk-item\"><div class=\"sk-estimator sk-toggleable\"><input class=\"sk-toggleable__control sk-hidden--visually\" id=\"sk-estimator-id-24\" type=\"checkbox\" ><label for=\"sk-estimator-id-24\" class=\"sk-toggleable__label sk-toggleable__label-arrow\">CatBoostClassifier</label><div class=\"sk-toggleable__content\"><pre>&lt;catboost.core.CatBoostClassifier object at 0x7ba745b2fd60&gt;</pre></div></div></div></div></div></div></div></div></div></div></div></div>"
      ],
      "text/plain": [
       "GridSearchCV(cv=5,\n",
       "             estimator=Pipeline(steps=[('scaler',\n",
       "                                        StandardScaler(with_mean=False)),\n",
       "                                       ('catboost',\n",
       "                                        <catboost.core.CatBoostClassifier object at 0x7ba745b2fd60>)]),\n",
       "             n_jobs=-1,\n",
       "             param_grid={'catboost__depth': [4, 6, 8],\n",
       "                         'catboost__l2_leaf_reg': [1, 3, 5, 7],\n",
       "                         'catboost__learning_rate': [0.01, 0.05],\n",
       "                         'catboost__n_estimators': [10, 20]},\n",
       "             verbose=10)"
      ]
     },
     "execution_count": 54,
     "metadata": {},
     "output_type": "execute_result"
    }
   ],
   "source": [
    "# Map 'No' to 0 and 'Yes' to 1 in the target variable y\n",
    "y_train_binary = y_train_U.map({'No': 0, 'Yes': 1})\n",
    "y_test_binary = y_test_U.map({'No': 0, 'Yes': 1})\n",
    "\n",
    "# Create a pipeline with CatBoost\n",
    "pipeline = Pipeline([\n",
    "    ('scaler', StandardScaler(with_mean=False)),  # Scale features\n",
    "    ('catboost', CatBoostClassifier(random_state=42, verbose=0))  # CatBoost classifier\n",
    "])\n",
    "\n",
    "# Define the parameter grid for GridSearchCV\n",
    "param_grid = {\n",
    "    'catboost__n_estimators': [10, 20],\n",
    "    'catboost__depth': [4, 6, 8],\n",
    "    'catboost__learning_rate': [0.01, 0.05], # Quitaré el learning rate de 0.1, es muy alto...\n",
    "    'catboost__l2_leaf_reg': [1, 3, 5, 7]\n",
    "}\n",
    "\n",
    "# Create a GridSearchCV object\n",
    "grid_search = GridSearchCV(pipeline, param_grid, cv=5, n_jobs=-1, verbose=10)\n",
    "\n",
    "# Train the model using GridSearchCV\n",
    "grid_search.fit(X_train_U, y_train_binary)"
   ]
  },
  {
   "cell_type": "code",
   "execution_count": null,
   "id": "We5aP94YxSNn",
   "metadata": {
    "colab": {
     "base_uri": "https://localhost:8080/"
    },
    "id": "We5aP94YxSNn",
    "outputId": "239fa865-db5b-416b-cebd-bbab1b16a63e"
   },
   "outputs": [
    {
     "name": "stdout",
     "output_type": "stream",
     "text": [
      "Informe de clasificación:\n",
      "              precision    recall  f1-score   support\n",
      "\n",
      "           0       0.77      0.85      0.80      2686\n",
      "           1       0.83      0.74      0.78      2688\n",
      "\n",
      "    accuracy                           0.79      5374\n",
      "   macro avg       0.80      0.79      0.79      5374\n",
      "weighted avg       0.80      0.79      0.79      5374\n",
      "\n"
     ]
    }
   ],
   "source": [
    "# Predecir en el conjunto de prueba\n",
    "y_pred = grid_search.predict(X_test_U)\n",
    "\n",
    "# Mostrar métricas de evaluación\n",
    "print(\"Informe de clasificación:\")\n",
    "print(classification_report(y_test_binary, y_pred))"
   ]
  },
  {
   "cell_type": "code",
   "execution_count": null,
   "id": "tljol0FvxWrc",
   "metadata": {
    "id": "tljol0FvxWrc"
   },
   "outputs": [],
   "source": [
    "EVALUACION_DATAFRAME=agregar_modelo(EVALUACION_DATAFRAME, grid_search,\"Catboost Sub Muestreo\",y_test_binary, y_pred)"
   ]
  },
  {
   "cell_type": "markdown",
   "id": "gNvnmbmKaozA",
   "metadata": {
    "id": "gNvnmbmKaozA"
   },
   "source": [
    "### 1.7: Redes neuronales"
   ]
  },
  {
   "cell_type": "code",
   "execution_count": null,
   "id": "p0_q7pU-baPL",
   "metadata": {
    "id": "p0_q7pU-baPL"
   },
   "outputs": [],
   "source": [
    "# Clasificador basado en una red neuronal multicapa.\n",
    "from sklearn.neural_network import MLPClassifier"
   ]
  },
  {
   "cell_type": "markdown",
   "id": "Q1bfWguAavpq",
   "metadata": {
    "id": "Q1bfWguAavpq"
   },
   "source": [
    "#### 1.7.1: Redes neuronales con los datos originales"
   ]
  },
  {
   "cell_type": "code",
   "execution_count": null,
   "id": "MpxTGY1KbZJj",
   "metadata": {
    "colab": {
     "base_uri": "https://localhost:8080/"
    },
    "id": "MpxTGY1KbZJj",
    "outputId": "98dc339c-d2bd-4ea4-ab03-9e8e2fe8d9fb"
   },
   "outputs": [
    {
     "name": "stdout",
     "output_type": "stream",
     "text": [
      "Fitting 3 folds for each of 1 candidates, totalling 3 fits\n",
      "Mejores hiperparámetros:\n",
      "{'rn__activation': 'relu', 'rn__hidden_layer_sizes': (20, 20), 'rn__solver': 'sgd'}\n"
     ]
    }
   ],
   "source": [
    "rn_pipeline = Pipeline([\n",
    "    ('rn', MLPClassifier(random_state=42, max_iter=1000))  # Clasificador Regresión Logística\n",
    "])\n",
    "\n",
    "# Definir la grilla de hiperparámetros específicos de Regresión Logística\n",
    "rn_param_grid = {\n",
    "    'rn__solver': ['sgd'],#,'adam'],\n",
    "    'rn__activation': ['relu'],#, 'tanh', 'logistic'],\n",
    "    'rn__hidden_layer_sizes': [(20, 20)]#, (20,), (50,)],\n",
    "}\n",
    "\n",
    "# Crear un objeto GridSearchCV\n",
    "rn_grid_search = GridSearchCV(rn_pipeline, rn_param_grid, cv=3, n_jobs=-1, verbose=1)\n",
    "\n",
    "# Entrenar el modelo utilizando GridSearchCV\n",
    "rn_grid_search.fit(X_train, y_train)\n",
    "\n",
    "# Predecir en el conjunto de prueba\n",
    "y_pred = rn_grid_search.predict(X_test)\n",
    "\n",
    "# Mostrar los mejores hiperparámetros encontrados\n",
    "print(\"Mejores hiperparámetros:\")\n",
    "print(rn_grid_search.best_params_)"
   ]
  },
  {
   "cell_type": "code",
   "execution_count": null,
   "id": "SDpdaWY2vyvE",
   "metadata": {
    "id": "SDpdaWY2vyvE"
   },
   "outputs": [],
   "source": [
    "EVALUACION_DATAFRAME=agregar_modelo(EVALUACION_DATAFRAME, rn_grid_search,\"Redes neuronales - datos originales\",y_test, y_pred)"
   ]
  },
  {
   "cell_type": "markdown",
   "id": "2PKEu3t3a2cK",
   "metadata": {
    "id": "2PKEu3t3a2cK"
   },
   "source": [
    "#### 1.7.3: Redes neuronales con submuestreo (Undersampling)"
   ]
  },
  {
   "cell_type": "code",
   "execution_count": null,
   "id": "4VfZD-Bky3w9",
   "metadata": {
    "colab": {
     "base_uri": "https://localhost:8080/"
    },
    "id": "4VfZD-Bky3w9",
    "outputId": "932fb2a3-53e5-41c4-bda4-328c82c4d494"
   },
   "outputs": [
    {
     "name": "stdout",
     "output_type": "stream",
     "text": [
      "Fitting 3 folds for each of 1 candidates, totalling 3 fits\n",
      "Mejores hiperparámetros:\n",
      "{'rn__activation': 'tanh', 'rn__hidden_layer_sizes': (50,), 'rn__solver': 'sgd'}\n"
     ]
    }
   ],
   "source": [
    "# Definir la grilla de hiperparámetros específicos de Regresión Logística\n",
    "rn_param_grid = {\n",
    "    'rn__solver': ['sgd'],#,'adam'],\n",
    "    'rn__activation': ['tanh'],#, 'relu', 'logistic'],\n",
    "    'rn__hidden_layer_sizes': [(50,)]#, (20,), (20, 20)],\n",
    "}\n",
    "\n",
    "# Crear un objeto GridSearchCV\n",
    "rn_grid_search = GridSearchCV(rn_pipeline, rn_param_grid, cv=3, n_jobs=-1, verbose=1)\n",
    "\n",
    "# Entrenar el modelo utilizando GridSearchCV\n",
    "rn_grid_search.fit(X_train_U, y_train_U)\n",
    "\n",
    "# Predecir en el conjunto de prueba\n",
    "y_pred = rn_grid_search.predict(X_test_U)\n",
    "\n",
    "# Se muestran los mejores hiperparámetros encontrados\n",
    "print(\"Mejores hiperparámetros:\")\n",
    "print(rn_grid_search.best_params_)"
   ]
  },
  {
   "cell_type": "code",
   "execution_count": null,
   "id": "BbH4pXmoy34o",
   "metadata": {
    "id": "BbH4pXmoy34o"
   },
   "outputs": [],
   "source": [
    "EVALUACION_DATAFRAME=agregar_modelo(EVALUACION_DATAFRAME, rn_grid_search,\"Redes neuronales - Sub muestreo\",y_test_U, y_pred)"
   ]
  },
  {
   "cell_type": "code",
   "execution_count": null,
   "id": "aN1fSVMvPRZA",
   "metadata": {
    "id": "aN1fSVMvPRZA"
   },
   "outputs": [],
   "source": [
    "EVALUACION_DATAFRAME.to_excel('EVALUACION_DATAFRAME.xlsx', index=False)"
   ]
  },
  {
   "cell_type": "markdown",
   "id": "cW_yU2Jv6wGw",
   "metadata": {
    "id": "cW_yU2Jv6wGw"
   },
   "source": [
    "### 1.8: Detección de anomalías"
   ]
  },
  {
   "cell_type": "code",
   "execution_count": null,
   "id": "GxEttqonoaSC",
   "metadata": {
    "id": "GxEttqonoaSC"
   },
   "outputs": [],
   "source": [
    "#Importamos librerias necesarias\n",
    "import matplotlib\n",
    "import matplotlib.pyplot as plt\n",
    "import numpy as np\n",
    "\n",
    "from sklearn import svm\n",
    "from sklearn.covariance import EllipticEnvelope\n",
    "from sklearn.datasets import make_blobs, make_moons\n",
    "from sklearn.ensemble import IsolationForest\n",
    "from sklearn.kernel_approximation import Nystroem\n",
    "from sklearn.linear_model import SGDOneClassSVM\n",
    "from sklearn.neighbors import LocalOutlierFactor\n",
    "from sklearn.pipeline import make_pipeline"
   ]
  },
  {
   "cell_type": "markdown",
   "id": "6EtLaPdDSUve",
   "metadata": {
    "id": "6EtLaPdDSUve"
   },
   "source": [
    "#### 1.8.1: Robust covariance"
   ]
  },
  {
   "cell_type": "code",
   "execution_count": null,
   "id": "iONzwA9z692x",
   "metadata": {
    "id": "iONzwA9z692x"
   },
   "outputs": [],
   "source": [
    "robust_covariance = EllipticEnvelope(contamination=0.05, random_state=42)"
   ]
  },
  {
   "cell_type": "code",
   "execution_count": null,
   "id": "oVPCdftK7hJ8",
   "metadata": {
    "colab": {
     "base_uri": "https://localhost:8080/"
    },
    "id": "oVPCdftK7hJ8",
    "outputId": "d97c65a2-2405-42fe-ee5b-a3a858aaeba1"
   },
   "outputs": [
    {
     "name": "stderr",
     "output_type": "stream",
     "text": [
      "/usr/local/lib/python3.10/dist-packages/sklearn/covariance/_robust_covariance.py:745: UserWarning: The covariance matrix associated to your dataset is not full rank\n",
      "  warnings.warn(\n"
     ]
    }
   ],
   "source": [
    "y_pred = robust_covariance.fit(X_train.toarray()).predict(X_train.toarray())"
   ]
  },
  {
   "cell_type": "code",
   "execution_count": null,
   "id": "7eOfqKqP-qhV",
   "metadata": {
    "id": "7eOfqKqP-qhV"
   },
   "outputs": [],
   "source": [
    "mapeo = {-1: \"Yes\", 1: \"No\"}\n",
    "y_pred_mapeado = np.array([mapeo[x] for x in y_pred], dtype=object)"
   ]
  },
  {
   "cell_type": "code",
   "execution_count": null,
   "id": "t8O1mI0bPmKj",
   "metadata": {
    "colab": {
     "base_uri": "https://localhost:8080/"
    },
    "id": "t8O1mI0bPmKj",
    "outputId": "97f675ae-7e48-4e0d-cefd-f47cb55eff6f"
   },
   "outputs": [
    {
     "name": "stdout",
     "output_type": "stream",
     "text": [
      "accuracy: 0.9115320322939583\n",
      "precision: 0.5560941417950688\n",
      "recall: 0.5516334726681897\n",
      "f1_score: 0.5537127817859242\n"
     ]
    }
   ],
   "source": [
    "accuracy = accuracy_score(y_train.values, y_pred_mapeado)\n",
    "precision, recall, f1_score, _ = precision_recall_fscore_support(y_train.values, y_pred_mapeado, average='macro')\n",
    "print(f'accuracy: {accuracy}')\n",
    "print(f'precision: {precision}')\n",
    "print(f'recall: {recall}')\n",
    "print(f'f1_score: {f1_score}')"
   ]
  },
  {
   "cell_type": "code",
   "execution_count": null,
   "id": "ItG5b3qPVsRj",
   "metadata": {
    "colab": {
     "base_uri": "https://localhost:8080/"
    },
    "id": "ItG5b3qPVsRj",
    "outputId": "0e54f1b3-11fb-4d2f-d282-a665226adbb5"
   },
   "outputs": [
    {
     "name": "stdout",
     "output_type": "stream",
     "text": [
      "accuracy: 0.9147850828167869\n",
      "precision: 0.56891702457178\n",
      "recall: 0.5615584343976563\n",
      "f1_score: 0.5649208302046823\n"
     ]
    }
   ],
   "source": [
    "y_pred_test = robust_covariance.predict(X_test.toarray())\n",
    "y_pred_test_mapeado = np.array([mapeo[x] for x in y_pred_test], dtype=object)\n",
    "\n",
    "accuracy = accuracy_score(y_test.values, y_pred_test_mapeado)\n",
    "precision, recall, f1_score, _ = precision_recall_fscore_support(y_test.values, y_pred_test_mapeado, average='macro')\n",
    "print(f'accuracy: {accuracy}')\n",
    "print(f'precision: {precision}')\n",
    "print(f'recall: {recall}')\n",
    "print(f'f1_score: {f1_score}')"
   ]
  },
  {
   "cell_type": "code",
   "execution_count": null,
   "id": "DUwfUpBdwL-l",
   "metadata": {
    "id": "DUwfUpBdwL-l"
   },
   "outputs": [],
   "source": [
    "nuevo_registro = {\n",
    "    'modelo': ['anomalías'],\n",
    "    'descripcion_modelo': ['Robust covariance'],\n",
    "    'hiperparametros': ['contamination=0.05'],\n",
    "    'accuracy': [accuracy],\n",
    "    'precision': [precision],\n",
    "    'recall': [recall],\n",
    "    'f1-score': [f1_score]\n",
    "}\n",
    "\n",
    "# Convertir el diccionario en DataFrame\n",
    "nuevo_df = pd.DataFrame(nuevo_registro)\n",
    "\n",
    "# Concatenar el nuevo DataFrame al DataFrame existente\n",
    "EVALUACION_DATAFRAME = pd.concat([EVALUACION_DATAFRAME, nuevo_df], ignore_index=True)"
   ]
  },
  {
   "cell_type": "markdown",
   "id": "HrOJOVQfSemw",
   "metadata": {
    "id": "HrOJOVQfSemw"
   },
   "source": [
    "#### 1.8.2: Isolation Forest"
   ]
  },
  {
   "cell_type": "code",
   "execution_count": null,
   "id": "WfnQ3sRGStxY",
   "metadata": {
    "id": "WfnQ3sRGStxY"
   },
   "outputs": [],
   "source": [
    " isolation_forest = IsolationForest(contamination=0.05, random_state=42)"
   ]
  },
  {
   "cell_type": "code",
   "execution_count": null,
   "id": "6dtASJKTTC0T",
   "metadata": {
    "id": "6dtASJKTTC0T"
   },
   "outputs": [],
   "source": [
    "y_pred = isolation_forest.fit(X_train.toarray()).predict(X_train.toarray())"
   ]
  },
  {
   "cell_type": "code",
   "execution_count": null,
   "id": "tZhXXHCjTFIW",
   "metadata": {
    "id": "tZhXXHCjTFIW"
   },
   "outputs": [],
   "source": [
    "mapeo = {-1: \"Yes\", 1: \"No\"}\n",
    "y_pred_mapeado = np.array([mapeo[x] for x in y_pred], dtype=object)"
   ]
  },
  {
   "cell_type": "code",
   "execution_count": null,
   "id": "O0ttDm9CUDj7",
   "metadata": {
    "colab": {
     "base_uri": "https://localhost:8080/"
    },
    "id": "O0ttDm9CUDj7",
    "outputId": "eeec53e9-d34f-4446-de6e-1281e9f16387"
   },
   "outputs": [
    {
     "name": "stdout",
     "output_type": "stream",
     "text": [
      "accuracy: 0.9172937297083077\n",
      "precision: 0.9139239888561842\n",
      "recall: 0.9172937297083077\n",
      "f1_score: 0.9155816050162573\n"
     ]
    }
   ],
   "source": [
    "accuracy = accuracy_score(y_train.values, y_pred_mapeado)\n",
    "precision, recall, f1_score, _ = precision_recall_fscore_support(y_train.values, y_pred_mapeado, average='macro')\n",
    "print(f'accuracy: {accuracy}')\n",
    "print(f'precision: {precision}')\n",
    "print(f'recall: {recall}')\n",
    "print(f'f1_score: {f1_score}')"
   ]
  },
  {
   "cell_type": "code",
   "execution_count": null,
   "id": "jkHWrMQUXHNP",
   "metadata": {
    "colab": {
     "base_uri": "https://localhost:8080/"
    },
    "id": "jkHWrMQUXHNP",
    "outputId": "175cd003-126e-4c60-9fd4-cfa2fe4881a0"
   },
   "outputs": [
    {
     "name": "stdout",
     "output_type": "stream",
     "text": [
      "accuracy: 0.9181587237069404\n",
      "precision: 0.9152668016905006\n",
      "recall: 0.9181587237069404\n",
      "f1_score: 0.9166910496995853\n"
     ]
    }
   ],
   "source": [
    "y_pred_test = isolation_forest.predict(X_test.toarray())\n",
    "y_pred_test_mapeado = np.array([mapeo[x] for x in y_pred_test], dtype=object)\n",
    "\n",
    "accuracy = accuracy_score(y_test.values, y_pred_test_mapeado)\n",
    "precision, recall, f1_score, _ = precision_recall_fscore_support(y_test.values, y_pred_test_mapeado, average='macro')\n",
    "print(f'accuracy: {accuracy}')\n",
    "print(f'precision: {precision}')\n",
    "print(f'recall: {recall}')\n",
    "print(f'f1_score: {f1_score}')"
   ]
  },
  {
   "cell_type": "code",
   "execution_count": null,
   "id": "NUa7GqpMvGQh",
   "metadata": {
    "id": "NUa7GqpMvGQh"
   },
   "outputs": [],
   "source": [
    "nuevo_registro = {\n",
    "    'modelo': ['anomalías'],\n",
    "    'descripcion_modelo': ['Isolation Forest'],\n",
    "    'hiperparametros': ['contamination=0.05'],\n",
    "    'accuracy': [accuracy],\n",
    "    'precision': [precision],\n",
    "    'recall': [recall],\n",
    "    'f1-score': [f1_score]\n",
    "}\n",
    "\n",
    "# Convertir el diccionario en DataFrame\n",
    "nuevo_df = pd.DataFrame(nuevo_registro)\n",
    "\n",
    "# Concatenar el nuevo DataFrame al DataFrame existente\n",
    "EVALUACION_DATAFRAME = pd.concat([EVALUACION_DATAFRAME, nuevo_df], ignore_index=True)"
   ]
  },
  {
   "cell_type": "markdown",
   "id": "894VWAN-UEAc",
   "metadata": {
    "id": "894VWAN-UEAc"
   },
   "source": [
    "#### 1.8.3: Local Outlier Factor"
   ]
  },
  {
   "cell_type": "code",
   "execution_count": null,
   "id": "YTSXhnQKUL5w",
   "metadata": {
    "id": "YTSXhnQKUL5w"
   },
   "outputs": [],
   "source": [
    " local_outlier_factor = LocalOutlierFactor(n_neighbors=35, contamination=0.05, novelty=True)"
   ]
  },
  {
   "cell_type": "code",
   "execution_count": null,
   "id": "KSgP6tlsXTvp",
   "metadata": {
    "id": "KSgP6tlsXTvp"
   },
   "outputs": [],
   "source": [
    "local_outlier_factor.fit(X_train.toarray())\n",
    "y_pred = local_outlier_factor.predict(X_train.toarray())"
   ]
  },
  {
   "cell_type": "code",
   "execution_count": null,
   "id": "JPZQhLqSXeJE",
   "metadata": {
    "id": "JPZQhLqSXeJE"
   },
   "outputs": [],
   "source": [
    "mapeo = {-1: \"Yes\", 1: \"No\"}\n",
    "y_pred_mapeado = np.array([mapeo[x] for x in y_pred], dtype=object)"
   ]
  },
  {
   "cell_type": "code",
   "execution_count": null,
   "id": "JI7U4GQnXgHb",
   "metadata": {
    "colab": {
     "base_uri": "https://localhost:8080/"
    },
    "id": "JI7U4GQnXgHb",
    "outputId": "9d8ffb1f-2542-4146-c288-bf41f0b7641b"
   },
   "outputs": [
    {
     "name": "stdout",
     "output_type": "stream",
     "text": [
      "accuracy: 0.9097638923466977\n",
      "precision: 0.8999130733982399\n",
      "recall: 0.9097638923466977\n",
      "f1_score: 0.9047476566466373\n"
     ]
    }
   ],
   "source": [
    "accuracy = accuracy_score(y_train.values, y_pred_mapeado)\n",
    "precision, recall, f1_score, _ = precision_recall_fscore_support(y_train.values, y_pred_mapeado, average='macro')\n",
    "print(f'accuracy: {accuracy}')\n",
    "print(f'precision: {precision}')\n",
    "print(f'recall: {recall}')\n",
    "print(f'f1_score: {f1_score}')"
   ]
  },
  {
   "cell_type": "code",
   "execution_count": null,
   "id": "AC9z8-TLYHkU",
   "metadata": {
    "colab": {
     "base_uri": "https://localhost:8080/"
    },
    "id": "AC9z8-TLYHkU",
    "outputId": "6d43c011-3ea9-473f-e0db-02eaf0723973"
   },
   "outputs": [
    {
     "name": "stdout",
     "output_type": "stream",
     "text": [
      "accuracy: 0.9040138197337669\n",
      "precision: 0.9006651570695035\n",
      "recall: 0.9040138197337669\n",
      "f1_score: 0.9023288139771728\n"
     ]
    }
   ],
   "source": [
    "y_pred_test = local_outlier_factor.predict(X_test.toarray())\n",
    "y_pred_test_mapeado = np.array([mapeo[x] for x in y_pred_test], dtype=object)\n",
    "\n",
    "accuracy = accuracy_score(y_test.values, y_pred_test_mapeado)\n",
    "precision, recall, f1_score, _ = precision_recall_fscore_support(y_test.values, y_pred_test_mapeado, average='macro')\n",
    "print(f'accuracy: {accuracy}')\n",
    "print(f'precision: {precision}')\n",
    "print(f'recall: {recall}')\n",
    "print(f'f1_score: {f1_score}')"
   ]
  },
  {
   "cell_type": "code",
   "execution_count": null,
   "id": "PSheaN3QwDGK",
   "metadata": {
    "id": "PSheaN3QwDGK"
   },
   "outputs": [],
   "source": [
    "nuevo_registro = {\n",
    "    'modelo': ['anomalías'],\n",
    "    'descripcion_modelo': ['Local Outlier Factor'],\n",
    "    'hiperparametros': ['n_neighbors=35, contamination=0.05, novelty=True'],\n",
    "    'accuracy': [accuracy],\n",
    "    'precision': [precision],\n",
    "    'recall': [recall],\n",
    "    'f1-score': [f1_score]\n",
    "}\n",
    "\n",
    "# Convertir el diccionario en DataFrame\n",
    "nuevo_df = pd.DataFrame(nuevo_registro)\n",
    "\n",
    "# Concatenar el nuevo DataFrame al DataFrame existente\n",
    "EVALUACION_DATAFRAME = pd.concat([EVALUACION_DATAFRAME, nuevo_df], ignore_index=True)"
   ]
  },
  {
   "cell_type": "code",
   "execution_count": null,
   "id": "SR8wWD4XcCTr",
   "metadata": {
    "id": "SR8wWD4XcCTr"
   },
   "outputs": [],
   "source": [
    "EVALUACION_DATAFRAME.to_excel('EVALUACION_DATAFRAME.xlsx', index=False)"
   ]
  },
  {
   "cell_type": "markdown",
   "id": "8a04b1d3",
   "metadata": {
    "id": "8a04b1d3"
   },
   "source": [
    "## **2. Entrenamiento del Modelo y Selección de Hiperparámetros y Evaluación del modelo**\n",
    "---\n",
    "\n",
    "Entrene el modelo y consiga la combinación eficiente de hiperparámetros para obtener un rendimiento óptimo.\n",
    "\n",
    "Es importante visualizar los resultados de manera clara y comprensible. Para esto, **se deben utilizar tablas y gráficos** que muestren cómo cambian las métricas de desempeño del proceso de entrenamiento en función de los hiperparámetros probados. Algunas herramientas visuales útiles incluyen las *curvas de aprendizaje* y las *curvas de validación,* que nos permiten comparar el rendimiento del modelo con diferentes ajustes de hiperparámetros."
   ]
  },
  {
   "cell_type": "markdown",
   "id": "TbuRKXgW4o9l",
   "metadata": {
    "id": "TbuRKXgW4o9l"
   },
   "source": [
    "![image.png](data:image/png;base64,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)"
   ]
  },
  {
   "cell_type": "markdown",
   "id": "7mEK_Kf45E0o",
   "metadata": {
    "id": "7mEK_Kf45E0o"
   },
   "source": [
    "Establecimos una métrica que consiste en el promedio del accuracy, precision, recall y f1-score, y en base a ella armamos un ranking de los mejores modelos con los mejores hiperparámetros. De esta manera evidenciamos que el mejor modelo es el SVM entrenado con datos sub-muestreados.\n",
    "\n",
    "Ahora bien, para este mejor modelo las métricas accuracy, precision, recall y f1-score fueron calculadas con los datos test también submuestreados (y_test_U), por lo que no se identifica igualdad de condiciones para comparar vs el resto de los modelos, por lo que hicimos la predicción con los datos test originales, teniendo otros resultados para los mismos modelos (los que tienen sub-fijo \"submuestreo - y_test_originales\").\n",
    "\n",
    "Asumiendo de que no están en igualdad de condiciones, y revisando con los datos originales, el mejor modelo es la regresión logística."
   ]
  },
  {
   "cell_type": "markdown",
   "id": "i_NYlM0dP_CI",
   "metadata": {
    "id": "i_NYlM0dP_CI"
   },
   "source": [
    "## **4. Aplicación del modelo**\n",
    "---\n",
    "\n",
    "Una vez que haya entrenado y evaluado su modelo, es importante considerar cómo puede ser utilizado en un entorno práctico.\n",
    "\n",
    "Intente analizar la capacidad del modelo para generalizar nuevos datos que no formaron parte del conjunto de entrenamiento o evaluación."
   ]
  },
  {
   "cell_type": "markdown",
   "id": "fHbZrRYp8PuU",
   "metadata": {
    "id": "fHbZrRYp8PuU"
   },
   "source": [
    "Como el mejor modelo es la regresión logística, usamos \"grid_search_LogisticRegression\" para evaluación con los datos test"
   ]
  },
  {
   "cell_type": "code",
   "execution_count": null,
   "id": "Q5xfRI5LP-0o",
   "metadata": {
    "colab": {
     "base_uri": "https://localhost:8080/"
    },
    "id": "Q5xfRI5LP-0o",
    "outputId": "e2d9ce74-90d5-485a-a879-8fafe3f2196f"
   },
   "outputs": [
    {
     "name": "stdout",
     "output_type": "stream",
     "text": [
      "Informe de clasificación:\n",
      "              precision    recall  f1-score   support\n",
      "\n",
      "          No       0.96      0.99      0.97     46513\n",
      "         Yes       0.58      0.25      0.35      2692\n",
      "\n",
      "    accuracy                           0.95     49205\n",
      "   macro avg       0.77      0.62      0.66     49205\n",
      "weighted avg       0.94      0.95      0.94     49205\n",
      "\n"
     ]
    }
   ],
   "source": [
    "# Predecir en el conjunto de prueba\n",
    "y_pred = grid_search_LogisticRegression.predict(X_test)\n",
    "\n",
    "# Mostrar métricas de evaluación\n",
    "print(\"Informe de clasificación:\")\n",
    "Ligistic_regression_report=classification_report(y_test, y_pred)\n",
    "print(Ligistic_regression_report)"
   ]
  },
  {
   "cell_type": "code",
   "execution_count": null,
   "id": "lAfDspKxLuzr",
   "metadata": {
    "id": "lAfDspKxLuzr"
   },
   "outputs": [],
   "source": [
    "def list_confusion_matrix(cm,classes):\n",
    "  df = pd.DataFrame(data = cm,\n",
    "                    index = pd.MultiIndex.from_product([['Valor real'], classes]),\n",
    "                    columns = pd.MultiIndex.from_product([['Valor predicho'], classes]))\n",
    "\n",
    "  return df"
   ]
  },
  {
   "cell_type": "code",
   "execution_count": null,
   "id": "xNXmZPMTMT4j",
   "metadata": {
    "id": "xNXmZPMTMT4j"
   },
   "outputs": [],
   "source": [
    "from sklearn.metrics import confusion_matrix\n",
    "\n",
    "cnf_matrix = confusion_matrix(y_test, y_pred)"
   ]
  },
  {
   "cell_type": "code",
   "execution_count": null,
   "id": "PkkwHwy7MXbt",
   "metadata": {
    "colab": {
     "base_uri": "https://localhost:8080/",
     "height": 143
    },
    "id": "PkkwHwy7MXbt",
    "outputId": "16bf4c36-7e0d-4f4a-9581-9735a0215f6c"
   },
   "outputs": [
    {
     "data": {
      "application/vnd.google.colaboratory.intrinsic+json": {
       "summary": "{\n  \"name\": \"list_confusion_matrix(cnf_matrix,class_names)\",\n  \"rows\": 2,\n  \"fields\": [\n    {\n      \"column\": [\n        \"Valor predicho\",\n        \"No\"\n      ],\n      \"properties\": {\n        \"dtype\": \"number\",\n        \"std\": 31114,\n        \"min\": 2012,\n        \"max\": 46014,\n        \"num_unique_values\": 2,\n        \"samples\": [\n          2012,\n          46014\n        ],\n        \"semantic_type\": \"\",\n        \"description\": \"\"\n      }\n    },\n    {\n      \"column\": [\n        \"Valor predicho\",\n        \"Yes\"\n      ],\n      \"properties\": {\n        \"dtype\": \"number\",\n        \"std\": 127,\n        \"min\": 499,\n        \"max\": 680,\n        \"num_unique_values\": 2,\n        \"samples\": [\n          680,\n          499\n        ],\n        \"semantic_type\": \"\",\n        \"description\": \"\"\n      }\n    }\n  ]\n}",
       "type": "dataframe"
      },
      "text/html": [
       "\n",
       "  <div id=\"df-43ff8fbd-27a6-4bb3-88bf-646e6e0a0a00\" class=\"colab-df-container\">\n",
       "    <div>\n",
       "<style scoped>\n",
       "    .dataframe tbody tr th:only-of-type {\n",
       "        vertical-align: middle;\n",
       "    }\n",
       "\n",
       "    .dataframe tbody tr th {\n",
       "        vertical-align: top;\n",
       "    }\n",
       "\n",
       "    .dataframe thead tr th {\n",
       "        text-align: left;\n",
       "    }\n",
       "</style>\n",
       "<table border=\"1\" class=\"dataframe\">\n",
       "  <thead>\n",
       "    <tr>\n",
       "      <th></th>\n",
       "      <th></th>\n",
       "      <th colspan=\"2\" halign=\"left\">Valor predicho</th>\n",
       "    </tr>\n",
       "    <tr>\n",
       "      <th></th>\n",
       "      <th></th>\n",
       "      <th>No</th>\n",
       "      <th>Yes</th>\n",
       "    </tr>\n",
       "  </thead>\n",
       "  <tbody>\n",
       "    <tr>\n",
       "      <th rowspan=\"2\" valign=\"top\">Valor real</th>\n",
       "      <th>No</th>\n",
       "      <td>46014</td>\n",
       "      <td>499</td>\n",
       "    </tr>\n",
       "    <tr>\n",
       "      <th>Yes</th>\n",
       "      <td>2012</td>\n",
       "      <td>680</td>\n",
       "    </tr>\n",
       "  </tbody>\n",
       "</table>\n",
       "</div>\n",
       "    <div class=\"colab-df-buttons\">\n",
       "\n",
       "  <div class=\"colab-df-container\">\n",
       "    <button class=\"colab-df-convert\" onclick=\"convertToInteractive('df-43ff8fbd-27a6-4bb3-88bf-646e6e0a0a00')\"\n",
       "            title=\"Convert this dataframe to an interactive table.\"\n",
       "            style=\"display:none;\">\n",
       "\n",
       "  <svg xmlns=\"http://www.w3.org/2000/svg\" height=\"24px\" viewBox=\"0 -960 960 960\">\n",
       "    <path d=\"M120-120v-720h720v720H120Zm60-500h600v-160H180v160Zm220 220h160v-160H400v160Zm0 220h160v-160H400v160ZM180-400h160v-160H180v160Zm440 0h160v-160H620v160ZM180-180h160v-160H180v160Zm440 0h160v-160H620v160Z\"/>\n",
       "  </svg>\n",
       "    </button>\n",
       "\n",
       "  <style>\n",
       "    .colab-df-container {\n",
       "      display:flex;\n",
       "      gap: 12px;\n",
       "    }\n",
       "\n",
       "    .colab-df-convert {\n",
       "      background-color: #E8F0FE;\n",
       "      border: none;\n",
       "      border-radius: 50%;\n",
       "      cursor: pointer;\n",
       "      display: none;\n",
       "      fill: #1967D2;\n",
       "      height: 32px;\n",
       "      padding: 0 0 0 0;\n",
       "      width: 32px;\n",
       "    }\n",
       "\n",
       "    .colab-df-convert:hover {\n",
       "      background-color: #E2EBFA;\n",
       "      box-shadow: 0px 1px 2px rgba(60, 64, 67, 0.3), 0px 1px 3px 1px rgba(60, 64, 67, 0.15);\n",
       "      fill: #174EA6;\n",
       "    }\n",
       "\n",
       "    .colab-df-buttons div {\n",
       "      margin-bottom: 4px;\n",
       "    }\n",
       "\n",
       "    [theme=dark] .colab-df-convert {\n",
       "      background-color: #3B4455;\n",
       "      fill: #D2E3FC;\n",
       "    }\n",
       "\n",
       "    [theme=dark] .colab-df-convert:hover {\n",
       "      background-color: #434B5C;\n",
       "      box-shadow: 0px 1px 3px 1px rgba(0, 0, 0, 0.15);\n",
       "      filter: drop-shadow(0px 1px 2px rgba(0, 0, 0, 0.3));\n",
       "      fill: #FFFFFF;\n",
       "    }\n",
       "  </style>\n",
       "\n",
       "    <script>\n",
       "      const buttonEl =\n",
       "        document.querySelector('#df-43ff8fbd-27a6-4bb3-88bf-646e6e0a0a00 button.colab-df-convert');\n",
       "      buttonEl.style.display =\n",
       "        google.colab.kernel.accessAllowed ? 'block' : 'none';\n",
       "\n",
       "      async function convertToInteractive(key) {\n",
       "        const element = document.querySelector('#df-43ff8fbd-27a6-4bb3-88bf-646e6e0a0a00');\n",
       "        const dataTable =\n",
       "          await google.colab.kernel.invokeFunction('convertToInteractive',\n",
       "                                                    [key], {});\n",
       "        if (!dataTable) return;\n",
       "\n",
       "        const docLinkHtml = 'Like what you see? Visit the ' +\n",
       "          '<a target=\"_blank\" href=https://colab.research.google.com/notebooks/data_table.ipynb>data table notebook</a>'\n",
       "          + ' to learn more about interactive tables.';\n",
       "        element.innerHTML = '';\n",
       "        dataTable['output_type'] = 'display_data';\n",
       "        await google.colab.output.renderOutput(dataTable, element);\n",
       "        const docLink = document.createElement('div');\n",
       "        docLink.innerHTML = docLinkHtml;\n",
       "        element.appendChild(docLink);\n",
       "      }\n",
       "    </script>\n",
       "  </div>\n",
       "\n",
       "\n",
       "<div id=\"df-8260becc-d583-4404-97f5-53aa725d4aa6\">\n",
       "  <button class=\"colab-df-quickchart\" onclick=\"quickchart('df-8260becc-d583-4404-97f5-53aa725d4aa6')\"\n",
       "            title=\"Suggest charts\"\n",
       "            style=\"display:none;\">\n",
       "\n",
       "<svg xmlns=\"http://www.w3.org/2000/svg\" height=\"24px\"viewBox=\"0 0 24 24\"\n",
       "     width=\"24px\">\n",
       "    <g>\n",
       "        <path d=\"M19 3H5c-1.1 0-2 .9-2 2v14c0 1.1.9 2 2 2h14c1.1 0 2-.9 2-2V5c0-1.1-.9-2-2-2zM9 17H7v-7h2v7zm4 0h-2V7h2v10zm4 0h-2v-4h2v4z\"/>\n",
       "    </g>\n",
       "</svg>\n",
       "  </button>\n",
       "\n",
       "<style>\n",
       "  .colab-df-quickchart {\n",
       "      --bg-color: #E8F0FE;\n",
       "      --fill-color: #1967D2;\n",
       "      --hover-bg-color: #E2EBFA;\n",
       "      --hover-fill-color: #174EA6;\n",
       "      --disabled-fill-color: #AAA;\n",
       "      --disabled-bg-color: #DDD;\n",
       "  }\n",
       "\n",
       "  [theme=dark] .colab-df-quickchart {\n",
       "      --bg-color: #3B4455;\n",
       "      --fill-color: #D2E3FC;\n",
       "      --hover-bg-color: #434B5C;\n",
       "      --hover-fill-color: #FFFFFF;\n",
       "      --disabled-bg-color: #3B4455;\n",
       "      --disabled-fill-color: #666;\n",
       "  }\n",
       "\n",
       "  .colab-df-quickchart {\n",
       "    background-color: var(--bg-color);\n",
       "    border: none;\n",
       "    border-radius: 50%;\n",
       "    cursor: pointer;\n",
       "    display: none;\n",
       "    fill: var(--fill-color);\n",
       "    height: 32px;\n",
       "    padding: 0;\n",
       "    width: 32px;\n",
       "  }\n",
       "\n",
       "  .colab-df-quickchart:hover {\n",
       "    background-color: var(--hover-bg-color);\n",
       "    box-shadow: 0 1px 2px rgba(60, 64, 67, 0.3), 0 1px 3px 1px rgba(60, 64, 67, 0.15);\n",
       "    fill: var(--button-hover-fill-color);\n",
       "  }\n",
       "\n",
       "  .colab-df-quickchart-complete:disabled,\n",
       "  .colab-df-quickchart-complete:disabled:hover {\n",
       "    background-color: var(--disabled-bg-color);\n",
       "    fill: var(--disabled-fill-color);\n",
       "    box-shadow: none;\n",
       "  }\n",
       "\n",
       "  .colab-df-spinner {\n",
       "    border: 2px solid var(--fill-color);\n",
       "    border-color: transparent;\n",
       "    border-bottom-color: var(--fill-color);\n",
       "    animation:\n",
       "      spin 1s steps(1) infinite;\n",
       "  }\n",
       "\n",
       "  @keyframes spin {\n",
       "    0% {\n",
       "      border-color: transparent;\n",
       "      border-bottom-color: var(--fill-color);\n",
       "      border-left-color: var(--fill-color);\n",
       "    }\n",
       "    20% {\n",
       "      border-color: transparent;\n",
       "      border-left-color: var(--fill-color);\n",
       "      border-top-color: var(--fill-color);\n",
       "    }\n",
       "    30% {\n",
       "      border-color: transparent;\n",
       "      border-left-color: var(--fill-color);\n",
       "      border-top-color: var(--fill-color);\n",
       "      border-right-color: var(--fill-color);\n",
       "    }\n",
       "    40% {\n",
       "      border-color: transparent;\n",
       "      border-right-color: var(--fill-color);\n",
       "      border-top-color: var(--fill-color);\n",
       "    }\n",
       "    60% {\n",
       "      border-color: transparent;\n",
       "      border-right-color: var(--fill-color);\n",
       "    }\n",
       "    80% {\n",
       "      border-color: transparent;\n",
       "      border-right-color: var(--fill-color);\n",
       "      border-bottom-color: var(--fill-color);\n",
       "    }\n",
       "    90% {\n",
       "      border-color: transparent;\n",
       "      border-bottom-color: var(--fill-color);\n",
       "    }\n",
       "  }\n",
       "</style>\n",
       "\n",
       "  <script>\n",
       "    async function quickchart(key) {\n",
       "      const quickchartButtonEl =\n",
       "        document.querySelector('#' + key + ' button');\n",
       "      quickchartButtonEl.disabled = true;  // To prevent multiple clicks.\n",
       "      quickchartButtonEl.classList.add('colab-df-spinner');\n",
       "      try {\n",
       "        const charts = await google.colab.kernel.invokeFunction(\n",
       "            'suggestCharts', [key], {});\n",
       "      } catch (error) {\n",
       "        console.error('Error during call to suggestCharts:', error);\n",
       "      }\n",
       "      quickchartButtonEl.classList.remove('colab-df-spinner');\n",
       "      quickchartButtonEl.classList.add('colab-df-quickchart-complete');\n",
       "    }\n",
       "    (() => {\n",
       "      let quickchartButtonEl =\n",
       "        document.querySelector('#df-8260becc-d583-4404-97f5-53aa725d4aa6 button');\n",
       "      quickchartButtonEl.style.display =\n",
       "        google.colab.kernel.accessAllowed ? 'block' : 'none';\n",
       "    })();\n",
       "  </script>\n",
       "</div>\n",
       "    </div>\n",
       "  </div>\n"
      ],
      "text/plain": [
       "               Valor predicho     \n",
       "                           No  Yes\n",
       "Valor real No           46014  499\n",
       "           Yes           2012  680"
      ]
     },
     "execution_count": 18,
     "metadata": {},
     "output_type": "execute_result"
    }
   ],
   "source": [
    "class_names = ['No', 'Yes']\n",
    "list_confusion_matrix(cnf_matrix,class_names)"
   ]
  },
  {
   "cell_type": "markdown",
   "id": "bYlojdEJP2b0",
   "metadata": {
    "id": "bYlojdEJP2b0"
   },
   "source": [
    "A pesar de que es el mejor modelo de los que probamos, en la práctica no es un buen modelo para predecir los verdaderos positivos ya que con la ayuda de la matriz de confusión evidenciamos que tenemos varios \"Falsos-Negativos\", por lo que para un trabajo posterior se proyecta explorar nuevas técnicas que permitan mejorar los modelos como: PCA, expandir el rango de hiperparámetros, probar con modelos alternativos, etc."
   ]
  },
  {
   "cell_type": "markdown",
   "id": "698f42d4",
   "metadata": {
    "id": "698f42d4"
   },
   "source": [
    "## **Créditos**\n",
    "---\n",
    "\n",
    "* **Profesor:** [Fabio Augusto Gonzalez](https://dis.unal.edu.co/~fgonza/)\n",
    "* **Asistente docente :**\n",
    "  * [Rosa Alejandra Superlano Esquibel](https://www.linkedin.com/in/alejandrasuperlano/).\n",
    "* **Diseño de imágenes:**\n",
    "    - [Rosa Alejandra Superlano Esquibel](https://www.linkedin.com/in/alejandrasuperlano/).\n",
    "* **Coordinador de virtualización:**\n",
    "    - [Edder Hernández Forero](https://www.linkedin.com/in/edder-hernandez-forero-28aa8b207/).\n",
    "\n",
    "**Universidad Nacional de Colombia** - *Facultad de Ingeniería*"
   ]
  }
 ],
 "metadata": {
  "colab": {
   "provenance": []
  },
  "jupytext": {
   "cell_metadata_filter": "-all"
  },
  "kernelspec": {
   "display_name": "Python 3 (ipykernel)",
   "language": "python",
   "name": "python3"
  }
 },
 "nbformat": 4,
 "nbformat_minor": 5
}
