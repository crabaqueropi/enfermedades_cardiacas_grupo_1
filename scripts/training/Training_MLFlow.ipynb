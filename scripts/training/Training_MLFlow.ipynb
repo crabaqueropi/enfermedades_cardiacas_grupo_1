{
  "nbformat": 4,
  "nbformat_minor": 0,
  "metadata": {
    "colab": {
      "provenance": []
    },
    "kernelspec": {
      "name": "python3",
      "display_name": "Python 3"
    },
    "language_info": {
      "name": "python"
    }
  },
  "cells": [
    {
      "cell_type": "code",
      "execution_count": 1,
      "metadata": {
        "colab": {
          "base_uri": "https://localhost:8080/",
          "height": 1000
        },
        "id": "KyEhoOv9D8jf",
        "outputId": "7dccbf3f-cdb3-4779-c7d3-9e139084863a"
      },
      "outputs": [
        {
          "output_type": "stream",
          "name": "stdout",
          "text": [
            "Collecting dvc-gdrive\n",
            "  Downloading dvc_gdrive-3.0.1-py3-none-any.whl.metadata (2.1 kB)\n",
            "Collecting dvc (from dvc-gdrive)\n",
            "  Downloading dvc-3.58.0-py3-none-any.whl.metadata (18 kB)\n",
            "Requirement already satisfied: pydrive2>=1.19.0 in /usr/local/lib/python3.10/dist-packages (from pydrive2[fsspec]>=1.19.0->dvc-gdrive) (1.21.3)\n",
            "Requirement already satisfied: google-api-python-client>=1.12.5 in /usr/local/lib/python3.10/dist-packages (from pydrive2>=1.19.0->pydrive2[fsspec]>=1.19.0->dvc-gdrive) (2.151.0)\n",
            "Requirement already satisfied: oauth2client>=4.0.0 in /usr/local/lib/python3.10/dist-packages (from pydrive2>=1.19.0->pydrive2[fsspec]>=1.19.0->dvc-gdrive) (4.1.3)\n",
            "Requirement already satisfied: PyYAML>=3.0 in /usr/local/lib/python3.10/dist-packages (from pydrive2>=1.19.0->pydrive2[fsspec]>=1.19.0->dvc-gdrive) (6.0.2)\n",
            "Requirement already satisfied: cryptography<44 in /usr/local/lib/python3.10/dist-packages (from pydrive2>=1.19.0->pydrive2[fsspec]>=1.19.0->dvc-gdrive) (43.0.3)\n",
            "Requirement already satisfied: pyOpenSSL<=24.2.1,>=19.1.0 in /usr/local/lib/python3.10/dist-packages (from pydrive2>=1.19.0->pydrive2[fsspec]>=1.19.0->dvc-gdrive) (24.2.1)\n",
            "Requirement already satisfied: fsspec>=2021.07.0 in /usr/local/lib/python3.10/dist-packages (from pydrive2[fsspec]>=1.19.0->dvc-gdrive) (2024.10.0)\n",
            "Requirement already satisfied: tqdm>=4.0.0 in /usr/local/lib/python3.10/dist-packages (from pydrive2[fsspec]>=1.19.0->dvc-gdrive) (4.66.6)\n",
            "Collecting funcy>=1.14 (from pydrive2[fsspec]>=1.19.0->dvc-gdrive)\n",
            "  Downloading funcy-2.0-py2.py3-none-any.whl.metadata (5.9 kB)\n",
            "Collecting appdirs>=1.4.3 (from pydrive2[fsspec]>=1.19.0->dvc-gdrive)\n",
            "  Downloading appdirs-1.4.4-py2.py3-none-any.whl.metadata (9.0 kB)\n",
            "Requirement already satisfied: attrs>=22.2.0 in /usr/local/lib/python3.10/dist-packages (from dvc->dvc-gdrive) (24.2.0)\n",
            "Collecting celery (from dvc->dvc-gdrive)\n",
            "  Downloading celery-5.4.0-py3-none-any.whl.metadata (21 kB)\n",
            "Collecting colorama>=0.3.9 (from dvc->dvc-gdrive)\n",
            "  Downloading colorama-0.4.6-py2.py3-none-any.whl.metadata (17 kB)\n",
            "Collecting configobj>=5.0.9 (from dvc->dvc-gdrive)\n",
            "  Downloading configobj-5.0.9-py2.py3-none-any.whl.metadata (3.2 kB)\n",
            "Requirement already satisfied: distro>=1.3 in /usr/local/lib/python3.10/dist-packages (from dvc->dvc-gdrive) (1.9.0)\n",
            "Collecting dpath<3,>=2.1.0 (from dvc->dvc-gdrive)\n",
            "  Downloading dpath-2.2.0-py3-none-any.whl.metadata (15 kB)\n",
            "Collecting dulwich (from dvc->dvc-gdrive)\n",
            "  Downloading dulwich-0.22.6-cp310-cp310-manylinux_2_17_x86_64.manylinux2014_x86_64.whl.metadata (4.3 kB)\n",
            "Collecting dvc-data<3.17,>=3.16.2 (from dvc->dvc-gdrive)\n",
            "  Downloading dvc_data-3.16.7-py3-none-any.whl.metadata (5.1 kB)\n",
            "Collecting dvc-http>=2.29.0 (from dvc->dvc-gdrive)\n",
            "  Downloading dvc_http-2.32.0-py3-none-any.whl.metadata (1.3 kB)\n",
            "Collecting dvc-objects (from dvc->dvc-gdrive)\n",
            "  Downloading dvc_objects-5.1.0-py3-none-any.whl.metadata (3.7 kB)\n",
            "Collecting dvc-render<2,>=1.0.1 (from dvc->dvc-gdrive)\n",
            "  Downloading dvc_render-1.0.2-py3-none-any.whl.metadata (5.4 kB)\n",
            "Collecting dvc-studio-client<1,>=0.21 (from dvc->dvc-gdrive)\n",
            "  Downloading dvc_studio_client-0.21.0-py3-none-any.whl.metadata (4.3 kB)\n",
            "Collecting dvc-task<1,>=0.3.0 (from dvc->dvc-gdrive)\n",
            "  Downloading dvc_task-0.40.2-py3-none-any.whl.metadata (10.0 kB)\n",
            "Collecting flatten_dict<1,>=0.4.1 (from dvc->dvc-gdrive)\n",
            "  Downloading flatten_dict-0.4.2-py2.py3-none-any.whl.metadata (9.2 kB)\n",
            "Collecting flufl.lock<9,>=8.1.0 (from dvc->dvc-gdrive)\n",
            "  Downloading flufl_lock-8.1.0-py3-none-any.whl.metadata (3.3 kB)\n",
            "Collecting grandalf<1,>=0.7 (from dvc->dvc-gdrive)\n",
            "  Downloading grandalf-0.8-py3-none-any.whl.metadata (1.7 kB)\n",
            "Collecting gto<2,>=1.6.0 (from dvc->dvc-gdrive)\n",
            "  Downloading gto-1.7.2-py3-none-any.whl.metadata (4.7 kB)\n",
            "Collecting hydra-core>=1.1 (from dvc->dvc-gdrive)\n",
            "  Downloading hydra_core-1.3.2-py3-none-any.whl.metadata (5.5 kB)\n",
            "Collecting iterative-telemetry>=0.0.7 (from dvc->dvc-gdrive)\n",
            "  Downloading iterative_telemetry-0.0.9-py3-none-any.whl.metadata (4.1 kB)\n",
            "Collecting kombu (from dvc->dvc-gdrive)\n",
            "  Downloading kombu-5.4.2-py3-none-any.whl.metadata (3.2 kB)\n",
            "Requirement already satisfied: networkx>=2.5 in /usr/local/lib/python3.10/dist-packages (from dvc->dvc-gdrive) (3.4.2)\n",
            "Collecting omegaconf (from dvc->dvc-gdrive)\n",
            "  Downloading omegaconf-2.3.0-py3-none-any.whl.metadata (3.9 kB)\n",
            "Requirement already satisfied: packaging>=19 in /usr/local/lib/python3.10/dist-packages (from dvc->dvc-gdrive) (24.2)\n",
            "Collecting pathspec>=0.10.3 (from dvc->dvc-gdrive)\n",
            "  Downloading pathspec-0.12.1-py3-none-any.whl.metadata (21 kB)\n",
            "Requirement already satisfied: platformdirs<5,>=3.1.1 in /usr/local/lib/python3.10/dist-packages (from dvc->dvc-gdrive) (4.3.6)\n",
            "Requirement already satisfied: psutil>=5.8 in /usr/local/lib/python3.10/dist-packages (from dvc->dvc-gdrive) (5.9.5)\n",
            "Requirement already satisfied: pydot>=1.2.4 in /usr/local/lib/python3.10/dist-packages (from dvc->dvc-gdrive) (3.0.3)\n",
            "Collecting pygtrie>=2.3.2 (from dvc->dvc-gdrive)\n",
            "  Downloading pygtrie-2.5.0-py3-none-any.whl.metadata (7.5 kB)\n",
            "Requirement already satisfied: pyparsing>=2.4.7 in /usr/local/lib/python3.10/dist-packages (from dvc->dvc-gdrive) (3.2.0)\n",
            "Requirement already satisfied: requests>=2.22 in /usr/local/lib/python3.10/dist-packages (from dvc->dvc-gdrive) (2.32.3)\n",
            "Requirement already satisfied: rich>=12 in /usr/local/lib/python3.10/dist-packages (from dvc->dvc-gdrive) (13.9.4)\n",
            "Collecting ruamel.yaml>=0.17.11 (from dvc->dvc-gdrive)\n",
            "  Downloading ruamel.yaml-0.18.6-py3-none-any.whl.metadata (23 kB)\n",
            "Collecting scmrepo<4,>=3.3.8 (from dvc->dvc-gdrive)\n",
            "  Downloading scmrepo-3.3.9-py3-none-any.whl.metadata (4.8 kB)\n",
            "Collecting shortuuid>=0.5 (from dvc->dvc-gdrive)\n",
            "  Downloading shortuuid-1.0.13-py3-none-any.whl.metadata (5.8 kB)\n",
            "Collecting shtab<2,>=1.3.4 (from dvc->dvc-gdrive)\n",
            "  Downloading shtab-1.7.1-py3-none-any.whl.metadata (7.3 kB)\n",
            "Requirement already satisfied: tabulate>=0.8.7 in /usr/local/lib/python3.10/dist-packages (from dvc->dvc-gdrive) (0.9.0)\n",
            "Collecting tomlkit>=0.11.1 (from dvc->dvc-gdrive)\n",
            "  Downloading tomlkit-0.13.2-py3-none-any.whl.metadata (2.7 kB)\n",
            "Collecting voluptuous>=0.11.7 (from dvc->dvc-gdrive)\n",
            "  Downloading voluptuous-0.15.2-py3-none-any.whl.metadata (20 kB)\n",
            "Collecting zc.lockfile>=1.2.1 (from dvc->dvc-gdrive)\n",
            "  Downloading zc.lockfile-3.0.post1-py3-none-any.whl.metadata (6.2 kB)\n",
            "Requirement already satisfied: cffi>=1.12 in /usr/local/lib/python3.10/dist-packages (from cryptography<44->pydrive2>=1.19.0->pydrive2[fsspec]>=1.19.0->dvc-gdrive) (1.17.1)\n",
            "Collecting dictdiffer>=0.8.1 (from dvc-data<3.17,>=3.16.2->dvc->dvc-gdrive)\n",
            "  Downloading dictdiffer-0.9.0-py2.py3-none-any.whl.metadata (4.8 kB)\n",
            "Collecting diskcache>=5.2.1 (from dvc-data<3.17,>=3.16.2->dvc->dvc-gdrive)\n",
            "  Downloading diskcache-5.6.3-py3-none-any.whl.metadata (20 kB)\n",
            "Collecting sqltrie<1,>=0.11.0 (from dvc-data<3.17,>=3.16.2->dvc->dvc-gdrive)\n",
            "  Downloading sqltrie-0.11.1-py3-none-any.whl.metadata (3.3 kB)\n",
            "Requirement already satisfied: orjson<4,>=3 in /usr/local/lib/python3.10/dist-packages (from dvc-data<3.17,>=3.16.2->dvc->dvc-gdrive) (3.10.12)\n",
            "Collecting aiohttp-retry>=2.5.0 (from dvc-http>=2.29.0->dvc->dvc-gdrive)\n",
            "  Downloading aiohttp_retry-2.9.1-py3-none-any.whl.metadata (8.8 kB)\n",
            "Collecting billiard<5.0,>=4.2.0 (from celery->dvc->dvc-gdrive)\n",
            "  Downloading billiard-4.2.1-py3-none-any.whl.metadata (4.4 kB)\n",
            "Collecting vine<6.0,>=5.1.0 (from celery->dvc->dvc-gdrive)\n",
            "  Downloading vine-5.1.0-py3-none-any.whl.metadata (2.7 kB)\n",
            "Requirement already satisfied: click<9.0,>=8.1.2 in /usr/local/lib/python3.10/dist-packages (from celery->dvc->dvc-gdrive) (8.1.7)\n",
            "Collecting click-didyoumean>=0.3.0 (from celery->dvc->dvc-gdrive)\n",
            "  Downloading click_didyoumean-0.3.1-py3-none-any.whl.metadata (3.9 kB)\n",
            "Collecting click-repl>=0.2.0 (from celery->dvc->dvc-gdrive)\n",
            "  Downloading click_repl-0.3.0-py3-none-any.whl.metadata (3.6 kB)\n",
            "Collecting click-plugins>=1.1.1 (from celery->dvc->dvc-gdrive)\n",
            "  Downloading click_plugins-1.1.1-py2.py3-none-any.whl.metadata (6.4 kB)\n",
            "Requirement already satisfied: tzdata>=2022.7 in /usr/local/lib/python3.10/dist-packages (from celery->dvc->dvc-gdrive) (2024.2)\n",
            "Requirement already satisfied: python-dateutil>=2.8.2 in /usr/local/lib/python3.10/dist-packages (from celery->dvc->dvc-gdrive) (2.8.2)\n",
            "Requirement already satisfied: six<2.0,>=1.12 in /usr/local/lib/python3.10/dist-packages (from flatten_dict<1,>=0.4.1->dvc->dvc-gdrive) (1.17.0)\n",
            "Requirement already satisfied: atpublic in /usr/local/lib/python3.10/dist-packages (from flufl.lock<9,>=8.1.0->dvc->dvc-gdrive) (4.1.0)\n",
            "Requirement already satisfied: httplib2<1.dev0,>=0.19.0 in /usr/local/lib/python3.10/dist-packages (from google-api-python-client>=1.12.5->pydrive2>=1.19.0->pydrive2[fsspec]>=1.19.0->dvc-gdrive) (0.22.0)\n",
            "Requirement already satisfied: google-auth!=2.24.0,!=2.25.0,<3.0.0.dev0,>=1.32.0 in /usr/local/lib/python3.10/dist-packages (from google-api-python-client>=1.12.5->pydrive2>=1.19.0->pydrive2[fsspec]>=1.19.0->dvc-gdrive) (2.27.0)\n",
            "Requirement already satisfied: google-auth-httplib2<1.0.0,>=0.2.0 in /usr/local/lib/python3.10/dist-packages (from google-api-python-client>=1.12.5->pydrive2>=1.19.0->pydrive2[fsspec]>=1.19.0->dvc-gdrive) (0.2.0)\n",
            "Requirement already satisfied: google-api-core!=2.0.*,!=2.1.*,!=2.2.*,!=2.3.0,<3.0.0.dev0,>=1.31.5 in /usr/local/lib/python3.10/dist-packages (from google-api-python-client>=1.12.5->pydrive2>=1.19.0->pydrive2[fsspec]>=1.19.0->dvc-gdrive) (2.19.2)\n",
            "Requirement already satisfied: uritemplate<5,>=3.0.1 in /usr/local/lib/python3.10/dist-packages (from google-api-python-client>=1.12.5->pydrive2>=1.19.0->pydrive2[fsspec]>=1.19.0->dvc-gdrive) (4.1.1)\n",
            "Requirement already satisfied: entrypoints in /usr/local/lib/python3.10/dist-packages (from gto<2,>=1.6.0->dvc->dvc-gdrive) (0.4)\n",
            "Requirement already satisfied: pydantic!=2.0.0,<3,>=1.9.0 in /usr/local/lib/python3.10/dist-packages (from gto<2,>=1.6.0->dvc->dvc-gdrive) (2.10.3)\n",
            "Collecting semver>=2.13.0 (from gto<2,>=1.6.0->dvc->dvc-gdrive)\n",
            "  Downloading semver-3.0.2-py3-none-any.whl.metadata (5.0 kB)\n",
            "Requirement already satisfied: typer>=0.4.1 in /usr/local/lib/python3.10/dist-packages (from gto<2,>=1.6.0->dvc->dvc-gdrive) (0.15.1)\n",
            "Collecting antlr4-python3-runtime==4.9.* (from hydra-core>=1.1->dvc->dvc-gdrive)\n",
            "  Downloading antlr4-python3-runtime-4.9.3.tar.gz (117 kB)\n",
            "\u001b[2K     \u001b[90m━━━━━━━━━━━━━━━━━━━━━━━━━━━━━━━━━━━━━━━━\u001b[0m \u001b[32m117.0/117.0 kB\u001b[0m \u001b[31m4.8 MB/s\u001b[0m eta \u001b[36m0:00:00\u001b[0m\n",
            "\u001b[?25h  Preparing metadata (setup.py) ... \u001b[?25l\u001b[?25hdone\n",
            "Requirement already satisfied: filelock in /usr/local/lib/python3.10/dist-packages (from iterative-telemetry>=0.0.7->dvc->dvc-gdrive) (3.16.1)\n",
            "Collecting amqp<6.0.0,>=5.1.1 (from kombu->dvc->dvc-gdrive)\n",
            "  Downloading amqp-5.3.1-py3-none-any.whl.metadata (8.9 kB)\n",
            "Requirement already satisfied: pyasn1>=0.1.7 in /usr/local/lib/python3.10/dist-packages (from oauth2client>=4.0.0->pydrive2>=1.19.0->pydrive2[fsspec]>=1.19.0->dvc-gdrive) (0.6.1)\n",
            "Requirement already satisfied: pyasn1-modules>=0.0.5 in /usr/local/lib/python3.10/dist-packages (from oauth2client>=4.0.0->pydrive2>=1.19.0->pydrive2[fsspec]>=1.19.0->dvc-gdrive) (0.4.1)\n",
            "Requirement already satisfied: rsa>=3.1.4 in /usr/local/lib/python3.10/dist-packages (from oauth2client>=4.0.0->pydrive2>=1.19.0->pydrive2[fsspec]>=1.19.0->dvc-gdrive) (4.9)\n",
            "Requirement already satisfied: charset-normalizer<4,>=2 in /usr/local/lib/python3.10/dist-packages (from requests>=2.22->dvc->dvc-gdrive) (3.4.0)\n",
            "Requirement already satisfied: idna<4,>=2.5 in /usr/local/lib/python3.10/dist-packages (from requests>=2.22->dvc->dvc-gdrive) (3.10)\n",
            "Requirement already satisfied: urllib3<3,>=1.21.1 in /usr/local/lib/python3.10/dist-packages (from requests>=2.22->dvc->dvc-gdrive) (2.2.3)\n",
            "Requirement already satisfied: certifi>=2017.4.17 in /usr/local/lib/python3.10/dist-packages (from requests>=2.22->dvc->dvc-gdrive) (2024.8.30)\n",
            "Requirement already satisfied: markdown-it-py>=2.2.0 in /usr/local/lib/python3.10/dist-packages (from rich>=12->dvc->dvc-gdrive) (3.0.0)\n",
            "Requirement already satisfied: pygments<3.0.0,>=2.13.0 in /usr/local/lib/python3.10/dist-packages (from rich>=12->dvc->dvc-gdrive) (2.18.0)\n",
            "Requirement already satisfied: typing-extensions<5.0,>=4.0.0 in /usr/local/lib/python3.10/dist-packages (from rich>=12->dvc->dvc-gdrive) (4.12.2)\n",
            "Collecting ruamel.yaml.clib>=0.2.7 (from ruamel.yaml>=0.17.11->dvc->dvc-gdrive)\n",
            "  Downloading ruamel.yaml.clib-0.2.12-cp310-cp310-manylinux_2_17_x86_64.manylinux2014_x86_64.whl.metadata (2.7 kB)\n",
            "Requirement already satisfied: gitpython>3 in /usr/local/lib/python3.10/dist-packages (from scmrepo<4,>=3.3.8->dvc->dvc-gdrive) (3.1.43)\n",
            "Requirement already satisfied: pygit2>=1.14.0 in /usr/local/lib/python3.10/dist-packages (from scmrepo<4,>=3.3.8->dvc->dvc-gdrive) (1.16.0)\n",
            "Collecting asyncssh<3,>=2.13.1 (from scmrepo<4,>=3.3.8->dvc->dvc-gdrive)\n",
            "  Downloading asyncssh-2.19.0-py3-none-any.whl.metadata (9.9 kB)\n",
            "Requirement already satisfied: setuptools in /usr/local/lib/python3.10/dist-packages (from zc.lockfile>=1.2.1->dvc->dvc-gdrive) (75.1.0)\n",
            "Requirement already satisfied: aiohttp in /usr/local/lib/python3.10/dist-packages (from aiohttp-retry>=2.5.0->dvc-http>=2.29.0->dvc->dvc-gdrive) (3.11.10)\n",
            "Requirement already satisfied: pycparser in /usr/local/lib/python3.10/dist-packages (from cffi>=1.12->cryptography<44->pydrive2>=1.19.0->pydrive2[fsspec]>=1.19.0->dvc-gdrive) (2.22)\n",
            "Requirement already satisfied: prompt-toolkit>=3.0.36 in /usr/local/lib/python3.10/dist-packages (from click-repl>=0.2.0->celery->dvc->dvc-gdrive) (3.0.48)\n",
            "Requirement already satisfied: gitdb<5,>=4.0.1 in /usr/local/lib/python3.10/dist-packages (from gitpython>3->scmrepo<4,>=3.3.8->dvc->dvc-gdrive) (4.0.11)\n",
            "Requirement already satisfied: googleapis-common-protos<2.0.dev0,>=1.56.2 in /usr/local/lib/python3.10/dist-packages (from google-api-core!=2.0.*,!=2.1.*,!=2.2.*,!=2.3.0,<3.0.0.dev0,>=1.31.5->google-api-python-client>=1.12.5->pydrive2>=1.19.0->pydrive2[fsspec]>=1.19.0->dvc-gdrive) (1.66.0)\n",
            "Requirement already satisfied: protobuf!=3.20.0,!=3.20.1,!=4.21.0,!=4.21.1,!=4.21.2,!=4.21.3,!=4.21.4,!=4.21.5,<6.0.0.dev0,>=3.19.5 in /usr/local/lib/python3.10/dist-packages (from google-api-core!=2.0.*,!=2.1.*,!=2.2.*,!=2.3.0,<3.0.0.dev0,>=1.31.5->google-api-python-client>=1.12.5->pydrive2>=1.19.0->pydrive2[fsspec]>=1.19.0->dvc-gdrive) (4.25.5)\n",
            "Requirement already satisfied: proto-plus<2.0.0dev,>=1.22.3 in /usr/local/lib/python3.10/dist-packages (from google-api-core!=2.0.*,!=2.1.*,!=2.2.*,!=2.3.0,<3.0.0.dev0,>=1.31.5->google-api-python-client>=1.12.5->pydrive2>=1.19.0->pydrive2[fsspec]>=1.19.0->dvc-gdrive) (1.25.0)\n",
            "Requirement already satisfied: cachetools<6.0,>=2.0.0 in /usr/local/lib/python3.10/dist-packages (from google-auth!=2.24.0,!=2.25.0,<3.0.0.dev0,>=1.32.0->google-api-python-client>=1.12.5->pydrive2>=1.19.0->pydrive2[fsspec]>=1.19.0->dvc-gdrive) (5.5.0)\n",
            "Requirement already satisfied: mdurl~=0.1 in /usr/local/lib/python3.10/dist-packages (from markdown-it-py>=2.2.0->rich>=12->dvc->dvc-gdrive) (0.1.2)\n",
            "Requirement already satisfied: annotated-types>=0.6.0 in /usr/local/lib/python3.10/dist-packages (from pydantic!=2.0.0,<3,>=1.9.0->gto<2,>=1.6.0->dvc->dvc-gdrive) (0.7.0)\n",
            "Requirement already satisfied: pydantic-core==2.27.1 in /usr/local/lib/python3.10/dist-packages (from pydantic!=2.0.0,<3,>=1.9.0->gto<2,>=1.6.0->dvc->dvc-gdrive) (2.27.1)\n",
            "Requirement already satisfied: shellingham>=1.3.0 in /usr/local/lib/python3.10/dist-packages (from typer>=0.4.1->gto<2,>=1.6.0->dvc->dvc-gdrive) (1.5.4)\n",
            "Requirement already satisfied: aiohappyeyeballs>=2.3.0 in /usr/local/lib/python3.10/dist-packages (from aiohttp->aiohttp-retry>=2.5.0->dvc-http>=2.29.0->dvc->dvc-gdrive) (2.4.4)\n",
            "Requirement already satisfied: aiosignal>=1.1.2 in /usr/local/lib/python3.10/dist-packages (from aiohttp->aiohttp-retry>=2.5.0->dvc-http>=2.29.0->dvc->dvc-gdrive) (1.3.1)\n",
            "Requirement already satisfied: async-timeout<6.0,>=4.0 in /usr/local/lib/python3.10/dist-packages (from aiohttp->aiohttp-retry>=2.5.0->dvc-http>=2.29.0->dvc->dvc-gdrive) (4.0.3)\n",
            "Requirement already satisfied: frozenlist>=1.1.1 in /usr/local/lib/python3.10/dist-packages (from aiohttp->aiohttp-retry>=2.5.0->dvc-http>=2.29.0->dvc->dvc-gdrive) (1.5.0)\n",
            "Requirement already satisfied: multidict<7.0,>=4.5 in /usr/local/lib/python3.10/dist-packages (from aiohttp->aiohttp-retry>=2.5.0->dvc-http>=2.29.0->dvc->dvc-gdrive) (6.1.0)\n",
            "Requirement already satisfied: propcache>=0.2.0 in /usr/local/lib/python3.10/dist-packages (from aiohttp->aiohttp-retry>=2.5.0->dvc-http>=2.29.0->dvc->dvc-gdrive) (0.2.1)\n",
            "Requirement already satisfied: yarl<2.0,>=1.17.0 in /usr/local/lib/python3.10/dist-packages (from aiohttp->aiohttp-retry>=2.5.0->dvc-http>=2.29.0->dvc->dvc-gdrive) (1.18.3)\n",
            "Requirement already satisfied: smmap<6,>=3.0.1 in /usr/local/lib/python3.10/dist-packages (from gitdb<5,>=4.0.1->gitpython>3->scmrepo<4,>=3.3.8->dvc->dvc-gdrive) (5.0.1)\n",
            "Requirement already satisfied: wcwidth in /usr/local/lib/python3.10/dist-packages (from prompt-toolkit>=3.0.36->click-repl>=0.2.0->celery->dvc->dvc-gdrive) (0.2.13)\n",
            "Downloading dvc_gdrive-3.0.1-py3-none-any.whl (11 kB)\n",
            "Downloading dvc-3.58.0-py3-none-any.whl (457 kB)\n",
            "\u001b[2K   \u001b[90m━━━━━━━━━━━━━━━━━━━━━━━━━━━━━━━━━━━━━━━━\u001b[0m \u001b[32m457.1/457.1 kB\u001b[0m \u001b[31m7.9 MB/s\u001b[0m eta \u001b[36m0:00:00\u001b[0m\n",
            "\u001b[?25hDownloading appdirs-1.4.4-py2.py3-none-any.whl (9.6 kB)\n",
            "Downloading colorama-0.4.6-py2.py3-none-any.whl (25 kB)\n",
            "Downloading configobj-5.0.9-py2.py3-none-any.whl (35 kB)\n",
            "Downloading dpath-2.2.0-py3-none-any.whl (17 kB)\n",
            "Downloading dvc_data-3.16.7-py3-none-any.whl (78 kB)\n",
            "\u001b[2K   \u001b[90m━━━━━━━━━━━━━━━━━━━━━━━━━━━━━━━━━━━━━━━━\u001b[0m \u001b[32m78.4/78.4 kB\u001b[0m \u001b[31m2.6 MB/s\u001b[0m eta \u001b[36m0:00:00\u001b[0m\n",
            "\u001b[?25hDownloading dvc_http-2.32.0-py3-none-any.whl (12 kB)\n",
            "Downloading dvc_objects-5.1.0-py3-none-any.whl (33 kB)\n",
            "Downloading dvc_render-1.0.2-py3-none-any.whl (22 kB)\n",
            "Downloading dvc_studio_client-0.21.0-py3-none-any.whl (16 kB)\n",
            "Downloading dvc_task-0.40.2-py3-none-any.whl (21 kB)\n",
            "Downloading celery-5.4.0-py3-none-any.whl (425 kB)\n",
            "\u001b[2K   \u001b[90m━━━━━━━━━━━━━━━━━━━━━━━━━━━━━━━━━━━━━━━━\u001b[0m \u001b[32m426.0/426.0 kB\u001b[0m \u001b[31m11.1 MB/s\u001b[0m eta \u001b[36m0:00:00\u001b[0m\n",
            "\u001b[?25hDownloading flatten_dict-0.4.2-py2.py3-none-any.whl (9.7 kB)\n",
            "Downloading flufl_lock-8.1.0-py3-none-any.whl (11 kB)\n",
            "Downloading funcy-2.0-py2.py3-none-any.whl (30 kB)\n",
            "Downloading grandalf-0.8-py3-none-any.whl (41 kB)\n",
            "\u001b[2K   \u001b[90m━━━━━━━━━━━━━━━━━━━━━━━━━━━━━━━━━━━━━━━━\u001b[0m \u001b[32m41.8/41.8 kB\u001b[0m \u001b[31m1.8 MB/s\u001b[0m eta \u001b[36m0:00:00\u001b[0m\n",
            "\u001b[?25hDownloading gto-1.7.2-py3-none-any.whl (45 kB)\n",
            "\u001b[2K   \u001b[90m━━━━━━━━━━━━━━━━━━━━━━━━━━━━━━━━━━━━━━━━\u001b[0m \u001b[32m45.2/45.2 kB\u001b[0m \u001b[31m3.2 MB/s\u001b[0m eta \u001b[36m0:00:00\u001b[0m\n",
            "\u001b[?25hDownloading hydra_core-1.3.2-py3-none-any.whl (154 kB)\n",
            "\u001b[2K   \u001b[90m━━━━━━━━━━━━━━━━━━━━━━━━━━━━━━━━━━━━━━━━\u001b[0m \u001b[32m154.5/154.5 kB\u001b[0m \u001b[31m11.3 MB/s\u001b[0m eta \u001b[36m0:00:00\u001b[0m\n",
            "\u001b[?25hDownloading iterative_telemetry-0.0.9-py3-none-any.whl (10 kB)\n",
            "Downloading kombu-5.4.2-py3-none-any.whl (201 kB)\n",
            "\u001b[2K   \u001b[90m━━━━━━━━━━━━━━━━━━━━━━━━━━━━━━━━━━━━━━━━\u001b[0m \u001b[32m201.3/201.3 kB\u001b[0m \u001b[31m11.2 MB/s\u001b[0m eta \u001b[36m0:00:00\u001b[0m\n",
            "\u001b[?25hDownloading vine-5.1.0-py3-none-any.whl (9.6 kB)\n",
            "Downloading omegaconf-2.3.0-py3-none-any.whl (79 kB)\n",
            "\u001b[2K   \u001b[90m━━━━━━━━━━━━━━━━━━━━━━━━━━━━━━━━━━━━━━━━\u001b[0m \u001b[32m79.5/79.5 kB\u001b[0m \u001b[31m5.7 MB/s\u001b[0m eta \u001b[36m0:00:00\u001b[0m\n",
            "\u001b[?25hDownloading pathspec-0.12.1-py3-none-any.whl (31 kB)\n",
            "Downloading pygtrie-2.5.0-py3-none-any.whl (25 kB)\n",
            "Downloading ruamel.yaml-0.18.6-py3-none-any.whl (117 kB)\n",
            "\u001b[2K   \u001b[90m━━━━━━━━━━━━━━━━━━━━━━━━━━━━━━━━━━━━━━━━\u001b[0m \u001b[32m117.8/117.8 kB\u001b[0m \u001b[31m6.6 MB/s\u001b[0m eta \u001b[36m0:00:00\u001b[0m\n",
            "\u001b[?25hDownloading scmrepo-3.3.9-py3-none-any.whl (74 kB)\n",
            "\u001b[2K   \u001b[90m━━━━━━━━━━━━━━━━━━━━━━━━━━━━━━━━━━━━━━━━\u001b[0m \u001b[32m74.0/74.0 kB\u001b[0m \u001b[31m3.0 MB/s\u001b[0m eta \u001b[36m0:00:00\u001b[0m\n",
            "\u001b[?25hDownloading dulwich-0.22.6-cp310-cp310-manylinux_2_17_x86_64.manylinux2014_x86_64.whl (981 kB)\n",
            "\u001b[2K   \u001b[90m━━━━━━━━━━━━━━━━━━━━━━━━━━━━━━━━━━━━━━━━\u001b[0m \u001b[32m981.8/981.8 kB\u001b[0m \u001b[31m19.4 MB/s\u001b[0m eta \u001b[36m0:00:00\u001b[0m\n",
            "\u001b[?25hDownloading shortuuid-1.0.13-py3-none-any.whl (10 kB)\n",
            "Downloading shtab-1.7.1-py3-none-any.whl (14 kB)\n",
            "Downloading tomlkit-0.13.2-py3-none-any.whl (37 kB)\n",
            "Downloading voluptuous-0.15.2-py3-none-any.whl (31 kB)\n",
            "Downloading zc.lockfile-3.0.post1-py3-none-any.whl (9.8 kB)\n",
            "Downloading aiohttp_retry-2.9.1-py3-none-any.whl (10.0 kB)\n",
            "Downloading amqp-5.3.1-py3-none-any.whl (50 kB)\n",
            "\u001b[2K   \u001b[90m━━━━━━━━━━━━━━━━━━━━━━━━━━━━━━━━━━━━━━━━\u001b[0m \u001b[32m50.9/50.9 kB\u001b[0m \u001b[31m1.9 MB/s\u001b[0m eta \u001b[36m0:00:00\u001b[0m\n",
            "\u001b[?25hDownloading asyncssh-2.19.0-py3-none-any.whl (372 kB)\n",
            "\u001b[2K   \u001b[90m━━━━━━━━━━━━━━━━━━━━━━━━━━━━━━━━━━━━━━━━\u001b[0m \u001b[32m372.7/372.7 kB\u001b[0m \u001b[31m8.2 MB/s\u001b[0m eta \u001b[36m0:00:00\u001b[0m\n",
            "\u001b[?25hDownloading billiard-4.2.1-py3-none-any.whl (86 kB)\n",
            "\u001b[2K   \u001b[90m━━━━━━━━━━━━━━━━━━━━━━━━━━━━━━━━━━━━━━━━\u001b[0m \u001b[32m86.8/86.8 kB\u001b[0m \u001b[31m3.6 MB/s\u001b[0m eta \u001b[36m0:00:00\u001b[0m\n",
            "\u001b[?25hDownloading click_didyoumean-0.3.1-py3-none-any.whl (3.6 kB)\n",
            "Downloading click_plugins-1.1.1-py2.py3-none-any.whl (7.5 kB)\n",
            "Downloading click_repl-0.3.0-py3-none-any.whl (10 kB)\n",
            "Downloading dictdiffer-0.9.0-py2.py3-none-any.whl (16 kB)\n",
            "Downloading diskcache-5.6.3-py3-none-any.whl (45 kB)\n",
            "\u001b[2K   \u001b[90m━━━━━━━━━━━━━━━━━━━━━━━━━━━━━━━━━━━━━━━━\u001b[0m \u001b[32m45.5/45.5 kB\u001b[0m \u001b[31m1.7 MB/s\u001b[0m eta \u001b[36m0:00:00\u001b[0m\n",
            "\u001b[?25hDownloading ruamel.yaml.clib-0.2.12-cp310-cp310-manylinux_2_17_x86_64.manylinux2014_x86_64.whl (722 kB)\n",
            "\u001b[2K   \u001b[90m━━━━━━━━━━━━━━━━━━━━━━━━━━━━━━━━━━━━━━━━\u001b[0m \u001b[32m722.2/722.2 kB\u001b[0m \u001b[31m10.8 MB/s\u001b[0m eta \u001b[36m0:00:00\u001b[0m\n",
            "\u001b[?25hDownloading semver-3.0.2-py3-none-any.whl (17 kB)\n",
            "Downloading sqltrie-0.11.1-py3-none-any.whl (17 kB)\n",
            "Building wheels for collected packages: antlr4-python3-runtime\n",
            "  Building wheel for antlr4-python3-runtime (setup.py) ... \u001b[?25l\u001b[?25hdone\n",
            "  Created wheel for antlr4-python3-runtime: filename=antlr4_python3_runtime-4.9.3-py3-none-any.whl size=144555 sha256=05c91bb12880246bf3e84081b2bcfd1bb43508025a0a414e85f0eb9eaeabebf7\n",
            "  Stored in directory: /root/.cache/pip/wheels/12/93/dd/1f6a127edc45659556564c5730f6d4e300888f4bca2d4c5a88\n",
            "Successfully built antlr4-python3-runtime\n",
            "Installing collected packages: pygtrie, funcy, dictdiffer, appdirs, antlr4-python3-runtime, zc.lockfile, voluptuous, vine, tomlkit, sqltrie, shtab, shortuuid, semver, ruamel.yaml.clib, pathspec, omegaconf, grandalf, flufl.lock, flatten_dict, dvc-render, dvc-objects, dulwich, dpath, diskcache, configobj, colorama, click-plugins, click-didyoumean, billiard, ruamel.yaml, iterative-telemetry, hydra-core, dvc-studio-client, dvc-data, click-repl, amqp, kombu, asyncssh, celery, aiohttp-retry, scmrepo, dvc-task, dvc-http, gto, dvc, dvc-gdrive\n",
            "Successfully installed aiohttp-retry-2.9.1 amqp-5.3.1 antlr4-python3-runtime-4.9.3 appdirs-1.4.4 asyncssh-2.19.0 billiard-4.2.1 celery-5.4.0 click-didyoumean-0.3.1 click-plugins-1.1.1 click-repl-0.3.0 colorama-0.4.6 configobj-5.0.9 dictdiffer-0.9.0 diskcache-5.6.3 dpath-2.2.0 dulwich-0.22.6 dvc-3.58.0 dvc-data-3.16.7 dvc-gdrive-3.0.1 dvc-http-2.32.0 dvc-objects-5.1.0 dvc-render-1.0.2 dvc-studio-client-0.21.0 dvc-task-0.40.2 flatten_dict-0.4.2 flufl.lock-8.1.0 funcy-2.0 grandalf-0.8 gto-1.7.2 hydra-core-1.3.2 iterative-telemetry-0.0.9 kombu-5.4.2 omegaconf-2.3.0 pathspec-0.12.1 pygtrie-2.5.0 ruamel.yaml-0.18.6 ruamel.yaml.clib-0.2.12 scmrepo-3.3.9 semver-3.0.2 shortuuid-1.0.13 shtab-1.7.1 sqltrie-0.11.1 tomlkit-0.13.2 vine-5.1.0 voluptuous-0.15.2 zc.lockfile-3.0.post1\n"
          ]
        },
        {
          "output_type": "display_data",
          "data": {
            "application/vnd.colab-display-data+json": {
              "pip_warning": {
                "packages": [
                  "pydevd_plugins"
                ]
              },
              "id": "cae8786f72954e5781a8f91074ea18cf"
            }
          },
          "metadata": {}
        }
      ],
      "source": [
        "!pip install dvc-gdrive"
      ]
    },
    {
      "cell_type": "code",
      "source": [
        "!pip install pyngrok"
      ],
      "metadata": {
        "colab": {
          "base_uri": "https://localhost:8080/"
        },
        "id": "jkCKQS4sFodS",
        "outputId": "44239829-91ba-4975-f683-a434bbe91a10"
      },
      "execution_count": 20,
      "outputs": [
        {
          "output_type": "stream",
          "name": "stdout",
          "text": [
            "Collecting pyngrok\n",
            "  Using cached pyngrok-7.2.2-py3-none-any.whl.metadata (8.4 kB)\n",
            "Requirement already satisfied: PyYAML>=5.1 in /usr/local/lib/python3.10/dist-packages (from pyngrok) (6.0.2)\n",
            "Using cached pyngrok-7.2.2-py3-none-any.whl (22 kB)\n",
            "Installing collected packages: pyngrok\n",
            "Successfully installed pyngrok-7.2.2\n"
          ]
        }
      ]
    },
    {
      "cell_type": "code",
      "source": [
        "!apt install tree"
      ],
      "metadata": {
        "colab": {
          "base_uri": "https://localhost:8080/"
        },
        "id": "kW7FR4BsE1mt",
        "outputId": "b1aba8ec-a0b3-4468-be04-0c605607ee07"
      },
      "execution_count": 1,
      "outputs": [
        {
          "output_type": "stream",
          "name": "stdout",
          "text": [
            "Reading package lists... Done\n",
            "Building dependency tree... Done\n",
            "Reading state information... Done\n",
            "tree is already the newest version (2.0.2-1).\n",
            "0 upgraded, 0 newly installed, 0 to remove and 49 not upgraded.\n"
          ]
        }
      ]
    },
    {
      "cell_type": "code",
      "source": [
        "pip install mlflow"
      ],
      "metadata": {
        "colab": {
          "base_uri": "https://localhost:8080/"
        },
        "id": "SR9oaUskF4hI",
        "outputId": "ea38a9cb-8eeb-486a-b08c-beaf247ee244"
      },
      "execution_count": 2,
      "outputs": [
        {
          "output_type": "stream",
          "name": "stdout",
          "text": [
            "Collecting mlflow\n",
            "  Downloading mlflow-2.19.0-py3-none-any.whl.metadata (30 kB)\n",
            "Collecting mlflow-skinny==2.19.0 (from mlflow)\n",
            "  Downloading mlflow_skinny-2.19.0-py3-none-any.whl.metadata (31 kB)\n",
            "Requirement already satisfied: Flask<4 in /usr/local/lib/python3.10/dist-packages (from mlflow) (3.0.3)\n",
            "Requirement already satisfied: Jinja2<4,>=2.11 in /usr/local/lib/python3.10/dist-packages (from mlflow) (3.1.4)\n",
            "Collecting alembic!=1.10.0,<2 (from mlflow)\n",
            "  Downloading alembic-1.14.0-py3-none-any.whl.metadata (7.4 kB)\n",
            "Collecting docker<8,>=4.0.0 (from mlflow)\n",
            "  Downloading docker-7.1.0-py3-none-any.whl.metadata (3.8 kB)\n",
            "Collecting graphene<4 (from mlflow)\n",
            "  Downloading graphene-3.4.3-py2.py3-none-any.whl.metadata (6.9 kB)\n",
            "Collecting gunicorn<24 (from mlflow)\n",
            "  Downloading gunicorn-23.0.0-py3-none-any.whl.metadata (4.4 kB)\n",
            "Requirement already satisfied: markdown<4,>=3.3 in /usr/local/lib/python3.10/dist-packages (from mlflow) (3.7)\n",
            "Requirement already satisfied: matplotlib<4 in /usr/local/lib/python3.10/dist-packages (from mlflow) (3.8.0)\n",
            "Requirement already satisfied: numpy<3 in /usr/local/lib/python3.10/dist-packages (from mlflow) (1.26.4)\n",
            "Requirement already satisfied: pandas<3 in /usr/local/lib/python3.10/dist-packages (from mlflow) (2.2.2)\n",
            "Requirement already satisfied: pyarrow<19,>=4.0.0 in /usr/local/lib/python3.10/dist-packages (from mlflow) (17.0.0)\n",
            "Requirement already satisfied: scikit-learn<2 in /usr/local/lib/python3.10/dist-packages (from mlflow) (1.5.2)\n",
            "Requirement already satisfied: scipy<2 in /usr/local/lib/python3.10/dist-packages (from mlflow) (1.13.1)\n",
            "Requirement already satisfied: sqlalchemy<3,>=1.4.0 in /usr/local/lib/python3.10/dist-packages (from mlflow) (2.0.36)\n",
            "Requirement already satisfied: cachetools<6,>=5.0.0 in /usr/local/lib/python3.10/dist-packages (from mlflow-skinny==2.19.0->mlflow) (5.5.0)\n",
            "Requirement already satisfied: click<9,>=7.0 in /usr/local/lib/python3.10/dist-packages (from mlflow-skinny==2.19.0->mlflow) (8.1.7)\n",
            "Requirement already satisfied: cloudpickle<4 in /usr/local/lib/python3.10/dist-packages (from mlflow-skinny==2.19.0->mlflow) (3.1.0)\n",
            "Collecting databricks-sdk<1,>=0.20.0 (from mlflow-skinny==2.19.0->mlflow)\n",
            "  Downloading databricks_sdk-0.39.0-py3-none-any.whl.metadata (38 kB)\n",
            "Requirement already satisfied: gitpython<4,>=3.1.9 in /usr/local/lib/python3.10/dist-packages (from mlflow-skinny==2.19.0->mlflow) (3.1.43)\n",
            "Requirement already satisfied: importlib_metadata!=4.7.0,<9,>=3.7.0 in /usr/local/lib/python3.10/dist-packages (from mlflow-skinny==2.19.0->mlflow) (8.5.0)\n",
            "Requirement already satisfied: opentelemetry-api<3,>=1.9.0 in /usr/local/lib/python3.10/dist-packages (from mlflow-skinny==2.19.0->mlflow) (1.28.2)\n",
            "Requirement already satisfied: opentelemetry-sdk<3,>=1.9.0 in /usr/local/lib/python3.10/dist-packages (from mlflow-skinny==2.19.0->mlflow) (1.28.2)\n",
            "Requirement already satisfied: packaging<25 in /usr/local/lib/python3.10/dist-packages (from mlflow-skinny==2.19.0->mlflow) (24.2)\n",
            "Requirement already satisfied: protobuf<6,>=3.12.0 in /usr/local/lib/python3.10/dist-packages (from mlflow-skinny==2.19.0->mlflow) (4.25.5)\n",
            "Requirement already satisfied: pyyaml<7,>=5.1 in /usr/local/lib/python3.10/dist-packages (from mlflow-skinny==2.19.0->mlflow) (6.0.2)\n",
            "Requirement already satisfied: requests<3,>=2.17.3 in /usr/local/lib/python3.10/dist-packages (from mlflow-skinny==2.19.0->mlflow) (2.32.3)\n",
            "Requirement already satisfied: sqlparse<1,>=0.4.0 in /usr/local/lib/python3.10/dist-packages (from mlflow-skinny==2.19.0->mlflow) (0.5.3)\n",
            "Collecting Mako (from alembic!=1.10.0,<2->mlflow)\n",
            "  Downloading Mako-1.3.8-py3-none-any.whl.metadata (2.9 kB)\n",
            "Requirement already satisfied: typing-extensions>=4 in /usr/local/lib/python3.10/dist-packages (from alembic!=1.10.0,<2->mlflow) (4.12.2)\n",
            "Requirement already satisfied: urllib3>=1.26.0 in /usr/local/lib/python3.10/dist-packages (from docker<8,>=4.0.0->mlflow) (2.2.3)\n",
            "Requirement already satisfied: Werkzeug>=3.0.0 in /usr/local/lib/python3.10/dist-packages (from Flask<4->mlflow) (3.1.3)\n",
            "Requirement already satisfied: itsdangerous>=2.1.2 in /usr/local/lib/python3.10/dist-packages (from Flask<4->mlflow) (2.2.0)\n",
            "Requirement already satisfied: blinker>=1.6.2 in /usr/local/lib/python3.10/dist-packages (from Flask<4->mlflow) (1.9.0)\n",
            "Collecting graphql-core<3.3,>=3.1 (from graphene<4->mlflow)\n",
            "  Downloading graphql_core-3.2.5-py3-none-any.whl.metadata (10 kB)\n",
            "Collecting graphql-relay<3.3,>=3.1 (from graphene<4->mlflow)\n",
            "  Downloading graphql_relay-3.2.0-py3-none-any.whl.metadata (12 kB)\n",
            "Requirement already satisfied: python-dateutil<3,>=2.7.0 in /usr/local/lib/python3.10/dist-packages (from graphene<4->mlflow) (2.8.2)\n",
            "Requirement already satisfied: MarkupSafe>=2.0 in /usr/local/lib/python3.10/dist-packages (from Jinja2<4,>=2.11->mlflow) (3.0.2)\n",
            "Requirement already satisfied: contourpy>=1.0.1 in /usr/local/lib/python3.10/dist-packages (from matplotlib<4->mlflow) (1.3.1)\n",
            "Requirement already satisfied: cycler>=0.10 in /usr/local/lib/python3.10/dist-packages (from matplotlib<4->mlflow) (0.12.1)\n",
            "Requirement already satisfied: fonttools>=4.22.0 in /usr/local/lib/python3.10/dist-packages (from matplotlib<4->mlflow) (4.55.3)\n",
            "Requirement already satisfied: kiwisolver>=1.0.1 in /usr/local/lib/python3.10/dist-packages (from matplotlib<4->mlflow) (1.4.7)\n",
            "Requirement already satisfied: pillow>=6.2.0 in /usr/local/lib/python3.10/dist-packages (from matplotlib<4->mlflow) (11.0.0)\n",
            "Requirement already satisfied: pyparsing>=2.3.1 in /usr/local/lib/python3.10/dist-packages (from matplotlib<4->mlflow) (3.2.0)\n",
            "Requirement already satisfied: pytz>=2020.1 in /usr/local/lib/python3.10/dist-packages (from pandas<3->mlflow) (2024.2)\n",
            "Requirement already satisfied: tzdata>=2022.7 in /usr/local/lib/python3.10/dist-packages (from pandas<3->mlflow) (2024.2)\n",
            "Requirement already satisfied: joblib>=1.2.0 in /usr/local/lib/python3.10/dist-packages (from scikit-learn<2->mlflow) (1.4.2)\n",
            "Requirement already satisfied: threadpoolctl>=3.1.0 in /usr/local/lib/python3.10/dist-packages (from scikit-learn<2->mlflow) (3.5.0)\n",
            "Requirement already satisfied: greenlet!=0.4.17 in /usr/local/lib/python3.10/dist-packages (from sqlalchemy<3,>=1.4.0->mlflow) (3.1.1)\n",
            "Requirement already satisfied: google-auth~=2.0 in /usr/local/lib/python3.10/dist-packages (from databricks-sdk<1,>=0.20.0->mlflow-skinny==2.19.0->mlflow) (2.27.0)\n",
            "Requirement already satisfied: gitdb<5,>=4.0.1 in /usr/local/lib/python3.10/dist-packages (from gitpython<4,>=3.1.9->mlflow-skinny==2.19.0->mlflow) (4.0.11)\n",
            "Requirement already satisfied: zipp>=3.20 in /usr/local/lib/python3.10/dist-packages (from importlib_metadata!=4.7.0,<9,>=3.7.0->mlflow-skinny==2.19.0->mlflow) (3.21.0)\n",
            "Requirement already satisfied: deprecated>=1.2.6 in /usr/local/lib/python3.10/dist-packages (from opentelemetry-api<3,>=1.9.0->mlflow-skinny==2.19.0->mlflow) (1.2.15)\n",
            "Requirement already satisfied: opentelemetry-semantic-conventions==0.49b2 in /usr/local/lib/python3.10/dist-packages (from opentelemetry-sdk<3,>=1.9.0->mlflow-skinny==2.19.0->mlflow) (0.49b2)\n",
            "Requirement already satisfied: six>=1.5 in /usr/local/lib/python3.10/dist-packages (from python-dateutil<3,>=2.7.0->graphene<4->mlflow) (1.17.0)\n",
            "Requirement already satisfied: charset-normalizer<4,>=2 in /usr/local/lib/python3.10/dist-packages (from requests<3,>=2.17.3->mlflow-skinny==2.19.0->mlflow) (3.4.0)\n",
            "Requirement already satisfied: idna<4,>=2.5 in /usr/local/lib/python3.10/dist-packages (from requests<3,>=2.17.3->mlflow-skinny==2.19.0->mlflow) (3.10)\n",
            "Requirement already satisfied: certifi>=2017.4.17 in /usr/local/lib/python3.10/dist-packages (from requests<3,>=2.17.3->mlflow-skinny==2.19.0->mlflow) (2024.8.30)\n",
            "Requirement already satisfied: wrapt<2,>=1.10 in /usr/local/lib/python3.10/dist-packages (from deprecated>=1.2.6->opentelemetry-api<3,>=1.9.0->mlflow-skinny==2.19.0->mlflow) (1.17.0)\n",
            "Requirement already satisfied: smmap<6,>=3.0.1 in /usr/local/lib/python3.10/dist-packages (from gitdb<5,>=4.0.1->gitpython<4,>=3.1.9->mlflow-skinny==2.19.0->mlflow) (5.0.1)\n",
            "Requirement already satisfied: pyasn1-modules>=0.2.1 in /usr/local/lib/python3.10/dist-packages (from google-auth~=2.0->databricks-sdk<1,>=0.20.0->mlflow-skinny==2.19.0->mlflow) (0.4.1)\n",
            "Requirement already satisfied: rsa<5,>=3.1.4 in /usr/local/lib/python3.10/dist-packages (from google-auth~=2.0->databricks-sdk<1,>=0.20.0->mlflow-skinny==2.19.0->mlflow) (4.9)\n",
            "Requirement already satisfied: pyasn1<0.7.0,>=0.4.6 in /usr/local/lib/python3.10/dist-packages (from pyasn1-modules>=0.2.1->google-auth~=2.0->databricks-sdk<1,>=0.20.0->mlflow-skinny==2.19.0->mlflow) (0.6.1)\n",
            "Downloading mlflow-2.19.0-py3-none-any.whl (27.4 MB)\n",
            "\u001b[2K   \u001b[90m━━━━━━━━━━━━━━━━━━━━━━━━━━━━━━━━━━━━━━━━\u001b[0m \u001b[32m27.4/27.4 MB\u001b[0m \u001b[31m44.5 MB/s\u001b[0m eta \u001b[36m0:00:00\u001b[0m\n",
            "\u001b[?25hDownloading mlflow_skinny-2.19.0-py3-none-any.whl (5.9 MB)\n",
            "\u001b[2K   \u001b[90m━━━━━━━━━━━━━━━━━━━━━━━━━━━━━━━━━━━━━━━━\u001b[0m \u001b[32m5.9/5.9 MB\u001b[0m \u001b[31m68.2 MB/s\u001b[0m eta \u001b[36m0:00:00\u001b[0m\n",
            "\u001b[?25hDownloading alembic-1.14.0-py3-none-any.whl (233 kB)\n",
            "\u001b[2K   \u001b[90m━━━━━━━━━━━━━━━━━━━━━━━━━━━━━━━━━━━━━━━━\u001b[0m \u001b[32m233.5/233.5 kB\u001b[0m \u001b[31m14.3 MB/s\u001b[0m eta \u001b[36m0:00:00\u001b[0m\n",
            "\u001b[?25hDownloading docker-7.1.0-py3-none-any.whl (147 kB)\n",
            "\u001b[2K   \u001b[90m━━━━━━━━━━━━━━━━━━━━━━━━━━━━━━━━━━━━━━━━\u001b[0m \u001b[32m147.8/147.8 kB\u001b[0m \u001b[31m10.1 MB/s\u001b[0m eta \u001b[36m0:00:00\u001b[0m\n",
            "\u001b[?25hDownloading graphene-3.4.3-py2.py3-none-any.whl (114 kB)\n",
            "\u001b[2K   \u001b[90m━━━━━━━━━━━━━━━━━━━━━━━━━━━━━━━━━━━━━━━━\u001b[0m \u001b[32m114.9/114.9 kB\u001b[0m \u001b[31m9.2 MB/s\u001b[0m eta \u001b[36m0:00:00\u001b[0m\n",
            "\u001b[?25hDownloading gunicorn-23.0.0-py3-none-any.whl (85 kB)\n",
            "\u001b[2K   \u001b[90m━━━━━━━━━━━━━━━━━━━━━━━━━━━━━━━━━━━━━━━━\u001b[0m \u001b[32m85.0/85.0 kB\u001b[0m \u001b[31m6.2 MB/s\u001b[0m eta \u001b[36m0:00:00\u001b[0m\n",
            "\u001b[?25hDownloading databricks_sdk-0.39.0-py3-none-any.whl (622 kB)\n",
            "\u001b[2K   \u001b[90m━━━━━━━━━━━━━━━━━━━━━━━━━━━━━━━━━━━━━━━━\u001b[0m \u001b[32m623.0/623.0 kB\u001b[0m \u001b[31m24.0 MB/s\u001b[0m eta \u001b[36m0:00:00\u001b[0m\n",
            "\u001b[?25hDownloading graphql_core-3.2.5-py3-none-any.whl (203 kB)\n",
            "\u001b[2K   \u001b[90m━━━━━━━━━━━━━━━━━━━━━━━━━━━━━━━━━━━━━━━━\u001b[0m \u001b[32m203.2/203.2 kB\u001b[0m \u001b[31m12.5 MB/s\u001b[0m eta \u001b[36m0:00:00\u001b[0m\n",
            "\u001b[?25hDownloading graphql_relay-3.2.0-py3-none-any.whl (16 kB)\n",
            "Downloading Mako-1.3.8-py3-none-any.whl (78 kB)\n",
            "\u001b[2K   \u001b[90m━━━━━━━━━━━━━━━━━━━━━━━━━━━━━━━━━━━━━━━━\u001b[0m \u001b[32m78.6/78.6 kB\u001b[0m \u001b[31m6.2 MB/s\u001b[0m eta \u001b[36m0:00:00\u001b[0m\n",
            "\u001b[?25hInstalling collected packages: Mako, gunicorn, graphql-core, graphql-relay, docker, alembic, graphene, databricks-sdk, mlflow-skinny, mlflow\n",
            "Successfully installed Mako-1.3.8 alembic-1.14.0 databricks-sdk-0.39.0 docker-7.1.0 graphene-3.4.3 graphql-core-3.2.5 graphql-relay-3.2.0 gunicorn-23.0.0 mlflow-2.19.0 mlflow-skinny-2.19.0\n"
          ]
        }
      ]
    },
    {
      "cell_type": "code",
      "source": [
        "!dvc --version"
      ],
      "metadata": {
        "colab": {
          "base_uri": "https://localhost:8080/"
        },
        "id": "pdMsSO_gE3FV",
        "outputId": "4d87b2ba-198c-451f-9b69-3c105d25b95c"
      },
      "execution_count": 3,
      "outputs": [
        {
          "output_type": "stream",
          "name": "stdout",
          "text": [
            "3.58.0\n",
            "\u001b[0m"
          ]
        }
      ]
    },
    {
      "cell_type": "code",
      "source": [
        "import os\n",
        "from IPython import get_ipython\n",
        "import mlflow"
      ],
      "metadata": {
        "id": "v6dRsOUbE4gv"
      },
      "execution_count": 4,
      "outputs": []
    },
    {
      "cell_type": "code",
      "source": [
        "!git config --global user.email \"rovargasc@unal.edu.co\"\n",
        "!git config --global user.name \"rovargasc\"\n",
        "!git config --global init.defaultBranch master"
      ],
      "metadata": {
        "id": "1XkmxiSTE55x"
      },
      "execution_count": 5,
      "outputs": []
    },
    {
      "cell_type": "code",
      "source": [
        "!git clone https://github.com/crabaqueropi/enfermedades_cardiacas_grupo_1.git"
      ],
      "metadata": {
        "colab": {
          "base_uri": "https://localhost:8080/"
        },
        "id": "YeIRLWJjE7KJ",
        "outputId": "311607e6-6435-4ad6-91e3-f29ed5aa3585"
      },
      "execution_count": 6,
      "outputs": [
        {
          "output_type": "stream",
          "name": "stdout",
          "text": [
            "Cloning into 'enfermedades_cardiacas_grupo_1'...\n",
            "remote: Enumerating objects: 169, done.\u001b[K\n",
            "remote: Counting objects: 100% (40/40), done.\u001b[K\n",
            "remote: Compressing objects: 100% (24/24), done.\u001b[K\n",
            "remote: Total 169 (delta 16), reused 40 (delta 16), pack-reused 129 (from 1)\u001b[K\n",
            "Receiving objects: 100% (169/169), 1.40 MiB | 3.71 MiB/s, done.\n",
            "Resolving deltas: 100% (50/50), done.\n"
          ]
        }
      ]
    },
    {
      "cell_type": "code",
      "source": [
        "%cd \"/content/enfermedades_cardiacas_grupo_1\""
      ],
      "metadata": {
        "colab": {
          "base_uri": "https://localhost:8080/"
        },
        "id": "m93yonSSE8m5",
        "outputId": "99ef2baf-9a72-431e-fe97-1719c77b4cfb"
      },
      "execution_count": 7,
      "outputs": [
        {
          "output_type": "stream",
          "name": "stdout",
          "text": [
            "/content/enfermedades_cardiacas_grupo_1\n"
          ]
        }
      ]
    },
    {
      "cell_type": "code",
      "source": [
        "!ls"
      ],
      "metadata": {
        "colab": {
          "base_uri": "https://localhost:8080/"
        },
        "id": "eZHmGp-bE-DF",
        "outputId": "0bcdb8cb-e991-43e5-cfcf-e7a6004d2575"
      },
      "execution_count": 7,
      "outputs": [
        {
          "output_type": "stream",
          "name": "stdout",
          "text": [
            "docs\t\t\t    heart_2022_no_nans.csv.dvc\t  pyproject.toml  scripts\n",
            "heart_2020_cleaned.csv.dvc  heart_2022_with_nans.csv.dvc  README.md\t  src\n"
          ]
        }
      ]
    },
    {
      "cell_type": "code",
      "source": [
        "!git init"
      ],
      "metadata": {
        "colab": {
          "base_uri": "https://localhost:8080/"
        },
        "id": "KeJz2gZUE_8R",
        "outputId": "144a2329-9067-40c4-e056-298627646944"
      },
      "execution_count": 8,
      "outputs": [
        {
          "output_type": "stream",
          "name": "stdout",
          "text": [
            "Reinitialized existing Git repository in /content/enfermedades_cardiacas_grupo_1/.git/\n"
          ]
        }
      ]
    },
    {
      "cell_type": "code",
      "source": [
        "!dvc init -f"
      ],
      "metadata": {
        "colab": {
          "base_uri": "https://localhost:8080/"
        },
        "id": "EUY43lHUFDoG",
        "outputId": "e5293e24-ed2e-4c9b-ceb2-ae4a1c66f8f9"
      },
      "execution_count": 9,
      "outputs": [
        {
          "output_type": "stream",
          "name": "stdout",
          "text": [
            "Initialized DVC repository.\n",
            "\n",
            "You can now commit the changes to git.\n",
            "\n",
            "\u001b[31m+---------------------------------------------------------------------+\n",
            "\u001b[0m\u001b[31m|\u001b[0m                                                                     \u001b[31m|\u001b[0m\n",
            "\u001b[31m|\u001b[0m        DVC has enabled anonymous aggregate usage analytics.         \u001b[31m|\u001b[0m\n",
            "\u001b[31m|\u001b[0m     Read the analytics documentation (and how to opt-out) here:     \u001b[31m|\u001b[0m\n",
            "\u001b[31m|\u001b[0m             <\u001b[36mhttps://dvc.org/doc/user-guide/analytics\u001b[39m>              \u001b[31m|\u001b[0m\n",
            "\u001b[31m|\u001b[0m                                                                     \u001b[31m|\u001b[0m\n",
            "\u001b[31m+---------------------------------------------------------------------+\n",
            "\u001b[0m\n",
            "\u001b[33mWhat's next?\u001b[39m\n",
            "\u001b[33m------------\u001b[39m\n",
            "- Check out the documentation: <\u001b[36mhttps://dvc.org/doc\u001b[39m>\n",
            "- Get help and share ideas: <\u001b[36mhttps://dvc.org/chat\u001b[39m>\n",
            "- Star us on GitHub: <\u001b[36mhttps://github.com/iterative/dvc\u001b[39m>\n",
            "\u001b[0m"
          ]
        }
      ]
    },
    {
      "cell_type": "code",
      "source": [
        "!ls -a"
      ],
      "metadata": {
        "id": "mrWciDZ_FG1L"
      },
      "execution_count": null,
      "outputs": []
    },
    {
      "cell_type": "code",
      "source": [
        "drive_id = \"1VpJLIEIIely_NcvUVKy0F5IXGUkr3e_S\" #\n",
        "os.environ[\"DRIVEID\"] = drive_id"
      ],
      "metadata": {
        "id": "NLNRXKU9FHg5"
      },
      "execution_count": 10,
      "outputs": []
    },
    {
      "cell_type": "code",
      "source": [
        "!dvc remote add -d storage \"gdrive://$DRIVEID\""
      ],
      "metadata": {
        "colab": {
          "base_uri": "https://localhost:8080/"
        },
        "id": "CZ-V2cixFKY3",
        "outputId": "b5752b3c-6e36-4ab1-e711-9c3eda8712ea"
      },
      "execution_count": 11,
      "outputs": [
        {
          "output_type": "stream",
          "name": "stdout",
          "text": [
            "Setting 'storage' as a default remote.\n",
            "\u001b[0m"
          ]
        }
      ]
    },
    {
      "cell_type": "code",
      "source": [
        "!dvc remote modify storage gdrive_use_service_account true"
      ],
      "metadata": {
        "colab": {
          "base_uri": "https://localhost:8080/"
        },
        "id": "rrl7Kkn6FMBX",
        "outputId": "191c780a-13b4-4680-8c54-a6746f5dc93d"
      },
      "execution_count": 12,
      "outputs": [
        {
          "output_type": "stream",
          "name": "stdout",
          "text": [
            "\u001b[0m"
          ]
        }
      ]
    },
    {
      "cell_type": "code",
      "source": [
        "import json\n",
        "with open(\"../credentials.json\") as f:\n",
        "    os.environ[\"GDRIVE_CREDENTIALS_DATA\"] = f.read()"
      ],
      "metadata": {
        "id": "fUqBiTcRFNrW"
      },
      "execution_count": 13,
      "outputs": []
    },
    {
      "cell_type": "code",
      "source": [
        "!dvc pull"
      ],
      "metadata": {
        "colab": {
          "base_uri": "https://localhost:8080/"
        },
        "id": "ImGbcPYjFTT4",
        "outputId": "542cf59e-a4ff-4cfa-9119-7cbe9e016899"
      },
      "execution_count": 14,
      "outputs": [
        {
          "output_type": "stream",
          "name": "stdout",
          "text": [
            "Collecting          |3.00 [00:00, 74.6entry/s]\n",
            "Fetching\n",
            "!\u001b[A\n",
            "  0% |          |0/? [00:00<?,    ?files/s]\u001b[A\n",
            "                                           \u001b[A\n",
            "!\u001b[A\n",
            "  0% |          |0/? [00:00<?,    ?files/s]\u001b[A\n",
            "  0% 1/256 [00:00<03:23,  1.25files/s{'info': ''}]\u001b[A\n",
            "                                                  \u001b[A\n",
            "Fetching from gdrive:   0% 0/3 [00:00<?, ?file/s]\u001b[A\n",
            "Fetching from gdrive:   0% 0/3 [00:00<?, ?file/s{'info': ''}]\u001b[A\n",
            "\n",
            "  0% 0.00/24.0M [00:00<?, ?B/s]\u001b[A\u001b[A\n",
            "\n",
            "  0% 0.00/24.0M [00:00<?, ?B/s{'info': ''}]\u001b[A\u001b[A\n",
            "\n",
            "100% 24.0M/24.0M [00:03<00:00, 6.56MB/s{'info': ''}]\u001b[A\u001b[A\n",
            "\n",
            "                                                    \u001b[A\u001b[A\n",
            "Fetching from gdrive:  33% 1/3 [00:04<00:08,  4.25s/file{'info': ''}]\u001b[A\n",
            "\n",
            "  0% 0.00/133M [00:00<?, ?B/s]\u001b[A\u001b[A\n",
            "\n",
            "  0% 0.00/133M [00:00<?, ?B/s{'info': ''}]\u001b[A\u001b[A\n",
            "\n",
            "\n",
            "  0% 0.00/78.2M [00:00<?, ?B/s]\u001b[A\u001b[A\u001b[A\n",
            "\n",
            "\n",
            "  0% 0.00/78.2M [00:00<?, ?B/s{'info': ''}]\u001b[A\u001b[A\u001b[A\n",
            "\n",
            " 75% 100M/133M [00:03<00:01, 33.2MB/s{'info': ''}]\u001b[A\u001b[A\n",
            "\n",
            "100% 133M/133M [00:05<00:00, 22.9MB/s{'info': ''}]\u001b[A\u001b[A\n",
            "\n",
            "                                                  \u001b[A\u001b[A\n",
            "Fetching from gdrive:  67% 2/3 [00:10<00:05,  5.52s/file{'info': ''}]\u001b[A\n",
            "\n",
            "\n",
            "100% 78.2M/78.2M [00:07<00:00, 11.7MB/s{'info': ''}]\u001b[A\u001b[A\u001b[A\n",
            "\n",
            "\n",
            "                                                    \u001b[A\u001b[A\u001b[A\n",
            "Fetching from gdrive: 100% 3/3 [00:12<00:00,  3.71s/file{'info': ''}]\u001b[A\n",
            "Fetching\n",
            "Building workspace index          |0.00 [00:00,    ?entry/s]\n",
            "Comparing indexes          |4.00 [00:00, 1.59kentry/s]\n",
            "Applying changes          |3.00 [00:00,  3.52file/s]\n",
            "\u001b[32mA\u001b[0m       heart_2022_with_nans.csv\n",
            "\u001b[32mA\u001b[0m       heart_2022_no_nans.csv\n",
            "\u001b[32mA\u001b[0m       heart_2020_cleaned.csv\n",
            "3 files added and 3 files fetched\n",
            "\u001b[0m"
          ]
        }
      ]
    },
    {
      "cell_type": "markdown",
      "source": [
        "### Configurar entorno de MLFlow"
      ],
      "metadata": {
        "id": "9egAjY2jFjhJ"
      }
    },
    {
      "cell_type": "code",
      "source": [
        "command = \"\"\"\n",
        "mlflow server \\\n",
        "        --backend-store-uri sqlite:///tracking.db \\\n",
        "        --default-artifact-root file:mlruns \\\n",
        "        -p 5000 &\n",
        "\"\"\"\n",
        "get_ipython().system_raw(command)"
      ],
      "metadata": {
        "id": "hhY-OFPTFlXa"
      },
      "execution_count": 15,
      "outputs": []
    },
    {
      "cell_type": "code",
      "source": [
        "token = \"2TIdGoUvDHvmXnnkubMRI5mhMyg_651AH1cda3hoQdyjN4nBB\" # Agregue el token dentro de las comillas\n",
        "os.environ[\"NGROK_TOKEN\"] = token"
      ],
      "metadata": {
        "id": "ucuh1MTJFr_t"
      },
      "execution_count": 16,
      "outputs": []
    },
    {
      "cell_type": "code",
      "source": [
        "!ngrok authtoken $NGROK_TOKEN"
      ],
      "metadata": {
        "colab": {
          "base_uri": "https://localhost:8080/"
        },
        "id": "npa7a71aFt5K",
        "outputId": "d0e8b3b7-9543-4e6f-acbf-31b2df558641"
      },
      "execution_count": 23,
      "outputs": [
        {
          "output_type": "stream",
          "name": "stdout",
          "text": [
            "Authtoken saved to configuration file: /root/.config/ngrok/ngrok.yml\n"
          ]
        }
      ]
    },
    {
      "cell_type": "code",
      "source": [
        "import os\n",
        "import time\n",
        "import requests\n",
        "import subprocess\n",
        "import mlflow\n",
        "import mlflow.sklearn\n",
        "from sklearn.datasets import load_iris\n",
        "from sklearn.model_selection import train_test_split\n",
        "from sklearn.linear_model import LogisticRegression\n",
        "from sklearn.metrics import accuracy_score, precision_score, recall_score, f1_score\n",
        "from pyngrok import ngrok\n",
        "import json\n",
        "import pandas as pd\n",
        "from sklearn.preprocessing import OneHotEncoder, StandardScaler, MinMaxScaler\n",
        "from sklearn.compose import ColumnTransformer\n"
      ],
      "metadata": {
        "id": "vm2Qv54sGQSG"
      },
      "execution_count": 21,
      "outputs": []
    },
    {
      "cell_type": "code",
      "source": [
        "# Configuración inicial para Google Colab\n",
        "# !apt-get install -y libsqlite3-dev\n",
        "# !pip install mlflow pyngrok scikit-learn pandas\n",
        "\n",
        "import os\n",
        "import time\n",
        "import subprocess\n",
        "import mlflow\n",
        "import mlflow.sklearn\n",
        "from sklearn.model_selection import train_test_split\n",
        "from sklearn.linear_model import LogisticRegression\n",
        "from sklearn.metrics import accuracy_score, precision_score, recall_score, f1_score\n",
        "from pyngrok import ngrok\n",
        "import pandas as pd\n",
        "from sklearn.preprocessing import OneHotEncoder, StandardScaler\n",
        "from sklearn.compose import ColumnTransformer\n",
        "\n",
        "# Configurar ngrok para exponer el servidor MLFlow\n",
        "ngrok_tunnel = ngrok.connect(5000)\n",
        "mlflow_url = ngrok_tunnel.public_url\n",
        "print(f\"MLFlow UI está disponible en: {mlflow_url}\")\n",
        "\n",
        "# Iniciar el servidor MLFlow como un proceso separado\n",
        "mlflow_process = subprocess.Popen(\n",
        "    [\"mlflow\", \"server\", \"--backend-store-uri\", \"sqlite:///tracking.db\", \"--default-artifact-root\", \"file:mlruns\", \"-p\", \"5000\"],\n",
        "    stdout=subprocess.PIPE,\n",
        "    stderr=subprocess.PIPE,\n",
        ")\n",
        "\n",
        "# Esperar a que el servidor MLFlow esté listo\n",
        "time.sleep(5)\n",
        "\n",
        "# Cargar datos\n",
        "data = pd.read_csv(\"heart_2022_no_nans.csv\")\n",
        "X = data.drop('HadHeartAttack', axis=1)\n",
        "y = data['HadHeartAttack']\n",
        "\n",
        "# Preprocesar datos\n",
        "categoricas = X.select_dtypes(include='object').columns.tolist()\n",
        "numericas = X.select_dtypes(exclude='object').columns.tolist()\n",
        "\n",
        "transformer = ColumnTransformer([\n",
        "    ('onehot', OneHotEncoder(), categoricas),\n",
        "    ('scaler', StandardScaler(), numericas)\n",
        "])\n",
        "\n",
        "X = transformer.fit_transform(X)\n",
        "\n",
        "# Dividir en entrenamiento y prueba\n",
        "X_train, X_test, y_train, y_test = train_test_split(X, y, test_size=0.2, random_state=42)\n",
        "\n",
        "# Configurar MLFlow\n",
        "mlflow.set_tracking_uri(\"http://127.0.0.1:5000\")  # URL del servidor de MLFlow (local)\n",
        "experiment_name = \"Logistic_Regression_Experiment\"\n"
      ],
      "metadata": {
        "colab": {
          "base_uri": "https://localhost:8080/"
        },
        "id": "6wVLXjUHJP2c",
        "outputId": "a53c15d2-c118-485a-ff8a-375404beb388"
      },
      "execution_count": 24,
      "outputs": [
        {
          "output_type": "stream",
          "name": "stdout",
          "text": [
            "MLFlow UI está disponible en: https://9727-34-168-246-78.ngrok-free.app\n"
          ]
        }
      ]
    },
    {
      "cell_type": "code",
      "source": [
        "# Crear experimento si no existe\n",
        "if not mlflow.get_experiment_by_name(experiment_name):\n",
        "    mlflow.create_experiment(experiment_name)\n",
        "\n",
        "mlflow.set_experiment(experiment_name)\n",
        "print(f\"Usando experimento: {experiment_name}\")\n"
      ],
      "metadata": {
        "colab": {
          "base_uri": "https://localhost:8080/"
        },
        "id": "wmHOTvP-JN5f",
        "outputId": "4c83993a-19d6-46f3-b837-7342c189e8c2"
      },
      "execution_count": 25,
      "outputs": [
        {
          "output_type": "stream",
          "name": "stdout",
          "text": [
            "Usando experimento: Logistic_Regression_Experiment\n"
          ]
        }
      ]
    },
    {
      "cell_type": "code",
      "source": [
        "\n",
        "# Entrenar el modelo y registrar en MLFlow\n",
        "with mlflow.start_run():\n",
        "    print(\"Ejecutando entrenamiento y registro en MLFlow...\")\n",
        "\n",
        "    # Entrenamiento del modelo\n",
        "    model = LogisticRegression(max_iter=200, random_state=42)\n",
        "    model.fit(X_train, y_train)\n",
        "\n",
        "    # Predicciones\n",
        "    y_pred = model.predict(X_test)\n",
        "\n",
        "    # Métricas\n",
        "    accuracy = accuracy_score(y_test, y_pred)\n",
        "    precision = precision_score(y_test, y_pred, average=\"weighted\")\n",
        "    recall = recall_score(y_test, y_pred, average=\"weighted\")\n",
        "    f1 = f1_score(y_test, y_pred, average=\"weighted\")\n",
        "\n",
        "    # Registrar métricas en MLFlow\n",
        "    mlflow.log_metric(\"accuracy\", accuracy)\n",
        "    mlflow.log_metric(\"precision\", precision)\n",
        "    mlflow.log_metric(\"recall\", recall)\n",
        "    mlflow.log_metric(\"f1_score\", f1)\n",
        "\n",
        "    # Registrar el modelo en MLFlow\n",
        "    mlflow.sklearn.log_model(model, \"logistic_regression_model\")\n",
        "\n",
        "    print(\"Modelo y métricas registradas en MLFlow.\")\n",
        "\n",
        "# Mantener el script corriendo\n",
        "try:\n",
        "    input(\"Presiona ENTER para detener el servidor...\")\n",
        "except KeyboardInterrupt:\n",
        "    print(\"Cerrando ngrok y el proceso de MLFlow...\")\n",
        "    ngrok.disconnect(ngrok_tunnel.public_url)\n",
        "    mlflow_process.terminate()\n"
      ],
      "metadata": {
        "colab": {
          "base_uri": "https://localhost:8080/"
        },
        "id": "yZrFenrYJXZf",
        "outputId": "717474bb-15e2-4669-f64e-a67714755d3a"
      },
      "execution_count": 26,
      "outputs": [
        {
          "output_type": "stream",
          "name": "stdout",
          "text": [
            "Ejecutando entrenamiento y registro en MLFlow...\n"
          ]
        },
        {
          "output_type": "stream",
          "name": "stderr",
          "text": [
            "\u001b[31m2024/12/14 22:20:22 WARNING mlflow.models.model: Model logged without a signature and input example. Please set `input_example` parameter when logging the model to auto infer the model signature.\u001b[0m\n"
          ]
        },
        {
          "name": "stdout",
          "output_type": "stream",
          "text": [
            "Modelo y métricas registradas en MLFlow.\n",
            "🏃 View run bemused-horse-628 at: http://127.0.0.1:5000/#/experiments/1/runs/29b03fc0b5ef4aadae4c5dce6bbf07c6\n",
            "🧪 View experiment at: http://127.0.0.1:5000/#/experiments/1\n",
            "Presiona ENTER para detener el servidor...\n"
          ]
        }
      ]
    },
    {
      "cell_type": "markdown",
      "source": [
        "## Random Forest"
      ],
      "metadata": {
        "id": "9CgKOj_XKG4J"
      }
    },
    {
      "cell_type": "code",
      "source": [
        "from sklearn.ensemble import RandomForestClassifier"
      ],
      "metadata": {
        "id": "_Kup-6zxKMah"
      },
      "execution_count": 38,
      "outputs": []
    },
    {
      "cell_type": "code",
      "source": [
        "# Configurar MLFlow para Random Forest\n",
        "mlflow.set_experiment(\"Random_Forest_Experiment\")\n",
        "\n",
        "# Entrenar el modelo de Random Forest y registrar en MLFlow\n",
        "with mlflow.start_run():\n",
        "    # Entrenamiento del modelo\n",
        "    model = RandomForestClassifier(n_estimators=100, max_depth=5, random_state=42)\n",
        "    model.fit(X_train, y_train)\n",
        "\n",
        "    # Predicciones\n",
        "    y_pred = model.predict(X_test)\n",
        "\n",
        "    # Métricas\n",
        "    accuracy = accuracy_score(y_test, y_pred)\n",
        "    precision = precision_score(y_test, y_pred, average=\"weighted\")\n",
        "    recall = recall_score(y_test, y_pred, average=\"weighted\")\n",
        "    f1 = f1_score(y_test, y_pred, average=\"weighted\")\n",
        "\n",
        "    # Registrar métricas en MLFlow\n",
        "    mlflow.log_metric(\"accuracy\", accuracy)\n",
        "    mlflow.log_metric(\"precision\", precision)\n",
        "    mlflow.log_metric(\"recall\", recall)\n",
        "    mlflow.log_metric(\"f1_score\", f1)\n",
        "\n",
        "    # Registrar el modelo en MLFlow\n",
        "    mlflow.sklearn.log_model(model, \"random_forest_model\")\n",
        "\n",
        "    print(\"Modelo Random Forest y métricas registradas en MLFlow.\")\n",
        "\n",
        "# Mantener el script corriendo\n",
        "try:\n",
        "    input(\"Presiona ENTER para detener el servidor...\")\n",
        "except KeyboardInterrupt:\n",
        "    print(\"Cerrando ngrok...\")\n",
        "    ngrok.kill()\n"
      ],
      "metadata": {
        "colab": {
          "base_uri": "https://localhost:8080/"
        },
        "id": "xkhnzvDhKIXY",
        "outputId": "f9fe7c5c-6875-48b4-9e20-804eb99dc05f"
      },
      "execution_count": 39,
      "outputs": [
        {
          "output_type": "stream",
          "name": "stderr",
          "text": [
            "2024/12/14 21:52:42 INFO mlflow.tracking.fluent: Experiment with name 'Random_Forest_Experiment' does not exist. Creating a new experiment.\n",
            "\u001b[31m2024/12/14 21:53:07 WARNING mlflow.models.model: Model logged without a signature and input example. Please set `input_example` parameter when logging the model to auto infer the model signature.\u001b[0m\n"
          ]
        },
        {
          "name": "stdout",
          "output_type": "stream",
          "text": [
            "Modelo Random Forest y métricas registradas en MLFlow.\n",
            "🏃 View run orderly-wren-620 at: http://127.0.0.1:5000/#/experiments/2/runs/0eb20d40415d4c48bf07aafefaa30bd7\n",
            "🧪 View experiment at: http://127.0.0.1:5000/#/experiments/2\n",
            "Presiona ENTER para detener el servidor...\n"
          ]
        }
      ]
    },
    {
      "cell_type": "markdown",
      "source": [
        "### Intentndo varios modelos"
      ],
      "metadata": {
        "id": "eHvCIT6tK2S5"
      }
    },
    {
      "cell_type": "code",
      "source": [
        "from itertools import product"
      ],
      "metadata": {
        "id": "1-50vA0BK8Er"
      },
      "execution_count": 41,
      "outputs": []
    },
    {
      "cell_type": "code",
      "source": [
        "mlflow.set_experiment(\"Logistic_Regression_Experiment\")\n",
        "\n",
        "# Entrenar y registrar modelos Logistic Regression con distintos hiperparámetros\n",
        "param_grid_lr = {\n",
        "    'max_iter': [100, 200],\n",
        "    'random_state': [42]\n",
        "}\n",
        "\n",
        "for params in product(*param_grid_lr.values()):\n",
        "    with mlflow.start_run():\n",
        "        param_dict = dict(zip(param_grid_lr.keys(), params))\n",
        "        model = LogisticRegression(**param_dict)\n",
        "        model.fit(X_train, y_train)\n",
        "\n",
        "        y_pred = model.predict(X_test)\n",
        "\n",
        "        # Métricas\n",
        "        accuracy = accuracy_score(y_test, y_pred)\n",
        "        precision = precision_score(y_test, y_pred, average=\"weighted\")\n",
        "        recall = recall_score(y_test, y_pred, average=\"weighted\")\n",
        "        f1 = f1_score(y_test, y_pred, average=\"weighted\")\n",
        "\n",
        "        # Registrar parámetros y métricas en MLFlow\n",
        "        mlflow.log_params(param_dict)\n",
        "        mlflow.log_metric(\"accuracy\", accuracy)\n",
        "        mlflow.log_metric(\"precision\", precision)\n",
        "        mlflow.log_metric(\"recall\", recall)\n",
        "        mlflow.log_metric(\"f1_score\", f1)\n",
        "\n",
        "        # Registrar el modelo\n",
        "        mlflow.sklearn.log_model(model, \"logistic_regression_model\")\n",
        "\n",
        "        print(f\"Modelo Logistic Regression con parámetros {param_dict} registrado en MLFlow.\")"
      ],
      "metadata": {
        "colab": {
          "base_uri": "https://localhost:8080/"
        },
        "id": "4A0N50vCK3cZ",
        "outputId": "982e59a1-2c61-46cd-dc49-402b95d962e3"
      },
      "execution_count": 42,
      "outputs": [
        {
          "output_type": "stream",
          "name": "stderr",
          "text": [
            "\u001b[31m2024/12/14 21:56:14 WARNING mlflow.models.model: Model logged without a signature and input example. Please set `input_example` parameter when logging the model to auto infer the model signature.\u001b[0m\n"
          ]
        },
        {
          "output_type": "stream",
          "name": "stdout",
          "text": [
            "Modelo Logistic Regression con parámetros {'max_iter': 100, 'random_state': 42} registrado en MLFlow.\n",
            "🏃 View run blushing-dove-788 at: http://127.0.0.1:5000/#/experiments/1/runs/ff55266239384b64b8e7607650a700b4\n",
            "🧪 View experiment at: http://127.0.0.1:5000/#/experiments/1\n"
          ]
        },
        {
          "output_type": "stream",
          "name": "stderr",
          "text": [
            "\u001b[31m2024/12/14 21:56:22 WARNING mlflow.models.model: Model logged without a signature and input example. Please set `input_example` parameter when logging the model to auto infer the model signature.\u001b[0m\n"
          ]
        },
        {
          "output_type": "stream",
          "name": "stdout",
          "text": [
            "Modelo Logistic Regression con parámetros {'max_iter': 200, 'random_state': 42} registrado en MLFlow.\n",
            "🏃 View run youthful-sponge-15 at: http://127.0.0.1:5000/#/experiments/1/runs/f40bb3ff792c46f6969690b6efd4d671\n",
            "🧪 View experiment at: http://127.0.0.1:5000/#/experiments/1\n"
          ]
        }
      ]
    },
    {
      "cell_type": "code",
      "source": [
        "# Entrenar y registrar modelos Random Forest con distintos hiperparámetros\n",
        "param_grid_rf = {\n",
        "    'n_estimators': [20, 50, 100],\n",
        "    'max_depth': [5, 10, 15],\n",
        "    'random_state': [42]\n",
        "}\n",
        "\n",
        "for params in product(*param_grid_rf.values()):\n",
        "    with mlflow.start_run():\n",
        "        param_dict = dict(zip(param_grid_rf.keys(), params))\n",
        "        model = RandomForestClassifier(**param_dict)\n",
        "        model.fit(X_train, y_train)\n",
        "\n",
        "        y_pred = model.predict(X_test)\n",
        "\n",
        "        # Métricas\n",
        "        accuracy = accuracy_score(y_test, y_pred)\n",
        "        precision = precision_score(y_test, y_pred, average=\"weighted\")\n",
        "        recall = recall_score(y_test, y_pred, average=\"weighted\")\n",
        "        f1 = f1_score(y_test, y_pred, average=\"weighted\")\n",
        "\n",
        "        # Registrar parámetros y métricas en MLFlow\n",
        "        mlflow.log_params(param_dict)\n",
        "        mlflow.log_metric(\"accuracy\", accuracy)\n",
        "        mlflow.log_metric(\"precision\", precision)\n",
        "        mlflow.log_metric(\"recall\", recall)\n",
        "        mlflow.log_metric(\"f1_score\", f1)\n",
        "\n",
        "        # Registrar el modelo\n",
        "        mlflow.sklearn.log_model(model, \"random_forest_model\")\n",
        "\n",
        "        print(f\"Modelo Random Forest con parámetros {param_dict} registrado en MLFlow.\")\n"
      ],
      "metadata": {
        "colab": {
          "base_uri": "https://localhost:8080/",
          "height": 1000
        },
        "id": "VhCBn3tmLR00",
        "outputId": "e85c2d62-71a7-47dc-a2f4-56b84e01abaa"
      },
      "execution_count": 44,
      "outputs": [
        {
          "output_type": "stream",
          "name": "stderr",
          "text": [
            "\u001b[31m2024/12/14 22:03:54 WARNING mlflow.models.model: Model logged without a signature and input example. Please set `input_example` parameter when logging the model to auto infer the model signature.\u001b[0m\n"
          ]
        },
        {
          "output_type": "stream",
          "name": "stdout",
          "text": [
            "Modelo Random Forest con parámetros {'n_estimators': 20, 'max_depth': 5, 'random_state': 42} registrado en MLFlow.\n",
            "🏃 View run shivering-snail-436 at: http://127.0.0.1:5000/#/experiments/1/runs/5a947ccbee5146ccb459c8dd43de469b\n",
            "🧪 View experiment at: http://127.0.0.1:5000/#/experiments/1\n"
          ]
        },
        {
          "output_type": "stream",
          "name": "stderr",
          "text": [
            "\u001b[31m2024/12/14 22:04:18 WARNING mlflow.models.model: Model logged without a signature and input example. Please set `input_example` parameter when logging the model to auto infer the model signature.\u001b[0m\n"
          ]
        },
        {
          "output_type": "stream",
          "name": "stdout",
          "text": [
            "Modelo Random Forest con parámetros {'n_estimators': 20, 'max_depth': 10, 'random_state': 42} registrado en MLFlow.\n",
            "🏃 View run gregarious-rat-781 at: http://127.0.0.1:5000/#/experiments/1/runs/66fc4c50f0714008afe9793613b8426c\n",
            "🧪 View experiment at: http://127.0.0.1:5000/#/experiments/1\n"
          ]
        },
        {
          "output_type": "stream",
          "name": "stderr",
          "text": [
            "\u001b[31m2024/12/14 22:05:11 WARNING mlflow.models.model: Model logged without a signature and input example. Please set `input_example` parameter when logging the model to auto infer the model signature.\u001b[0m\n"
          ]
        },
        {
          "output_type": "stream",
          "name": "stdout",
          "text": [
            "Modelo Random Forest con parámetros {'n_estimators': 20, 'max_depth': 15, 'random_state': 42} registrado en MLFlow.\n",
            "🏃 View run auspicious-horse-564 at: http://127.0.0.1:5000/#/experiments/1/runs/bc8f32ecd9a347409b0f36cb84bd30e9\n",
            "🧪 View experiment at: http://127.0.0.1:5000/#/experiments/1\n"
          ]
        },
        {
          "output_type": "stream",
          "name": "stderr",
          "text": [
            "\u001b[31m2024/12/14 22:05:28 WARNING mlflow.models.model: Model logged without a signature and input example. Please set `input_example` parameter when logging the model to auto infer the model signature.\u001b[0m\n"
          ]
        },
        {
          "output_type": "stream",
          "name": "stdout",
          "text": [
            "Modelo Random Forest con parámetros {'n_estimators': 50, 'max_depth': 5, 'random_state': 42} registrado en MLFlow.\n",
            "🏃 View run dashing-shrike-798 at: http://127.0.0.1:5000/#/experiments/1/runs/bc01b964cab845989b65c583b030fa4a\n",
            "🧪 View experiment at: http://127.0.0.1:5000/#/experiments/1\n"
          ]
        },
        {
          "output_type": "stream",
          "name": "stderr",
          "text": [
            "\u001b[31m2024/12/14 22:06:17 WARNING mlflow.models.model: Model logged without a signature and input example. Please set `input_example` parameter when logging the model to auto infer the model signature.\u001b[0m\n"
          ]
        },
        {
          "output_type": "stream",
          "name": "stdout",
          "text": [
            "Modelo Random Forest con parámetros {'n_estimators': 50, 'max_depth': 10, 'random_state': 42} registrado en MLFlow.\n",
            "🏃 View run charming-lark-748 at: http://127.0.0.1:5000/#/experiments/1/runs/f08704136b4f4431a9e6ea47adae70a0\n",
            "🧪 View experiment at: http://127.0.0.1:5000/#/experiments/1\n"
          ]
        },
        {
          "output_type": "stream",
          "name": "stderr",
          "text": [
            "\u001b[31m2024/12/14 22:08:17 WARNING mlflow.models.model: Model logged without a signature and input example. Please set `input_example` parameter when logging the model to auto infer the model signature.\u001b[0m\n"
          ]
        },
        {
          "output_type": "stream",
          "name": "stdout",
          "text": [
            "Modelo Random Forest con parámetros {'n_estimators': 50, 'max_depth': 15, 'random_state': 42} registrado en MLFlow.\n",
            "🏃 View run big-mule-979 at: http://127.0.0.1:5000/#/experiments/1/runs/b74d82bb352d42e5a608298260f24f42\n",
            "🧪 View experiment at: http://127.0.0.1:5000/#/experiments/1\n"
          ]
        },
        {
          "output_type": "stream",
          "name": "stderr",
          "text": [
            "\u001b[31m2024/12/14 22:08:44 WARNING mlflow.models.model: Model logged without a signature and input example. Please set `input_example` parameter when logging the model to auto infer the model signature.\u001b[0m\n"
          ]
        },
        {
          "output_type": "stream",
          "name": "stdout",
          "text": [
            "Modelo Random Forest con parámetros {'n_estimators': 100, 'max_depth': 5, 'random_state': 42} registrado en MLFlow.\n",
            "🏃 View run glamorous-stoat-443 at: http://127.0.0.1:5000/#/experiments/1/runs/600e3c0ee0cb4aef978a2acaba9fc2b0\n",
            "🧪 View experiment at: http://127.0.0.1:5000/#/experiments/1\n"
          ]
        },
        {
          "output_type": "stream",
          "name": "stderr",
          "text": [
            "\u001b[31m2024/12/14 22:10:23 WARNING mlflow.models.model: Model logged without a signature and input example. Please set `input_example` parameter when logging the model to auto infer the model signature.\u001b[0m\n"
          ]
        },
        {
          "output_type": "stream",
          "name": "stdout",
          "text": [
            "Modelo Random Forest con parámetros {'n_estimators': 100, 'max_depth': 10, 'random_state': 42} registrado en MLFlow.\n",
            "🏃 View run traveling-smelt-155 at: http://127.0.0.1:5000/#/experiments/1/runs/df893b8b64824b3087b86cc8e3210b19\n",
            "🧪 View experiment at: http://127.0.0.1:5000/#/experiments/1\n"
          ]
        },
        {
          "output_type": "stream",
          "name": "stderr",
          "text": [
            "WARNING:pyngrok.process.ngrok:t=2024-12-14T22:11:00+0000 lvl=warn msg=\"Stopping forwarder\" name=http-5000-cc836003-5403-4198-89b6-606e285a4b65 acceptErr=\"failed to accept connection: Listener closed\"\n",
            "WARNING:urllib3.connectionpool:Retrying (Retry(total=4, connect=4, read=5, redirect=5, status=5)) after connection broken by 'NewConnectionError('<urllib3.connection.HTTPConnection object at 0x785dcee7ea40>: Failed to establish a new connection: [Errno 111] Connection refused')': /api/2.0/mlflow/runs/get?run_uuid=7d8ccbb03b54458fbf3b7f743b7a5078&run_id=7d8ccbb03b54458fbf3b7f743b7a5078\n",
            "WARNING:urllib3.connectionpool:Retrying (Retry(total=3, connect=3, read=5, redirect=5, status=5)) after connection broken by 'NewConnectionError('<urllib3.connection.HTTPConnection object at 0x785dcf76d240>: Failed to establish a new connection: [Errno 111] Connection refused')': /api/2.0/mlflow/runs/get?run_uuid=7d8ccbb03b54458fbf3b7f743b7a5078&run_id=7d8ccbb03b54458fbf3b7f743b7a5078\n",
            "WARNING:urllib3.connectionpool:Retrying (Retry(total=2, connect=2, read=5, redirect=5, status=5)) after connection broken by 'NewConnectionError('<urllib3.connection.HTTPConnection object at 0x785dcf76fa90>: Failed to establish a new connection: [Errno 111] Connection refused')': /api/2.0/mlflow/runs/get?run_uuid=7d8ccbb03b54458fbf3b7f743b7a5078&run_id=7d8ccbb03b54458fbf3b7f743b7a5078\n",
            "WARNING:urllib3.connectionpool:Retrying (Retry(total=1, connect=1, read=5, redirect=5, status=5)) after connection broken by 'NewConnectionError('<urllib3.connection.HTTPConnection object at 0x785dcee7eb60>: Failed to establish a new connection: [Errno 111] Connection refused')': /api/2.0/mlflow/runs/get?run_uuid=7d8ccbb03b54458fbf3b7f743b7a5078&run_id=7d8ccbb03b54458fbf3b7f743b7a5078\n"
          ]
        },
        {
          "output_type": "error",
          "ename": "KeyboardInterrupt",
          "evalue": "",
          "traceback": [
            "\u001b[0;31m---------------------------------------------------------------------------\u001b[0m",
            "\u001b[0;31mKeyboardInterrupt\u001b[0m                         Traceback (most recent call last)",
            "\u001b[0;32m<ipython-input-44-06f2af91afbd>\u001b[0m in \u001b[0;36m<cell line: 8>\u001b[0;34m()\u001b[0m\n\u001b[1;32m     11\u001b[0m         \u001b[0mmodel\u001b[0m \u001b[0;34m=\u001b[0m \u001b[0mRandomForestClassifier\u001b[0m\u001b[0;34m(\u001b[0m\u001b[0;34m**\u001b[0m\u001b[0mparam_dict\u001b[0m\u001b[0;34m)\u001b[0m\u001b[0;34m\u001b[0m\u001b[0;34m\u001b[0m\u001b[0m\n\u001b[0;32m---> 12\u001b[0;31m         \u001b[0mmodel\u001b[0m\u001b[0;34m.\u001b[0m\u001b[0mfit\u001b[0m\u001b[0;34m(\u001b[0m\u001b[0mX_train\u001b[0m\u001b[0;34m,\u001b[0m \u001b[0my_train\u001b[0m\u001b[0;34m)\u001b[0m\u001b[0;34m\u001b[0m\u001b[0;34m\u001b[0m\u001b[0m\n\u001b[0m\u001b[1;32m     13\u001b[0m \u001b[0;34m\u001b[0m\u001b[0m\n",
            "\u001b[0;32m/usr/local/lib/python3.10/dist-packages/sklearn/base.py\u001b[0m in \u001b[0;36mwrapper\u001b[0;34m(estimator, *args, **kwargs)\u001b[0m\n\u001b[1;32m   1472\u001b[0m             ):\n\u001b[0;32m-> 1473\u001b[0;31m                 \u001b[0;32mreturn\u001b[0m \u001b[0mfit_method\u001b[0m\u001b[0;34m(\u001b[0m\u001b[0mestimator\u001b[0m\u001b[0;34m,\u001b[0m \u001b[0;34m*\u001b[0m\u001b[0margs\u001b[0m\u001b[0;34m,\u001b[0m \u001b[0;34m**\u001b[0m\u001b[0mkwargs\u001b[0m\u001b[0;34m)\u001b[0m\u001b[0;34m\u001b[0m\u001b[0;34m\u001b[0m\u001b[0m\n\u001b[0m\u001b[1;32m   1474\u001b[0m \u001b[0;34m\u001b[0m\u001b[0m\n",
            "\u001b[0;32m/usr/local/lib/python3.10/dist-packages/sklearn/ensemble/_forest.py\u001b[0m in \u001b[0;36mfit\u001b[0;34m(self, X, y, sample_weight)\u001b[0m\n\u001b[1;32m    488\u001b[0m             \u001b[0;31m# since correctness does not rely on using threads.\u001b[0m\u001b[0;34m\u001b[0m\u001b[0;34m\u001b[0m\u001b[0m\n\u001b[0;32m--> 489\u001b[0;31m             trees = Parallel(\n\u001b[0m\u001b[1;32m    490\u001b[0m                 \u001b[0mn_jobs\u001b[0m\u001b[0;34m=\u001b[0m\u001b[0mself\u001b[0m\u001b[0;34m.\u001b[0m\u001b[0mn_jobs\u001b[0m\u001b[0;34m,\u001b[0m\u001b[0;34m\u001b[0m\u001b[0;34m\u001b[0m\u001b[0m\n",
            "\u001b[0;32m/usr/local/lib/python3.10/dist-packages/sklearn/utils/parallel.py\u001b[0m in \u001b[0;36m__call__\u001b[0;34m(self, iterable)\u001b[0m\n\u001b[1;32m     73\u001b[0m         )\n\u001b[0;32m---> 74\u001b[0;31m         \u001b[0;32mreturn\u001b[0m \u001b[0msuper\u001b[0m\u001b[0;34m(\u001b[0m\u001b[0;34m)\u001b[0m\u001b[0;34m.\u001b[0m\u001b[0m__call__\u001b[0m\u001b[0;34m(\u001b[0m\u001b[0miterable_with_config\u001b[0m\u001b[0;34m)\u001b[0m\u001b[0;34m\u001b[0m\u001b[0;34m\u001b[0m\u001b[0m\n\u001b[0m\u001b[1;32m     75\u001b[0m \u001b[0;34m\u001b[0m\u001b[0m\n",
            "\u001b[0;32m/usr/local/lib/python3.10/dist-packages/joblib/parallel.py\u001b[0m in \u001b[0;36m__call__\u001b[0;34m(self, iterable)\u001b[0m\n\u001b[1;32m   1917\u001b[0m             \u001b[0mnext\u001b[0m\u001b[0;34m(\u001b[0m\u001b[0moutput\u001b[0m\u001b[0;34m)\u001b[0m\u001b[0;34m\u001b[0m\u001b[0;34m\u001b[0m\u001b[0m\n\u001b[0;32m-> 1918\u001b[0;31m             \u001b[0;32mreturn\u001b[0m \u001b[0moutput\u001b[0m \u001b[0;32mif\u001b[0m \u001b[0mself\u001b[0m\u001b[0;34m.\u001b[0m\u001b[0mreturn_generator\u001b[0m \u001b[0;32melse\u001b[0m \u001b[0mlist\u001b[0m\u001b[0;34m(\u001b[0m\u001b[0moutput\u001b[0m\u001b[0;34m)\u001b[0m\u001b[0;34m\u001b[0m\u001b[0;34m\u001b[0m\u001b[0m\n\u001b[0m\u001b[1;32m   1919\u001b[0m \u001b[0;34m\u001b[0m\u001b[0m\n",
            "\u001b[0;32m/usr/local/lib/python3.10/dist-packages/joblib/parallel.py\u001b[0m in \u001b[0;36m_get_sequential_output\u001b[0;34m(self, iterable)\u001b[0m\n\u001b[1;32m   1846\u001b[0m                 \u001b[0mself\u001b[0m\u001b[0;34m.\u001b[0m\u001b[0mn_dispatched_tasks\u001b[0m \u001b[0;34m+=\u001b[0m \u001b[0;36m1\u001b[0m\u001b[0;34m\u001b[0m\u001b[0;34m\u001b[0m\u001b[0m\n\u001b[0;32m-> 1847\u001b[0;31m                 \u001b[0mres\u001b[0m \u001b[0;34m=\u001b[0m \u001b[0mfunc\u001b[0m\u001b[0;34m(\u001b[0m\u001b[0;34m*\u001b[0m\u001b[0margs\u001b[0m\u001b[0;34m,\u001b[0m \u001b[0;34m**\u001b[0m\u001b[0mkwargs\u001b[0m\u001b[0;34m)\u001b[0m\u001b[0;34m\u001b[0m\u001b[0;34m\u001b[0m\u001b[0m\n\u001b[0m\u001b[1;32m   1848\u001b[0m                 \u001b[0mself\u001b[0m\u001b[0;34m.\u001b[0m\u001b[0mn_completed_tasks\u001b[0m \u001b[0;34m+=\u001b[0m \u001b[0;36m1\u001b[0m\u001b[0;34m\u001b[0m\u001b[0;34m\u001b[0m\u001b[0m\n",
            "\u001b[0;32m/usr/local/lib/python3.10/dist-packages/sklearn/utils/parallel.py\u001b[0m in \u001b[0;36m__call__\u001b[0;34m(self, *args, **kwargs)\u001b[0m\n\u001b[1;32m    135\u001b[0m         \u001b[0;32mwith\u001b[0m \u001b[0mconfig_context\u001b[0m\u001b[0;34m(\u001b[0m\u001b[0;34m**\u001b[0m\u001b[0mconfig\u001b[0m\u001b[0;34m)\u001b[0m\u001b[0;34m:\u001b[0m\u001b[0;34m\u001b[0m\u001b[0;34m\u001b[0m\u001b[0m\n\u001b[0;32m--> 136\u001b[0;31m             \u001b[0;32mreturn\u001b[0m \u001b[0mself\u001b[0m\u001b[0;34m.\u001b[0m\u001b[0mfunction\u001b[0m\u001b[0;34m(\u001b[0m\u001b[0;34m*\u001b[0m\u001b[0margs\u001b[0m\u001b[0;34m,\u001b[0m \u001b[0;34m**\u001b[0m\u001b[0mkwargs\u001b[0m\u001b[0;34m)\u001b[0m\u001b[0;34m\u001b[0m\u001b[0;34m\u001b[0m\u001b[0m\n\u001b[0m\u001b[1;32m    137\u001b[0m \u001b[0;34m\u001b[0m\u001b[0m\n",
            "\u001b[0;32m/usr/local/lib/python3.10/dist-packages/sklearn/ensemble/_forest.py\u001b[0m in \u001b[0;36m_parallel_build_trees\u001b[0;34m(tree, bootstrap, X, y, sample_weight, tree_idx, n_trees, verbose, class_weight, n_samples_bootstrap, missing_values_in_feature_mask)\u001b[0m\n\u001b[1;32m    191\u001b[0m \u001b[0;34m\u001b[0m\u001b[0m\n\u001b[0;32m--> 192\u001b[0;31m         tree._fit(\n\u001b[0m\u001b[1;32m    193\u001b[0m             \u001b[0mX\u001b[0m\u001b[0;34m,\u001b[0m\u001b[0;34m\u001b[0m\u001b[0;34m\u001b[0m\u001b[0m\n",
            "\u001b[0;32m/usr/local/lib/python3.10/dist-packages/sklearn/tree/_classes.py\u001b[0m in \u001b[0;36m_fit\u001b[0;34m(self, X, y, sample_weight, check_input, missing_values_in_feature_mask)\u001b[0m\n\u001b[1;32m    471\u001b[0m \u001b[0;34m\u001b[0m\u001b[0m\n\u001b[0;32m--> 472\u001b[0;31m         \u001b[0mbuilder\u001b[0m\u001b[0;34m.\u001b[0m\u001b[0mbuild\u001b[0m\u001b[0;34m(\u001b[0m\u001b[0mself\u001b[0m\u001b[0;34m.\u001b[0m\u001b[0mtree_\u001b[0m\u001b[0;34m,\u001b[0m \u001b[0mX\u001b[0m\u001b[0;34m,\u001b[0m \u001b[0my\u001b[0m\u001b[0;34m,\u001b[0m \u001b[0msample_weight\u001b[0m\u001b[0;34m,\u001b[0m \u001b[0mmissing_values_in_feature_mask\u001b[0m\u001b[0;34m)\u001b[0m\u001b[0;34m\u001b[0m\u001b[0;34m\u001b[0m\u001b[0m\n\u001b[0m\u001b[1;32m    473\u001b[0m \u001b[0;34m\u001b[0m\u001b[0m\n",
            "\u001b[0;31mKeyboardInterrupt\u001b[0m: ",
            "\nDuring handling of the above exception, another exception occurred:\n",
            "\u001b[0;31mConnectionRefusedError\u001b[0m                    Traceback (most recent call last)",
            "\u001b[0;32m/usr/local/lib/python3.10/dist-packages/urllib3/connection.py\u001b[0m in \u001b[0;36m_new_conn\u001b[0;34m(self)\u001b[0m\n\u001b[1;32m    198\u001b[0m         \u001b[0;32mtry\u001b[0m\u001b[0;34m:\u001b[0m\u001b[0;34m\u001b[0m\u001b[0;34m\u001b[0m\u001b[0m\n\u001b[0;32m--> 199\u001b[0;31m             sock = connection.create_connection(\n\u001b[0m\u001b[1;32m    200\u001b[0m                 \u001b[0;34m(\u001b[0m\u001b[0mself\u001b[0m\u001b[0;34m.\u001b[0m\u001b[0m_dns_host\u001b[0m\u001b[0;34m,\u001b[0m \u001b[0mself\u001b[0m\u001b[0;34m.\u001b[0m\u001b[0mport\u001b[0m\u001b[0;34m)\u001b[0m\u001b[0;34m,\u001b[0m\u001b[0;34m\u001b[0m\u001b[0;34m\u001b[0m\u001b[0m\n",
            "\u001b[0;32m/usr/local/lib/python3.10/dist-packages/urllib3/util/connection.py\u001b[0m in \u001b[0;36mcreate_connection\u001b[0;34m(address, timeout, source_address, socket_options)\u001b[0m\n\u001b[1;32m     84\u001b[0m         \u001b[0;32mtry\u001b[0m\u001b[0;34m:\u001b[0m\u001b[0;34m\u001b[0m\u001b[0;34m\u001b[0m\u001b[0m\n\u001b[0;32m---> 85\u001b[0;31m             \u001b[0;32mraise\u001b[0m \u001b[0merr\u001b[0m\u001b[0;34m\u001b[0m\u001b[0;34m\u001b[0m\u001b[0m\n\u001b[0m\u001b[1;32m     86\u001b[0m         \u001b[0;32mfinally\u001b[0m\u001b[0;34m:\u001b[0m\u001b[0;34m\u001b[0m\u001b[0;34m\u001b[0m\u001b[0m\n",
            "\u001b[0;32m/usr/local/lib/python3.10/dist-packages/urllib3/util/connection.py\u001b[0m in \u001b[0;36mcreate_connection\u001b[0;34m(address, timeout, source_address, socket_options)\u001b[0m\n\u001b[1;32m     72\u001b[0m                 \u001b[0msock\u001b[0m\u001b[0;34m.\u001b[0m\u001b[0mbind\u001b[0m\u001b[0;34m(\u001b[0m\u001b[0msource_address\u001b[0m\u001b[0;34m)\u001b[0m\u001b[0;34m\u001b[0m\u001b[0;34m\u001b[0m\u001b[0m\n\u001b[0;32m---> 73\u001b[0;31m             \u001b[0msock\u001b[0m\u001b[0;34m.\u001b[0m\u001b[0mconnect\u001b[0m\u001b[0;34m(\u001b[0m\u001b[0msa\u001b[0m\u001b[0;34m)\u001b[0m\u001b[0;34m\u001b[0m\u001b[0;34m\u001b[0m\u001b[0m\n\u001b[0m\u001b[1;32m     74\u001b[0m             \u001b[0;31m# Break explicitly a reference cycle\u001b[0m\u001b[0;34m\u001b[0m\u001b[0;34m\u001b[0m\u001b[0m\n",
            "\u001b[0;31mConnectionRefusedError\u001b[0m: [Errno 111] Connection refused",
            "\nThe above exception was the direct cause of the following exception:\n",
            "\u001b[0;31mNewConnectionError\u001b[0m                        Traceback (most recent call last)",
            "\u001b[0;32m/usr/local/lib/python3.10/dist-packages/urllib3/connectionpool.py\u001b[0m in \u001b[0;36murlopen\u001b[0;34m(self, method, url, body, headers, retries, redirect, assert_same_host, timeout, pool_timeout, release_conn, chunked, body_pos, preload_content, decode_content, **response_kw)\u001b[0m\n\u001b[1;32m    788\u001b[0m             \u001b[0;31m# Make the request on the HTTPConnection object\u001b[0m\u001b[0;34m\u001b[0m\u001b[0;34m\u001b[0m\u001b[0m\n\u001b[0;32m--> 789\u001b[0;31m             response = self._make_request(\n\u001b[0m\u001b[1;32m    790\u001b[0m                 \u001b[0mconn\u001b[0m\u001b[0;34m,\u001b[0m\u001b[0;34m\u001b[0m\u001b[0;34m\u001b[0m\u001b[0m\n",
            "\u001b[0;32m/usr/local/lib/python3.10/dist-packages/urllib3/connectionpool.py\u001b[0m in \u001b[0;36m_make_request\u001b[0;34m(self, conn, method, url, body, headers, retries, timeout, chunked, response_conn, preload_content, decode_content, enforce_content_length)\u001b[0m\n\u001b[1;32m    494\u001b[0m         \u001b[0;32mtry\u001b[0m\u001b[0;34m:\u001b[0m\u001b[0;34m\u001b[0m\u001b[0;34m\u001b[0m\u001b[0m\n\u001b[0;32m--> 495\u001b[0;31m             conn.request(\n\u001b[0m\u001b[1;32m    496\u001b[0m                 \u001b[0mmethod\u001b[0m\u001b[0;34m,\u001b[0m\u001b[0;34m\u001b[0m\u001b[0;34m\u001b[0m\u001b[0m\n",
            "\u001b[0;32m/usr/local/lib/python3.10/dist-packages/urllib3/connection.py\u001b[0m in \u001b[0;36mrequest\u001b[0;34m(self, method, url, body, headers, chunked, preload_content, decode_content, enforce_content_length)\u001b[0m\n\u001b[1;32m    440\u001b[0m             \u001b[0mself\u001b[0m\u001b[0;34m.\u001b[0m\u001b[0mputheader\u001b[0m\u001b[0;34m(\u001b[0m\u001b[0mheader\u001b[0m\u001b[0;34m,\u001b[0m \u001b[0mvalue\u001b[0m\u001b[0;34m)\u001b[0m\u001b[0;34m\u001b[0m\u001b[0;34m\u001b[0m\u001b[0m\n\u001b[0;32m--> 441\u001b[0;31m         \u001b[0mself\u001b[0m\u001b[0;34m.\u001b[0m\u001b[0mendheaders\u001b[0m\u001b[0;34m(\u001b[0m\u001b[0;34m)\u001b[0m\u001b[0;34m\u001b[0m\u001b[0;34m\u001b[0m\u001b[0m\n\u001b[0m\u001b[1;32m    442\u001b[0m \u001b[0;34m\u001b[0m\u001b[0m\n",
            "\u001b[0;32m/usr/lib/python3.10/http/client.py\u001b[0m in \u001b[0;36mendheaders\u001b[0;34m(self, message_body, encode_chunked)\u001b[0m\n\u001b[1;32m   1277\u001b[0m             \u001b[0;32mraise\u001b[0m \u001b[0mCannotSendHeader\u001b[0m\u001b[0;34m(\u001b[0m\u001b[0;34m)\u001b[0m\u001b[0;34m\u001b[0m\u001b[0;34m\u001b[0m\u001b[0m\n\u001b[0;32m-> 1278\u001b[0;31m         \u001b[0mself\u001b[0m\u001b[0;34m.\u001b[0m\u001b[0m_send_output\u001b[0m\u001b[0;34m(\u001b[0m\u001b[0mmessage_body\u001b[0m\u001b[0;34m,\u001b[0m \u001b[0mencode_chunked\u001b[0m\u001b[0;34m=\u001b[0m\u001b[0mencode_chunked\u001b[0m\u001b[0;34m)\u001b[0m\u001b[0;34m\u001b[0m\u001b[0;34m\u001b[0m\u001b[0m\n\u001b[0m\u001b[1;32m   1279\u001b[0m \u001b[0;34m\u001b[0m\u001b[0m\n",
            "\u001b[0;32m/usr/lib/python3.10/http/client.py\u001b[0m in \u001b[0;36m_send_output\u001b[0;34m(self, message_body, encode_chunked)\u001b[0m\n\u001b[1;32m   1037\u001b[0m         \u001b[0;32mdel\u001b[0m \u001b[0mself\u001b[0m\u001b[0;34m.\u001b[0m\u001b[0m_buffer\u001b[0m\u001b[0;34m[\u001b[0m\u001b[0;34m:\u001b[0m\u001b[0;34m]\u001b[0m\u001b[0;34m\u001b[0m\u001b[0;34m\u001b[0m\u001b[0m\n\u001b[0;32m-> 1038\u001b[0;31m         \u001b[0mself\u001b[0m\u001b[0;34m.\u001b[0m\u001b[0msend\u001b[0m\u001b[0;34m(\u001b[0m\u001b[0mmsg\u001b[0m\u001b[0;34m)\u001b[0m\u001b[0;34m\u001b[0m\u001b[0;34m\u001b[0m\u001b[0m\n\u001b[0m\u001b[1;32m   1039\u001b[0m \u001b[0;34m\u001b[0m\u001b[0m\n",
            "\u001b[0;32m/usr/lib/python3.10/http/client.py\u001b[0m in \u001b[0;36msend\u001b[0;34m(self, data)\u001b[0m\n\u001b[1;32m    975\u001b[0m             \u001b[0;32mif\u001b[0m \u001b[0mself\u001b[0m\u001b[0;34m.\u001b[0m\u001b[0mauto_open\u001b[0m\u001b[0;34m:\u001b[0m\u001b[0;34m\u001b[0m\u001b[0;34m\u001b[0m\u001b[0m\n\u001b[0;32m--> 976\u001b[0;31m                 \u001b[0mself\u001b[0m\u001b[0;34m.\u001b[0m\u001b[0mconnect\u001b[0m\u001b[0;34m(\u001b[0m\u001b[0;34m)\u001b[0m\u001b[0;34m\u001b[0m\u001b[0;34m\u001b[0m\u001b[0m\n\u001b[0m\u001b[1;32m    977\u001b[0m             \u001b[0;32melse\u001b[0m\u001b[0;34m:\u001b[0m\u001b[0;34m\u001b[0m\u001b[0;34m\u001b[0m\u001b[0m\n",
            "\u001b[0;32m/usr/local/lib/python3.10/dist-packages/urllib3/connection.py\u001b[0m in \u001b[0;36mconnect\u001b[0;34m(self)\u001b[0m\n\u001b[1;32m    278\u001b[0m     \u001b[0;32mdef\u001b[0m \u001b[0mconnect\u001b[0m\u001b[0;34m(\u001b[0m\u001b[0mself\u001b[0m\u001b[0;34m)\u001b[0m \u001b[0;34m->\u001b[0m \u001b[0;32mNone\u001b[0m\u001b[0;34m:\u001b[0m\u001b[0;34m\u001b[0m\u001b[0;34m\u001b[0m\u001b[0m\n\u001b[0;32m--> 279\u001b[0;31m         \u001b[0mself\u001b[0m\u001b[0;34m.\u001b[0m\u001b[0msock\u001b[0m \u001b[0;34m=\u001b[0m \u001b[0mself\u001b[0m\u001b[0;34m.\u001b[0m\u001b[0m_new_conn\u001b[0m\u001b[0;34m(\u001b[0m\u001b[0;34m)\u001b[0m\u001b[0;34m\u001b[0m\u001b[0;34m\u001b[0m\u001b[0m\n\u001b[0m\u001b[1;32m    280\u001b[0m         \u001b[0;32mif\u001b[0m \u001b[0mself\u001b[0m\u001b[0;34m.\u001b[0m\u001b[0m_tunnel_host\u001b[0m\u001b[0;34m:\u001b[0m\u001b[0;34m\u001b[0m\u001b[0;34m\u001b[0m\u001b[0m\n",
            "\u001b[0;32m/usr/local/lib/python3.10/dist-packages/urllib3/connection.py\u001b[0m in \u001b[0;36m_new_conn\u001b[0;34m(self)\u001b[0m\n\u001b[1;32m    213\u001b[0m         \u001b[0;32mexcept\u001b[0m \u001b[0mOSError\u001b[0m \u001b[0;32mas\u001b[0m \u001b[0me\u001b[0m\u001b[0;34m:\u001b[0m\u001b[0;34m\u001b[0m\u001b[0;34m\u001b[0m\u001b[0m\n\u001b[0;32m--> 214\u001b[0;31m             raise NewConnectionError(\n\u001b[0m\u001b[1;32m    215\u001b[0m                 \u001b[0mself\u001b[0m\u001b[0;34m,\u001b[0m \u001b[0;34mf\"Failed to establish a new connection: {e}\"\u001b[0m\u001b[0;34m\u001b[0m\u001b[0;34m\u001b[0m\u001b[0m\n",
            "\u001b[0;31mNewConnectionError\u001b[0m: <urllib3.connection.HTTPConnection object at 0x785dc791fe20>: Failed to establish a new connection: [Errno 111] Connection refused",
            "\nDuring handling of the above exception, another exception occurred:\n",
            "\u001b[0;31mKeyboardInterrupt\u001b[0m                         Traceback (most recent call last)",
            "\u001b[0;32m<ipython-input-44-06f2af91afbd>\u001b[0m in \u001b[0;36m<cell line: 8>\u001b[0;34m()\u001b[0m\n\u001b[1;32m      7\u001b[0m \u001b[0;34m\u001b[0m\u001b[0m\n\u001b[1;32m      8\u001b[0m \u001b[0;32mfor\u001b[0m \u001b[0mparams\u001b[0m \u001b[0;32min\u001b[0m \u001b[0mproduct\u001b[0m\u001b[0;34m(\u001b[0m\u001b[0;34m*\u001b[0m\u001b[0mparam_grid_rf\u001b[0m\u001b[0;34m.\u001b[0m\u001b[0mvalues\u001b[0m\u001b[0;34m(\u001b[0m\u001b[0;34m)\u001b[0m\u001b[0;34m)\u001b[0m\u001b[0;34m:\u001b[0m\u001b[0;34m\u001b[0m\u001b[0;34m\u001b[0m\u001b[0m\n\u001b[0;32m----> 9\u001b[0;31m     \u001b[0;32mwith\u001b[0m \u001b[0mmlflow\u001b[0m\u001b[0;34m.\u001b[0m\u001b[0mstart_run\u001b[0m\u001b[0;34m(\u001b[0m\u001b[0;34m)\u001b[0m\u001b[0;34m:\u001b[0m\u001b[0;34m\u001b[0m\u001b[0;34m\u001b[0m\u001b[0m\n\u001b[0m\u001b[1;32m     10\u001b[0m         \u001b[0mparam_dict\u001b[0m \u001b[0;34m=\u001b[0m \u001b[0mdict\u001b[0m\u001b[0;34m(\u001b[0m\u001b[0mzip\u001b[0m\u001b[0;34m(\u001b[0m\u001b[0mparam_grid_rf\u001b[0m\u001b[0;34m.\u001b[0m\u001b[0mkeys\u001b[0m\u001b[0;34m(\u001b[0m\u001b[0;34m)\u001b[0m\u001b[0;34m,\u001b[0m \u001b[0mparams\u001b[0m\u001b[0;34m)\u001b[0m\u001b[0;34m)\u001b[0m\u001b[0;34m\u001b[0m\u001b[0;34m\u001b[0m\u001b[0m\n\u001b[1;32m     11\u001b[0m         \u001b[0mmodel\u001b[0m \u001b[0;34m=\u001b[0m \u001b[0mRandomForestClassifier\u001b[0m\u001b[0;34m(\u001b[0m\u001b[0;34m**\u001b[0m\u001b[0mparam_dict\u001b[0m\u001b[0;34m)\u001b[0m\u001b[0;34m\u001b[0m\u001b[0;34m\u001b[0m\u001b[0m\n",
            "\u001b[0;32m/usr/local/lib/python3.10/dist-packages/mlflow/tracking/fluent.py\u001b[0m in \u001b[0;36m__exit__\u001b[0;34m(self, exc_type, exc_val, exc_tb)\u001b[0m\n\u001b[1;32m    227\u001b[0m         \u001b[0;32mif\u001b[0m \u001b[0many\u001b[0m\u001b[0;34m(\u001b[0m\u001b[0mr\u001b[0m\u001b[0;34m.\u001b[0m\u001b[0minfo\u001b[0m\u001b[0;34m.\u001b[0m\u001b[0mrun_id\u001b[0m \u001b[0;34m==\u001b[0m \u001b[0mself\u001b[0m\u001b[0;34m.\u001b[0m\u001b[0minfo\u001b[0m\u001b[0;34m.\u001b[0m\u001b[0mrun_id\u001b[0m \u001b[0;32mfor\u001b[0m \u001b[0mr\u001b[0m \u001b[0;32min\u001b[0m \u001b[0mactive_run_stack\u001b[0m\u001b[0;34m)\u001b[0m\u001b[0;34m:\u001b[0m\u001b[0;34m\u001b[0m\u001b[0;34m\u001b[0m\u001b[0m\n\u001b[1;32m    228\u001b[0m             \u001b[0mstatus\u001b[0m \u001b[0;34m=\u001b[0m \u001b[0mRunStatus\u001b[0m\u001b[0;34m.\u001b[0m\u001b[0mFINISHED\u001b[0m \u001b[0;32mif\u001b[0m \u001b[0mexc_type\u001b[0m \u001b[0;32mis\u001b[0m \u001b[0;32mNone\u001b[0m \u001b[0;32melse\u001b[0m \u001b[0mRunStatus\u001b[0m\u001b[0;34m.\u001b[0m\u001b[0mFAILED\u001b[0m\u001b[0;34m\u001b[0m\u001b[0;34m\u001b[0m\u001b[0m\n\u001b[0;32m--> 229\u001b[0;31m             \u001b[0mend_run\u001b[0m\u001b[0;34m(\u001b[0m\u001b[0mRunStatus\u001b[0m\u001b[0;34m.\u001b[0m\u001b[0mto_string\u001b[0m\u001b[0;34m(\u001b[0m\u001b[0mstatus\u001b[0m\u001b[0;34m)\u001b[0m\u001b[0;34m)\u001b[0m\u001b[0;34m\u001b[0m\u001b[0;34m\u001b[0m\u001b[0m\n\u001b[0m\u001b[1;32m    230\u001b[0m \u001b[0;34m\u001b[0m\u001b[0m\n\u001b[1;32m    231\u001b[0m         \u001b[0;32mreturn\u001b[0m \u001b[0mexc_type\u001b[0m \u001b[0;32mis\u001b[0m \u001b[0;32mNone\u001b[0m\u001b[0;34m\u001b[0m\u001b[0;34m\u001b[0m\u001b[0m\n",
            "\u001b[0;32m/usr/local/lib/python3.10/dist-packages/mlflow/tracking/fluent.py\u001b[0m in \u001b[0;36mend_run\u001b[0;34m(status)\u001b[0m\n\u001b[1;32m    517\u001b[0m         \u001b[0mlast_active_run_id\u001b[0m \u001b[0;34m=\u001b[0m \u001b[0mrun\u001b[0m\u001b[0;34m.\u001b[0m\u001b[0minfo\u001b[0m\u001b[0;34m.\u001b[0m\u001b[0mrun_id\u001b[0m\u001b[0;34m\u001b[0m\u001b[0;34m\u001b[0m\u001b[0m\n\u001b[1;32m    518\u001b[0m         \u001b[0m_last_active_run_id\u001b[0m\u001b[0;34m.\u001b[0m\u001b[0mset\u001b[0m\u001b[0;34m(\u001b[0m\u001b[0mlast_active_run_id\u001b[0m\u001b[0;34m)\u001b[0m\u001b[0;34m\u001b[0m\u001b[0;34m\u001b[0m\u001b[0m\n\u001b[0;32m--> 519\u001b[0;31m         \u001b[0mMlflowClient\u001b[0m\u001b[0;34m(\u001b[0m\u001b[0;34m)\u001b[0m\u001b[0;34m.\u001b[0m\u001b[0mset_terminated\u001b[0m\u001b[0;34m(\u001b[0m\u001b[0mlast_active_run_id\u001b[0m\u001b[0;34m,\u001b[0m \u001b[0mstatus\u001b[0m\u001b[0;34m)\u001b[0m\u001b[0;34m\u001b[0m\u001b[0;34m\u001b[0m\u001b[0m\n\u001b[0m\u001b[1;32m    520\u001b[0m         \u001b[0;32mif\u001b[0m \u001b[0mlast_active_run_id\u001b[0m \u001b[0;32min\u001b[0m \u001b[0mrun_id_to_system_metrics_monitor\u001b[0m\u001b[0;34m:\u001b[0m\u001b[0;34m\u001b[0m\u001b[0;34m\u001b[0m\u001b[0m\n\u001b[1;32m    521\u001b[0m             \u001b[0msystem_metrics_monitor\u001b[0m \u001b[0;34m=\u001b[0m \u001b[0mrun_id_to_system_metrics_monitor\u001b[0m\u001b[0;34m.\u001b[0m\u001b[0mpop\u001b[0m\u001b[0;34m(\u001b[0m\u001b[0mlast_active_run_id\u001b[0m\u001b[0;34m)\u001b[0m\u001b[0;34m\u001b[0m\u001b[0;34m\u001b[0m\u001b[0m\n",
            "\u001b[0;32m/usr/local/lib/python3.10/dist-packages/mlflow/tracking/client.py\u001b[0m in \u001b[0;36mset_terminated\u001b[0;34m(self, run_id, status, end_time)\u001b[0m\n\u001b[1;32m   2903\u001b[0m \u001b[0;34m\u001b[0m\u001b[0m\n\u001b[1;32m   2904\u001b[0m         \"\"\"\n\u001b[0;32m-> 2905\u001b[0;31m         \u001b[0mself\u001b[0m\u001b[0;34m.\u001b[0m\u001b[0m_tracking_client\u001b[0m\u001b[0;34m.\u001b[0m\u001b[0mset_terminated\u001b[0m\u001b[0;34m(\u001b[0m\u001b[0mrun_id\u001b[0m\u001b[0;34m,\u001b[0m \u001b[0mstatus\u001b[0m\u001b[0;34m,\u001b[0m \u001b[0mend_time\u001b[0m\u001b[0;34m)\u001b[0m\u001b[0;34m\u001b[0m\u001b[0;34m\u001b[0m\u001b[0m\n\u001b[0m\u001b[1;32m   2906\u001b[0m \u001b[0;34m\u001b[0m\u001b[0m\n\u001b[1;32m   2907\u001b[0m     \u001b[0;32mdef\u001b[0m \u001b[0mdelete_run\u001b[0m\u001b[0;34m(\u001b[0m\u001b[0mself\u001b[0m\u001b[0;34m,\u001b[0m \u001b[0mrun_id\u001b[0m\u001b[0;34m:\u001b[0m \u001b[0mstr\u001b[0m\u001b[0;34m)\u001b[0m \u001b[0;34m->\u001b[0m \u001b[0;32mNone\u001b[0m\u001b[0;34m:\u001b[0m\u001b[0;34m\u001b[0m\u001b[0;34m\u001b[0m\u001b[0m\n",
            "\u001b[0;32m/usr/local/lib/python3.10/dist-packages/mlflow/tracking/_tracking_service/client.py\u001b[0m in \u001b[0;36mset_terminated\u001b[0;34m(self, run_id, status, end_time)\u001b[0m\n\u001b[1;32m    940\u001b[0m         \u001b[0;31m# submitted for logging, but not necessarily finished logging.\u001b[0m\u001b[0;34m\u001b[0m\u001b[0;34m\u001b[0m\u001b[0m\n\u001b[1;32m    941\u001b[0m         \u001b[0mself\u001b[0m\u001b[0;34m.\u001b[0m\u001b[0mstore\u001b[0m\u001b[0;34m.\u001b[0m\u001b[0mshut_down_async_logging\u001b[0m\u001b[0;34m(\u001b[0m\u001b[0;34m)\u001b[0m\u001b[0;34m\u001b[0m\u001b[0;34m\u001b[0m\u001b[0m\n\u001b[0;32m--> 942\u001b[0;31m         \u001b[0mself\u001b[0m\u001b[0;34m.\u001b[0m\u001b[0m_log_url\u001b[0m\u001b[0;34m(\u001b[0m\u001b[0mrun_id\u001b[0m\u001b[0;34m)\u001b[0m\u001b[0;34m\u001b[0m\u001b[0;34m\u001b[0m\u001b[0m\n\u001b[0m\u001b[1;32m    943\u001b[0m         self.store.update_run_info(\n\u001b[1;32m    944\u001b[0m             \u001b[0mrun_id\u001b[0m\u001b[0;34m,\u001b[0m\u001b[0;34m\u001b[0m\u001b[0;34m\u001b[0m\u001b[0m\n",
            "\u001b[0;32m/usr/local/lib/python3.10/dist-packages/mlflow/tracking/_tracking_service/client.py\u001b[0m in \u001b[0;36m_log_url\u001b[0;34m(self, run_id)\u001b[0m\n\u001b[1;32m    914\u001b[0m         \u001b[0;32mif\u001b[0m \u001b[0mhost_url\u001b[0m \u001b[0;32mis\u001b[0m \u001b[0;32mNone\u001b[0m\u001b[0;34m:\u001b[0m\u001b[0;34m\u001b[0m\u001b[0;34m\u001b[0m\u001b[0m\n\u001b[1;32m    915\u001b[0m             \u001b[0mhost_url\u001b[0m \u001b[0;34m=\u001b[0m \u001b[0mself\u001b[0m\u001b[0;34m.\u001b[0m\u001b[0mstore\u001b[0m\u001b[0;34m.\u001b[0m\u001b[0mget_host_creds\u001b[0m\u001b[0;34m(\u001b[0m\u001b[0;34m)\u001b[0m\u001b[0;34m.\u001b[0m\u001b[0mhost\u001b[0m\u001b[0;34m.\u001b[0m\u001b[0mrstrip\u001b[0m\u001b[0;34m(\u001b[0m\u001b[0;34m\"/\"\u001b[0m\u001b[0;34m)\u001b[0m\u001b[0;34m\u001b[0m\u001b[0;34m\u001b[0m\u001b[0m\n\u001b[0;32m--> 916\u001b[0;31m         \u001b[0mrun_info\u001b[0m \u001b[0;34m=\u001b[0m \u001b[0mself\u001b[0m\u001b[0;34m.\u001b[0m\u001b[0mstore\u001b[0m\u001b[0;34m.\u001b[0m\u001b[0mget_run\u001b[0m\u001b[0;34m(\u001b[0m\u001b[0mrun_id\u001b[0m\u001b[0;34m)\u001b[0m\u001b[0;34m.\u001b[0m\u001b[0minfo\u001b[0m\u001b[0;34m\u001b[0m\u001b[0;34m\u001b[0m\u001b[0m\n\u001b[0m\u001b[1;32m    917\u001b[0m         \u001b[0mexperiment_id\u001b[0m \u001b[0;34m=\u001b[0m \u001b[0mrun_info\u001b[0m\u001b[0;34m.\u001b[0m\u001b[0mexperiment_id\u001b[0m\u001b[0;34m\u001b[0m\u001b[0;34m\u001b[0m\u001b[0m\n\u001b[1;32m    918\u001b[0m         \u001b[0mrun_name\u001b[0m \u001b[0;34m=\u001b[0m \u001b[0mrun_info\u001b[0m\u001b[0;34m.\u001b[0m\u001b[0mrun_name\u001b[0m\u001b[0;34m\u001b[0m\u001b[0;34m\u001b[0m\u001b[0m\n",
            "\u001b[0;32m/usr/local/lib/python3.10/dist-packages/mlflow/store/tracking/rest_store.py\u001b[0m in \u001b[0;36mget_run\u001b[0;34m(self, run_id)\u001b[0m\n\u001b[1;32m    167\u001b[0m         \"\"\"\n\u001b[1;32m    168\u001b[0m         \u001b[0mreq_body\u001b[0m \u001b[0;34m=\u001b[0m \u001b[0mmessage_to_json\u001b[0m\u001b[0;34m(\u001b[0m\u001b[0mGetRun\u001b[0m\u001b[0;34m(\u001b[0m\u001b[0mrun_uuid\u001b[0m\u001b[0;34m=\u001b[0m\u001b[0mrun_id\u001b[0m\u001b[0;34m,\u001b[0m \u001b[0mrun_id\u001b[0m\u001b[0;34m=\u001b[0m\u001b[0mrun_id\u001b[0m\u001b[0;34m)\u001b[0m\u001b[0;34m)\u001b[0m\u001b[0;34m\u001b[0m\u001b[0;34m\u001b[0m\u001b[0m\n\u001b[0;32m--> 169\u001b[0;31m         \u001b[0mresponse_proto\u001b[0m \u001b[0;34m=\u001b[0m \u001b[0mself\u001b[0m\u001b[0;34m.\u001b[0m\u001b[0m_call_endpoint\u001b[0m\u001b[0;34m(\u001b[0m\u001b[0mGetRun\u001b[0m\u001b[0;34m,\u001b[0m \u001b[0mreq_body\u001b[0m\u001b[0;34m)\u001b[0m\u001b[0;34m\u001b[0m\u001b[0;34m\u001b[0m\u001b[0m\n\u001b[0m\u001b[1;32m    170\u001b[0m         \u001b[0;32mreturn\u001b[0m \u001b[0mRun\u001b[0m\u001b[0;34m.\u001b[0m\u001b[0mfrom_proto\u001b[0m\u001b[0;34m(\u001b[0m\u001b[0mresponse_proto\u001b[0m\u001b[0;34m.\u001b[0m\u001b[0mrun\u001b[0m\u001b[0;34m)\u001b[0m\u001b[0;34m\u001b[0m\u001b[0;34m\u001b[0m\u001b[0m\n\u001b[1;32m    171\u001b[0m \u001b[0;34m\u001b[0m\u001b[0m\n",
            "\u001b[0;32m/usr/local/lib/python3.10/dist-packages/mlflow/store/tracking/rest_store.py\u001b[0m in \u001b[0;36m_call_endpoint\u001b[0;34m(self, api, json_body, endpoint)\u001b[0m\n\u001b[1;32m     80\u001b[0m             \u001b[0mendpoint\u001b[0m\u001b[0;34m,\u001b[0m \u001b[0mmethod\u001b[0m \u001b[0;34m=\u001b[0m \u001b[0m_METHOD_TO_INFO\u001b[0m\u001b[0;34m[\u001b[0m\u001b[0mapi\u001b[0m\u001b[0;34m]\u001b[0m\u001b[0;34m\u001b[0m\u001b[0;34m\u001b[0m\u001b[0m\n\u001b[1;32m     81\u001b[0m         \u001b[0mresponse_proto\u001b[0m \u001b[0;34m=\u001b[0m \u001b[0mapi\u001b[0m\u001b[0;34m.\u001b[0m\u001b[0mResponse\u001b[0m\u001b[0;34m(\u001b[0m\u001b[0;34m)\u001b[0m\u001b[0;34m\u001b[0m\u001b[0;34m\u001b[0m\u001b[0m\n\u001b[0;32m---> 82\u001b[0;31m         \u001b[0;32mreturn\u001b[0m \u001b[0mcall_endpoint\u001b[0m\u001b[0;34m(\u001b[0m\u001b[0mself\u001b[0m\u001b[0;34m.\u001b[0m\u001b[0mget_host_creds\u001b[0m\u001b[0;34m(\u001b[0m\u001b[0;34m)\u001b[0m\u001b[0;34m,\u001b[0m \u001b[0mendpoint\u001b[0m\u001b[0;34m,\u001b[0m \u001b[0mmethod\u001b[0m\u001b[0;34m,\u001b[0m \u001b[0mjson_body\u001b[0m\u001b[0;34m,\u001b[0m \u001b[0mresponse_proto\u001b[0m\u001b[0;34m)\u001b[0m\u001b[0;34m\u001b[0m\u001b[0;34m\u001b[0m\u001b[0m\n\u001b[0m\u001b[1;32m     83\u001b[0m \u001b[0;34m\u001b[0m\u001b[0m\n\u001b[1;32m     84\u001b[0m     def search_experiments(\n",
            "\u001b[0;32m/usr/local/lib/python3.10/dist-packages/mlflow/utils/rest_utils.py\u001b[0m in \u001b[0;36mcall_endpoint\u001b[0;34m(host_creds, endpoint, method, json_body, response_proto, extra_headers)\u001b[0m\n\u001b[1;32m    363\u001b[0m     \u001b[0;32mif\u001b[0m \u001b[0mmethod\u001b[0m \u001b[0;34m==\u001b[0m \u001b[0;34m\"GET\"\u001b[0m\u001b[0;34m:\u001b[0m\u001b[0;34m\u001b[0m\u001b[0;34m\u001b[0m\u001b[0m\n\u001b[1;32m    364\u001b[0m         \u001b[0mcall_kwargs\u001b[0m\u001b[0;34m[\u001b[0m\u001b[0;34m\"params\"\u001b[0m\u001b[0;34m]\u001b[0m \u001b[0;34m=\u001b[0m \u001b[0mjson_body\u001b[0m\u001b[0;34m\u001b[0m\u001b[0;34m\u001b[0m\u001b[0m\n\u001b[0;32m--> 365\u001b[0;31m         \u001b[0mresponse\u001b[0m \u001b[0;34m=\u001b[0m \u001b[0mhttp_request\u001b[0m\u001b[0;34m(\u001b[0m\u001b[0;34m**\u001b[0m\u001b[0mcall_kwargs\u001b[0m\u001b[0;34m)\u001b[0m\u001b[0;34m\u001b[0m\u001b[0;34m\u001b[0m\u001b[0m\n\u001b[0m\u001b[1;32m    366\u001b[0m     \u001b[0;32melse\u001b[0m\u001b[0;34m:\u001b[0m\u001b[0;34m\u001b[0m\u001b[0;34m\u001b[0m\u001b[0m\n\u001b[1;32m    367\u001b[0m         \u001b[0mcall_kwargs\u001b[0m\u001b[0;34m[\u001b[0m\u001b[0;34m\"json\"\u001b[0m\u001b[0;34m]\u001b[0m \u001b[0;34m=\u001b[0m \u001b[0mjson_body\u001b[0m\u001b[0;34m\u001b[0m\u001b[0;34m\u001b[0m\u001b[0m\n",
            "\u001b[0;32m/usr/local/lib/python3.10/dist-packages/mlflow/utils/rest_utils.py\u001b[0m in \u001b[0;36mhttp_request\u001b[0;34m(host_creds, endpoint, method, max_retries, backoff_factor, backoff_jitter, extra_headers, retry_codes, timeout, raise_on_status, respect_retry_after_header, **kwargs)\u001b[0m\n\u001b[1;32m    187\u001b[0m \u001b[0;34m\u001b[0m\u001b[0m\n\u001b[1;32m    188\u001b[0m     \u001b[0;32mtry\u001b[0m\u001b[0;34m:\u001b[0m\u001b[0;34m\u001b[0m\u001b[0;34m\u001b[0m\u001b[0m\n\u001b[0;32m--> 189\u001b[0;31m         return _get_http_response_with_retries(\n\u001b[0m\u001b[1;32m    190\u001b[0m             \u001b[0mmethod\u001b[0m\u001b[0;34m,\u001b[0m\u001b[0;34m\u001b[0m\u001b[0;34m\u001b[0m\u001b[0m\n\u001b[1;32m    191\u001b[0m             \u001b[0murl\u001b[0m\u001b[0;34m,\u001b[0m\u001b[0;34m\u001b[0m\u001b[0;34m\u001b[0m\u001b[0m\n",
            "\u001b[0;32m/usr/local/lib/python3.10/dist-packages/mlflow/utils/request_utils.py\u001b[0m in \u001b[0;36m_get_http_response_with_retries\u001b[0;34m(method, url, max_retries, backoff_factor, backoff_jitter, retry_codes, raise_on_status, allow_redirects, respect_retry_after_header, **kwargs)\u001b[0m\n\u001b[1;32m    235\u001b[0m     \u001b[0mallow_redirects\u001b[0m \u001b[0;34m=\u001b[0m \u001b[0menv_value\u001b[0m \u001b[0;32mif\u001b[0m \u001b[0mallow_redirects\u001b[0m \u001b[0;32mis\u001b[0m \u001b[0;32mNone\u001b[0m \u001b[0;32melse\u001b[0m \u001b[0mallow_redirects\u001b[0m\u001b[0;34m\u001b[0m\u001b[0;34m\u001b[0m\u001b[0m\n\u001b[1;32m    236\u001b[0m \u001b[0;34m\u001b[0m\u001b[0m\n\u001b[0;32m--> 237\u001b[0;31m     \u001b[0;32mreturn\u001b[0m \u001b[0msession\u001b[0m\u001b[0;34m.\u001b[0m\u001b[0mrequest\u001b[0m\u001b[0;34m(\u001b[0m\u001b[0mmethod\u001b[0m\u001b[0;34m,\u001b[0m \u001b[0murl\u001b[0m\u001b[0;34m,\u001b[0m \u001b[0mallow_redirects\u001b[0m\u001b[0;34m=\u001b[0m\u001b[0mallow_redirects\u001b[0m\u001b[0;34m,\u001b[0m \u001b[0;34m**\u001b[0m\u001b[0mkwargs\u001b[0m\u001b[0;34m)\u001b[0m\u001b[0;34m\u001b[0m\u001b[0;34m\u001b[0m\u001b[0m\n\u001b[0m\u001b[1;32m    238\u001b[0m \u001b[0;34m\u001b[0m\u001b[0m\n\u001b[1;32m    239\u001b[0m \u001b[0;34m\u001b[0m\u001b[0m\n",
            "\u001b[0;32m/usr/local/lib/python3.10/dist-packages/requests/sessions.py\u001b[0m in \u001b[0;36mrequest\u001b[0;34m(self, method, url, params, data, headers, cookies, files, auth, timeout, allow_redirects, proxies, hooks, stream, verify, cert, json)\u001b[0m\n\u001b[1;32m    587\u001b[0m         }\n\u001b[1;32m    588\u001b[0m         \u001b[0msend_kwargs\u001b[0m\u001b[0;34m.\u001b[0m\u001b[0mupdate\u001b[0m\u001b[0;34m(\u001b[0m\u001b[0msettings\u001b[0m\u001b[0;34m)\u001b[0m\u001b[0;34m\u001b[0m\u001b[0;34m\u001b[0m\u001b[0m\n\u001b[0;32m--> 589\u001b[0;31m         \u001b[0mresp\u001b[0m \u001b[0;34m=\u001b[0m \u001b[0mself\u001b[0m\u001b[0;34m.\u001b[0m\u001b[0msend\u001b[0m\u001b[0;34m(\u001b[0m\u001b[0mprep\u001b[0m\u001b[0;34m,\u001b[0m \u001b[0;34m**\u001b[0m\u001b[0msend_kwargs\u001b[0m\u001b[0;34m)\u001b[0m\u001b[0;34m\u001b[0m\u001b[0;34m\u001b[0m\u001b[0m\n\u001b[0m\u001b[1;32m    590\u001b[0m \u001b[0;34m\u001b[0m\u001b[0m\n\u001b[1;32m    591\u001b[0m         \u001b[0;32mreturn\u001b[0m \u001b[0mresp\u001b[0m\u001b[0;34m\u001b[0m\u001b[0;34m\u001b[0m\u001b[0m\n",
            "\u001b[0;32m/usr/local/lib/python3.10/dist-packages/requests/sessions.py\u001b[0m in \u001b[0;36msend\u001b[0;34m(self, request, **kwargs)\u001b[0m\n\u001b[1;32m    701\u001b[0m \u001b[0;34m\u001b[0m\u001b[0m\n\u001b[1;32m    702\u001b[0m         \u001b[0;31m# Send the request\u001b[0m\u001b[0;34m\u001b[0m\u001b[0;34m\u001b[0m\u001b[0m\n\u001b[0;32m--> 703\u001b[0;31m         \u001b[0mr\u001b[0m \u001b[0;34m=\u001b[0m \u001b[0madapter\u001b[0m\u001b[0;34m.\u001b[0m\u001b[0msend\u001b[0m\u001b[0;34m(\u001b[0m\u001b[0mrequest\u001b[0m\u001b[0;34m,\u001b[0m \u001b[0;34m**\u001b[0m\u001b[0mkwargs\u001b[0m\u001b[0;34m)\u001b[0m\u001b[0;34m\u001b[0m\u001b[0;34m\u001b[0m\u001b[0m\n\u001b[0m\u001b[1;32m    704\u001b[0m \u001b[0;34m\u001b[0m\u001b[0m\n\u001b[1;32m    705\u001b[0m         \u001b[0;31m# Total elapsed time of the request (approximately)\u001b[0m\u001b[0;34m\u001b[0m\u001b[0;34m\u001b[0m\u001b[0m\n",
            "\u001b[0;32m/usr/local/lib/python3.10/dist-packages/requests/adapters.py\u001b[0m in \u001b[0;36msend\u001b[0;34m(self, request, stream, timeout, verify, cert, proxies)\u001b[0m\n\u001b[1;32m    665\u001b[0m \u001b[0;34m\u001b[0m\u001b[0m\n\u001b[1;32m    666\u001b[0m         \u001b[0;32mtry\u001b[0m\u001b[0;34m:\u001b[0m\u001b[0;34m\u001b[0m\u001b[0;34m\u001b[0m\u001b[0m\n\u001b[0;32m--> 667\u001b[0;31m             resp = conn.urlopen(\n\u001b[0m\u001b[1;32m    668\u001b[0m                 \u001b[0mmethod\u001b[0m\u001b[0;34m=\u001b[0m\u001b[0mrequest\u001b[0m\u001b[0;34m.\u001b[0m\u001b[0mmethod\u001b[0m\u001b[0;34m,\u001b[0m\u001b[0;34m\u001b[0m\u001b[0;34m\u001b[0m\u001b[0m\n\u001b[1;32m    669\u001b[0m                 \u001b[0murl\u001b[0m\u001b[0;34m=\u001b[0m\u001b[0murl\u001b[0m\u001b[0;34m,\u001b[0m\u001b[0;34m\u001b[0m\u001b[0;34m\u001b[0m\u001b[0m\n",
            "\u001b[0;32m/usr/local/lib/python3.10/dist-packages/urllib3/connectionpool.py\u001b[0m in \u001b[0;36murlopen\u001b[0;34m(self, method, url, body, headers, retries, redirect, assert_same_host, timeout, pool_timeout, release_conn, chunked, body_pos, preload_content, decode_content, **response_kw)\u001b[0m\n\u001b[1;32m    871\u001b[0m                 \u001b[0;34m\"Retrying (%r) after connection broken by '%r': %s\"\u001b[0m\u001b[0;34m,\u001b[0m \u001b[0mretries\u001b[0m\u001b[0;34m,\u001b[0m \u001b[0merr\u001b[0m\u001b[0;34m,\u001b[0m \u001b[0murl\u001b[0m\u001b[0;34m\u001b[0m\u001b[0;34m\u001b[0m\u001b[0m\n\u001b[1;32m    872\u001b[0m             )\n\u001b[0;32m--> 873\u001b[0;31m             return self.urlopen(\n\u001b[0m\u001b[1;32m    874\u001b[0m                 \u001b[0mmethod\u001b[0m\u001b[0;34m,\u001b[0m\u001b[0;34m\u001b[0m\u001b[0;34m\u001b[0m\u001b[0m\n\u001b[1;32m    875\u001b[0m                 \u001b[0murl\u001b[0m\u001b[0;34m,\u001b[0m\u001b[0;34m\u001b[0m\u001b[0;34m\u001b[0m\u001b[0m\n",
            "\u001b[0;32m/usr/local/lib/python3.10/dist-packages/urllib3/connectionpool.py\u001b[0m in \u001b[0;36murlopen\u001b[0;34m(self, method, url, body, headers, retries, redirect, assert_same_host, timeout, pool_timeout, release_conn, chunked, body_pos, preload_content, decode_content, **response_kw)\u001b[0m\n\u001b[1;32m    871\u001b[0m                 \u001b[0;34m\"Retrying (%r) after connection broken by '%r': %s\"\u001b[0m\u001b[0;34m,\u001b[0m \u001b[0mretries\u001b[0m\u001b[0;34m,\u001b[0m \u001b[0merr\u001b[0m\u001b[0;34m,\u001b[0m \u001b[0murl\u001b[0m\u001b[0;34m\u001b[0m\u001b[0;34m\u001b[0m\u001b[0m\n\u001b[1;32m    872\u001b[0m             )\n\u001b[0;32m--> 873\u001b[0;31m             return self.urlopen(\n\u001b[0m\u001b[1;32m    874\u001b[0m                 \u001b[0mmethod\u001b[0m\u001b[0;34m,\u001b[0m\u001b[0;34m\u001b[0m\u001b[0;34m\u001b[0m\u001b[0m\n\u001b[1;32m    875\u001b[0m                 \u001b[0murl\u001b[0m\u001b[0;34m,\u001b[0m\u001b[0;34m\u001b[0m\u001b[0;34m\u001b[0m\u001b[0m\n",
            "\u001b[0;32m/usr/local/lib/python3.10/dist-packages/urllib3/connectionpool.py\u001b[0m in \u001b[0;36murlopen\u001b[0;34m(self, method, url, body, headers, retries, redirect, assert_same_host, timeout, pool_timeout, release_conn, chunked, body_pos, preload_content, decode_content, **response_kw)\u001b[0m\n\u001b[1;32m    871\u001b[0m                 \u001b[0;34m\"Retrying (%r) after connection broken by '%r': %s\"\u001b[0m\u001b[0;34m,\u001b[0m \u001b[0mretries\u001b[0m\u001b[0;34m,\u001b[0m \u001b[0merr\u001b[0m\u001b[0;34m,\u001b[0m \u001b[0murl\u001b[0m\u001b[0;34m\u001b[0m\u001b[0;34m\u001b[0m\u001b[0m\n\u001b[1;32m    872\u001b[0m             )\n\u001b[0;32m--> 873\u001b[0;31m             return self.urlopen(\n\u001b[0m\u001b[1;32m    874\u001b[0m                 \u001b[0mmethod\u001b[0m\u001b[0;34m,\u001b[0m\u001b[0;34m\u001b[0m\u001b[0;34m\u001b[0m\u001b[0m\n\u001b[1;32m    875\u001b[0m                 \u001b[0murl\u001b[0m\u001b[0;34m,\u001b[0m\u001b[0;34m\u001b[0m\u001b[0;34m\u001b[0m\u001b[0m\n",
            "\u001b[0;32m/usr/local/lib/python3.10/dist-packages/urllib3/connectionpool.py\u001b[0m in \u001b[0;36murlopen\u001b[0;34m(self, method, url, body, headers, retries, redirect, assert_same_host, timeout, pool_timeout, release_conn, chunked, body_pos, preload_content, decode_content, **response_kw)\u001b[0m\n\u001b[1;32m    871\u001b[0m                 \u001b[0;34m\"Retrying (%r) after connection broken by '%r': %s\"\u001b[0m\u001b[0;34m,\u001b[0m \u001b[0mretries\u001b[0m\u001b[0;34m,\u001b[0m \u001b[0merr\u001b[0m\u001b[0;34m,\u001b[0m \u001b[0murl\u001b[0m\u001b[0;34m\u001b[0m\u001b[0;34m\u001b[0m\u001b[0m\n\u001b[1;32m    872\u001b[0m             )\n\u001b[0;32m--> 873\u001b[0;31m             return self.urlopen(\n\u001b[0m\u001b[1;32m    874\u001b[0m                 \u001b[0mmethod\u001b[0m\u001b[0;34m,\u001b[0m\u001b[0;34m\u001b[0m\u001b[0;34m\u001b[0m\u001b[0m\n\u001b[1;32m    875\u001b[0m                 \u001b[0murl\u001b[0m\u001b[0;34m,\u001b[0m\u001b[0;34m\u001b[0m\u001b[0;34m\u001b[0m\u001b[0m\n",
            "\u001b[0;32m/usr/local/lib/python3.10/dist-packages/urllib3/connectionpool.py\u001b[0m in \u001b[0;36murlopen\u001b[0;34m(self, method, url, body, headers, retries, redirect, assert_same_host, timeout, pool_timeout, release_conn, chunked, body_pos, preload_content, decode_content, **response_kw)\u001b[0m\n\u001b[1;32m    844\u001b[0m                 \u001b[0mmethod\u001b[0m\u001b[0;34m,\u001b[0m \u001b[0murl\u001b[0m\u001b[0;34m,\u001b[0m \u001b[0merror\u001b[0m\u001b[0;34m=\u001b[0m\u001b[0mnew_e\u001b[0m\u001b[0;34m,\u001b[0m \u001b[0m_pool\u001b[0m\u001b[0;34m=\u001b[0m\u001b[0mself\u001b[0m\u001b[0;34m,\u001b[0m \u001b[0m_stacktrace\u001b[0m\u001b[0;34m=\u001b[0m\u001b[0msys\u001b[0m\u001b[0;34m.\u001b[0m\u001b[0mexc_info\u001b[0m\u001b[0;34m(\u001b[0m\u001b[0;34m)\u001b[0m\u001b[0;34m[\u001b[0m\u001b[0;36m2\u001b[0m\u001b[0;34m]\u001b[0m\u001b[0;34m\u001b[0m\u001b[0;34m\u001b[0m\u001b[0m\n\u001b[1;32m    845\u001b[0m             )\n\u001b[0;32m--> 846\u001b[0;31m             \u001b[0mretries\u001b[0m\u001b[0;34m.\u001b[0m\u001b[0msleep\u001b[0m\u001b[0;34m(\u001b[0m\u001b[0;34m)\u001b[0m\u001b[0;34m\u001b[0m\u001b[0;34m\u001b[0m\u001b[0m\n\u001b[0m\u001b[1;32m    847\u001b[0m \u001b[0;34m\u001b[0m\u001b[0m\n\u001b[1;32m    848\u001b[0m             \u001b[0;31m# Keep track of the error for the retry warning.\u001b[0m\u001b[0;34m\u001b[0m\u001b[0;34m\u001b[0m\u001b[0m\n",
            "\u001b[0;32m/usr/local/lib/python3.10/dist-packages/urllib3/util/retry.py\u001b[0m in \u001b[0;36msleep\u001b[0;34m(self, response)\u001b[0m\n\u001b[1;32m    361\u001b[0m                 \u001b[0;32mreturn\u001b[0m\u001b[0;34m\u001b[0m\u001b[0;34m\u001b[0m\u001b[0m\n\u001b[1;32m    362\u001b[0m \u001b[0;34m\u001b[0m\u001b[0m\n\u001b[0;32m--> 363\u001b[0;31m         \u001b[0mself\u001b[0m\u001b[0;34m.\u001b[0m\u001b[0m_sleep_backoff\u001b[0m\u001b[0;34m(\u001b[0m\u001b[0;34m)\u001b[0m\u001b[0;34m\u001b[0m\u001b[0;34m\u001b[0m\u001b[0m\n\u001b[0m\u001b[1;32m    364\u001b[0m \u001b[0;34m\u001b[0m\u001b[0m\n\u001b[1;32m    365\u001b[0m     \u001b[0;32mdef\u001b[0m \u001b[0m_is_connection_error\u001b[0m\u001b[0;34m(\u001b[0m\u001b[0mself\u001b[0m\u001b[0;34m,\u001b[0m \u001b[0merr\u001b[0m\u001b[0;34m:\u001b[0m \u001b[0mException\u001b[0m\u001b[0;34m)\u001b[0m \u001b[0;34m->\u001b[0m \u001b[0mbool\u001b[0m\u001b[0;34m:\u001b[0m\u001b[0;34m\u001b[0m\u001b[0;34m\u001b[0m\u001b[0m\n",
            "\u001b[0;32m/usr/local/lib/python3.10/dist-packages/urllib3/util/retry.py\u001b[0m in \u001b[0;36m_sleep_backoff\u001b[0;34m(self)\u001b[0m\n\u001b[1;32m    345\u001b[0m         \u001b[0;32mif\u001b[0m \u001b[0mbackoff\u001b[0m \u001b[0;34m<=\u001b[0m \u001b[0;36m0\u001b[0m\u001b[0;34m:\u001b[0m\u001b[0;34m\u001b[0m\u001b[0;34m\u001b[0m\u001b[0m\n\u001b[1;32m    346\u001b[0m             \u001b[0;32mreturn\u001b[0m\u001b[0;34m\u001b[0m\u001b[0;34m\u001b[0m\u001b[0m\n\u001b[0;32m--> 347\u001b[0;31m         \u001b[0mtime\u001b[0m\u001b[0;34m.\u001b[0m\u001b[0msleep\u001b[0m\u001b[0;34m(\u001b[0m\u001b[0mbackoff\u001b[0m\u001b[0;34m)\u001b[0m\u001b[0;34m\u001b[0m\u001b[0;34m\u001b[0m\u001b[0m\n\u001b[0m\u001b[1;32m    348\u001b[0m \u001b[0;34m\u001b[0m\u001b[0m\n\u001b[1;32m    349\u001b[0m     \u001b[0;32mdef\u001b[0m \u001b[0msleep\u001b[0m\u001b[0;34m(\u001b[0m\u001b[0mself\u001b[0m\u001b[0;34m,\u001b[0m \u001b[0mresponse\u001b[0m\u001b[0;34m:\u001b[0m \u001b[0mBaseHTTPResponse\u001b[0m \u001b[0;34m|\u001b[0m \u001b[0;32mNone\u001b[0m \u001b[0;34m=\u001b[0m \u001b[0;32mNone\u001b[0m\u001b[0;34m)\u001b[0m \u001b[0;34m->\u001b[0m \u001b[0;32mNone\u001b[0m\u001b[0;34m:\u001b[0m\u001b[0;34m\u001b[0m\u001b[0;34m\u001b[0m\u001b[0m\n",
            "\u001b[0;31mKeyboardInterrupt\u001b[0m: "
          ]
        }
      ]
    },
    {
      "cell_type": "markdown",
      "source": [
        "## Inferencia"
      ],
      "metadata": {
        "id": "5bnugPMNOKLo"
      }
    },
    {
      "cell_type": "code",
      "source": [
        "import mlflow.sklearn\n",
        "import numpy as np\n",
        "\n",
        "# Configurar la URI de seguimiento de MLFlow\n",
        "mlflow.set_tracking_uri(\"http://127.0.0.1:5000\")  # Asegúrate de que el servidor sigue ejecutándose\n",
        "\n",
        "# Nombre del experimento que deseas usar\n",
        "experiment_name = \"Random_Forest_Experiment\"\n",
        "\n",
        "# Obtener información del último modelo registrado en el experimento\n",
        "client = mlflow.tracking.MlflowClient()\n",
        "experiment_id = client.get_experiment_by_name(experiment_name).experiment_id\n",
        "runs = client.search_runs(experiment_id, order_by=[\"metrics.accuracy DESC\"], max_results=1)\n",
        "run_id = runs[0].info.run_id\n",
        "print(f\"Usando el modelo con Run ID: {run_id}\")\n",
        "\n",
        "# Cargar el modelo registrado\n",
        "model_uri = f\"runs:/{run_id}/random_forest_model\"\n",
        "model = mlflow.sklearn.load_model(model_uri)\n",
        "\n",
        "# Inferencia: Generar predicciones en nuevos datos\n",
        "# Suponiendo que tienes un nuevo conjunto de datos\n",
        "new_data = np.array([[5.1, 3.5, 1.4, 0.2]])  # Sustituye con tus datos reales\n",
        "prediction = model.predict(new_data)\n",
        "print(f\"Predicción para los datos {new_data}: {prediction}\")\n"
      ],
      "metadata": {
        "colab": {
          "base_uri": "https://localhost:8080/",
          "height": 602
        },
        "id": "Bbw2SsXvPEB4",
        "outputId": "916a9eb6-a958-4bbb-ec6a-d94d9965c098"
      },
      "execution_count": 48,
      "outputs": [
        {
          "output_type": "stream",
          "name": "stderr",
          "text": [
            "WARNING:urllib3.connectionpool:Retrying (Retry(total=4, connect=4, read=5, redirect=5, status=5)) after connection broken by 'NewConnectionError('<urllib3.connection.HTTPConnection object at 0x785dc791df60>: Failed to establish a new connection: [Errno 111] Connection refused')': /api/2.0/mlflow/experiments/get-by-name?experiment_name=Random_Forest_Experiment\n",
            "WARNING:urllib3.connectionpool:Retrying (Retry(total=3, connect=3, read=5, redirect=5, status=5)) after connection broken by 'NewConnectionError('<urllib3.connection.HTTPConnection object at 0x785dc791db40>: Failed to establish a new connection: [Errno 111] Connection refused')': /api/2.0/mlflow/experiments/get-by-name?experiment_name=Random_Forest_Experiment\n",
            "WARNING:urllib3.connectionpool:Retrying (Retry(total=2, connect=2, read=5, redirect=5, status=5)) after connection broken by 'NewConnectionError('<urllib3.connection.HTTPConnection object at 0x785dcfcba200>: Failed to establish a new connection: [Errno 111] Connection refused')': /api/2.0/mlflow/experiments/get-by-name?experiment_name=Random_Forest_Experiment\n",
            "WARNING:urllib3.connectionpool:Retrying (Retry(total=1, connect=1, read=5, redirect=5, status=5)) after connection broken by 'NewConnectionError('<urllib3.connection.HTTPConnection object at 0x785dcfcba980>: Failed to establish a new connection: [Errno 111] Connection refused')': /api/2.0/mlflow/experiments/get-by-name?experiment_name=Random_Forest_Experiment\n"
          ]
        },
        {
          "output_type": "error",
          "ename": "KeyboardInterrupt",
          "evalue": "",
          "traceback": [
            "\u001b[0;31m---------------------------------------------------------------------------\u001b[0m",
            "\u001b[0;31mConnectionRefusedError\u001b[0m                    Traceback (most recent call last)",
            "\u001b[0;32m/usr/local/lib/python3.10/dist-packages/urllib3/connection.py\u001b[0m in \u001b[0;36m_new_conn\u001b[0;34m(self)\u001b[0m\n\u001b[1;32m    198\u001b[0m         \u001b[0;32mtry\u001b[0m\u001b[0;34m:\u001b[0m\u001b[0;34m\u001b[0m\u001b[0;34m\u001b[0m\u001b[0m\n\u001b[0;32m--> 199\u001b[0;31m             sock = connection.create_connection(\n\u001b[0m\u001b[1;32m    200\u001b[0m                 \u001b[0;34m(\u001b[0m\u001b[0mself\u001b[0m\u001b[0;34m.\u001b[0m\u001b[0m_dns_host\u001b[0m\u001b[0;34m,\u001b[0m \u001b[0mself\u001b[0m\u001b[0;34m.\u001b[0m\u001b[0mport\u001b[0m\u001b[0;34m)\u001b[0m\u001b[0;34m,\u001b[0m\u001b[0;34m\u001b[0m\u001b[0;34m\u001b[0m\u001b[0m\n",
            "\u001b[0;32m/usr/local/lib/python3.10/dist-packages/urllib3/util/connection.py\u001b[0m in \u001b[0;36mcreate_connection\u001b[0;34m(address, timeout, source_address, socket_options)\u001b[0m\n\u001b[1;32m     84\u001b[0m         \u001b[0;32mtry\u001b[0m\u001b[0;34m:\u001b[0m\u001b[0;34m\u001b[0m\u001b[0;34m\u001b[0m\u001b[0m\n\u001b[0;32m---> 85\u001b[0;31m             \u001b[0;32mraise\u001b[0m \u001b[0merr\u001b[0m\u001b[0;34m\u001b[0m\u001b[0;34m\u001b[0m\u001b[0m\n\u001b[0m\u001b[1;32m     86\u001b[0m         \u001b[0;32mfinally\u001b[0m\u001b[0;34m:\u001b[0m\u001b[0;34m\u001b[0m\u001b[0;34m\u001b[0m\u001b[0m\n",
            "\u001b[0;32m/usr/local/lib/python3.10/dist-packages/urllib3/util/connection.py\u001b[0m in \u001b[0;36mcreate_connection\u001b[0;34m(address, timeout, source_address, socket_options)\u001b[0m\n\u001b[1;32m     72\u001b[0m                 \u001b[0msock\u001b[0m\u001b[0;34m.\u001b[0m\u001b[0mbind\u001b[0m\u001b[0;34m(\u001b[0m\u001b[0msource_address\u001b[0m\u001b[0;34m)\u001b[0m\u001b[0;34m\u001b[0m\u001b[0;34m\u001b[0m\u001b[0m\n\u001b[0;32m---> 73\u001b[0;31m             \u001b[0msock\u001b[0m\u001b[0;34m.\u001b[0m\u001b[0mconnect\u001b[0m\u001b[0;34m(\u001b[0m\u001b[0msa\u001b[0m\u001b[0;34m)\u001b[0m\u001b[0;34m\u001b[0m\u001b[0;34m\u001b[0m\u001b[0m\n\u001b[0m\u001b[1;32m     74\u001b[0m             \u001b[0;31m# Break explicitly a reference cycle\u001b[0m\u001b[0;34m\u001b[0m\u001b[0;34m\u001b[0m\u001b[0m\n",
            "\u001b[0;31mConnectionRefusedError\u001b[0m: [Errno 111] Connection refused",
            "\nThe above exception was the direct cause of the following exception:\n",
            "\u001b[0;31mNewConnectionError\u001b[0m                        Traceback (most recent call last)",
            "\u001b[0;32m/usr/local/lib/python3.10/dist-packages/urllib3/connectionpool.py\u001b[0m in \u001b[0;36murlopen\u001b[0;34m(self, method, url, body, headers, retries, redirect, assert_same_host, timeout, pool_timeout, release_conn, chunked, body_pos, preload_content, decode_content, **response_kw)\u001b[0m\n\u001b[1;32m    788\u001b[0m             \u001b[0;31m# Make the request on the HTTPConnection object\u001b[0m\u001b[0;34m\u001b[0m\u001b[0;34m\u001b[0m\u001b[0m\n\u001b[0;32m--> 789\u001b[0;31m             response = self._make_request(\n\u001b[0m\u001b[1;32m    790\u001b[0m                 \u001b[0mconn\u001b[0m\u001b[0;34m,\u001b[0m\u001b[0;34m\u001b[0m\u001b[0;34m\u001b[0m\u001b[0m\n",
            "\u001b[0;32m/usr/local/lib/python3.10/dist-packages/urllib3/connectionpool.py\u001b[0m in \u001b[0;36m_make_request\u001b[0;34m(self, conn, method, url, body, headers, retries, timeout, chunked, response_conn, preload_content, decode_content, enforce_content_length)\u001b[0m\n\u001b[1;32m    494\u001b[0m         \u001b[0;32mtry\u001b[0m\u001b[0;34m:\u001b[0m\u001b[0;34m\u001b[0m\u001b[0;34m\u001b[0m\u001b[0m\n\u001b[0;32m--> 495\u001b[0;31m             conn.request(\n\u001b[0m\u001b[1;32m    496\u001b[0m                 \u001b[0mmethod\u001b[0m\u001b[0;34m,\u001b[0m\u001b[0;34m\u001b[0m\u001b[0;34m\u001b[0m\u001b[0m\n",
            "\u001b[0;32m/usr/local/lib/python3.10/dist-packages/urllib3/connection.py\u001b[0m in \u001b[0;36mrequest\u001b[0;34m(self, method, url, body, headers, chunked, preload_content, decode_content, enforce_content_length)\u001b[0m\n\u001b[1;32m    440\u001b[0m             \u001b[0mself\u001b[0m\u001b[0;34m.\u001b[0m\u001b[0mputheader\u001b[0m\u001b[0;34m(\u001b[0m\u001b[0mheader\u001b[0m\u001b[0;34m,\u001b[0m \u001b[0mvalue\u001b[0m\u001b[0;34m)\u001b[0m\u001b[0;34m\u001b[0m\u001b[0;34m\u001b[0m\u001b[0m\n\u001b[0;32m--> 441\u001b[0;31m         \u001b[0mself\u001b[0m\u001b[0;34m.\u001b[0m\u001b[0mendheaders\u001b[0m\u001b[0;34m(\u001b[0m\u001b[0;34m)\u001b[0m\u001b[0;34m\u001b[0m\u001b[0;34m\u001b[0m\u001b[0m\n\u001b[0m\u001b[1;32m    442\u001b[0m \u001b[0;34m\u001b[0m\u001b[0m\n",
            "\u001b[0;32m/usr/lib/python3.10/http/client.py\u001b[0m in \u001b[0;36mendheaders\u001b[0;34m(self, message_body, encode_chunked)\u001b[0m\n\u001b[1;32m   1277\u001b[0m             \u001b[0;32mraise\u001b[0m \u001b[0mCannotSendHeader\u001b[0m\u001b[0;34m(\u001b[0m\u001b[0;34m)\u001b[0m\u001b[0;34m\u001b[0m\u001b[0;34m\u001b[0m\u001b[0m\n\u001b[0;32m-> 1278\u001b[0;31m         \u001b[0mself\u001b[0m\u001b[0;34m.\u001b[0m\u001b[0m_send_output\u001b[0m\u001b[0;34m(\u001b[0m\u001b[0mmessage_body\u001b[0m\u001b[0;34m,\u001b[0m \u001b[0mencode_chunked\u001b[0m\u001b[0;34m=\u001b[0m\u001b[0mencode_chunked\u001b[0m\u001b[0;34m)\u001b[0m\u001b[0;34m\u001b[0m\u001b[0;34m\u001b[0m\u001b[0m\n\u001b[0m\u001b[1;32m   1279\u001b[0m \u001b[0;34m\u001b[0m\u001b[0m\n",
            "\u001b[0;32m/usr/lib/python3.10/http/client.py\u001b[0m in \u001b[0;36m_send_output\u001b[0;34m(self, message_body, encode_chunked)\u001b[0m\n\u001b[1;32m   1037\u001b[0m         \u001b[0;32mdel\u001b[0m \u001b[0mself\u001b[0m\u001b[0;34m.\u001b[0m\u001b[0m_buffer\u001b[0m\u001b[0;34m[\u001b[0m\u001b[0;34m:\u001b[0m\u001b[0;34m]\u001b[0m\u001b[0;34m\u001b[0m\u001b[0;34m\u001b[0m\u001b[0m\n\u001b[0;32m-> 1038\u001b[0;31m         \u001b[0mself\u001b[0m\u001b[0;34m.\u001b[0m\u001b[0msend\u001b[0m\u001b[0;34m(\u001b[0m\u001b[0mmsg\u001b[0m\u001b[0;34m)\u001b[0m\u001b[0;34m\u001b[0m\u001b[0;34m\u001b[0m\u001b[0m\n\u001b[0m\u001b[1;32m   1039\u001b[0m \u001b[0;34m\u001b[0m\u001b[0m\n",
            "\u001b[0;32m/usr/lib/python3.10/http/client.py\u001b[0m in \u001b[0;36msend\u001b[0;34m(self, data)\u001b[0m\n\u001b[1;32m    975\u001b[0m             \u001b[0;32mif\u001b[0m \u001b[0mself\u001b[0m\u001b[0;34m.\u001b[0m\u001b[0mauto_open\u001b[0m\u001b[0;34m:\u001b[0m\u001b[0;34m\u001b[0m\u001b[0;34m\u001b[0m\u001b[0m\n\u001b[0;32m--> 976\u001b[0;31m                 \u001b[0mself\u001b[0m\u001b[0;34m.\u001b[0m\u001b[0mconnect\u001b[0m\u001b[0;34m(\u001b[0m\u001b[0;34m)\u001b[0m\u001b[0;34m\u001b[0m\u001b[0;34m\u001b[0m\u001b[0m\n\u001b[0m\u001b[1;32m    977\u001b[0m             \u001b[0;32melse\u001b[0m\u001b[0;34m:\u001b[0m\u001b[0;34m\u001b[0m\u001b[0;34m\u001b[0m\u001b[0m\n",
            "\u001b[0;32m/usr/local/lib/python3.10/dist-packages/urllib3/connection.py\u001b[0m in \u001b[0;36mconnect\u001b[0;34m(self)\u001b[0m\n\u001b[1;32m    278\u001b[0m     \u001b[0;32mdef\u001b[0m \u001b[0mconnect\u001b[0m\u001b[0;34m(\u001b[0m\u001b[0mself\u001b[0m\u001b[0;34m)\u001b[0m \u001b[0;34m->\u001b[0m \u001b[0;32mNone\u001b[0m\u001b[0;34m:\u001b[0m\u001b[0;34m\u001b[0m\u001b[0;34m\u001b[0m\u001b[0m\n\u001b[0;32m--> 279\u001b[0;31m         \u001b[0mself\u001b[0m\u001b[0;34m.\u001b[0m\u001b[0msock\u001b[0m \u001b[0;34m=\u001b[0m \u001b[0mself\u001b[0m\u001b[0;34m.\u001b[0m\u001b[0m_new_conn\u001b[0m\u001b[0;34m(\u001b[0m\u001b[0;34m)\u001b[0m\u001b[0;34m\u001b[0m\u001b[0;34m\u001b[0m\u001b[0m\n\u001b[0m\u001b[1;32m    280\u001b[0m         \u001b[0;32mif\u001b[0m \u001b[0mself\u001b[0m\u001b[0;34m.\u001b[0m\u001b[0m_tunnel_host\u001b[0m\u001b[0;34m:\u001b[0m\u001b[0;34m\u001b[0m\u001b[0;34m\u001b[0m\u001b[0m\n",
            "\u001b[0;32m/usr/local/lib/python3.10/dist-packages/urllib3/connection.py\u001b[0m in \u001b[0;36m_new_conn\u001b[0;34m(self)\u001b[0m\n\u001b[1;32m    213\u001b[0m         \u001b[0;32mexcept\u001b[0m \u001b[0mOSError\u001b[0m \u001b[0;32mas\u001b[0m \u001b[0me\u001b[0m\u001b[0;34m:\u001b[0m\u001b[0;34m\u001b[0m\u001b[0;34m\u001b[0m\u001b[0m\n\u001b[0;32m--> 214\u001b[0;31m             raise NewConnectionError(\n\u001b[0m\u001b[1;32m    215\u001b[0m                 \u001b[0mself\u001b[0m\u001b[0;34m,\u001b[0m \u001b[0;34mf\"Failed to establish a new connection: {e}\"\u001b[0m\u001b[0;34m\u001b[0m\u001b[0;34m\u001b[0m\u001b[0m\n",
            "\u001b[0;31mNewConnectionError\u001b[0m: <urllib3.connection.HTTPConnection object at 0x785dcfcbbdc0>: Failed to establish a new connection: [Errno 111] Connection refused",
            "\nDuring handling of the above exception, another exception occurred:\n",
            "\u001b[0;31mKeyboardInterrupt\u001b[0m                         Traceback (most recent call last)",
            "\u001b[0;32m<ipython-input-48-d1bd09310e44>\u001b[0m in \u001b[0;36m<cell line: 12>\u001b[0;34m()\u001b[0m\n\u001b[1;32m     10\u001b[0m \u001b[0;31m# Obtener información del último modelo registrado en el experimento\u001b[0m\u001b[0;34m\u001b[0m\u001b[0;34m\u001b[0m\u001b[0m\n\u001b[1;32m     11\u001b[0m \u001b[0mclient\u001b[0m \u001b[0;34m=\u001b[0m \u001b[0mmlflow\u001b[0m\u001b[0;34m.\u001b[0m\u001b[0mtracking\u001b[0m\u001b[0;34m.\u001b[0m\u001b[0mMlflowClient\u001b[0m\u001b[0;34m(\u001b[0m\u001b[0;34m)\u001b[0m\u001b[0;34m\u001b[0m\u001b[0;34m\u001b[0m\u001b[0m\n\u001b[0;32m---> 12\u001b[0;31m \u001b[0mexperiment_id\u001b[0m \u001b[0;34m=\u001b[0m \u001b[0mclient\u001b[0m\u001b[0;34m.\u001b[0m\u001b[0mget_experiment_by_name\u001b[0m\u001b[0;34m(\u001b[0m\u001b[0mexperiment_name\u001b[0m\u001b[0;34m)\u001b[0m\u001b[0;34m.\u001b[0m\u001b[0mexperiment_id\u001b[0m\u001b[0;34m\u001b[0m\u001b[0;34m\u001b[0m\u001b[0m\n\u001b[0m\u001b[1;32m     13\u001b[0m \u001b[0mruns\u001b[0m \u001b[0;34m=\u001b[0m \u001b[0mclient\u001b[0m\u001b[0;34m.\u001b[0m\u001b[0msearch_runs\u001b[0m\u001b[0;34m(\u001b[0m\u001b[0mexperiment_id\u001b[0m\u001b[0;34m,\u001b[0m \u001b[0morder_by\u001b[0m\u001b[0;34m=\u001b[0m\u001b[0;34m[\u001b[0m\u001b[0;34m\"metrics.accuracy DESC\"\u001b[0m\u001b[0;34m]\u001b[0m\u001b[0;34m,\u001b[0m \u001b[0mmax_results\u001b[0m\u001b[0;34m=\u001b[0m\u001b[0;36m1\u001b[0m\u001b[0;34m)\u001b[0m\u001b[0;34m\u001b[0m\u001b[0;34m\u001b[0m\u001b[0m\n\u001b[1;32m     14\u001b[0m \u001b[0mrun_id\u001b[0m \u001b[0;34m=\u001b[0m \u001b[0mruns\u001b[0m\u001b[0;34m[\u001b[0m\u001b[0;36m0\u001b[0m\u001b[0;34m]\u001b[0m\u001b[0;34m.\u001b[0m\u001b[0minfo\u001b[0m\u001b[0;34m.\u001b[0m\u001b[0mrun_id\u001b[0m\u001b[0;34m\u001b[0m\u001b[0;34m\u001b[0m\u001b[0m\n",
            "\u001b[0;32m/usr/local/lib/python3.10/dist-packages/mlflow/tracking/client.py\u001b[0m in \u001b[0;36mget_experiment_by_name\u001b[0;34m(self, name)\u001b[0m\n\u001b[1;32m   1255\u001b[0m             \u001b[0mLifecycle_stage\u001b[0m\u001b[0;34m:\u001b[0m \u001b[0mactive\u001b[0m\u001b[0;34m\u001b[0m\u001b[0;34m\u001b[0m\u001b[0m\n\u001b[1;32m   1256\u001b[0m         \"\"\"\n\u001b[0;32m-> 1257\u001b[0;31m         \u001b[0;32mreturn\u001b[0m \u001b[0mself\u001b[0m\u001b[0;34m.\u001b[0m\u001b[0m_tracking_client\u001b[0m\u001b[0;34m.\u001b[0m\u001b[0mget_experiment_by_name\u001b[0m\u001b[0;34m(\u001b[0m\u001b[0mname\u001b[0m\u001b[0;34m)\u001b[0m\u001b[0;34m\u001b[0m\u001b[0;34m\u001b[0m\u001b[0m\n\u001b[0m\u001b[1;32m   1258\u001b[0m \u001b[0;34m\u001b[0m\u001b[0m\n\u001b[1;32m   1259\u001b[0m     def create_experiment(\n",
            "\u001b[0;32m/usr/local/lib/python3.10/dist-packages/mlflow/tracking/_tracking_service/client.py\u001b[0m in \u001b[0;36mget_experiment_by_name\u001b[0;34m(self, name)\u001b[0m\n\u001b[1;32m    500\u001b[0m             \u001b[0;34m:\u001b[0m\u001b[0mpy\u001b[0m\u001b[0;34m:\u001b[0m\u001b[0;32mclass\u001b[0m\u001b[0;34m:\u001b[0m\u001b[0;31m`\u001b[0m\u001b[0mmlflow\u001b[0m\u001b[0;34m.\u001b[0m\u001b[0mentities\u001b[0m\u001b[0;34m.\u001b[0m\u001b[0mExperiment\u001b[0m\u001b[0;31m`\u001b[0m\u001b[0;34m\u001b[0m\u001b[0;34m\u001b[0m\u001b[0m\n\u001b[1;32m    501\u001b[0m         \"\"\"\n\u001b[0;32m--> 502\u001b[0;31m         \u001b[0;32mreturn\u001b[0m \u001b[0mself\u001b[0m\u001b[0;34m.\u001b[0m\u001b[0mstore\u001b[0m\u001b[0;34m.\u001b[0m\u001b[0mget_experiment_by_name\u001b[0m\u001b[0;34m(\u001b[0m\u001b[0mname\u001b[0m\u001b[0;34m)\u001b[0m\u001b[0;34m\u001b[0m\u001b[0;34m\u001b[0m\u001b[0m\n\u001b[0m\u001b[1;32m    503\u001b[0m \u001b[0;34m\u001b[0m\u001b[0m\n\u001b[1;32m    504\u001b[0m     \u001b[0;32mdef\u001b[0m \u001b[0mcreate_experiment\u001b[0m\u001b[0;34m(\u001b[0m\u001b[0mself\u001b[0m\u001b[0;34m,\u001b[0m \u001b[0mname\u001b[0m\u001b[0;34m,\u001b[0m \u001b[0martifact_location\u001b[0m\u001b[0;34m=\u001b[0m\u001b[0;32mNone\u001b[0m\u001b[0;34m,\u001b[0m \u001b[0mtags\u001b[0m\u001b[0;34m=\u001b[0m\u001b[0;32mNone\u001b[0m\u001b[0;34m)\u001b[0m\u001b[0;34m:\u001b[0m\u001b[0;34m\u001b[0m\u001b[0;34m\u001b[0m\u001b[0m\n",
            "\u001b[0;32m/usr/local/lib/python3.10/dist-packages/mlflow/store/tracking/rest_store.py\u001b[0m in \u001b[0;36mget_experiment_by_name\u001b[0;34m(self, experiment_name)\u001b[0m\n\u001b[1;32m    520\u001b[0m         \u001b[0;32mtry\u001b[0m\u001b[0;34m:\u001b[0m\u001b[0;34m\u001b[0m\u001b[0;34m\u001b[0m\u001b[0m\n\u001b[1;32m    521\u001b[0m             \u001b[0mreq_body\u001b[0m \u001b[0;34m=\u001b[0m \u001b[0mmessage_to_json\u001b[0m\u001b[0;34m(\u001b[0m\u001b[0mGetExperimentByName\u001b[0m\u001b[0;34m(\u001b[0m\u001b[0mexperiment_name\u001b[0m\u001b[0;34m=\u001b[0m\u001b[0mexperiment_name\u001b[0m\u001b[0;34m)\u001b[0m\u001b[0;34m)\u001b[0m\u001b[0;34m\u001b[0m\u001b[0;34m\u001b[0m\u001b[0m\n\u001b[0;32m--> 522\u001b[0;31m             \u001b[0mresponse_proto\u001b[0m \u001b[0;34m=\u001b[0m \u001b[0mself\u001b[0m\u001b[0;34m.\u001b[0m\u001b[0m_call_endpoint\u001b[0m\u001b[0;34m(\u001b[0m\u001b[0mGetExperimentByName\u001b[0m\u001b[0;34m,\u001b[0m \u001b[0mreq_body\u001b[0m\u001b[0;34m)\u001b[0m\u001b[0;34m\u001b[0m\u001b[0;34m\u001b[0m\u001b[0m\n\u001b[0m\u001b[1;32m    523\u001b[0m             \u001b[0;32mreturn\u001b[0m \u001b[0mExperiment\u001b[0m\u001b[0;34m.\u001b[0m\u001b[0mfrom_proto\u001b[0m\u001b[0;34m(\u001b[0m\u001b[0mresponse_proto\u001b[0m\u001b[0;34m.\u001b[0m\u001b[0mexperiment\u001b[0m\u001b[0;34m)\u001b[0m\u001b[0;34m\u001b[0m\u001b[0;34m\u001b[0m\u001b[0m\n\u001b[1;32m    524\u001b[0m         \u001b[0;32mexcept\u001b[0m \u001b[0mMlflowException\u001b[0m \u001b[0;32mas\u001b[0m \u001b[0me\u001b[0m\u001b[0;34m:\u001b[0m\u001b[0;34m\u001b[0m\u001b[0;34m\u001b[0m\u001b[0m\n",
            "\u001b[0;32m/usr/local/lib/python3.10/dist-packages/mlflow/store/tracking/rest_store.py\u001b[0m in \u001b[0;36m_call_endpoint\u001b[0;34m(self, api, json_body, endpoint)\u001b[0m\n\u001b[1;32m     80\u001b[0m             \u001b[0mendpoint\u001b[0m\u001b[0;34m,\u001b[0m \u001b[0mmethod\u001b[0m \u001b[0;34m=\u001b[0m \u001b[0m_METHOD_TO_INFO\u001b[0m\u001b[0;34m[\u001b[0m\u001b[0mapi\u001b[0m\u001b[0;34m]\u001b[0m\u001b[0;34m\u001b[0m\u001b[0;34m\u001b[0m\u001b[0m\n\u001b[1;32m     81\u001b[0m         \u001b[0mresponse_proto\u001b[0m \u001b[0;34m=\u001b[0m \u001b[0mapi\u001b[0m\u001b[0;34m.\u001b[0m\u001b[0mResponse\u001b[0m\u001b[0;34m(\u001b[0m\u001b[0;34m)\u001b[0m\u001b[0;34m\u001b[0m\u001b[0;34m\u001b[0m\u001b[0m\n\u001b[0;32m---> 82\u001b[0;31m         \u001b[0;32mreturn\u001b[0m \u001b[0mcall_endpoint\u001b[0m\u001b[0;34m(\u001b[0m\u001b[0mself\u001b[0m\u001b[0;34m.\u001b[0m\u001b[0mget_host_creds\u001b[0m\u001b[0;34m(\u001b[0m\u001b[0;34m)\u001b[0m\u001b[0;34m,\u001b[0m \u001b[0mendpoint\u001b[0m\u001b[0;34m,\u001b[0m \u001b[0mmethod\u001b[0m\u001b[0;34m,\u001b[0m \u001b[0mjson_body\u001b[0m\u001b[0;34m,\u001b[0m \u001b[0mresponse_proto\u001b[0m\u001b[0;34m)\u001b[0m\u001b[0;34m\u001b[0m\u001b[0;34m\u001b[0m\u001b[0m\n\u001b[0m\u001b[1;32m     83\u001b[0m \u001b[0;34m\u001b[0m\u001b[0m\n\u001b[1;32m     84\u001b[0m     def search_experiments(\n",
            "\u001b[0;32m/usr/local/lib/python3.10/dist-packages/mlflow/utils/rest_utils.py\u001b[0m in \u001b[0;36mcall_endpoint\u001b[0;34m(host_creds, endpoint, method, json_body, response_proto, extra_headers)\u001b[0m\n\u001b[1;32m    363\u001b[0m     \u001b[0;32mif\u001b[0m \u001b[0mmethod\u001b[0m \u001b[0;34m==\u001b[0m \u001b[0;34m\"GET\"\u001b[0m\u001b[0;34m:\u001b[0m\u001b[0;34m\u001b[0m\u001b[0;34m\u001b[0m\u001b[0m\n\u001b[1;32m    364\u001b[0m         \u001b[0mcall_kwargs\u001b[0m\u001b[0;34m[\u001b[0m\u001b[0;34m\"params\"\u001b[0m\u001b[0;34m]\u001b[0m \u001b[0;34m=\u001b[0m \u001b[0mjson_body\u001b[0m\u001b[0;34m\u001b[0m\u001b[0;34m\u001b[0m\u001b[0m\n\u001b[0;32m--> 365\u001b[0;31m         \u001b[0mresponse\u001b[0m \u001b[0;34m=\u001b[0m \u001b[0mhttp_request\u001b[0m\u001b[0;34m(\u001b[0m\u001b[0;34m**\u001b[0m\u001b[0mcall_kwargs\u001b[0m\u001b[0;34m)\u001b[0m\u001b[0;34m\u001b[0m\u001b[0;34m\u001b[0m\u001b[0m\n\u001b[0m\u001b[1;32m    366\u001b[0m     \u001b[0;32melse\u001b[0m\u001b[0;34m:\u001b[0m\u001b[0;34m\u001b[0m\u001b[0;34m\u001b[0m\u001b[0m\n\u001b[1;32m    367\u001b[0m         \u001b[0mcall_kwargs\u001b[0m\u001b[0;34m[\u001b[0m\u001b[0;34m\"json\"\u001b[0m\u001b[0;34m]\u001b[0m \u001b[0;34m=\u001b[0m \u001b[0mjson_body\u001b[0m\u001b[0;34m\u001b[0m\u001b[0;34m\u001b[0m\u001b[0m\n",
            "\u001b[0;32m/usr/local/lib/python3.10/dist-packages/mlflow/utils/rest_utils.py\u001b[0m in \u001b[0;36mhttp_request\u001b[0;34m(host_creds, endpoint, method, max_retries, backoff_factor, backoff_jitter, extra_headers, retry_codes, timeout, raise_on_status, respect_retry_after_header, **kwargs)\u001b[0m\n\u001b[1;32m    187\u001b[0m \u001b[0;34m\u001b[0m\u001b[0m\n\u001b[1;32m    188\u001b[0m     \u001b[0;32mtry\u001b[0m\u001b[0;34m:\u001b[0m\u001b[0;34m\u001b[0m\u001b[0;34m\u001b[0m\u001b[0m\n\u001b[0;32m--> 189\u001b[0;31m         return _get_http_response_with_retries(\n\u001b[0m\u001b[1;32m    190\u001b[0m             \u001b[0mmethod\u001b[0m\u001b[0;34m,\u001b[0m\u001b[0;34m\u001b[0m\u001b[0;34m\u001b[0m\u001b[0m\n\u001b[1;32m    191\u001b[0m             \u001b[0murl\u001b[0m\u001b[0;34m,\u001b[0m\u001b[0;34m\u001b[0m\u001b[0;34m\u001b[0m\u001b[0m\n",
            "\u001b[0;32m/usr/local/lib/python3.10/dist-packages/mlflow/utils/request_utils.py\u001b[0m in \u001b[0;36m_get_http_response_with_retries\u001b[0;34m(method, url, max_retries, backoff_factor, backoff_jitter, retry_codes, raise_on_status, allow_redirects, respect_retry_after_header, **kwargs)\u001b[0m\n\u001b[1;32m    235\u001b[0m     \u001b[0mallow_redirects\u001b[0m \u001b[0;34m=\u001b[0m \u001b[0menv_value\u001b[0m \u001b[0;32mif\u001b[0m \u001b[0mallow_redirects\u001b[0m \u001b[0;32mis\u001b[0m \u001b[0;32mNone\u001b[0m \u001b[0;32melse\u001b[0m \u001b[0mallow_redirects\u001b[0m\u001b[0;34m\u001b[0m\u001b[0;34m\u001b[0m\u001b[0m\n\u001b[1;32m    236\u001b[0m \u001b[0;34m\u001b[0m\u001b[0m\n\u001b[0;32m--> 237\u001b[0;31m     \u001b[0;32mreturn\u001b[0m \u001b[0msession\u001b[0m\u001b[0;34m.\u001b[0m\u001b[0mrequest\u001b[0m\u001b[0;34m(\u001b[0m\u001b[0mmethod\u001b[0m\u001b[0;34m,\u001b[0m \u001b[0murl\u001b[0m\u001b[0;34m,\u001b[0m \u001b[0mallow_redirects\u001b[0m\u001b[0;34m=\u001b[0m\u001b[0mallow_redirects\u001b[0m\u001b[0;34m,\u001b[0m \u001b[0;34m**\u001b[0m\u001b[0mkwargs\u001b[0m\u001b[0;34m)\u001b[0m\u001b[0;34m\u001b[0m\u001b[0;34m\u001b[0m\u001b[0m\n\u001b[0m\u001b[1;32m    238\u001b[0m \u001b[0;34m\u001b[0m\u001b[0m\n\u001b[1;32m    239\u001b[0m \u001b[0;34m\u001b[0m\u001b[0m\n",
            "\u001b[0;32m/usr/local/lib/python3.10/dist-packages/requests/sessions.py\u001b[0m in \u001b[0;36mrequest\u001b[0;34m(self, method, url, params, data, headers, cookies, files, auth, timeout, allow_redirects, proxies, hooks, stream, verify, cert, json)\u001b[0m\n\u001b[1;32m    587\u001b[0m         }\n\u001b[1;32m    588\u001b[0m         \u001b[0msend_kwargs\u001b[0m\u001b[0;34m.\u001b[0m\u001b[0mupdate\u001b[0m\u001b[0;34m(\u001b[0m\u001b[0msettings\u001b[0m\u001b[0;34m)\u001b[0m\u001b[0;34m\u001b[0m\u001b[0;34m\u001b[0m\u001b[0m\n\u001b[0;32m--> 589\u001b[0;31m         \u001b[0mresp\u001b[0m \u001b[0;34m=\u001b[0m \u001b[0mself\u001b[0m\u001b[0;34m.\u001b[0m\u001b[0msend\u001b[0m\u001b[0;34m(\u001b[0m\u001b[0mprep\u001b[0m\u001b[0;34m,\u001b[0m \u001b[0;34m**\u001b[0m\u001b[0msend_kwargs\u001b[0m\u001b[0;34m)\u001b[0m\u001b[0;34m\u001b[0m\u001b[0;34m\u001b[0m\u001b[0m\n\u001b[0m\u001b[1;32m    590\u001b[0m \u001b[0;34m\u001b[0m\u001b[0m\n\u001b[1;32m    591\u001b[0m         \u001b[0;32mreturn\u001b[0m \u001b[0mresp\u001b[0m\u001b[0;34m\u001b[0m\u001b[0;34m\u001b[0m\u001b[0m\n",
            "\u001b[0;32m/usr/local/lib/python3.10/dist-packages/requests/sessions.py\u001b[0m in \u001b[0;36msend\u001b[0;34m(self, request, **kwargs)\u001b[0m\n\u001b[1;32m    701\u001b[0m \u001b[0;34m\u001b[0m\u001b[0m\n\u001b[1;32m    702\u001b[0m         \u001b[0;31m# Send the request\u001b[0m\u001b[0;34m\u001b[0m\u001b[0;34m\u001b[0m\u001b[0m\n\u001b[0;32m--> 703\u001b[0;31m         \u001b[0mr\u001b[0m \u001b[0;34m=\u001b[0m \u001b[0madapter\u001b[0m\u001b[0;34m.\u001b[0m\u001b[0msend\u001b[0m\u001b[0;34m(\u001b[0m\u001b[0mrequest\u001b[0m\u001b[0;34m,\u001b[0m \u001b[0;34m**\u001b[0m\u001b[0mkwargs\u001b[0m\u001b[0;34m)\u001b[0m\u001b[0;34m\u001b[0m\u001b[0;34m\u001b[0m\u001b[0m\n\u001b[0m\u001b[1;32m    704\u001b[0m \u001b[0;34m\u001b[0m\u001b[0m\n\u001b[1;32m    705\u001b[0m         \u001b[0;31m# Total elapsed time of the request (approximately)\u001b[0m\u001b[0;34m\u001b[0m\u001b[0;34m\u001b[0m\u001b[0m\n",
            "\u001b[0;32m/usr/local/lib/python3.10/dist-packages/requests/adapters.py\u001b[0m in \u001b[0;36msend\u001b[0;34m(self, request, stream, timeout, verify, cert, proxies)\u001b[0m\n\u001b[1;32m    665\u001b[0m \u001b[0;34m\u001b[0m\u001b[0m\n\u001b[1;32m    666\u001b[0m         \u001b[0;32mtry\u001b[0m\u001b[0;34m:\u001b[0m\u001b[0;34m\u001b[0m\u001b[0;34m\u001b[0m\u001b[0m\n\u001b[0;32m--> 667\u001b[0;31m             resp = conn.urlopen(\n\u001b[0m\u001b[1;32m    668\u001b[0m                 \u001b[0mmethod\u001b[0m\u001b[0;34m=\u001b[0m\u001b[0mrequest\u001b[0m\u001b[0;34m.\u001b[0m\u001b[0mmethod\u001b[0m\u001b[0;34m,\u001b[0m\u001b[0;34m\u001b[0m\u001b[0;34m\u001b[0m\u001b[0m\n\u001b[1;32m    669\u001b[0m                 \u001b[0murl\u001b[0m\u001b[0;34m=\u001b[0m\u001b[0murl\u001b[0m\u001b[0;34m,\u001b[0m\u001b[0;34m\u001b[0m\u001b[0;34m\u001b[0m\u001b[0m\n",
            "\u001b[0;32m/usr/local/lib/python3.10/dist-packages/urllib3/connectionpool.py\u001b[0m in \u001b[0;36murlopen\u001b[0;34m(self, method, url, body, headers, retries, redirect, assert_same_host, timeout, pool_timeout, release_conn, chunked, body_pos, preload_content, decode_content, **response_kw)\u001b[0m\n\u001b[1;32m    871\u001b[0m                 \u001b[0;34m\"Retrying (%r) after connection broken by '%r': %s\"\u001b[0m\u001b[0;34m,\u001b[0m \u001b[0mretries\u001b[0m\u001b[0;34m,\u001b[0m \u001b[0merr\u001b[0m\u001b[0;34m,\u001b[0m \u001b[0murl\u001b[0m\u001b[0;34m\u001b[0m\u001b[0;34m\u001b[0m\u001b[0m\n\u001b[1;32m    872\u001b[0m             )\n\u001b[0;32m--> 873\u001b[0;31m             return self.urlopen(\n\u001b[0m\u001b[1;32m    874\u001b[0m                 \u001b[0mmethod\u001b[0m\u001b[0;34m,\u001b[0m\u001b[0;34m\u001b[0m\u001b[0;34m\u001b[0m\u001b[0m\n\u001b[1;32m    875\u001b[0m                 \u001b[0murl\u001b[0m\u001b[0;34m,\u001b[0m\u001b[0;34m\u001b[0m\u001b[0;34m\u001b[0m\u001b[0m\n",
            "\u001b[0;32m/usr/local/lib/python3.10/dist-packages/urllib3/connectionpool.py\u001b[0m in \u001b[0;36murlopen\u001b[0;34m(self, method, url, body, headers, retries, redirect, assert_same_host, timeout, pool_timeout, release_conn, chunked, body_pos, preload_content, decode_content, **response_kw)\u001b[0m\n\u001b[1;32m    871\u001b[0m                 \u001b[0;34m\"Retrying (%r) after connection broken by '%r': %s\"\u001b[0m\u001b[0;34m,\u001b[0m \u001b[0mretries\u001b[0m\u001b[0;34m,\u001b[0m \u001b[0merr\u001b[0m\u001b[0;34m,\u001b[0m \u001b[0murl\u001b[0m\u001b[0;34m\u001b[0m\u001b[0;34m\u001b[0m\u001b[0m\n\u001b[1;32m    872\u001b[0m             )\n\u001b[0;32m--> 873\u001b[0;31m             return self.urlopen(\n\u001b[0m\u001b[1;32m    874\u001b[0m                 \u001b[0mmethod\u001b[0m\u001b[0;34m,\u001b[0m\u001b[0;34m\u001b[0m\u001b[0;34m\u001b[0m\u001b[0m\n\u001b[1;32m    875\u001b[0m                 \u001b[0murl\u001b[0m\u001b[0;34m,\u001b[0m\u001b[0;34m\u001b[0m\u001b[0;34m\u001b[0m\u001b[0m\n",
            "\u001b[0;32m/usr/local/lib/python3.10/dist-packages/urllib3/connectionpool.py\u001b[0m in \u001b[0;36murlopen\u001b[0;34m(self, method, url, body, headers, retries, redirect, assert_same_host, timeout, pool_timeout, release_conn, chunked, body_pos, preload_content, decode_content, **response_kw)\u001b[0m\n\u001b[1;32m    871\u001b[0m                 \u001b[0;34m\"Retrying (%r) after connection broken by '%r': %s\"\u001b[0m\u001b[0;34m,\u001b[0m \u001b[0mretries\u001b[0m\u001b[0;34m,\u001b[0m \u001b[0merr\u001b[0m\u001b[0;34m,\u001b[0m \u001b[0murl\u001b[0m\u001b[0;34m\u001b[0m\u001b[0;34m\u001b[0m\u001b[0m\n\u001b[1;32m    872\u001b[0m             )\n\u001b[0;32m--> 873\u001b[0;31m             return self.urlopen(\n\u001b[0m\u001b[1;32m    874\u001b[0m                 \u001b[0mmethod\u001b[0m\u001b[0;34m,\u001b[0m\u001b[0;34m\u001b[0m\u001b[0;34m\u001b[0m\u001b[0m\n\u001b[1;32m    875\u001b[0m                 \u001b[0murl\u001b[0m\u001b[0;34m,\u001b[0m\u001b[0;34m\u001b[0m\u001b[0;34m\u001b[0m\u001b[0m\n",
            "\u001b[0;32m/usr/local/lib/python3.10/dist-packages/urllib3/connectionpool.py\u001b[0m in \u001b[0;36murlopen\u001b[0;34m(self, method, url, body, headers, retries, redirect, assert_same_host, timeout, pool_timeout, release_conn, chunked, body_pos, preload_content, decode_content, **response_kw)\u001b[0m\n\u001b[1;32m    871\u001b[0m                 \u001b[0;34m\"Retrying (%r) after connection broken by '%r': %s\"\u001b[0m\u001b[0;34m,\u001b[0m \u001b[0mretries\u001b[0m\u001b[0;34m,\u001b[0m \u001b[0merr\u001b[0m\u001b[0;34m,\u001b[0m \u001b[0murl\u001b[0m\u001b[0;34m\u001b[0m\u001b[0;34m\u001b[0m\u001b[0m\n\u001b[1;32m    872\u001b[0m             )\n\u001b[0;32m--> 873\u001b[0;31m             return self.urlopen(\n\u001b[0m\u001b[1;32m    874\u001b[0m                 \u001b[0mmethod\u001b[0m\u001b[0;34m,\u001b[0m\u001b[0;34m\u001b[0m\u001b[0;34m\u001b[0m\u001b[0m\n\u001b[1;32m    875\u001b[0m                 \u001b[0murl\u001b[0m\u001b[0;34m,\u001b[0m\u001b[0;34m\u001b[0m\u001b[0;34m\u001b[0m\u001b[0m\n",
            "\u001b[0;32m/usr/local/lib/python3.10/dist-packages/urllib3/connectionpool.py\u001b[0m in \u001b[0;36murlopen\u001b[0;34m(self, method, url, body, headers, retries, redirect, assert_same_host, timeout, pool_timeout, release_conn, chunked, body_pos, preload_content, decode_content, **response_kw)\u001b[0m\n\u001b[1;32m    844\u001b[0m                 \u001b[0mmethod\u001b[0m\u001b[0;34m,\u001b[0m \u001b[0murl\u001b[0m\u001b[0;34m,\u001b[0m \u001b[0merror\u001b[0m\u001b[0;34m=\u001b[0m\u001b[0mnew_e\u001b[0m\u001b[0;34m,\u001b[0m \u001b[0m_pool\u001b[0m\u001b[0;34m=\u001b[0m\u001b[0mself\u001b[0m\u001b[0;34m,\u001b[0m \u001b[0m_stacktrace\u001b[0m\u001b[0;34m=\u001b[0m\u001b[0msys\u001b[0m\u001b[0;34m.\u001b[0m\u001b[0mexc_info\u001b[0m\u001b[0;34m(\u001b[0m\u001b[0;34m)\u001b[0m\u001b[0;34m[\u001b[0m\u001b[0;36m2\u001b[0m\u001b[0;34m]\u001b[0m\u001b[0;34m\u001b[0m\u001b[0;34m\u001b[0m\u001b[0m\n\u001b[1;32m    845\u001b[0m             )\n\u001b[0;32m--> 846\u001b[0;31m             \u001b[0mretries\u001b[0m\u001b[0;34m.\u001b[0m\u001b[0msleep\u001b[0m\u001b[0;34m(\u001b[0m\u001b[0;34m)\u001b[0m\u001b[0;34m\u001b[0m\u001b[0;34m\u001b[0m\u001b[0m\n\u001b[0m\u001b[1;32m    847\u001b[0m \u001b[0;34m\u001b[0m\u001b[0m\n\u001b[1;32m    848\u001b[0m             \u001b[0;31m# Keep track of the error for the retry warning.\u001b[0m\u001b[0;34m\u001b[0m\u001b[0;34m\u001b[0m\u001b[0m\n",
            "\u001b[0;32m/usr/local/lib/python3.10/dist-packages/urllib3/util/retry.py\u001b[0m in \u001b[0;36msleep\u001b[0;34m(self, response)\u001b[0m\n\u001b[1;32m    361\u001b[0m                 \u001b[0;32mreturn\u001b[0m\u001b[0;34m\u001b[0m\u001b[0;34m\u001b[0m\u001b[0m\n\u001b[1;32m    362\u001b[0m \u001b[0;34m\u001b[0m\u001b[0m\n\u001b[0;32m--> 363\u001b[0;31m         \u001b[0mself\u001b[0m\u001b[0;34m.\u001b[0m\u001b[0m_sleep_backoff\u001b[0m\u001b[0;34m(\u001b[0m\u001b[0;34m)\u001b[0m\u001b[0;34m\u001b[0m\u001b[0;34m\u001b[0m\u001b[0m\n\u001b[0m\u001b[1;32m    364\u001b[0m \u001b[0;34m\u001b[0m\u001b[0m\n\u001b[1;32m    365\u001b[0m     \u001b[0;32mdef\u001b[0m \u001b[0m_is_connection_error\u001b[0m\u001b[0;34m(\u001b[0m\u001b[0mself\u001b[0m\u001b[0;34m,\u001b[0m \u001b[0merr\u001b[0m\u001b[0;34m:\u001b[0m \u001b[0mException\u001b[0m\u001b[0;34m)\u001b[0m \u001b[0;34m->\u001b[0m \u001b[0mbool\u001b[0m\u001b[0;34m:\u001b[0m\u001b[0;34m\u001b[0m\u001b[0;34m\u001b[0m\u001b[0m\n",
            "\u001b[0;32m/usr/local/lib/python3.10/dist-packages/urllib3/util/retry.py\u001b[0m in \u001b[0;36m_sleep_backoff\u001b[0;34m(self)\u001b[0m\n\u001b[1;32m    345\u001b[0m         \u001b[0;32mif\u001b[0m \u001b[0mbackoff\u001b[0m \u001b[0;34m<=\u001b[0m \u001b[0;36m0\u001b[0m\u001b[0;34m:\u001b[0m\u001b[0;34m\u001b[0m\u001b[0;34m\u001b[0m\u001b[0m\n\u001b[1;32m    346\u001b[0m             \u001b[0;32mreturn\u001b[0m\u001b[0;34m\u001b[0m\u001b[0;34m\u001b[0m\u001b[0m\n\u001b[0;32m--> 347\u001b[0;31m         \u001b[0mtime\u001b[0m\u001b[0;34m.\u001b[0m\u001b[0msleep\u001b[0m\u001b[0;34m(\u001b[0m\u001b[0mbackoff\u001b[0m\u001b[0;34m)\u001b[0m\u001b[0;34m\u001b[0m\u001b[0;34m\u001b[0m\u001b[0m\n\u001b[0m\u001b[1;32m    348\u001b[0m \u001b[0;34m\u001b[0m\u001b[0m\n\u001b[1;32m    349\u001b[0m     \u001b[0;32mdef\u001b[0m \u001b[0msleep\u001b[0m\u001b[0;34m(\u001b[0m\u001b[0mself\u001b[0m\u001b[0;34m,\u001b[0m \u001b[0mresponse\u001b[0m\u001b[0;34m:\u001b[0m \u001b[0mBaseHTTPResponse\u001b[0m \u001b[0;34m|\u001b[0m \u001b[0;32mNone\u001b[0m \u001b[0;34m=\u001b[0m \u001b[0;32mNone\u001b[0m\u001b[0;34m)\u001b[0m \u001b[0;34m->\u001b[0m \u001b[0;32mNone\u001b[0m\u001b[0;34m:\u001b[0m\u001b[0;34m\u001b[0m\u001b[0;34m\u001b[0m\u001b[0m\n",
            "\u001b[0;31mKeyboardInterrupt\u001b[0m: "
          ]
        }
      ]
    },
    {
      "cell_type": "markdown",
      "source": [
        "## Código cocmpleto"
      ],
      "metadata": {
        "id": "1KAvL2HFRSoP"
      }
    },
    {
      "cell_type": "code",
      "source": [
        "# Configuración inicial para Google Colab\n",
        "!apt-get install -y libsqlite3-dev\n",
        "!pip install mlflow pyngrok scikit-learn\n",
        "\n",
        "import os\n",
        "import mlflow\n",
        "import mlflow.sklearn\n",
        "from sklearn.datasets import load_iris\n",
        "from sklearn.model_selection import train_test_split\n",
        "from sklearn.linear_model import LogisticRegression\n",
        "from sklearn.ensemble import RandomForestClassifier\n",
        "from sklearn.metrics import accuracy_score, precision_score, recall_score, f1_score\n",
        "from pyngrok import ngrok\n",
        "from itertools import product\n",
        "import numpy as np\n",
        "\n",
        "\n",
        "# Configurar ngrok para exponer el servidor MLFlow\n",
        "url = ngrok.connect(5000)\n",
        "print(f\"MLFlow UI está disponible en: {url.public_url}\")\n",
        "\n",
        "# Configurar MLFlow para Logistic Regression\n",
        "mlflow.set_tracking_uri(\"http://127.0.0.1:5000\")  # URL del servidor de MLFlow\n",
        "mlflow.set_experiment(\"Logistic_Regression_Experiment\")\n",
        "\n",
        "# Entrenar y registrar modelos Logistic Regression con distintos hiperparámetros\n",
        "param_grid_lr = {\n",
        "    'max_iter': [100, 200],\n",
        "    'random_state': [42]\n",
        "}\n",
        "\n",
        "for params in product(*param_grid_lr.values()):\n",
        "    with mlflow.start_run():\n",
        "        param_dict = dict(zip(param_grid_lr.keys(), params))\n",
        "        model = LogisticRegression(**param_dict)\n",
        "        model.fit(X_train, y_train)\n",
        "\n",
        "        y_pred = model.predict(X_test)\n",
        "\n",
        "        # Métricas\n",
        "        accuracy = accuracy_score(y_test, y_pred)\n",
        "        precision = precision_score(y_test, y_pred, average=\"weighted\")\n",
        "        recall = recall_score(y_test, y_pred, average=\"weighted\")\n",
        "        f1 = f1_score(y_test, y_pred, average=\"weighted\")\n",
        "\n",
        "        # Registrar parámetros y métricas en MLFlow\n",
        "        mlflow.log_params(param_dict)\n",
        "        mlflow.log_metric(\"accuracy\", accuracy)\n",
        "        mlflow.log_metric(\"precision\", precision)\n",
        "        mlflow.log_metric(\"recall\", recall)\n",
        "        mlflow.log_metric(\"f1_score\", f1)\n",
        "\n",
        "        # Registrar el modelo\n",
        "        mlflow.sklearn.log_model(model, \"logistic_regression_model\")\n",
        "\n",
        "        print(f\"Modelo Logistic Regression con parámetros {param_dict} registrado en MLFlow.\")\n",
        "\n",
        "# Configurar MLFlow para Random Forest\n",
        "mlflow.set_experiment(\"Random_Forest_Experiment\")\n",
        "\n",
        "# Entrenar y registrar modelos Random Forest con distintos hiperparámetros\n",
        "param_grid_rf = {\n",
        "    'n_estimators': [50, 100],\n",
        "    'max_depth': [5, 10],\n",
        "    'random_state': [42]\n",
        "}\n",
        "\n",
        "for params in product(*param_grid_rf.values()):\n",
        "    with mlflow.start_run():\n",
        "        param_dict = dict(zip(param_grid_rf.keys(), params))\n",
        "        model = RandomForestClassifier(**param_dict)\n",
        "        model.fit(X_train, y_train)\n",
        "\n",
        "        y_pred = model.predict(X_test)\n",
        "\n",
        "        # Métricas\n",
        "        accuracy = accuracy_score(y_test, y_pred)\n",
        "        precision = precision_score(y_test, y_pred, average=\"weighted\")\n",
        "        recall = recall_score(y_test, y_pred, average=\"weighted\")\n",
        "        f1 = f1_score(y_test, y_pred, average=\"weighted\")\n",
        "\n",
        "        # Registrar parámetros y métricas en MLFlow\n",
        "        mlflow.log_params(param_dict)\n",
        "        mlflow.log_metric(\"accuracy\", accuracy)\n",
        "        mlflow.log_metric(\"precision\", precision)\n",
        "        mlflow.log_metric(\"recall\", recall)\n",
        "        mlflow.log_metric(\"f1_score\", f1)\n",
        "\n",
        "        # Registrar el modelo\n",
        "        mlflow.sklearn.log_model(model, \"random_forest_model\")\n",
        "\n",
        "        print(f\"Modelo Random Forest con parámetros {param_dict} registrado en MLFlow.\")\n"
      ],
      "metadata": {
        "colab": {
          "base_uri": "https://localhost:8080/"
        },
        "id": "65QcjPrMRTo7",
        "outputId": "aebe9f43-902c-4e4f-a27f-259c9d94cc4f"
      },
      "execution_count": 27,
      "outputs": [
        {
          "output_type": "stream",
          "name": "stdout",
          "text": [
            "Reading package lists... Done\n",
            "Building dependency tree... Done\n",
            "Reading state information... Done\n",
            "libsqlite3-dev is already the newest version (3.37.2-2ubuntu0.3).\n",
            "libsqlite3-dev set to manually installed.\n",
            "0 upgraded, 0 newly installed, 0 to remove and 49 not upgraded.\n",
            "Requirement already satisfied: mlflow in /usr/local/lib/python3.10/dist-packages (2.19.0)\n",
            "Requirement already satisfied: pyngrok in /usr/local/lib/python3.10/dist-packages (7.2.2)\n",
            "Requirement already satisfied: scikit-learn in /usr/local/lib/python3.10/dist-packages (1.5.2)\n",
            "Requirement already satisfied: mlflow-skinny==2.19.0 in /usr/local/lib/python3.10/dist-packages (from mlflow) (2.19.0)\n",
            "Requirement already satisfied: Flask<4 in /usr/local/lib/python3.10/dist-packages (from mlflow) (3.0.3)\n",
            "Requirement already satisfied: Jinja2<4,>=2.11 in /usr/local/lib/python3.10/dist-packages (from mlflow) (3.1.4)\n",
            "Requirement already satisfied: alembic!=1.10.0,<2 in /usr/local/lib/python3.10/dist-packages (from mlflow) (1.14.0)\n",
            "Requirement already satisfied: docker<8,>=4.0.0 in /usr/local/lib/python3.10/dist-packages (from mlflow) (7.1.0)\n",
            "Requirement already satisfied: graphene<4 in /usr/local/lib/python3.10/dist-packages (from mlflow) (3.4.3)\n",
            "Requirement already satisfied: gunicorn<24 in /usr/local/lib/python3.10/dist-packages (from mlflow) (23.0.0)\n",
            "Requirement already satisfied: markdown<4,>=3.3 in /usr/local/lib/python3.10/dist-packages (from mlflow) (3.7)\n",
            "Requirement already satisfied: matplotlib<4 in /usr/local/lib/python3.10/dist-packages (from mlflow) (3.8.0)\n",
            "Requirement already satisfied: numpy<3 in /usr/local/lib/python3.10/dist-packages (from mlflow) (1.26.4)\n",
            "Requirement already satisfied: pandas<3 in /usr/local/lib/python3.10/dist-packages (from mlflow) (2.2.2)\n",
            "Requirement already satisfied: pyarrow<19,>=4.0.0 in /usr/local/lib/python3.10/dist-packages (from mlflow) (17.0.0)\n",
            "Requirement already satisfied: scipy<2 in /usr/local/lib/python3.10/dist-packages (from mlflow) (1.13.1)\n",
            "Requirement already satisfied: sqlalchemy<3,>=1.4.0 in /usr/local/lib/python3.10/dist-packages (from mlflow) (2.0.36)\n",
            "Requirement already satisfied: cachetools<6,>=5.0.0 in /usr/local/lib/python3.10/dist-packages (from mlflow-skinny==2.19.0->mlflow) (5.5.0)\n",
            "Requirement already satisfied: click<9,>=7.0 in /usr/local/lib/python3.10/dist-packages (from mlflow-skinny==2.19.0->mlflow) (8.1.7)\n",
            "Requirement already satisfied: cloudpickle<4 in /usr/local/lib/python3.10/dist-packages (from mlflow-skinny==2.19.0->mlflow) (3.1.0)\n",
            "Requirement already satisfied: databricks-sdk<1,>=0.20.0 in /usr/local/lib/python3.10/dist-packages (from mlflow-skinny==2.19.0->mlflow) (0.39.0)\n",
            "Requirement already satisfied: gitpython<4,>=3.1.9 in /usr/local/lib/python3.10/dist-packages (from mlflow-skinny==2.19.0->mlflow) (3.1.43)\n",
            "Requirement already satisfied: importlib_metadata!=4.7.0,<9,>=3.7.0 in /usr/local/lib/python3.10/dist-packages (from mlflow-skinny==2.19.0->mlflow) (8.5.0)\n",
            "Requirement already satisfied: opentelemetry-api<3,>=1.9.0 in /usr/local/lib/python3.10/dist-packages (from mlflow-skinny==2.19.0->mlflow) (1.28.2)\n",
            "Requirement already satisfied: opentelemetry-sdk<3,>=1.9.0 in /usr/local/lib/python3.10/dist-packages (from mlflow-skinny==2.19.0->mlflow) (1.28.2)\n",
            "Requirement already satisfied: packaging<25 in /usr/local/lib/python3.10/dist-packages (from mlflow-skinny==2.19.0->mlflow) (24.2)\n",
            "Requirement already satisfied: protobuf<6,>=3.12.0 in /usr/local/lib/python3.10/dist-packages (from mlflow-skinny==2.19.0->mlflow) (4.25.5)\n",
            "Requirement already satisfied: pyyaml<7,>=5.1 in /usr/local/lib/python3.10/dist-packages (from mlflow-skinny==2.19.0->mlflow) (6.0.2)\n",
            "Requirement already satisfied: requests<3,>=2.17.3 in /usr/local/lib/python3.10/dist-packages (from mlflow-skinny==2.19.0->mlflow) (2.32.3)\n",
            "Requirement already satisfied: sqlparse<1,>=0.4.0 in /usr/local/lib/python3.10/dist-packages (from mlflow-skinny==2.19.0->mlflow) (0.5.3)\n",
            "Requirement already satisfied: joblib>=1.2.0 in /usr/local/lib/python3.10/dist-packages (from scikit-learn) (1.4.2)\n",
            "Requirement already satisfied: threadpoolctl>=3.1.0 in /usr/local/lib/python3.10/dist-packages (from scikit-learn) (3.5.0)\n",
            "Requirement already satisfied: Mako in /usr/local/lib/python3.10/dist-packages (from alembic!=1.10.0,<2->mlflow) (1.3.8)\n",
            "Requirement already satisfied: typing-extensions>=4 in /usr/local/lib/python3.10/dist-packages (from alembic!=1.10.0,<2->mlflow) (4.12.2)\n",
            "Requirement already satisfied: urllib3>=1.26.0 in /usr/local/lib/python3.10/dist-packages (from docker<8,>=4.0.0->mlflow) (2.2.3)\n",
            "Requirement already satisfied: Werkzeug>=3.0.0 in /usr/local/lib/python3.10/dist-packages (from Flask<4->mlflow) (3.1.3)\n",
            "Requirement already satisfied: itsdangerous>=2.1.2 in /usr/local/lib/python3.10/dist-packages (from Flask<4->mlflow) (2.2.0)\n",
            "Requirement already satisfied: blinker>=1.6.2 in /usr/local/lib/python3.10/dist-packages (from Flask<4->mlflow) (1.9.0)\n",
            "Requirement already satisfied: graphql-core<3.3,>=3.1 in /usr/local/lib/python3.10/dist-packages (from graphene<4->mlflow) (3.2.5)\n",
            "Requirement already satisfied: graphql-relay<3.3,>=3.1 in /usr/local/lib/python3.10/dist-packages (from graphene<4->mlflow) (3.2.0)\n",
            "Requirement already satisfied: python-dateutil<3,>=2.7.0 in /usr/local/lib/python3.10/dist-packages (from graphene<4->mlflow) (2.8.2)\n",
            "Requirement already satisfied: MarkupSafe>=2.0 in /usr/local/lib/python3.10/dist-packages (from Jinja2<4,>=2.11->mlflow) (3.0.2)\n",
            "Requirement already satisfied: contourpy>=1.0.1 in /usr/local/lib/python3.10/dist-packages (from matplotlib<4->mlflow) (1.3.1)\n",
            "Requirement already satisfied: cycler>=0.10 in /usr/local/lib/python3.10/dist-packages (from matplotlib<4->mlflow) (0.12.1)\n",
            "Requirement already satisfied: fonttools>=4.22.0 in /usr/local/lib/python3.10/dist-packages (from matplotlib<4->mlflow) (4.55.3)\n",
            "Requirement already satisfied: kiwisolver>=1.0.1 in /usr/local/lib/python3.10/dist-packages (from matplotlib<4->mlflow) (1.4.7)\n",
            "Requirement already satisfied: pillow>=6.2.0 in /usr/local/lib/python3.10/dist-packages (from matplotlib<4->mlflow) (11.0.0)\n",
            "Requirement already satisfied: pyparsing>=2.3.1 in /usr/local/lib/python3.10/dist-packages (from matplotlib<4->mlflow) (3.2.0)\n",
            "Requirement already satisfied: pytz>=2020.1 in /usr/local/lib/python3.10/dist-packages (from pandas<3->mlflow) (2024.2)\n",
            "Requirement already satisfied: tzdata>=2022.7 in /usr/local/lib/python3.10/dist-packages (from pandas<3->mlflow) (2024.2)\n",
            "Requirement already satisfied: greenlet!=0.4.17 in /usr/local/lib/python3.10/dist-packages (from sqlalchemy<3,>=1.4.0->mlflow) (3.1.1)\n",
            "Requirement already satisfied: google-auth~=2.0 in /usr/local/lib/python3.10/dist-packages (from databricks-sdk<1,>=0.20.0->mlflow-skinny==2.19.0->mlflow) (2.27.0)\n",
            "Requirement already satisfied: gitdb<5,>=4.0.1 in /usr/local/lib/python3.10/dist-packages (from gitpython<4,>=3.1.9->mlflow-skinny==2.19.0->mlflow) (4.0.11)\n",
            "Requirement already satisfied: zipp>=3.20 in /usr/local/lib/python3.10/dist-packages (from importlib_metadata!=4.7.0,<9,>=3.7.0->mlflow-skinny==2.19.0->mlflow) (3.21.0)\n",
            "Requirement already satisfied: deprecated>=1.2.6 in /usr/local/lib/python3.10/dist-packages (from opentelemetry-api<3,>=1.9.0->mlflow-skinny==2.19.0->mlflow) (1.2.15)\n",
            "Requirement already satisfied: opentelemetry-semantic-conventions==0.49b2 in /usr/local/lib/python3.10/dist-packages (from opentelemetry-sdk<3,>=1.9.0->mlflow-skinny==2.19.0->mlflow) (0.49b2)\n",
            "Requirement already satisfied: six>=1.5 in /usr/local/lib/python3.10/dist-packages (from python-dateutil<3,>=2.7.0->graphene<4->mlflow) (1.17.0)\n",
            "Requirement already satisfied: charset-normalizer<4,>=2 in /usr/local/lib/python3.10/dist-packages (from requests<3,>=2.17.3->mlflow-skinny==2.19.0->mlflow) (3.4.0)\n",
            "Requirement already satisfied: idna<4,>=2.5 in /usr/local/lib/python3.10/dist-packages (from requests<3,>=2.17.3->mlflow-skinny==2.19.0->mlflow) (3.10)\n",
            "Requirement already satisfied: certifi>=2017.4.17 in /usr/local/lib/python3.10/dist-packages (from requests<3,>=2.17.3->mlflow-skinny==2.19.0->mlflow) (2024.8.30)\n",
            "Requirement already satisfied: wrapt<2,>=1.10 in /usr/local/lib/python3.10/dist-packages (from deprecated>=1.2.6->opentelemetry-api<3,>=1.9.0->mlflow-skinny==2.19.0->mlflow) (1.17.0)\n",
            "Requirement already satisfied: smmap<6,>=3.0.1 in /usr/local/lib/python3.10/dist-packages (from gitdb<5,>=4.0.1->gitpython<4,>=3.1.9->mlflow-skinny==2.19.0->mlflow) (5.0.1)\n",
            "Requirement already satisfied: pyasn1-modules>=0.2.1 in /usr/local/lib/python3.10/dist-packages (from google-auth~=2.0->databricks-sdk<1,>=0.20.0->mlflow-skinny==2.19.0->mlflow) (0.4.1)\n",
            "Requirement already satisfied: rsa<5,>=3.1.4 in /usr/local/lib/python3.10/dist-packages (from google-auth~=2.0->databricks-sdk<1,>=0.20.0->mlflow-skinny==2.19.0->mlflow) (4.9)\n",
            "Requirement already satisfied: pyasn1<0.7.0,>=0.4.6 in /usr/local/lib/python3.10/dist-packages (from pyasn1-modules>=0.2.1->google-auth~=2.0->databricks-sdk<1,>=0.20.0->mlflow-skinny==2.19.0->mlflow) (0.6.1)\n",
            "MLFlow UI está disponible en: https://9082-34-168-246-78.ngrok-free.app\n"
          ]
        },
        {
          "output_type": "stream",
          "name": "stderr",
          "text": [
            "\u001b[31m2024/12/14 22:24:34 WARNING mlflow.models.model: Model logged without a signature and input example. Please set `input_example` parameter when logging the model to auto infer the model signature.\u001b[0m\n"
          ]
        },
        {
          "output_type": "stream",
          "name": "stdout",
          "text": [
            "Modelo Logistic Regression con parámetros {'max_iter': 100, 'random_state': 42} registrado en MLFlow.\n",
            "🏃 View run luminous-rat-919 at: http://127.0.0.1:5000/#/experiments/1/runs/f2191cc75e4240c480f88dd88892c796\n",
            "🧪 View experiment at: http://127.0.0.1:5000/#/experiments/1\n"
          ]
        },
        {
          "output_type": "stream",
          "name": "stderr",
          "text": [
            "\u001b[31m2024/12/14 22:24:43 WARNING mlflow.models.model: Model logged without a signature and input example. Please set `input_example` parameter when logging the model to auto infer the model signature.\u001b[0m\n",
            "2024/12/14 22:24:43 INFO mlflow.tracking.fluent: Experiment with name 'Random_Forest_Experiment' does not exist. Creating a new experiment.\n"
          ]
        },
        {
          "output_type": "stream",
          "name": "stdout",
          "text": [
            "Modelo Logistic Regression con parámetros {'max_iter': 200, 'random_state': 42} registrado en MLFlow.\n",
            "🏃 View run big-grouse-487 at: http://127.0.0.1:5000/#/experiments/1/runs/15e6d87eae0a4732b6d6fc9695af1a3a\n",
            "🧪 View experiment at: http://127.0.0.1:5000/#/experiments/1\n"
          ]
        },
        {
          "output_type": "stream",
          "name": "stderr",
          "text": [
            "\u001b[31m2024/12/14 22:24:59 WARNING mlflow.models.model: Model logged without a signature and input example. Please set `input_example` parameter when logging the model to auto infer the model signature.\u001b[0m\n"
          ]
        },
        {
          "output_type": "stream",
          "name": "stdout",
          "text": [
            "Modelo Random Forest con parámetros {'n_estimators': 50, 'max_depth': 5, 'random_state': 42} registrado en MLFlow.\n",
            "🏃 View run silent-zebra-502 at: http://127.0.0.1:5000/#/experiments/2/runs/674a8bfe51494d7a99ccb6e9a15a44cc\n",
            "🧪 View experiment at: http://127.0.0.1:5000/#/experiments/2\n"
          ]
        },
        {
          "output_type": "stream",
          "name": "stderr",
          "text": [
            "\u001b[31m2024/12/14 22:26:00 WARNING mlflow.models.model: Model logged without a signature and input example. Please set `input_example` parameter when logging the model to auto infer the model signature.\u001b[0m\n"
          ]
        },
        {
          "output_type": "stream",
          "name": "stdout",
          "text": [
            "Modelo Random Forest con parámetros {'n_estimators': 50, 'max_depth': 10, 'random_state': 42} registrado en MLFlow.\n",
            "🏃 View run adaptable-slug-144 at: http://127.0.0.1:5000/#/experiments/2/runs/657a5811bac44c17b1e3a2f490a45a06\n",
            "🧪 View experiment at: http://127.0.0.1:5000/#/experiments/2\n"
          ]
        },
        {
          "output_type": "stream",
          "name": "stderr",
          "text": [
            "\u001b[31m2024/12/14 22:26:39 WARNING mlflow.models.model: Model logged without a signature and input example. Please set `input_example` parameter when logging the model to auto infer the model signature.\u001b[0m\n"
          ]
        },
        {
          "output_type": "stream",
          "name": "stdout",
          "text": [
            "Modelo Random Forest con parámetros {'n_estimators': 100, 'max_depth': 5, 'random_state': 42} registrado en MLFlow.\n",
            "🏃 View run intrigued-robin-689 at: http://127.0.0.1:5000/#/experiments/2/runs/c55a9baae0c94c01989337293526dce7\n",
            "🧪 View experiment at: http://127.0.0.1:5000/#/experiments/2\n"
          ]
        },
        {
          "output_type": "stream",
          "name": "stderr",
          "text": [
            "\u001b[31m2024/12/14 22:28:09 WARNING mlflow.models.model: Model logged without a signature and input example. Please set `input_example` parameter when logging the model to auto infer the model signature.\u001b[0m\n"
          ]
        },
        {
          "output_type": "stream",
          "name": "stdout",
          "text": [
            "Modelo Random Forest con parámetros {'n_estimators': 100, 'max_depth': 10, 'random_state': 42} registrado en MLFlow.\n",
            "🏃 View run wise-mole-904 at: http://127.0.0.1:5000/#/experiments/2/runs/e8d780fdcc664c5ba1fe3f4318c8d52d\n",
            "🧪 View experiment at: http://127.0.0.1:5000/#/experiments/2\n"
          ]
        }
      ]
    },
    {
      "cell_type": "code",
      "source": [
        "# Inferencia: Usar los modelos registrados\n",
        "print(\"\\nInferencia usando modelos registrados:\")\n",
        "\n",
        "# Obtener el mejor modelo de Logistic Regression\n",
        "client = mlflow.tracking.MlflowClient()\n",
        "experiment_id = client.get_experiment_by_name(\"Logistic_Regression_Experiment\").experiment_id\n",
        "best_run_lr = client.search_runs(experiment_id, order_by=[\"metrics.accuracy DESC\"], max_results=1)[0]\n",
        "model_uri_lr = f\"runs:/{best_run_lr.info.run_id}/logistic_regression_model\"\n",
        "model_lr = mlflow.sklearn.load_model(model_uri_lr)\n"
      ],
      "metadata": {
        "colab": {
          "base_uri": "https://localhost:8080/"
        },
        "id": "dyNoe5w8RbgY",
        "outputId": "021d810b-0ab1-4071-d7df-4056e00863ef"
      },
      "execution_count": 28,
      "outputs": [
        {
          "output_type": "stream",
          "name": "stdout",
          "text": [
            "\n",
            "Inferencia usando modelos registrados:\n"
          ]
        }
      ]
    },
    {
      "cell_type": "code",
      "source": [
        "model_lr"
      ],
      "metadata": {
        "colab": {
          "base_uri": "https://localhost:8080/",
          "height": 80
        },
        "id": "V78mIELiSunJ",
        "outputId": "c80648ec-2836-4493-c3a2-aee80e4a3828"
      },
      "execution_count": 29,
      "outputs": [
        {
          "output_type": "execute_result",
          "data": {
            "text/plain": [
              "LogisticRegression(max_iter=200, random_state=42)"
            ],
            "text/html": [
              "<style>#sk-container-id-1 {\n",
              "  /* Definition of color scheme common for light and dark mode */\n",
              "  --sklearn-color-text: black;\n",
              "  --sklearn-color-line: gray;\n",
              "  /* Definition of color scheme for unfitted estimators */\n",
              "  --sklearn-color-unfitted-level-0: #fff5e6;\n",
              "  --sklearn-color-unfitted-level-1: #f6e4d2;\n",
              "  --sklearn-color-unfitted-level-2: #ffe0b3;\n",
              "  --sklearn-color-unfitted-level-3: chocolate;\n",
              "  /* Definition of color scheme for fitted estimators */\n",
              "  --sklearn-color-fitted-level-0: #f0f8ff;\n",
              "  --sklearn-color-fitted-level-1: #d4ebff;\n",
              "  --sklearn-color-fitted-level-2: #b3dbfd;\n",
              "  --sklearn-color-fitted-level-3: cornflowerblue;\n",
              "\n",
              "  /* Specific color for light theme */\n",
              "  --sklearn-color-text-on-default-background: var(--sg-text-color, var(--theme-code-foreground, var(--jp-content-font-color1, black)));\n",
              "  --sklearn-color-background: var(--sg-background-color, var(--theme-background, var(--jp-layout-color0, white)));\n",
              "  --sklearn-color-border-box: var(--sg-text-color, var(--theme-code-foreground, var(--jp-content-font-color1, black)));\n",
              "  --sklearn-color-icon: #696969;\n",
              "\n",
              "  @media (prefers-color-scheme: dark) {\n",
              "    /* Redefinition of color scheme for dark theme */\n",
              "    --sklearn-color-text-on-default-background: var(--sg-text-color, var(--theme-code-foreground, var(--jp-content-font-color1, white)));\n",
              "    --sklearn-color-background: var(--sg-background-color, var(--theme-background, var(--jp-layout-color0, #111)));\n",
              "    --sklearn-color-border-box: var(--sg-text-color, var(--theme-code-foreground, var(--jp-content-font-color1, white)));\n",
              "    --sklearn-color-icon: #878787;\n",
              "  }\n",
              "}\n",
              "\n",
              "#sk-container-id-1 {\n",
              "  color: var(--sklearn-color-text);\n",
              "}\n",
              "\n",
              "#sk-container-id-1 pre {\n",
              "  padding: 0;\n",
              "}\n",
              "\n",
              "#sk-container-id-1 input.sk-hidden--visually {\n",
              "  border: 0;\n",
              "  clip: rect(1px 1px 1px 1px);\n",
              "  clip: rect(1px, 1px, 1px, 1px);\n",
              "  height: 1px;\n",
              "  margin: -1px;\n",
              "  overflow: hidden;\n",
              "  padding: 0;\n",
              "  position: absolute;\n",
              "  width: 1px;\n",
              "}\n",
              "\n",
              "#sk-container-id-1 div.sk-dashed-wrapped {\n",
              "  border: 1px dashed var(--sklearn-color-line);\n",
              "  margin: 0 0.4em 0.5em 0.4em;\n",
              "  box-sizing: border-box;\n",
              "  padding-bottom: 0.4em;\n",
              "  background-color: var(--sklearn-color-background);\n",
              "}\n",
              "\n",
              "#sk-container-id-1 div.sk-container {\n",
              "  /* jupyter's `normalize.less` sets `[hidden] { display: none; }`\n",
              "     but bootstrap.min.css set `[hidden] { display: none !important; }`\n",
              "     so we also need the `!important` here to be able to override the\n",
              "     default hidden behavior on the sphinx rendered scikit-learn.org.\n",
              "     See: https://github.com/scikit-learn/scikit-learn/issues/21755 */\n",
              "  display: inline-block !important;\n",
              "  position: relative;\n",
              "}\n",
              "\n",
              "#sk-container-id-1 div.sk-text-repr-fallback {\n",
              "  display: none;\n",
              "}\n",
              "\n",
              "div.sk-parallel-item,\n",
              "div.sk-serial,\n",
              "div.sk-item {\n",
              "  /* draw centered vertical line to link estimators */\n",
              "  background-image: linear-gradient(var(--sklearn-color-text-on-default-background), var(--sklearn-color-text-on-default-background));\n",
              "  background-size: 2px 100%;\n",
              "  background-repeat: no-repeat;\n",
              "  background-position: center center;\n",
              "}\n",
              "\n",
              "/* Parallel-specific style estimator block */\n",
              "\n",
              "#sk-container-id-1 div.sk-parallel-item::after {\n",
              "  content: \"\";\n",
              "  width: 100%;\n",
              "  border-bottom: 2px solid var(--sklearn-color-text-on-default-background);\n",
              "  flex-grow: 1;\n",
              "}\n",
              "\n",
              "#sk-container-id-1 div.sk-parallel {\n",
              "  display: flex;\n",
              "  align-items: stretch;\n",
              "  justify-content: center;\n",
              "  background-color: var(--sklearn-color-background);\n",
              "  position: relative;\n",
              "}\n",
              "\n",
              "#sk-container-id-1 div.sk-parallel-item {\n",
              "  display: flex;\n",
              "  flex-direction: column;\n",
              "}\n",
              "\n",
              "#sk-container-id-1 div.sk-parallel-item:first-child::after {\n",
              "  align-self: flex-end;\n",
              "  width: 50%;\n",
              "}\n",
              "\n",
              "#sk-container-id-1 div.sk-parallel-item:last-child::after {\n",
              "  align-self: flex-start;\n",
              "  width: 50%;\n",
              "}\n",
              "\n",
              "#sk-container-id-1 div.sk-parallel-item:only-child::after {\n",
              "  width: 0;\n",
              "}\n",
              "\n",
              "/* Serial-specific style estimator block */\n",
              "\n",
              "#sk-container-id-1 div.sk-serial {\n",
              "  display: flex;\n",
              "  flex-direction: column;\n",
              "  align-items: center;\n",
              "  background-color: var(--sklearn-color-background);\n",
              "  padding-right: 1em;\n",
              "  padding-left: 1em;\n",
              "}\n",
              "\n",
              "\n",
              "/* Toggleable style: style used for estimator/Pipeline/ColumnTransformer box that is\n",
              "clickable and can be expanded/collapsed.\n",
              "- Pipeline and ColumnTransformer use this feature and define the default style\n",
              "- Estimators will overwrite some part of the style using the `sk-estimator` class\n",
              "*/\n",
              "\n",
              "/* Pipeline and ColumnTransformer style (default) */\n",
              "\n",
              "#sk-container-id-1 div.sk-toggleable {\n",
              "  /* Default theme specific background. It is overwritten whether we have a\n",
              "  specific estimator or a Pipeline/ColumnTransformer */\n",
              "  background-color: var(--sklearn-color-background);\n",
              "}\n",
              "\n",
              "/* Toggleable label */\n",
              "#sk-container-id-1 label.sk-toggleable__label {\n",
              "  cursor: pointer;\n",
              "  display: block;\n",
              "  width: 100%;\n",
              "  margin-bottom: 0;\n",
              "  padding: 0.5em;\n",
              "  box-sizing: border-box;\n",
              "  text-align: center;\n",
              "}\n",
              "\n",
              "#sk-container-id-1 label.sk-toggleable__label-arrow:before {\n",
              "  /* Arrow on the left of the label */\n",
              "  content: \"▸\";\n",
              "  float: left;\n",
              "  margin-right: 0.25em;\n",
              "  color: var(--sklearn-color-icon);\n",
              "}\n",
              "\n",
              "#sk-container-id-1 label.sk-toggleable__label-arrow:hover:before {\n",
              "  color: var(--sklearn-color-text);\n",
              "}\n",
              "\n",
              "/* Toggleable content - dropdown */\n",
              "\n",
              "#sk-container-id-1 div.sk-toggleable__content {\n",
              "  max-height: 0;\n",
              "  max-width: 0;\n",
              "  overflow: hidden;\n",
              "  text-align: left;\n",
              "  /* unfitted */\n",
              "  background-color: var(--sklearn-color-unfitted-level-0);\n",
              "}\n",
              "\n",
              "#sk-container-id-1 div.sk-toggleable__content.fitted {\n",
              "  /* fitted */\n",
              "  background-color: var(--sklearn-color-fitted-level-0);\n",
              "}\n",
              "\n",
              "#sk-container-id-1 div.sk-toggleable__content pre {\n",
              "  margin: 0.2em;\n",
              "  border-radius: 0.25em;\n",
              "  color: var(--sklearn-color-text);\n",
              "  /* unfitted */\n",
              "  background-color: var(--sklearn-color-unfitted-level-0);\n",
              "}\n",
              "\n",
              "#sk-container-id-1 div.sk-toggleable__content.fitted pre {\n",
              "  /* unfitted */\n",
              "  background-color: var(--sklearn-color-fitted-level-0);\n",
              "}\n",
              "\n",
              "#sk-container-id-1 input.sk-toggleable__control:checked~div.sk-toggleable__content {\n",
              "  /* Expand drop-down */\n",
              "  max-height: 200px;\n",
              "  max-width: 100%;\n",
              "  overflow: auto;\n",
              "}\n",
              "\n",
              "#sk-container-id-1 input.sk-toggleable__control:checked~label.sk-toggleable__label-arrow:before {\n",
              "  content: \"▾\";\n",
              "}\n",
              "\n",
              "/* Pipeline/ColumnTransformer-specific style */\n",
              "\n",
              "#sk-container-id-1 div.sk-label input.sk-toggleable__control:checked~label.sk-toggleable__label {\n",
              "  color: var(--sklearn-color-text);\n",
              "  background-color: var(--sklearn-color-unfitted-level-2);\n",
              "}\n",
              "\n",
              "#sk-container-id-1 div.sk-label.fitted input.sk-toggleable__control:checked~label.sk-toggleable__label {\n",
              "  background-color: var(--sklearn-color-fitted-level-2);\n",
              "}\n",
              "\n",
              "/* Estimator-specific style */\n",
              "\n",
              "/* Colorize estimator box */\n",
              "#sk-container-id-1 div.sk-estimator input.sk-toggleable__control:checked~label.sk-toggleable__label {\n",
              "  /* unfitted */\n",
              "  background-color: var(--sklearn-color-unfitted-level-2);\n",
              "}\n",
              "\n",
              "#sk-container-id-1 div.sk-estimator.fitted input.sk-toggleable__control:checked~label.sk-toggleable__label {\n",
              "  /* fitted */\n",
              "  background-color: var(--sklearn-color-fitted-level-2);\n",
              "}\n",
              "\n",
              "#sk-container-id-1 div.sk-label label.sk-toggleable__label,\n",
              "#sk-container-id-1 div.sk-label label {\n",
              "  /* The background is the default theme color */\n",
              "  color: var(--sklearn-color-text-on-default-background);\n",
              "}\n",
              "\n",
              "/* On hover, darken the color of the background */\n",
              "#sk-container-id-1 div.sk-label:hover label.sk-toggleable__label {\n",
              "  color: var(--sklearn-color-text);\n",
              "  background-color: var(--sklearn-color-unfitted-level-2);\n",
              "}\n",
              "\n",
              "/* Label box, darken color on hover, fitted */\n",
              "#sk-container-id-1 div.sk-label.fitted:hover label.sk-toggleable__label.fitted {\n",
              "  color: var(--sklearn-color-text);\n",
              "  background-color: var(--sklearn-color-fitted-level-2);\n",
              "}\n",
              "\n",
              "/* Estimator label */\n",
              "\n",
              "#sk-container-id-1 div.sk-label label {\n",
              "  font-family: monospace;\n",
              "  font-weight: bold;\n",
              "  display: inline-block;\n",
              "  line-height: 1.2em;\n",
              "}\n",
              "\n",
              "#sk-container-id-1 div.sk-label-container {\n",
              "  text-align: center;\n",
              "}\n",
              "\n",
              "/* Estimator-specific */\n",
              "#sk-container-id-1 div.sk-estimator {\n",
              "  font-family: monospace;\n",
              "  border: 1px dotted var(--sklearn-color-border-box);\n",
              "  border-radius: 0.25em;\n",
              "  box-sizing: border-box;\n",
              "  margin-bottom: 0.5em;\n",
              "  /* unfitted */\n",
              "  background-color: var(--sklearn-color-unfitted-level-0);\n",
              "}\n",
              "\n",
              "#sk-container-id-1 div.sk-estimator.fitted {\n",
              "  /* fitted */\n",
              "  background-color: var(--sklearn-color-fitted-level-0);\n",
              "}\n",
              "\n",
              "/* on hover */\n",
              "#sk-container-id-1 div.sk-estimator:hover {\n",
              "  /* unfitted */\n",
              "  background-color: var(--sklearn-color-unfitted-level-2);\n",
              "}\n",
              "\n",
              "#sk-container-id-1 div.sk-estimator.fitted:hover {\n",
              "  /* fitted */\n",
              "  background-color: var(--sklearn-color-fitted-level-2);\n",
              "}\n",
              "\n",
              "/* Specification for estimator info (e.g. \"i\" and \"?\") */\n",
              "\n",
              "/* Common style for \"i\" and \"?\" */\n",
              "\n",
              ".sk-estimator-doc-link,\n",
              "a:link.sk-estimator-doc-link,\n",
              "a:visited.sk-estimator-doc-link {\n",
              "  float: right;\n",
              "  font-size: smaller;\n",
              "  line-height: 1em;\n",
              "  font-family: monospace;\n",
              "  background-color: var(--sklearn-color-background);\n",
              "  border-radius: 1em;\n",
              "  height: 1em;\n",
              "  width: 1em;\n",
              "  text-decoration: none !important;\n",
              "  margin-left: 1ex;\n",
              "  /* unfitted */\n",
              "  border: var(--sklearn-color-unfitted-level-1) 1pt solid;\n",
              "  color: var(--sklearn-color-unfitted-level-1);\n",
              "}\n",
              "\n",
              ".sk-estimator-doc-link.fitted,\n",
              "a:link.sk-estimator-doc-link.fitted,\n",
              "a:visited.sk-estimator-doc-link.fitted {\n",
              "  /* fitted */\n",
              "  border: var(--sklearn-color-fitted-level-1) 1pt solid;\n",
              "  color: var(--sklearn-color-fitted-level-1);\n",
              "}\n",
              "\n",
              "/* On hover */\n",
              "div.sk-estimator:hover .sk-estimator-doc-link:hover,\n",
              ".sk-estimator-doc-link:hover,\n",
              "div.sk-label-container:hover .sk-estimator-doc-link:hover,\n",
              ".sk-estimator-doc-link:hover {\n",
              "  /* unfitted */\n",
              "  background-color: var(--sklearn-color-unfitted-level-3);\n",
              "  color: var(--sklearn-color-background);\n",
              "  text-decoration: none;\n",
              "}\n",
              "\n",
              "div.sk-estimator.fitted:hover .sk-estimator-doc-link.fitted:hover,\n",
              ".sk-estimator-doc-link.fitted:hover,\n",
              "div.sk-label-container:hover .sk-estimator-doc-link.fitted:hover,\n",
              ".sk-estimator-doc-link.fitted:hover {\n",
              "  /* fitted */\n",
              "  background-color: var(--sklearn-color-fitted-level-3);\n",
              "  color: var(--sklearn-color-background);\n",
              "  text-decoration: none;\n",
              "}\n",
              "\n",
              "/* Span, style for the box shown on hovering the info icon */\n",
              ".sk-estimator-doc-link span {\n",
              "  display: none;\n",
              "  z-index: 9999;\n",
              "  position: relative;\n",
              "  font-weight: normal;\n",
              "  right: .2ex;\n",
              "  padding: .5ex;\n",
              "  margin: .5ex;\n",
              "  width: min-content;\n",
              "  min-width: 20ex;\n",
              "  max-width: 50ex;\n",
              "  color: var(--sklearn-color-text);\n",
              "  box-shadow: 2pt 2pt 4pt #999;\n",
              "  /* unfitted */\n",
              "  background: var(--sklearn-color-unfitted-level-0);\n",
              "  border: .5pt solid var(--sklearn-color-unfitted-level-3);\n",
              "}\n",
              "\n",
              ".sk-estimator-doc-link.fitted span {\n",
              "  /* fitted */\n",
              "  background: var(--sklearn-color-fitted-level-0);\n",
              "  border: var(--sklearn-color-fitted-level-3);\n",
              "}\n",
              "\n",
              ".sk-estimator-doc-link:hover span {\n",
              "  display: block;\n",
              "}\n",
              "\n",
              "/* \"?\"-specific style due to the `<a>` HTML tag */\n",
              "\n",
              "#sk-container-id-1 a.estimator_doc_link {\n",
              "  float: right;\n",
              "  font-size: 1rem;\n",
              "  line-height: 1em;\n",
              "  font-family: monospace;\n",
              "  background-color: var(--sklearn-color-background);\n",
              "  border-radius: 1rem;\n",
              "  height: 1rem;\n",
              "  width: 1rem;\n",
              "  text-decoration: none;\n",
              "  /* unfitted */\n",
              "  color: var(--sklearn-color-unfitted-level-1);\n",
              "  border: var(--sklearn-color-unfitted-level-1) 1pt solid;\n",
              "}\n",
              "\n",
              "#sk-container-id-1 a.estimator_doc_link.fitted {\n",
              "  /* fitted */\n",
              "  border: var(--sklearn-color-fitted-level-1) 1pt solid;\n",
              "  color: var(--sklearn-color-fitted-level-1);\n",
              "}\n",
              "\n",
              "/* On hover */\n",
              "#sk-container-id-1 a.estimator_doc_link:hover {\n",
              "  /* unfitted */\n",
              "  background-color: var(--sklearn-color-unfitted-level-3);\n",
              "  color: var(--sklearn-color-background);\n",
              "  text-decoration: none;\n",
              "}\n",
              "\n",
              "#sk-container-id-1 a.estimator_doc_link.fitted:hover {\n",
              "  /* fitted */\n",
              "  background-color: var(--sklearn-color-fitted-level-3);\n",
              "}\n",
              "</style><div id=\"sk-container-id-1\" class=\"sk-top-container\"><div class=\"sk-text-repr-fallback\"><pre>LogisticRegression(max_iter=200, random_state=42)</pre><b>In a Jupyter environment, please rerun this cell to show the HTML representation or trust the notebook. <br />On GitHub, the HTML representation is unable to render, please try loading this page with nbviewer.org.</b></div><div class=\"sk-container\" hidden><div class=\"sk-item\"><div class=\"sk-estimator fitted sk-toggleable\"><input class=\"sk-toggleable__control sk-hidden--visually\" id=\"sk-estimator-id-1\" type=\"checkbox\" checked><label for=\"sk-estimator-id-1\" class=\"sk-toggleable__label fitted sk-toggleable__label-arrow fitted\">&nbsp;&nbsp;LogisticRegression<a class=\"sk-estimator-doc-link fitted\" rel=\"noreferrer\" target=\"_blank\" href=\"https://scikit-learn.org/1.5/modules/generated/sklearn.linear_model.LogisticRegression.html\">?<span>Documentation for LogisticRegression</span></a><span class=\"sk-estimator-doc-link fitted\">i<span>Fitted</span></span></label><div class=\"sk-toggleable__content fitted\"><pre>LogisticRegression(max_iter=200, random_state=42)</pre></div> </div></div></div></div>"
            ]
          },
          "metadata": {},
          "execution_count": 29
        }
      ]
    },
    {
      "cell_type": "code",
      "source": [
        "X_train[0]"
      ],
      "metadata": {
        "colab": {
          "base_uri": "https://localhost:8080/"
        },
        "id": "VXlnPbo8SwF8",
        "outputId": "8ffc88b1-ccb0-4b5f-8398-7b951f85c572"
      },
      "execution_count": 31,
      "outputs": [
        {
          "output_type": "execute_result",
          "data": {
            "text/plain": [
              "<1x154 sparse matrix of type '<class 'numpy.float64'>'\n",
              "\twith 39 stored elements in Compressed Sparse Row format>"
            ]
          },
          "metadata": {},
          "execution_count": 31
        }
      ]
    },
    {
      "cell_type": "code",
      "source": [
        "X_test.shape"
      ],
      "metadata": {
        "colab": {
          "base_uri": "https://localhost:8080/"
        },
        "id": "cIsu6cN3S4De",
        "outputId": "2588d4e6-3722-4aa7-dd96-5b6b8ce2a359"
      },
      "execution_count": 34,
      "outputs": [
        {
          "output_type": "execute_result",
          "data": {
            "text/plain": [
              "(49205, 154)"
            ]
          },
          "metadata": {},
          "execution_count": 34
        }
      ]
    },
    {
      "cell_type": "code",
      "source": [
        "\n",
        "# Realizar predicción con Logistic Regression\n",
        "new_data = X_test[0].toarray()#np.array([[5.1, 3.5, 1.4, 0.2]])  # Ejemplo de datos\n",
        "prediction_lr = model_lr.predict(new_data)\n",
        "print(f\"Predicción Logistic Regression para {new_data}: {prediction_lr}\")\n",
        "\n"
      ],
      "metadata": {
        "colab": {
          "base_uri": "https://localhost:8080/"
        },
        "id": "mK5Husn0RyCk",
        "outputId": "78b96246-5900-4f22-a354-bfb9053d272c"
      },
      "execution_count": 36,
      "outputs": [
        {
          "output_type": "stream",
          "name": "stdout",
          "text": [
            "Predicción Logistic Regression para [[ 0.          0.          0.          0.          0.          0.\n",
            "   0.          0.          0.          0.          0.          0.\n",
            "   0.          0.          0.          0.          0.          0.\n",
            "   0.          0.          0.          0.          0.          0.\n",
            "   0.          0.          0.          0.          0.          0.\n",
            "   0.          0.          0.          0.          0.          0.\n",
            "   0.          0.          0.          0.          0.          0.\n",
            "   0.          0.          0.          1.          0.          0.\n",
            "   0.          0.          0.          0.          0.          0.\n",
            "   1.          0.          0.          0.          1.          0.\n",
            "   0.          0.          0.          0.          1.          0.\n",
            "   1.          0.          0.          0.          1.          1.\n",
            "   0.          1.          0.          1.          0.          1.\n",
            "   0.          1.          0.          1.          0.          1.\n",
            "   0.          0.          1.          0.          0.          1.\n",
            "   0.          1.          0.          1.          0.          1.\n",
            "   0.          1.          0.          1.          0.          1.\n",
            "   0.          1.          0.          0.          0.          1.\n",
            "   0.          0.          0.          1.          0.          0.\n",
            "   0.          0.          0.          1.          0.          0.\n",
            "   0.          0.          0.          0.          1.          0.\n",
            "   0.          0.          0.          0.          0.          1.\n",
            "   0.          1.          0.          1.          0.          1.\n",
            "   0.          1.          0.          0.          0.          1.\n",
            "   0.          0.          0.          1.         -0.49002032 -0.5142921\n",
            "   0.67931089 -0.23581364  1.3968327   1.79335824]]: ['No']\n"
          ]
        }
      ]
    },
    {
      "cell_type": "code",
      "source": [
        "y_test.iloc[0]"
      ],
      "metadata": {
        "colab": {
          "base_uri": "https://localhost:8080/",
          "height": 35
        },
        "id": "bh7nYalETeZH",
        "outputId": "03b34b2a-76af-40f7-bf33-dd62dc218ee2"
      },
      "execution_count": 39,
      "outputs": [
        {
          "output_type": "execute_result",
          "data": {
            "text/plain": [
              "'No'"
            ],
            "application/vnd.google.colaboratory.intrinsic+json": {
              "type": "string"
            }
          },
          "metadata": {},
          "execution_count": 39
        }
      ]
    },
    {
      "cell_type": "code",
      "source": [
        "# Obtener el mejor modelo de Random Forest\n",
        "experiment_id_rf = client.get_experiment_by_name(\"Random_Forest_Experiment\").experiment_id\n",
        "best_run_rf = client.search_runs(experiment_id_rf, order_by=[\"metrics.accuracy DESC\"], max_results=1)[0]\n",
        "model_uri_rf = f\"runs:/{best_run_rf.info.run_id}/random_forest_model\"\n",
        "model_rf = mlflow.sklearn.load_model(model_uri_rf)\n",
        "\n",
        "# Realizar predicción con Random Forest\n",
        "prediction_rf = model_rf.predict(new_data)\n",
        "print(f\"Predicción Random Forest para {new_data}: {prediction_rf}\")"
      ],
      "metadata": {
        "colab": {
          "base_uri": "https://localhost:8080/"
        },
        "id": "YenhdGDlR1rr",
        "outputId": "2ba121d6-f111-4027-9525-b0fb7c7d6337"
      },
      "execution_count": 40,
      "outputs": [
        {
          "output_type": "stream",
          "name": "stdout",
          "text": [
            "Predicción Random Forest para [[ 0.          0.          0.          0.          0.          0.\n",
            "   0.          0.          0.          0.          0.          0.\n",
            "   0.          0.          0.          0.          0.          0.\n",
            "   0.          0.          0.          0.          0.          0.\n",
            "   0.          0.          0.          0.          0.          0.\n",
            "   0.          0.          0.          0.          0.          0.\n",
            "   0.          0.          0.          0.          0.          0.\n",
            "   0.          0.          0.          1.          0.          0.\n",
            "   0.          0.          0.          0.          0.          0.\n",
            "   1.          0.          0.          0.          1.          0.\n",
            "   0.          0.          0.          0.          1.          0.\n",
            "   1.          0.          0.          0.          1.          1.\n",
            "   0.          1.          0.          1.          0.          1.\n",
            "   0.          1.          0.          1.          0.          1.\n",
            "   0.          0.          1.          0.          0.          1.\n",
            "   0.          1.          0.          1.          0.          1.\n",
            "   0.          1.          0.          1.          0.          1.\n",
            "   0.          1.          0.          0.          0.          1.\n",
            "   0.          0.          0.          1.          0.          0.\n",
            "   0.          0.          0.          1.          0.          0.\n",
            "   0.          0.          0.          0.          1.          0.\n",
            "   0.          0.          0.          0.          0.          1.\n",
            "   0.          1.          0.          1.          0.          1.\n",
            "   0.          1.          0.          0.          0.          1.\n",
            "   0.          0.          0.          1.         -0.49002032 -0.5142921\n",
            "   0.67931089 -0.23581364  1.3968327   1.79335824]]: ['No']\n"
          ]
        }
      ]
    },
    {
      "cell_type": "code",
      "source": [
        "# Mantener el script corriendo\n",
        "try:\n",
        "    input(\"Presiona ENTER para detener el servidor...\")\n",
        "except KeyboardInterrupt:\n",
        "    print(\"Cerrando ngrok...\")\n",
        "    ngrok.kill()"
      ],
      "metadata": {
        "colab": {
          "base_uri": "https://localhost:8080/"
        },
        "id": "6YQMZfmuR3Gb",
        "outputId": "2da44a53-e105-421b-a540-61a8d01588cd"
      },
      "execution_count": 43,
      "outputs": [
        {
          "name": "stdout",
          "output_type": "stream",
          "text": [
            "Presiona ENTER para detener el servidor...\n"
          ]
        }
      ]
    },
    {
      "cell_type": "markdown",
      "source": [
        "![image.png](data:image/png;base64,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)"
      ],
      "metadata": {
        "id": "A4kqpmmNVEvN"
      }
    },
    {
      "cell_type": "markdown",
      "source": [
        "![image.png](data:image/png;base64,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)"
      ],
      "metadata": {
        "id": "Z4zC-WWHVFxP"
      }
    }
  ]
}