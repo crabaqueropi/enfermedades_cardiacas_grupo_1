{
  "cells": [
    {
      "cell_type": "markdown",
      "id": "3fef6dbc",
      "metadata": {
        "id": "3fef6dbc"
      },
      "source": [
        "# **1. Métricas de desempeño - modelos (Sin reducción de la dimensionalidad)**\n",
        "---\n",
        "\n",
        "Probaremos diversos modelos de clasificiación debido a que tenemos una variable a predecir que es: una persona tendrá ataque cardiaco o no (HadHeartAttack)"
      ]
    },
    {
      "cell_type": "markdown",
      "id": "dLDg0zRBJQuM",
      "metadata": {
        "id": "dLDg0zRBJQuM"
      },
      "source": [
        "### 1.1 modelo : LOGISTIC REGRESION\n"
      ]
    },
    {
      "cell_type": "code",
      "execution_count": null,
      "id": "ay7v5CCMJQDz",
      "metadata": {
        "colab": {
          "base_uri": "https://localhost:8080/"
        },
        "id": "ay7v5CCMJQDz",
        "outputId": "9645c114-8d3f-4ac1-c0fc-30e7fa7f3841"
      },
      "outputs": [
        {
          "output_type": "stream",
          "name": "stdout",
          "text": [
            "Fitting 5 folds for each of 6 candidates, totalling 30 fits\n"
          ]
        },
        {
          "output_type": "stream",
          "name": "stderr",
          "text": [
            "/usr/local/lib/python3.10/dist-packages/sklearn/model_selection/_validation.py:378: FitFailedWarning: \n",
            "15 fits failed out of a total of 30.\n",
            "The score on these train-test partitions for these parameters will be set to nan.\n",
            "If these failures are not expected, you can try to debug them by setting error_score='raise'.\n",
            "\n",
            "Below are more details about the failures:\n",
            "--------------------------------------------------------------------------------\n",
            "15 fits failed with the following error:\n",
            "Traceback (most recent call last):\n",
            "  File \"/usr/local/lib/python3.10/dist-packages/sklearn/model_selection/_validation.py\", line 686, in _fit_and_score\n",
            "    estimator.fit(X_train, y_train, **fit_params)\n",
            "  File \"/usr/local/lib/python3.10/dist-packages/sklearn/pipeline.py\", line 405, in fit\n",
            "    self._final_estimator.fit(Xt, y, **fit_params_last_step)\n",
            "  File \"/usr/local/lib/python3.10/dist-packages/sklearn/linear_model/_logistic.py\", line 1162, in fit\n",
            "    solver = _check_solver(self.solver, self.penalty, self.dual)\n",
            "  File \"/usr/local/lib/python3.10/dist-packages/sklearn/linear_model/_logistic.py\", line 54, in _check_solver\n",
            "    raise ValueError(\n",
            "ValueError: Solver lbfgs supports only 'l2' or 'none' penalties, got l1 penalty.\n",
            "\n",
            "  warnings.warn(some_fits_failed_message, FitFailedWarning)\n",
            "/usr/local/lib/python3.10/dist-packages/sklearn/model_selection/_search.py:952: UserWarning: One or more of the test scores are non-finite: [       nan 0.94841909        nan 0.94842417        nan 0.94841909]\n",
            "  warnings.warn(\n",
            "/usr/local/lib/python3.10/dist-packages/sklearn/linear_model/_logistic.py:458: ConvergenceWarning: lbfgs failed to converge (status=1):\n",
            "STOP: TOTAL NO. of ITERATIONS REACHED LIMIT.\n",
            "\n",
            "Increase the number of iterations (max_iter) or scale the data as shown in:\n",
            "    https://scikit-learn.org/stable/modules/preprocessing.html\n",
            "Please also refer to the documentation for alternative solver options:\n",
            "    https://scikit-learn.org/stable/modules/linear_model.html#logistic-regression\n",
            "  n_iter_i = _check_optimize_result(\n"
          ]
        },
        {
          "output_type": "stream",
          "name": "stdout",
          "text": [
            "Mejores hiperparámetros:\n",
            "{'lr__C': 1, 'lr__penalty': 'l2'}\n",
            "Informe de clasificación:\n",
            "              precision    recall  f1-score   support\n",
            "\n",
            "          No       0.96      0.99      0.97     46513\n",
            "         Yes       0.58      0.25      0.35      2692\n",
            "\n",
            "    accuracy                           0.95     49205\n",
            "   macro avg       0.77      0.62      0.66     49205\n",
            "weighted avg       0.94      0.95      0.94     49205\n",
            "\n"
          ]
        }
      ],
      "source": [
        "grid_search_LogisticRegression = GridSearchCV(pipeline, param_grid, cv=5, n_jobs=-1, verbose=10)\n",
        "grid_search_LogisticRegression.fit(X_train, y_train)\n",
        "\n",
        "# Mostrar los mejores hiperparámetros encontrados\n",
        "print(\"Mejores hiperparámetros:\")\n",
        "print(grid_search_LogisticRegression.best_params_)\n",
        "\n",
        "# Predecir en el conjunto de prueba\n",
        "y_pred = grid_search_LogisticRegression.predict(X_test)\n",
        "\n",
        "# Mostrar métricas de evaluación\n",
        "print(\"Informe de clasificación:\")\n",
        "Ligistic_regression_report=classification_report(y_test, y_pred)\n",
        "print(Ligistic_regression_report)\n"
      ]
    },
    {
      "cell_type": "markdown",
      "id": "Fd9vBNcCNY4k",
      "metadata": {
        "id": "Fd9vBNcCNY4k"
      },
      "source": [
        "### 1.2  modelo : SMV\n"
      ]
    },
    {
      "cell_type": "code",
      "source": [
        "# Predecir en el conjunto de prueba\n",
        "y_pred = svm_search.predict(X_test)\n",
        "\n",
        "# Mostrar métricas de evaluación\n",
        "print(\"Informe de clasificación:\")\n",
        "svm_report = classification_report(y_test, y_pred)\n",
        "print(svm_report)\n"
      ],
      "metadata": {
        "colab": {
          "base_uri": "https://localhost:8080/"
        },
        "id": "OfQoOWzwwbwD",
        "outputId": "f6c1465e-8076-41e0-bf08-abc3693d00d0"
      },
      "id": "OfQoOWzwwbwD",
      "execution_count": null,
      "outputs": [
        {
          "output_type": "stream",
          "name": "stdout",
          "text": [
            "Informe de clasificación:\n",
            "              precision    recall  f1-score   support\n",
            "\n",
            "          No       0.99      0.84      0.91     46513\n",
            "         Yes       0.23      0.82      0.35      2692\n",
            "\n",
            "    accuracy                           0.84     49205\n",
            "   macro avg       0.61      0.83      0.63     49205\n",
            "weighted avg       0.95      0.84      0.88     49205\n",
            "\n"
          ]
        }
      ]
    },
    {
      "cell_type": "markdown",
      "id": "r51dX5vIwJXk",
      "metadata": {
        "id": "r51dX5vIwJXk"
      },
      "source": [
        "### 1.3: Modelo Random Forest"
      ]
    },
    {
      "cell_type": "markdown",
      "id": "PDNhnrPCwPcG",
      "metadata": {
        "id": "PDNhnrPCwPcG"
      },
      "source": [
        "#### 1.3.1: Modelo Random Forest con los datos originales"
      ]
    },
    {
      "cell_type": "code",
      "execution_count": null,
      "id": "5KoeOhz-o8Al",
      "metadata": {
        "colab": {
          "base_uri": "https://localhost:8080/"
        },
        "id": "5KoeOhz-o8Al",
        "outputId": "6df7b4ea-ad56-406a-abd1-b944d6fe8db2"
      },
      "outputs": [
        {
          "output_type": "stream",
          "name": "stdout",
          "text": [
            "Fitting 5 folds for each of 24 candidates, totalling 120 fits\n",
            "Mejores hiperparámetros:\n",
            "{'rf__max_depth': 10, 'rf__min_samples_leaf': 2, 'rf__min_samples_split': 5, 'rf__n_estimators': 20}\n",
            "Informe de clasificación:\n",
            "              precision    recall  f1-score   support\n",
            "\n",
            "          No       0.95      1.00      0.97     46513\n",
            "         Yes       0.64      0.09      0.16      2692\n",
            "\n",
            "    accuracy                           0.95     49205\n",
            "   macro avg       0.80      0.55      0.57     49205\n",
            "weighted avg       0.93      0.95      0.93     49205\n",
            "\n"
          ]
        }
      ],
      "source": [
        "# Crear un objeto GridSearchCV\n",
        "grid_search = GridSearchCV(pipeline, param_grid, cv=5, n_jobs=-1, verbose=10)\n",
        "\n",
        "# Entrenar el modelo utilizando GridSearchCV\n",
        "grid_search.fit(X_train, y_train)\n",
        "\n",
        "# Mostrar los mejores hiperparámetros encontrados\n",
        "print(\"Mejores hiperparámetros:\")\n",
        "print(grid_search.best_params_)\n",
        "\n",
        "# Predecir en el conjunto de prueba\n",
        "y_pred = grid_search.predict(X_test)\n",
        "\n",
        "# Mostrar métricas de evaluación\n",
        "print(\"Informe de clasificación:\")\n",
        "Random_forest_report = classification_report(y_test, y_pred)\n",
        "print(Random_forest_report)\n"
      ]
    },
    {
      "cell_type": "markdown",
      "id": "ihrvjHL0wUVx",
      "metadata": {
        "id": "ihrvjHL0wUVx"
      },
      "source": [
        "#### 1.3.2: Modelo Random Forest con sobremuestreo (Oversampling)"
      ]
    },
    {
      "cell_type": "code",
      "execution_count": null,
      "id": "PAs4_oeuwZx-",
      "metadata": {
        "colab": {
          "base_uri": "https://localhost:8080/"
        },
        "id": "PAs4_oeuwZx-",
        "outputId": "c6aca56e-019f-4e36-f90b-bdd47c5f74b7"
      },
      "outputs": [
        {
          "output_type": "stream",
          "name": "stdout",
          "text": [
            "Fitting 5 folds for each of 24 candidates, totalling 120 fits\n",
            "Mejores hiperparámetros:\n",
            "{'rf__max_depth': 10, 'rf__min_samples_leaf': 1, 'rf__min_samples_split': 5, 'rf__n_estimators': 20}\n"
          ]
        }
      ],
      "source": [
        "# Entrenar el modelo utilizando GridSearchCV\n",
        "grid_search.fit(X_train_O, y_train_O)\n",
        "\n",
        "# Mostrar los mejores hiperparámetros encontrados\n",
        "print(\"Mejores hiperparámetros:\")\n",
        "print(grid_search.best_params_)"
      ]
    },
    {
      "cell_type": "code",
      "execution_count": null,
      "id": "xZJw_zhAwsZP",
      "metadata": {
        "colab": {
          "base_uri": "https://localhost:8080/"
        },
        "id": "xZJw_zhAwsZP",
        "outputId": "e3759434-7d86-4b2f-e57e-61f566e41312"
      },
      "outputs": [
        {
          "output_type": "stream",
          "name": "stdout",
          "text": [
            "Informe de clasificación:\n",
            "              precision    recall  f1-score   support\n",
            "\n",
            "          No       0.80      0.84      0.82     46455\n",
            "         Yes       0.83      0.79      0.81     46580\n",
            "\n",
            "    accuracy                           0.81     93035\n",
            "   macro avg       0.81      0.81      0.81     93035\n",
            "weighted avg       0.81      0.81      0.81     93035\n",
            "\n"
          ]
        }
      ],
      "source": [
        "# Predecir en el conjunto de prueba\n",
        "y_pred = grid_search.predict(X_test_O)\n",
        "\n",
        "# Mostrar métricas de evaluación\n",
        "print(\"Informe de clasificación:\")\n",
        "print(classification_report(y_test_O, y_pred))"
      ]
    },
    {
      "cell_type": "markdown",
      "id": "-2udTSFu1wCf",
      "metadata": {
        "id": "-2udTSFu1wCf"
      },
      "source": [
        "#### 1.3.3: Modelo Random Forest con submuestreo (Undersampling)"
      ]
    },
    {
      "cell_type": "code",
      "execution_count": null,
      "id": "NXZf3XYu15wN",
      "metadata": {
        "id": "NXZf3XYu15wN",
        "colab": {
          "base_uri": "https://localhost:8080/"
        },
        "outputId": "b8c1ed68-dda5-4812-bc23-3dad0802495c"
      },
      "outputs": [
        {
          "output_type": "stream",
          "name": "stdout",
          "text": [
            "Fitting 5 folds for each of 24 candidates, totalling 120 fits\n",
            "Mejores hiperparámetros:\n",
            "{'rf__max_depth': 10, 'rf__min_samples_leaf': 2, 'rf__min_samples_split': 2, 'rf__n_estimators': 20}\n"
          ]
        }
      ],
      "source": [
        "# Entrenar el modelo utilizando GridSearchCV\n",
        "grid_search.fit(X_train_U, y_train_U)\n",
        "\n",
        "# Se muestran los mejores hiperparámetros encontrados\n",
        "print(\"Mejores hiperparámetros:\")\n",
        "print(grid_search.best_params_)"
      ]
    },
    {
      "cell_type": "code",
      "execution_count": null,
      "id": "vMiyRnmZ3s1t",
      "metadata": {
        "id": "vMiyRnmZ3s1t",
        "colab": {
          "base_uri": "https://localhost:8080/"
        },
        "outputId": "80aa691f-be92-4b8c-8513-0cab9759c40e"
      },
      "outputs": [
        {
          "output_type": "stream",
          "name": "stdout",
          "text": [
            "Informe de clasificación:\n",
            "              precision    recall  f1-score   support\n",
            "\n",
            "          No       0.78      0.81      0.80      2686\n",
            "         Yes       0.81      0.77      0.79      2688\n",
            "\n",
            "    accuracy                           0.79      5374\n",
            "   macro avg       0.79      0.79      0.79      5374\n",
            "weighted avg       0.79      0.79      0.79      5374\n",
            "\n"
          ]
        }
      ],
      "source": [
        "# Predecir en el conjunto de prueba\n",
        "y_pred = grid_search.predict(X_test_U)\n",
        "\n",
        "# Mostrar métricas de evaluación\n",
        "print(\"Informe de clasificación:\")\n",
        "print(classification_report(y_test_U, y_pred))"
      ]
    },
    {
      "cell_type": "markdown",
      "source": [
        "### 1.4: XGBoost"
      ],
      "metadata": {
        "id": "2d_krQ0Wbx5z"
      },
      "id": "2d_krQ0Wbx5z"
    },
    {
      "cell_type": "markdown",
      "source": [
        "#### 1.4.1: XGBoost: Datos originales"
      ],
      "metadata": {
        "id": "UAEuRLv0cIq7"
      },
      "id": "UAEuRLv0cIq7"
    },
    {
      "cell_type": "code",
      "source": [
        "# Se muestran los mejores hiperparámetros encontrados\n",
        "print(\"Mejores hiperparámetros:\")\n",
        "print(grid_search.best_params_)"
      ],
      "metadata": {
        "colab": {
          "base_uri": "https://localhost:8080/"
        },
        "id": "1ZX4Wlm2erNW",
        "outputId": "b248360d-8c76-4841-bcab-2f51a26af0a0"
      },
      "id": "1ZX4Wlm2erNW",
      "execution_count": null,
      "outputs": [
        {
          "output_type": "stream",
          "name": "stdout",
          "text": [
            "Mejores hiperparámetros:\n",
            "{'xgb__gamma': 1, 'xgb__learning_rate': 0.05, 'xgb__max_depth': 10, 'xgb__min_child_weight': 1, 'xgb__n_estimators': 20}\n"
          ]
        }
      ]
    },
    {
      "cell_type": "code",
      "source": [
        "# Predecir en el conjunto de prueba\n",
        "y_pred = grid_search.predict(X_test)\n",
        "\n",
        "# Mostrar métricas de evaluación\n",
        "print(\"Informe de clasificación:\")\n",
        "print(classification_report(y_test_binary, y_pred))"
      ],
      "metadata": {
        "colab": {
          "base_uri": "https://localhost:8080/"
        },
        "id": "JdPIu_WuesXB",
        "outputId": "51987320-2b15-4c67-964a-16276e9e9298"
      },
      "id": "JdPIu_WuesXB",
      "execution_count": null,
      "outputs": [
        {
          "output_type": "stream",
          "name": "stdout",
          "text": [
            "Informe de clasificación:\n",
            "              precision    recall  f1-score   support\n",
            "\n",
            "           0       0.95      1.00      0.97     46513\n",
            "           1       0.70      0.03      0.06      2692\n",
            "\n",
            "    accuracy                           0.95     49205\n",
            "   macro avg       0.82      0.51      0.51     49205\n",
            "weighted avg       0.93      0.95      0.92     49205\n",
            "\n"
          ]
        }
      ]
    },
    {
      "cell_type": "markdown",
      "source": [
        "#### 1.4.2: XGboost con Sobremuestreo"
      ],
      "metadata": {
        "id": "xOCUvrX6fQ0m"
      },
      "id": "xOCUvrX6fQ0m"
    },
    {
      "cell_type": "code",
      "source": [
        "# Predecir en el conjunto de prueba\n",
        "y_pred = grid_search.predict(X_test_O)\n",
        "\n",
        "# Mostrar métricas de evaluación\n",
        "print(\"Informe de clasificación:\")\n",
        "print(classification_report(y_test_binary, y_pred))"
      ],
      "metadata": {
        "colab": {
          "base_uri": "https://localhost:8080/"
        },
        "id": "s9h674EfiGB4",
        "outputId": "7768cf99-ab10-444f-e46d-f424b637e6d8"
      },
      "id": "s9h674EfiGB4",
      "execution_count": null,
      "outputs": [
        {
          "output_type": "stream",
          "name": "stdout",
          "text": [
            "Informe de clasificación:\n",
            "              precision    recall  f1-score   support\n",
            "\n",
            "           0       0.82      0.85      0.83     46455\n",
            "           1       0.84      0.81      0.83     46580\n",
            "\n",
            "    accuracy                           0.83     93035\n",
            "   macro avg       0.83      0.83      0.83     93035\n",
            "weighted avg       0.83      0.83      0.83     93035\n",
            "\n"
          ]
        }
      ]
    },
    {
      "cell_type": "markdown",
      "source": [
        "#### 1.4.3: XGboost submustreo"
      ],
      "metadata": {
        "id": "FpKoGl6siUIF"
      },
      "id": "FpKoGl6siUIF"
    },
    {
      "cell_type": "code",
      "source": [
        "# Predecir en el conjunto de prueba\n",
        "y_pred = grid_search.predict(X_test_U)\n",
        "\n",
        "# Mostrar métricas de evaluación\n",
        "print(\"Informe de clasificación:\")\n",
        "print(classification_report(y_test_binary, y_pred))"
      ],
      "metadata": {
        "colab": {
          "base_uri": "https://localhost:8080/"
        },
        "id": "6JnRbNoOi6nJ",
        "outputId": "da1e1792-3384-45ad-e87f-d34a123abeee"
      },
      "id": "6JnRbNoOi6nJ",
      "execution_count": null,
      "outputs": [
        {
          "output_type": "stream",
          "name": "stdout",
          "text": [
            "Informe de clasificación:\n",
            "              precision    recall  f1-score   support\n",
            "\n",
            "           0       0.75      0.86      0.80      2686\n",
            "           1       0.83      0.72      0.77      2688\n",
            "\n",
            "    accuracy                           0.79      5374\n",
            "   macro avg       0.79      0.79      0.79      5374\n",
            "weighted avg       0.79      0.79      0.79      5374\n",
            "\n"
          ]
        }
      ]
    },
    {
      "cell_type": "markdown",
      "source": [
        "### 1.5: Catboost"
      ],
      "metadata": {
        "id": "WV8-W-5KjENK"
      },
      "id": "WV8-W-5KjENK"
    },
    {
      "cell_type": "markdown",
      "source": [
        "#### 1.5.1: Catboost datos originales"
      ],
      "metadata": {
        "id": "_45rxwc0jUCd"
      },
      "id": "_45rxwc0jUCd"
    },
    {
      "cell_type": "code",
      "source": [
        "# Predecir en el conjunto de prueba\n",
        "y_pred = grid_search.predict(X_test)\n",
        "\n",
        "# Mostrar métricas de evaluación\n",
        "print(\"Informe de clasificación:\")\n",
        "print(classification_report(y_test_binary, y_pred))"
      ],
      "metadata": {
        "colab": {
          "base_uri": "https://localhost:8080/"
        },
        "id": "c-rT1yitniDz",
        "outputId": "6a961818-f497-4bcd-e6cc-7bb057541ae4"
      },
      "id": "c-rT1yitniDz",
      "execution_count": null,
      "outputs": [
        {
          "output_type": "stream",
          "name": "stdout",
          "text": [
            "Informe de clasificación:\n",
            "              precision    recall  f1-score   support\n",
            "\n",
            "           0       0.96      0.99      0.97     46513\n",
            "           1       0.61      0.19      0.29      2692\n",
            "\n",
            "    accuracy                           0.95     49205\n",
            "   macro avg       0.78      0.59      0.63     49205\n",
            "weighted avg       0.94      0.95      0.94     49205\n",
            "\n"
          ]
        }
      ]
    },
    {
      "cell_type": "markdown",
      "source": [
        "#### 1.5.3: Catboost sobremuestreo"
      ],
      "metadata": {
        "id": "UzOmDj24n_FS"
      },
      "id": "UzOmDj24n_FS"
    },
    {
      "cell_type": "code",
      "source": [
        "# Predecir en el conjunto de prueba\n",
        "y_pred = grid_search.predict(X_test_U)\n",
        "\n",
        "# Mostrar métricas de evaluación\n",
        "print(\"Informe de clasificación:\")\n",
        "print(classification_report(y_test_binary, y_pred))"
      ],
      "metadata": {
        "colab": {
          "base_uri": "https://localhost:8080/"
        },
        "id": "cMGizqB_t7tM",
        "outputId": "740245d1-11b1-436b-e16a-32eeaed0a0f6"
      },
      "id": "cMGizqB_t7tM",
      "execution_count": null,
      "outputs": [
        {
          "output_type": "stream",
          "name": "stdout",
          "text": [
            "Informe de clasificación:\n",
            "              precision    recall  f1-score   support\n",
            "\n",
            "           0       0.78      0.84      0.81     46455\n",
            "           1       0.83      0.77      0.80     46580\n",
            "\n",
            "    accuracy                           0.80     93035\n",
            "   macro avg       0.81      0.80      0.80     93035\n",
            "weighted avg       0.81      0.80      0.80     93035\n",
            "\n"
          ]
        }
      ]
    },
    {
      "cell_type": "markdown",
      "source": [
        "#### 1.5.3: Catboost submuestreo"
      ],
      "metadata": {
        "id": "CV8Ci3OkuHye"
      },
      "id": "CV8Ci3OkuHye"
    },
    {
      "cell_type": "code",
      "source": [
        "# Predecir en el conjunto de prueba\n",
        "y_pred = grid_search.predict(X_test_U)\n",
        "\n",
        "# Mostrar métricas de evaluación\n",
        "print(\"Informe de clasificación:\")\n",
        "print(classification_report(y_test_binary, y_pred))"
      ],
      "metadata": {
        "colab": {
          "base_uri": "https://localhost:8080/"
        },
        "id": "We5aP94YxSNn",
        "outputId": "239fa865-db5b-416b-cebd-bbab1b16a63e"
      },
      "id": "We5aP94YxSNn",
      "execution_count": null,
      "outputs": [
        {
          "output_type": "stream",
          "name": "stdout",
          "text": [
            "Informe de clasificación:\n",
            "              precision    recall  f1-score   support\n",
            "\n",
            "           0       0.77      0.85      0.80      2686\n",
            "           1       0.83      0.74      0.78      2688\n",
            "\n",
            "    accuracy                           0.79      5374\n",
            "   macro avg       0.80      0.79      0.79      5374\n",
            "weighted avg       0.80      0.79      0.79      5374\n",
            "\n"
          ]
        }
      ]
    },
    {
      "cell_type": "markdown",
      "source": [
        "### 1.6: Redes neuronales"
      ],
      "metadata": {
        "id": "gNvnmbmKaozA"
      },
      "id": "gNvnmbmKaozA"
    },
    {
      "cell_type": "markdown",
      "source": [
        "#### 1.6.1: Redes neuronales con los datos originales"
      ],
      "metadata": {
        "id": "Q1bfWguAavpq"
      },
      "id": "Q1bfWguAavpq"
    },
    {
      "cell_type": "code",
      "source": [
        "# Crear un objeto GridSearchCV\n",
        "rn_grid_search = GridSearchCV(rn_pipeline, rn_param_grid, cv=3, n_jobs=-1, verbose=1)\n",
        "\n",
        "# Entrenar el modelo utilizando GridSearchCV\n",
        "rn_grid_search.fit(X_train, y_train)\n",
        "\n",
        "# Predecir en el conjunto de prueba\n",
        "y_pred = rn_grid_search.predict(X_test)\n",
        "\n",
        "# Mostrar los mejores hiperparámetros encontrados\n",
        "print(\"Mejores hiperparámetros:\")\n",
        "print(rn_grid_search.best_params_)"
      ],
      "metadata": {
        "colab": {
          "base_uri": "https://localhost:8080/"
        },
        "id": "MpxTGY1KbZJj",
        "outputId": "98dc339c-d2bd-4ea4-ab03-9e8e2fe8d9fb"
      },
      "execution_count": null,
      "outputs": [
        {
          "output_type": "stream",
          "name": "stdout",
          "text": [
            "Fitting 3 folds for each of 1 candidates, totalling 3 fits\n",
            "Mejores hiperparámetros:\n",
            "{'rn__activation': 'relu', 'rn__hidden_layer_sizes': (20, 20), 'rn__solver': 'sgd'}\n"
          ]
        }
      ],
      "id": "MpxTGY1KbZJj"
    },
    {
      "cell_type": "markdown",
      "source": [
        "#### 1.6.3: Redes neuronales con submuestreo (Undersampling)"
      ],
      "metadata": {
        "id": "2PKEu3t3a2cK"
      },
      "id": "2PKEu3t3a2cK"
    },
    {
      "cell_type": "code",
      "source": [
        "# Crear un objeto GridSearchCV\n",
        "rn_grid_search = GridSearchCV(rn_pipeline, rn_param_grid, cv=3, n_jobs=-1, verbose=1)\n",
        "\n",
        "# Entrenar el modelo utilizando GridSearchCV\n",
        "rn_grid_search.fit(X_train_U, y_train_U)\n",
        "\n",
        "# Predecir en el conjunto de prueba\n",
        "y_pred = rn_grid_search.predict(X_test_U)\n",
        "\n",
        "# Se muestran los mejores hiperparámetros encontrados\n",
        "print(\"Mejores hiperparámetros:\")\n",
        "print(rn_grid_search.best_params_)"
      ],
      "metadata": {
        "id": "4VfZD-Bky3w9",
        "colab": {
          "base_uri": "https://localhost:8080/"
        },
        "outputId": "932fb2a3-53e5-41c4-bda4-328c82c4d494"
      },
      "execution_count": null,
      "outputs": [
        {
          "output_type": "stream",
          "name": "stdout",
          "text": [
            "Fitting 3 folds for each of 1 candidates, totalling 3 fits\n",
            "Mejores hiperparámetros:\n",
            "{'rn__activation': 'tanh', 'rn__hidden_layer_sizes': (50,), 'rn__solver': 'sgd'}\n"
          ]
        }
      ],
      "id": "4VfZD-Bky3w9"
    },
    {
      "cell_type": "markdown",
      "source": [
        "### 1.7: Detección de anomalías"
      ],
      "metadata": {
        "id": "cW_yU2Jv6wGw"
      },
      "id": "cW_yU2Jv6wGw"
    },
    {
      "cell_type": "markdown",
      "source": [
        "#### 1.7.1: Robust covariance"
      ],
      "metadata": {
        "id": "6EtLaPdDSUve"
      },
      "id": "6EtLaPdDSUve"
    },
    {
      "cell_type": "code",
      "source": [
        "accuracy = accuracy_score(y_train.values, y_pred_mapeado)\n",
        "precision, recall, f1_score, _ = precision_recall_fscore_support(y_train.values, y_pred_mapeado, average='macro')\n",
        "print(f'accuracy: {accuracy}')\n",
        "print(f'precision: {precision}')\n",
        "print(f'recall: {recall}')\n",
        "print(f'f1_score: {f1_score}')"
      ],
      "metadata": {
        "colab": {
          "base_uri": "https://localhost:8080/"
        },
        "id": "t8O1mI0bPmKj",
        "outputId": "97f675ae-7e48-4e0d-cefd-f47cb55eff6f"
      },
      "execution_count": null,
      "outputs": [
        {
          "output_type": "stream",
          "name": "stdout",
          "text": [
            "accuracy: 0.9115320322939583\n",
            "precision: 0.5560941417950688\n",
            "recall: 0.5516334726681897\n",
            "f1_score: 0.5537127817859242\n"
          ]
        }
      ],
      "id": "t8O1mI0bPmKj"
    },
    {
      "cell_type": "code",
      "source": [
        "y_pred_test = robust_covariance.predict(X_test.toarray())\n",
        "y_pred_test_mapeado = np.array([mapeo[x] for x in y_pred_test], dtype=object)\n",
        "\n",
        "accuracy = accuracy_score(y_test.values, y_pred_test_mapeado)\n",
        "precision, recall, f1_score, _ = precision_recall_fscore_support(y_test.values, y_pred_test_mapeado, average='macro')\n",
        "print(f'accuracy: {accuracy}')\n",
        "print(f'precision: {precision}')\n",
        "print(f'recall: {recall}')\n",
        "print(f'f1_score: {f1_score}')"
      ],
      "metadata": {
        "colab": {
          "base_uri": "https://localhost:8080/"
        },
        "id": "ItG5b3qPVsRj",
        "outputId": "0e54f1b3-11fb-4d2f-d282-a665226adbb5"
      },
      "execution_count": null,
      "outputs": [
        {
          "output_type": "stream",
          "name": "stdout",
          "text": [
            "accuracy: 0.9147850828167869\n",
            "precision: 0.56891702457178\n",
            "recall: 0.5615584343976563\n",
            "f1_score: 0.5649208302046823\n"
          ]
        }
      ],
      "id": "ItG5b3qPVsRj"
    },
    {
      "cell_type": "markdown",
      "source": [
        "#### 1.7.2: Isolation Forest"
      ],
      "metadata": {
        "id": "HrOJOVQfSemw"
      },
      "id": "HrOJOVQfSemw"
    },
    {
      "cell_type": "code",
      "source": [
        "accuracy = accuracy_score(y_train.values, y_pred_mapeado)\n",
        "precision, recall, f1_score, _ = precision_recall_fscore_support(y_train.values, y_pred_mapeado, average='macro')\n",
        "print(f'accuracy: {accuracy}')\n",
        "print(f'precision: {precision}')\n",
        "print(f'recall: {recall}')\n",
        "print(f'f1_score: {f1_score}')"
      ],
      "metadata": {
        "colab": {
          "base_uri": "https://localhost:8080/"
        },
        "id": "O0ttDm9CUDj7",
        "outputId": "eeec53e9-d34f-4446-de6e-1281e9f16387"
      },
      "execution_count": null,
      "outputs": [
        {
          "output_type": "stream",
          "name": "stdout",
          "text": [
            "accuracy: 0.9172937297083077\n",
            "precision: 0.9139239888561842\n",
            "recall: 0.9172937297083077\n",
            "f1_score: 0.9155816050162573\n"
          ]
        }
      ],
      "id": "O0ttDm9CUDj7"
    },
    {
      "cell_type": "code",
      "source": [
        "y_pred_test = isolation_forest.predict(X_test.toarray())\n",
        "y_pred_test_mapeado = np.array([mapeo[x] for x in y_pred_test], dtype=object)\n",
        "\n",
        "accuracy = accuracy_score(y_test.values, y_pred_test_mapeado)\n",
        "precision, recall, f1_score, _ = precision_recall_fscore_support(y_test.values, y_pred_test_mapeado, average='macro')\n",
        "print(f'accuracy: {accuracy}')\n",
        "print(f'precision: {precision}')\n",
        "print(f'recall: {recall}')\n",
        "print(f'f1_score: {f1_score}')"
      ],
      "metadata": {
        "colab": {
          "base_uri": "https://localhost:8080/"
        },
        "id": "jkHWrMQUXHNP",
        "outputId": "175cd003-126e-4c60-9fd4-cfa2fe4881a0"
      },
      "execution_count": null,
      "outputs": [
        {
          "output_type": "stream",
          "name": "stdout",
          "text": [
            "accuracy: 0.9181587237069404\n",
            "precision: 0.9152668016905006\n",
            "recall: 0.9181587237069404\n",
            "f1_score: 0.9166910496995853\n"
          ]
        }
      ],
      "id": "jkHWrMQUXHNP"
    },
    {
      "cell_type": "markdown",
      "source": [
        "#### 1.7.3: Local Outlier Factor"
      ],
      "metadata": {
        "id": "894VWAN-UEAc"
      },
      "id": "894VWAN-UEAc"
    },
    {
      "cell_type": "code",
      "source": [
        "accuracy = accuracy_score(y_train.values, y_pred_mapeado)\n",
        "precision, recall, f1_score, _ = precision_recall_fscore_support(y_train.values, y_pred_mapeado, average='macro')\n",
        "print(f'accuracy: {accuracy}')\n",
        "print(f'precision: {precision}')\n",
        "print(f'recall: {recall}')\n",
        "print(f'f1_score: {f1_score}')"
      ],
      "metadata": {
        "colab": {
          "base_uri": "https://localhost:8080/"
        },
        "id": "JI7U4GQnXgHb",
        "outputId": "9d8ffb1f-2542-4146-c288-bf41f0b7641b"
      },
      "execution_count": null,
      "outputs": [
        {
          "output_type": "stream",
          "name": "stdout",
          "text": [
            "accuracy: 0.9097638923466977\n",
            "precision: 0.8999130733982399\n",
            "recall: 0.9097638923466977\n",
            "f1_score: 0.9047476566466373\n"
          ]
        }
      ],
      "id": "JI7U4GQnXgHb"
    },
    {
      "cell_type": "code",
      "source": [
        "y_pred_test = local_outlier_factor.predict(X_test.toarray())\n",
        "y_pred_test_mapeado = np.array([mapeo[x] for x in y_pred_test], dtype=object)\n",
        "\n",
        "accuracy = accuracy_score(y_test.values, y_pred_test_mapeado)\n",
        "precision, recall, f1_score, _ = precision_recall_fscore_support(y_test.values, y_pred_test_mapeado, average='macro')\n",
        "print(f'accuracy: {accuracy}')\n",
        "print(f'precision: {precision}')\n",
        "print(f'recall: {recall}')\n",
        "print(f'f1_score: {f1_score}')"
      ],
      "metadata": {
        "colab": {
          "base_uri": "https://localhost:8080/"
        },
        "id": "AC9z8-TLYHkU",
        "outputId": "6d43c011-3ea9-473f-e0db-02eaf0723973"
      },
      "execution_count": null,
      "outputs": [
        {
          "output_type": "stream",
          "name": "stdout",
          "text": [
            "accuracy: 0.9040138197337669\n",
            "precision: 0.9006651570695035\n",
            "recall: 0.9040138197337669\n",
            "f1_score: 0.9023288139771728\n"
          ]
        }
      ],
      "id": "AC9z8-TLYHkU"
    },
    {
      "cell_type": "markdown",
      "id": "8a04b1d3",
      "metadata": {
        "id": "8a04b1d3"
      },
      "source": [
        "## **1.8. Entrenamiento del Modelo y Selección de Hiperparámetros y Evaluación del modelo**\n",
        "---\n"
      ]
    },
    {
      "cell_type": "markdown",
      "source": [
        "![image.png](data:image/png;base64,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)"
      ],
      "metadata": {
        "id": "TbuRKXgW4o9l"
      },
      "id": "TbuRKXgW4o9l"
    },
    {
      "cell_type": "markdown",
      "source": [
        "Establecimos una métrica que consiste en el promedio del accuracy, precision, recall y f1-score, y en base a ella armamos un ranking de los mejores modelos con los mejores hiperparámetros. De esta manera evidenciamos que el mejor modelo es el SVM entrenado con datos sub-muestreados.\n",
        "\n",
        "Ahora bien, para este mejor modelo las métricas accuracy, precision, recall y f1-score fueron calculadas con los datos test también submuestreados (y_test_U), por lo que no se identifica igualdad de condiciones para comparar vs el resto de los modelos, por lo que hicimos la predicción con los datos test originales, teniendo otros resultados para los mismos modelos (los que tienen sub-fijo \"submuestreo - y_test_originales\").\n",
        "\n",
        "Asumiendo de que no están en igualdad de condiciones, y revisando con los datos originales, el mejor modelo es la regresión logística."
      ],
      "metadata": {
        "id": "7mEK_Kf45E0o"
      },
      "id": "7mEK_Kf45E0o"
    },
    {
      "cell_type": "markdown",
      "source": [
        "# **2. Métricas de desempeño - modelos (Con reducción de la dimensionalidad)**"
      ],
      "metadata": {
        "id": "G6YFLnRiFggC"
      },
      "id": "G6YFLnRiFggC"
    },
    {
      "cell_type": "markdown",
      "source": [
        "# **Reducción de dimensión**"
      ],
      "metadata": {
        "id": "6qtpzMiWWXKp"
      },
      "id": "6qtpzMiWWXKp"
    },
    {
      "cell_type": "markdown",
      "metadata": {
        "id": "91GIfI7iGQD2"
      },
      "source": [
        "## **2.1. Selección y diseño de modelos**\n",
        "---\n",
        "\n",
        "Probaremos diversos modelos de clasificiación debido a que tenemos una variable a predecir que es: una persona tendrá ataque cardiaco o no (HadHeartAttack)"
      ],
      "id": "91GIfI7iGQD2"
    },
    {
      "cell_type": "markdown",
      "metadata": {
        "id": "Nynh_ZfVGQD3"
      },
      "source": [
        "### 2.1.1 modelo : LOGISTIC REGRESION\n"
      ],
      "id": "Nynh_ZfVGQD3"
    },
    {
      "cell_type": "code",
      "execution_count": null,
      "metadata": {
        "colab": {
          "base_uri": "https://localhost:8080/"
        },
        "outputId": "73d4b5ec-0a34-4831-a1e6-d79c57ba32c6",
        "id": "Uaf_pQNTGQD3"
      },
      "outputs": [
        {
          "output_type": "stream",
          "name": "stdout",
          "text": [
            "Fitting 5 folds for each of 6 candidates, totalling 30 fits\n"
          ]
        },
        {
          "output_type": "stream",
          "name": "stderr",
          "text": [
            "/usr/local/lib/python3.10/dist-packages/sklearn/model_selection/_validation.py:378: FitFailedWarning: \n",
            "15 fits failed out of a total of 30.\n",
            "The score on these train-test partitions for these parameters will be set to nan.\n",
            "If these failures are not expected, you can try to debug them by setting error_score='raise'.\n",
            "\n",
            "Below are more details about the failures:\n",
            "--------------------------------------------------------------------------------\n",
            "15 fits failed with the following error:\n",
            "Traceback (most recent call last):\n",
            "  File \"/usr/local/lib/python3.10/dist-packages/sklearn/model_selection/_validation.py\", line 686, in _fit_and_score\n",
            "    estimator.fit(X_train, y_train, **fit_params)\n",
            "  File \"/usr/local/lib/python3.10/dist-packages/sklearn/pipeline.py\", line 405, in fit\n",
            "    self._final_estimator.fit(Xt, y, **fit_params_last_step)\n",
            "  File \"/usr/local/lib/python3.10/dist-packages/sklearn/linear_model/_logistic.py\", line 1162, in fit\n",
            "    solver = _check_solver(self.solver, self.penalty, self.dual)\n",
            "  File \"/usr/local/lib/python3.10/dist-packages/sklearn/linear_model/_logistic.py\", line 54, in _check_solver\n",
            "    raise ValueError(\n",
            "ValueError: Solver lbfgs supports only 'l2' or 'none' penalties, got l1 penalty.\n",
            "\n",
            "  warnings.warn(some_fits_failed_message, FitFailedWarning)\n",
            "/usr/local/lib/python3.10/dist-packages/sklearn/model_selection/_search.py:952: UserWarning: One or more of the test scores are non-finite: [       nan 0.94555348        nan 0.9455484         nan 0.94554332]\n",
            "  warnings.warn(\n"
          ]
        },
        {
          "output_type": "stream",
          "name": "stdout",
          "text": [
            "Mejores hiperparámetros:\n",
            "{'lr__C': 0.1, 'lr__penalty': 'l2'}\n",
            "Informe de clasificación:\n",
            "              precision    recall  f1-score   support\n",
            "\n",
            "          No       0.95      1.00      0.97     46513\n",
            "         Yes       0.54      0.09      0.16      2692\n",
            "\n",
            "    accuracy                           0.95     49205\n",
            "   macro avg       0.74      0.54      0.57     49205\n",
            "weighted avg       0.93      0.95      0.93     49205\n",
            "\n"
          ]
        }
      ],
      "source": [
        "grid_search_LogisticRegression = GridSearchCV(pipeline, param_grid, cv=5, n_jobs=-1, verbose=10)\n",
        "grid_search_LogisticRegression.fit(X_train, y_train)\n",
        "\n",
        "# Mostrar los mejores hiperparámetros encontrados\n",
        "print(\"Mejores hiperparámetros:\")\n",
        "print(grid_search_LogisticRegression.best_params_)\n",
        "\n",
        "# Predecir en el conjunto de prueba\n",
        "y_pred = grid_search_LogisticRegression.predict(X_test)\n",
        "\n",
        "# Mostrar métricas de evaluación\n",
        "print(\"Informe de clasificación:\")\n",
        "Ligistic_regression_report=classification_report(y_test, y_pred)\n",
        "print(Ligistic_regression_report)\n"
      ],
      "id": "Uaf_pQNTGQD3"
    },
    {
      "cell_type": "markdown",
      "metadata": {
        "id": "JUVHmpHlGQD4"
      },
      "source": [
        "### 2.1.2  modelo : SMV\n"
      ],
      "id": "JUVHmpHlGQD4"
    },
    {
      "cell_type": "code",
      "execution_count": null,
      "metadata": {
        "colab": {
          "base_uri": "https://localhost:8080/"
        },
        "outputId": "b8c41320-bf4f-43be-c908-670b2b532f9b",
        "id": "2AO6sr6ZGQD4"
      },
      "outputs": [
        {
          "output_type": "stream",
          "name": "stdout",
          "text": [
            "Fitting 3 folds for each of 12 candidates, totalling 36 fits\n",
            "Mejores hiperparámetros:\n",
            "{'svc__C': 1, 'svc__gamma': 'scale', 'svc__kernel': 'rbf'}\n"
          ]
        }
      ],
      "source": [
        "# Crear un objeto GridSearchCV\n",
        "svm_search = GridSearchCV(pipeline, param_grid, cv=3, n_jobs=-1, verbose=3)\n",
        "\n",
        "# Entrenar el modelo utilizando GridSearchCV\n",
        "svm_search.fit(X_train_U, y_train_U)\n",
        "\n",
        "# Mostrar los mejores hiperparámetros encontrados\n",
        "print(\"Mejores hiperparámetros:\")\n",
        "print(svm_search.best_params_)"
      ],
      "id": "2AO6sr6ZGQD4"
    },
    {
      "cell_type": "code",
      "source": [
        "# Predecir en el conjunto de prueba\n",
        "y_pred = svm_search.predict(X_test)\n",
        "\n",
        "# Mostrar métricas de evaluación\n",
        "print(\"Informe de clasificación:\")\n",
        "svm_report = classification_report(y_test, y_pred)\n",
        "print(svm_report)\n"
      ],
      "metadata": {
        "colab": {
          "base_uri": "https://localhost:8080/"
        },
        "id": "-D1sX21ziGyo",
        "outputId": "f0c3ae42-689e-4d57-9cc6-7932e9e62521"
      },
      "execution_count": null,
      "outputs": [
        {
          "output_type": "stream",
          "name": "stdout",
          "text": [
            "Informe de clasificación:\n",
            "              precision    recall  f1-score   support\n",
            "\n",
            "          No       0.99      0.77      0.86     46513\n",
            "         Yes       0.17      0.82      0.28      2692\n",
            "\n",
            "    accuracy                           0.77     49205\n",
            "   macro avg       0.58      0.79      0.57     49205\n",
            "weighted avg       0.94      0.77      0.83     49205\n",
            "\n"
          ]
        }
      ],
      "id": "-D1sX21ziGyo"
    },
    {
      "cell_type": "markdown",
      "metadata": {
        "id": "rbcwPqh3GQD6"
      },
      "source": [
        "### 2.1.3: Modelo Random Forest"
      ],
      "id": "rbcwPqh3GQD6"
    },
    {
      "cell_type": "markdown",
      "metadata": {
        "id": "R-EppKX4GQD6"
      },
      "source": [
        "#### 2.1.3.1: Modelo Random Forest con los datos originales"
      ],
      "id": "R-EppKX4GQD6"
    },
    {
      "cell_type": "code",
      "execution_count": null,
      "metadata": {
        "colab": {
          "base_uri": "https://localhost:8080/"
        },
        "outputId": "2b6c69f1-ffb5-4b42-a9a3-8b66dcb986a6",
        "id": "fAz6NuQcGQD6"
      },
      "outputs": [
        {
          "output_type": "stream",
          "name": "stdout",
          "text": [
            "Fitting 5 folds for each of 24 candidates, totalling 120 fits\n",
            "Mejores hiperparámetros:\n",
            "{'rf__max_depth': 10, 'rf__min_samples_leaf': 2, 'rf__min_samples_split': 2, 'rf__n_estimators': 10}\n",
            "Informe de clasificación:\n",
            "              precision    recall  f1-score   support\n",
            "\n",
            "          No       0.95      1.00      0.97     46513\n",
            "         Yes       0.64      0.00      0.01      2692\n",
            "\n",
            "    accuracy                           0.95     49205\n",
            "   macro avg       0.79      0.50      0.49     49205\n",
            "weighted avg       0.93      0.95      0.92     49205\n",
            "\n"
          ]
        }
      ],
      "source": [
        "# Crear un objeto GridSearchCV\n",
        "grid_search = GridSearchCV(pipeline, param_grid, cv=5, n_jobs=-1, verbose=10)\n",
        "\n",
        "# Entrenar el modelo utilizando GridSearchCV\n",
        "grid_search.fit(X_train, y_train)\n",
        "\n",
        "# Mostrar los mejores hiperparámetros encontrados\n",
        "print(\"Mejores hiperparámetros:\")\n",
        "print(grid_search.best_params_)\n",
        "\n",
        "# Predecir en el conjunto de prueba\n",
        "y_pred = grid_search.predict(X_test)\n",
        "\n",
        "# Mostrar métricas de evaluación\n",
        "print(\"Informe de clasificación:\")\n",
        "Random_forest_report = classification_report(y_test, y_pred)\n",
        "print(Random_forest_report)\n"
      ],
      "id": "fAz6NuQcGQD6"
    },
    {
      "cell_type": "markdown",
      "metadata": {
        "id": "ove6IAXdGQD8"
      },
      "source": [
        "#### 2.1.3.2: Modelo Random Forest con sobremuestreo (Oversampling)"
      ],
      "id": "ove6IAXdGQD8"
    },
    {
      "cell_type": "code",
      "execution_count": null,
      "metadata": {
        "colab": {
          "base_uri": "https://localhost:8080/"
        },
        "outputId": "c6aca56e-019f-4e36-f90b-bdd47c5f74b7",
        "id": "ZdQeoaFvGQD8"
      },
      "outputs": [
        {
          "output_type": "stream",
          "name": "stdout",
          "text": [
            "Fitting 5 folds for each of 24 candidates, totalling 120 fits\n",
            "Mejores hiperparámetros:\n",
            "{'rf__max_depth': 10, 'rf__min_samples_leaf': 1, 'rf__min_samples_split': 5, 'rf__n_estimators': 20}\n"
          ]
        }
      ],
      "source": [
        "# Entrenar el modelo utilizando GridSearchCV\n",
        "grid_search.fit(X_train_O, y_train_O)\n",
        "\n",
        "# Mostrar los mejores hiperparámetros encontrados\n",
        "print(\"Mejores hiperparámetros:\")\n",
        "print(grid_search.best_params_)"
      ],
      "id": "ZdQeoaFvGQD8"
    },
    {
      "cell_type": "code",
      "execution_count": null,
      "metadata": {
        "colab": {
          "base_uri": "https://localhost:8080/"
        },
        "outputId": "e3759434-7d86-4b2f-e57e-61f566e41312",
        "id": "sTCw-asZGQD8"
      },
      "outputs": [
        {
          "output_type": "stream",
          "name": "stdout",
          "text": [
            "Informe de clasificación:\n",
            "              precision    recall  f1-score   support\n",
            "\n",
            "          No       0.80      0.84      0.82     46455\n",
            "         Yes       0.83      0.79      0.81     46580\n",
            "\n",
            "    accuracy                           0.81     93035\n",
            "   macro avg       0.81      0.81      0.81     93035\n",
            "weighted avg       0.81      0.81      0.81     93035\n",
            "\n"
          ]
        }
      ],
      "source": [
        "# Predecir en el conjunto de prueba\n",
        "y_pred = grid_search.predict(X_test_O)\n",
        "\n",
        "# Mostrar métricas de evaluación\n",
        "print(\"Informe de clasificación:\")\n",
        "print(classification_report(y_test_O, y_pred))"
      ],
      "id": "sTCw-asZGQD8"
    },
    {
      "cell_type": "markdown",
      "metadata": {
        "id": "1-RKi21MGQD9"
      },
      "source": [
        "#### 2.1.3.3: Modelo Random Forest con submuestreo (Undersampling)"
      ],
      "id": "1-RKi21MGQD9"
    },
    {
      "cell_type": "code",
      "execution_count": null,
      "metadata": {
        "colab": {
          "base_uri": "https://localhost:8080/"
        },
        "outputId": "1e2c721d-0514-4443-c082-fe271b953fb9",
        "id": "yad_TRj9GQD-"
      },
      "outputs": [
        {
          "output_type": "stream",
          "name": "stdout",
          "text": [
            "Fitting 5 folds for each of 24 candidates, totalling 120 fits\n",
            "Mejores hiperparámetros:\n",
            "{'rf__max_depth': 10, 'rf__min_samples_leaf': 2, 'rf__min_samples_split': 2, 'rf__n_estimators': 20}\n"
          ]
        }
      ],
      "source": [
        "# Entrenar el modelo utilizando GridSearchCV\n",
        "grid_search.fit(X_train_U, y_train_U)\n",
        "\n",
        "# Se muestran los mejores hiperparámetros encontrados\n",
        "print(\"Mejores hiperparámetros:\")\n",
        "print(grid_search.best_params_)"
      ],
      "id": "yad_TRj9GQD-"
    },
    {
      "cell_type": "code",
      "execution_count": null,
      "metadata": {
        "colab": {
          "base_uri": "https://localhost:8080/"
        },
        "outputId": "bd6bc538-61c8-4670-f777-09988d63bcb2",
        "id": "EAEJ5kTaGQD_"
      },
      "outputs": [
        {
          "output_type": "stream",
          "name": "stdout",
          "text": [
            "Informe de clasificación:\n",
            "              precision    recall  f1-score   support\n",
            "\n",
            "          No       0.99      0.75      0.85     46513\n",
            "         Yes       0.16      0.85      0.27      2692\n",
            "\n",
            "    accuracy                           0.75     49205\n",
            "   macro avg       0.58      0.80      0.56     49205\n",
            "weighted avg       0.94      0.75      0.82     49205\n",
            "\n"
          ]
        }
      ],
      "source": [
        "# Predecir en el conjunto de prueba\n",
        "y_pred = grid_search.predict(X_test)\n",
        "\n",
        "# Mostrar métricas de evaluación\n",
        "print(\"Informe de clasificación:\")\n",
        "print(classification_report(y_test, y_pred))"
      ],
      "id": "EAEJ5kTaGQD_"
    },
    {
      "cell_type": "markdown",
      "source": [
        "### 2.1.4: XGBoost"
      ],
      "metadata": {
        "id": "ItOHEUnTGQD_"
      },
      "id": "ItOHEUnTGQD_"
    },
    {
      "cell_type": "markdown",
      "source": [
        "#### 2.1.4.1: XGBoost: Datos originales"
      ],
      "metadata": {
        "id": "HEv8jLQ7GQEA"
      },
      "id": "HEv8jLQ7GQEA"
    },
    {
      "cell_type": "code",
      "source": [
        "# Se muestran los mejores hiperparámetros encontrados\n",
        "print(\"Mejores hiperparámetros:\")\n",
        "print(grid_search.best_params_)"
      ],
      "metadata": {
        "colab": {
          "base_uri": "https://localhost:8080/"
        },
        "outputId": "684c1e11-efc1-405e-aad4-702f322d84f6",
        "id": "rc1gEHt7GQEA"
      },
      "execution_count": null,
      "outputs": [
        {
          "output_type": "stream",
          "name": "stdout",
          "text": [
            "Mejores hiperparámetros:\n",
            "{'xgb__gamma': 0, 'xgb__learning_rate': 0.05, 'xgb__max_depth': 10, 'xgb__n_estimators': 20}\n"
          ]
        }
      ],
      "id": "rc1gEHt7GQEA"
    },
    {
      "cell_type": "code",
      "source": [
        "# Predecir en el conjunto de prueba\n",
        "y_pred = grid_search.predict(X_test)\n",
        "\n",
        "# Mostrar métricas de evaluación\n",
        "print(\"Informe de clasificación:\")\n",
        "print(classification_report(y_test_binary, y_pred))"
      ],
      "metadata": {
        "colab": {
          "base_uri": "https://localhost:8080/"
        },
        "outputId": "c27dbab8-de8c-42d6-9b31-dbe8a94fd0de",
        "id": "6fiqM3kKGQEB"
      },
      "execution_count": null,
      "outputs": [
        {
          "output_type": "stream",
          "name": "stdout",
          "text": [
            "Informe de clasificación:\n",
            "              precision    recall  f1-score   support\n",
            "\n",
            "           0       0.95      1.00      0.97     46513\n",
            "           1       0.00      0.00      0.00      2692\n",
            "\n",
            "    accuracy                           0.95     49205\n",
            "   macro avg       0.47      0.50      0.49     49205\n",
            "weighted avg       0.89      0.95      0.92     49205\n",
            "\n"
          ]
        },
        {
          "output_type": "stream",
          "name": "stderr",
          "text": [
            "/usr/local/lib/python3.10/dist-packages/sklearn/metrics/_classification.py:1344: UndefinedMetricWarning: Precision and F-score are ill-defined and being set to 0.0 in labels with no predicted samples. Use `zero_division` parameter to control this behavior.\n",
            "  _warn_prf(average, modifier, msg_start, len(result))\n",
            "/usr/local/lib/python3.10/dist-packages/sklearn/metrics/_classification.py:1344: UndefinedMetricWarning: Precision and F-score are ill-defined and being set to 0.0 in labels with no predicted samples. Use `zero_division` parameter to control this behavior.\n",
            "  _warn_prf(average, modifier, msg_start, len(result))\n",
            "/usr/local/lib/python3.10/dist-packages/sklearn/metrics/_classification.py:1344: UndefinedMetricWarning: Precision and F-score are ill-defined and being set to 0.0 in labels with no predicted samples. Use `zero_division` parameter to control this behavior.\n",
            "  _warn_prf(average, modifier, msg_start, len(result))\n"
          ]
        }
      ],
      "id": "6fiqM3kKGQEB"
    },
    {
      "cell_type": "markdown",
      "source": [
        "#### 2.1.4.2: XGboost con Sobremuestreo"
      ],
      "metadata": {
        "id": "4ZY6Zav6GQEC"
      },
      "id": "4ZY6Zav6GQEC"
    },
    {
      "cell_type": "code",
      "source": [
        "# Predecir en el conjunto de prueba\n",
        "y_pred = grid_search.predict(X_test_O)\n",
        "\n",
        "# Mostrar métricas de evaluación\n",
        "print(\"Informe de clasificación:\")\n",
        "print(classification_report(y_test_binary, y_pred))"
      ],
      "metadata": {
        "colab": {
          "base_uri": "https://localhost:8080/"
        },
        "outputId": "7768cf99-ab10-444f-e46d-f424b637e6d8",
        "id": "obpxPxMIGQEC"
      },
      "execution_count": null,
      "outputs": [
        {
          "output_type": "stream",
          "name": "stdout",
          "text": [
            "Informe de clasificación:\n",
            "              precision    recall  f1-score   support\n",
            "\n",
            "           0       0.82      0.85      0.83     46455\n",
            "           1       0.84      0.81      0.83     46580\n",
            "\n",
            "    accuracy                           0.83     93035\n",
            "   macro avg       0.83      0.83      0.83     93035\n",
            "weighted avg       0.83      0.83      0.83     93035\n",
            "\n"
          ]
        }
      ],
      "id": "obpxPxMIGQEC"
    },
    {
      "cell_type": "markdown",
      "source": [
        "#### 2.1.4.3: XGboost submustreo"
      ],
      "metadata": {
        "id": "IQ-NSO58GQED"
      },
      "id": "IQ-NSO58GQED"
    },
    {
      "cell_type": "code",
      "source": [
        "# Predecir en el conjunto de prueba\n",
        "y_pred = grid_search.predict(X_test)\n",
        "y_test_binary = y_test.map({'No': 0, 'Yes': 1})\n",
        "\n",
        "# Mostrar métricas de evaluación\n",
        "print(\"Informe de clasificación:\")\n",
        "print(classification_report(y_test_binary, y_pred))"
      ],
      "metadata": {
        "colab": {
          "base_uri": "https://localhost:8080/"
        },
        "outputId": "66f291e6-c468-4500-d0b9-8a404009727a",
        "id": "s9yHed0CGQEE"
      },
      "execution_count": null,
      "outputs": [
        {
          "output_type": "stream",
          "name": "stdout",
          "text": [
            "Informe de clasificación:\n",
            "              precision    recall  f1-score   support\n",
            "\n",
            "           0       0.99      0.75      0.85     46513\n",
            "           1       0.17      0.90      0.29      2692\n",
            "\n",
            "    accuracy                           0.75     49205\n",
            "   macro avg       0.58      0.82      0.57     49205\n",
            "weighted avg       0.95      0.75      0.82     49205\n",
            "\n"
          ]
        }
      ],
      "id": "s9yHed0CGQEE"
    },
    {
      "cell_type": "markdown",
      "source": [
        "### 2.1.5: Catboost"
      ],
      "metadata": {
        "id": "ltkYRbRrGQEE"
      },
      "id": "ltkYRbRrGQEE"
    },
    {
      "cell_type": "markdown",
      "source": [
        "#### 2.1.5.1: Catboost datos originales"
      ],
      "metadata": {
        "id": "IqdpHTT2GQEE"
      },
      "id": "IqdpHTT2GQEE"
    },
    {
      "cell_type": "code",
      "source": [
        "# Predecir en el conjunto de prueba\n",
        "y_pred = grid_search.predict(X_test)\n",
        "\n",
        "# Mostrar métricas de evaluación\n",
        "print(\"Informe de clasificación:\")\n",
        "print(classification_report(y_test_binary, y_pred))"
      ],
      "metadata": {
        "colab": {
          "base_uri": "https://localhost:8080/"
        },
        "outputId": "45542e8b-646b-4acf-eff3-82ac52e3d27f",
        "id": "uXgQNy3JGQEF"
      },
      "execution_count": null,
      "outputs": [
        {
          "output_type": "stream",
          "name": "stdout",
          "text": [
            "Informe de clasificación:\n",
            "              precision    recall  f1-score   support\n",
            "\n",
            "           0       0.95      1.00      0.97     46513\n",
            "           1       0.00      0.00      0.00      2692\n",
            "\n",
            "    accuracy                           0.95     49205\n",
            "   macro avg       0.47      0.50      0.49     49205\n",
            "weighted avg       0.89      0.95      0.92     49205\n",
            "\n"
          ]
        },
        {
          "output_type": "stream",
          "name": "stderr",
          "text": [
            "/usr/local/lib/python3.10/dist-packages/sklearn/metrics/_classification.py:1344: UndefinedMetricWarning: Precision and F-score are ill-defined and being set to 0.0 in labels with no predicted samples. Use `zero_division` parameter to control this behavior.\n",
            "  _warn_prf(average, modifier, msg_start, len(result))\n",
            "/usr/local/lib/python3.10/dist-packages/sklearn/metrics/_classification.py:1344: UndefinedMetricWarning: Precision and F-score are ill-defined and being set to 0.0 in labels with no predicted samples. Use `zero_division` parameter to control this behavior.\n",
            "  _warn_prf(average, modifier, msg_start, len(result))\n",
            "/usr/local/lib/python3.10/dist-packages/sklearn/metrics/_classification.py:1344: UndefinedMetricWarning: Precision and F-score are ill-defined and being set to 0.0 in labels with no predicted samples. Use `zero_division` parameter to control this behavior.\n",
            "  _warn_prf(average, modifier, msg_start, len(result))\n"
          ]
        }
      ],
      "id": "uXgQNy3JGQEF"
    },
    {
      "cell_type": "markdown",
      "source": [
        "#### 2.1.5.3: Catboost sobremuestreo"
      ],
      "metadata": {
        "id": "D_YVA1DOGQEG"
      },
      "id": "D_YVA1DOGQEG"
    },
    {
      "cell_type": "code",
      "source": [
        "# Predecir en el conjunto de prueba\n",
        "y_pred = grid_search.predict(X_test_U)\n",
        "\n",
        "# Mostrar métricas de evaluación\n",
        "print(\"Informe de clasificación:\")\n",
        "print(classification_report(y_test_binary, y_pred))"
      ],
      "metadata": {
        "colab": {
          "base_uri": "https://localhost:8080/"
        },
        "outputId": "740245d1-11b1-436b-e16a-32eeaed0a0f6",
        "id": "t0mqBgDgGQEH"
      },
      "execution_count": null,
      "outputs": [
        {
          "output_type": "stream",
          "name": "stdout",
          "text": [
            "Informe de clasificación:\n",
            "              precision    recall  f1-score   support\n",
            "\n",
            "           0       0.78      0.84      0.81     46455\n",
            "           1       0.83      0.77      0.80     46580\n",
            "\n",
            "    accuracy                           0.80     93035\n",
            "   macro avg       0.81      0.80      0.80     93035\n",
            "weighted avg       0.81      0.80      0.80     93035\n",
            "\n"
          ]
        }
      ],
      "id": "t0mqBgDgGQEH"
    },
    {
      "cell_type": "markdown",
      "source": [
        "#### 2.1.5.3: Catboost submuestreo"
      ],
      "metadata": {
        "id": "PAOdwccBGQEH"
      },
      "id": "PAOdwccBGQEH"
    },
    {
      "cell_type": "code",
      "source": [
        "# Predecir en el conjunto de prueba\n",
        "y_pred = grid_search.predict(X_test)\n",
        "\n",
        "# Mostrar métricas de evaluación\n",
        "print(\"Informe de clasificación:\")\n",
        "print(classification_report(y_test_binary, y_pred))"
      ],
      "metadata": {
        "colab": {
          "base_uri": "https://localhost:8080/"
        },
        "outputId": "b4064bf3-81ef-4585-8b7b-b29883bf42a8",
        "id": "NpvmkgcoGQEI"
      },
      "execution_count": null,
      "outputs": [
        {
          "output_type": "stream",
          "name": "stdout",
          "text": [
            "Informe de clasificación:\n",
            "              precision    recall  f1-score   support\n",
            "\n",
            "           0       0.98      0.75      0.85     46513\n",
            "           1       0.15      0.77      0.26      2692\n",
            "\n",
            "    accuracy                           0.75     49205\n",
            "   macro avg       0.57      0.76      0.55     49205\n",
            "weighted avg       0.94      0.75      0.82     49205\n",
            "\n"
          ]
        }
      ],
      "id": "NpvmkgcoGQEI"
    },
    {
      "cell_type": "markdown",
      "source": [
        "### 2.1.7: Redes neuronales"
      ],
      "metadata": {
        "id": "Y10NszZsGQEJ"
      },
      "id": "Y10NszZsGQEJ"
    },
    {
      "cell_type": "markdown",
      "source": [
        "#### 2.1.7.1: Redes neuronales con los datos originales"
      ],
      "metadata": {
        "id": "6aLRt9nAGQEJ"
      },
      "id": "6aLRt9nAGQEJ"
    },
    {
      "cell_type": "code",
      "source": [
        "# Crear un objeto GridSearchCV\n",
        "rn_grid_search = GridSearchCV(rn_pipeline, rn_param_grid, cv=3, n_jobs=-1, verbose=1)\n",
        "\n",
        "# Entrenar el modelo utilizando GridSearchCV\n",
        "rn_grid_search.fit(X_train, y_train)\n",
        "\n",
        "# Predecir en el conjunto de prueba\n",
        "y_pred = rn_grid_search.predict(X_test)\n",
        "\n",
        "# Mostrar los mejores hiperparámetros encontrados\n",
        "print(\"Mejores hiperparámetros:\")\n",
        "print(rn_grid_search.best_params_)"
      ],
      "metadata": {
        "colab": {
          "base_uri": "https://localhost:8080/"
        },
        "outputId": "98dc339c-d2bd-4ea4-ab03-9e8e2fe8d9fb",
        "id": "c6JweyTxGQEJ"
      },
      "execution_count": null,
      "outputs": [
        {
          "output_type": "stream",
          "name": "stdout",
          "text": [
            "Fitting 3 folds for each of 1 candidates, totalling 3 fits\n",
            "Mejores hiperparámetros:\n",
            "{'rn__activation': 'relu', 'rn__hidden_layer_sizes': (20, 20), 'rn__solver': 'sgd'}\n"
          ]
        }
      ],
      "id": "c6JweyTxGQEJ"
    },
    {
      "cell_type": "markdown",
      "source": [
        "#### 2.1.7.3: Redes neuronales con submuestreo (Undersampling)"
      ],
      "metadata": {
        "id": "19e1sXgVGQEK"
      },
      "id": "19e1sXgVGQEK"
    },
    {
      "cell_type": "code",
      "source": [
        "# Crear un objeto GridSearchCV\n",
        "rn_grid_search = GridSearchCV(rn_pipeline, rn_param_grid, cv=3, n_jobs=-1, verbose=1)\n",
        "\n",
        "# Entrenar el modelo utilizando GridSearchCV\n",
        "rn_grid_search.fit(X_train_U, y_train_U)\n",
        "\n",
        "# Predecir en el conjunto de prueba\n",
        "y_pred = rn_grid_search.predict(X_test_U)\n",
        "\n",
        "# Se muestran los mejores hiperparámetros encontrados\n",
        "print(\"Mejores hiperparámetros:\")\n",
        "print(rn_grid_search.best_params_)"
      ],
      "metadata": {
        "colab": {
          "base_uri": "https://localhost:8080/"
        },
        "outputId": "932fb2a3-53e5-41c4-bda4-328c82c4d494",
        "id": "vnJsNzZAGQEK"
      },
      "execution_count": null,
      "outputs": [
        {
          "output_type": "stream",
          "name": "stdout",
          "text": [
            "Fitting 3 folds for each of 1 candidates, totalling 3 fits\n",
            "Mejores hiperparámetros:\n",
            "{'rn__activation': 'tanh', 'rn__hidden_layer_sizes': (50,), 'rn__solver': 'sgd'}\n"
          ]
        }
      ],
      "id": "vnJsNzZAGQEK"
    },
    {
      "cell_type": "markdown",
      "source": [
        "### 2.1.8: Detección de anomalías"
      ],
      "metadata": {
        "id": "RcNwVMgRGQEL"
      },
      "id": "RcNwVMgRGQEL"
    },
    {
      "cell_type": "markdown",
      "source": [
        "#### 2.1.8.1: Robust covariance"
      ],
      "metadata": {
        "id": "XA9ud2pqGQEL"
      },
      "id": "XA9ud2pqGQEL"
    },
    {
      "cell_type": "code",
      "source": [
        "accuracy = accuracy_score(y_train.values, y_pred_mapeado)\n",
        "precision, recall, f1_score, _ = precision_recall_fscore_support(y_train.values, y_pred_mapeado, average='macro')\n",
        "print(f'accuracy: {accuracy}')\n",
        "print(f'precision: {precision}')\n",
        "print(f'recall: {recall}')\n",
        "print(f'f1_score: {f1_score}')"
      ],
      "metadata": {
        "colab": {
          "base_uri": "https://localhost:8080/"
        },
        "outputId": "bb8e687d-b86d-4266-925c-9a0eaad0148e",
        "id": "topFVTLvGQEM"
      },
      "execution_count": null,
      "outputs": [
        {
          "output_type": "stream",
          "name": "stdout",
          "text": [
            "accuracy: 0.9030673163395438\n",
            "precision: 0.5115436485168083\n",
            "recall: 0.5106256846278413\n",
            "f1_score: 0.5110115122278809\n"
          ]
        }
      ],
      "id": "topFVTLvGQEM"
    },
    {
      "cell_type": "code",
      "source": [
        "y_pred_test = robust_covariance.predict(X_test)\n",
        "y_pred_test_mapeado = np.array([mapeo[x] for x in y_pred_test], dtype=object)\n",
        "\n",
        "accuracy = accuracy_score(y_test.values, y_pred_test_mapeado)\n",
        "precision, recall, f1_score, _ = precision_recall_fscore_support(y_test.values, y_pred_test_mapeado, average='macro')\n",
        "print(f'accuracy: {accuracy}')\n",
        "print(f'precision: {precision}')\n",
        "print(f'recall: {recall}')\n",
        "print(f'f1_score: {f1_score}')"
      ],
      "metadata": {
        "colab": {
          "base_uri": "https://localhost:8080/"
        },
        "outputId": "bec36be1-3a5b-4112-d411-d0bb7dff0912",
        "id": "QDQU8csvGQEM"
      },
      "execution_count": null,
      "outputs": [
        {
          "output_type": "stream",
          "name": "stdout",
          "text": [
            "accuracy: 0.9030586322528198\n",
            "precision: 0.5168638712030602\n",
            "recall: 0.5158090698508644\n",
            "f1_score: 0.51628572937872\n"
          ]
        }
      ],
      "id": "QDQU8csvGQEM"
    },
    {
      "cell_type": "markdown",
      "source": [
        "#### 2.1.8.2: Isolation Forest"
      ],
      "metadata": {
        "id": "N-seBSxfGQEN"
      },
      "id": "N-seBSxfGQEN"
    },
    {
      "cell_type": "code",
      "source": [
        "accuracy = accuracy_score(y_train.values, y_pred_mapeado)\n",
        "precision, recall, f1_score, _ = precision_recall_fscore_support(y_train.values, y_pred_mapeado, average='macro')\n",
        "print(f'accuracy: {accuracy}')\n",
        "print(f'precision: {precision}')\n",
        "print(f'recall: {recall}')\n",
        "print(f'f1_score: {f1_score}')"
      ],
      "metadata": {
        "colab": {
          "base_uri": "https://localhost:8080/"
        },
        "outputId": "b72c696e-df6e-4354-81cf-e0fa1d49a6b9",
        "id": "dutH5z5_GQEO"
      },
      "execution_count": null,
      "outputs": [
        {
          "output_type": "stream",
          "name": "stdout",
          "text": [
            "accuracy: 0.9030673163395438\n",
            "precision: 0.5115436485168083\n",
            "recall: 0.5106256846278413\n",
            "f1_score: 0.5110115122278809\n"
          ]
        }
      ],
      "id": "dutH5z5_GQEO"
    },
    {
      "cell_type": "code",
      "source": [
        "y_pred_test = isolation_forest.predict(X_test)\n",
        "y_pred_test_mapeado = np.array([mapeo[x] for x in y_pred_test], dtype=object)\n",
        "\n",
        "accuracy = accuracy_score(y_test.values, y_pred_test_mapeado)\n",
        "precision, recall, f1_score, _ = precision_recall_fscore_support(y_test.values, y_pred_test_mapeado, average='macro')\n",
        "print(f'accuracy: {accuracy}')\n",
        "print(f'precision: {precision}')\n",
        "print(f'recall: {recall}')\n",
        "print(f'f1_score: {f1_score}')"
      ],
      "metadata": {
        "colab": {
          "base_uri": "https://localhost:8080/"
        },
        "outputId": "328f3ee6-223d-42ff-92cd-fcdc0298a5e3",
        "id": "qCXlJsj5GQEO"
      },
      "execution_count": null,
      "outputs": [
        {
          "output_type": "stream",
          "name": "stdout",
          "text": [
            "accuracy: 0.9133421400264201\n",
            "precision: 0.5671702791914515\n",
            "recall: 0.5620201077210867\n",
            "f1_score: 0.5644368453342757\n"
          ]
        }
      ],
      "id": "qCXlJsj5GQEO"
    },
    {
      "cell_type": "markdown",
      "source": [
        "#### 2.1.8.3: Local Outlier Factor"
      ],
      "metadata": {
        "id": "f9ZOSutMGQEO"
      },
      "id": "f9ZOSutMGQEO"
    },
    {
      "cell_type": "code",
      "source": [
        "accuracy = accuracy_score(y_train.values, y_pred_mapeado)\n",
        "precision, recall, f1_score, _ = precision_recall_fscore_support(y_train.values, y_pred_mapeado, average='macro')\n",
        "print(f'accuracy: {accuracy}')\n",
        "print(f'precision: {precision}')\n",
        "print(f'recall: {recall}')\n",
        "print(f'f1_score: {f1_score}')"
      ],
      "metadata": {
        "colab": {
          "base_uri": "https://localhost:8080/"
        },
        "outputId": "1820f3f0-6e0e-47a2-817b-fb098bc31025",
        "id": "mvV0TQ6bGQEP"
      },
      "execution_count": null,
      "outputs": [
        {
          "output_type": "stream",
          "name": "stdout",
          "text": [
            "accuracy: 0.9030673163395438\n",
            "precision: 0.5115436485168083\n",
            "recall: 0.5106256846278413\n",
            "f1_score: 0.5110115122278809\n"
          ]
        }
      ],
      "id": "mvV0TQ6bGQEP"
    },
    {
      "cell_type": "code",
      "source": [
        "y_pred_test = local_outlier_factor.predict(X_test)\n",
        "y_pred_test_mapeado = np.array([mapeo[x] for x in y_pred_test], dtype=object)\n",
        "\n",
        "accuracy = accuracy_score(y_test.values, y_pred_test_mapeado)\n",
        "precision, recall, f1_score, _ = precision_recall_fscore_support(y_test.values, y_pred_test_mapeado, average='macro')\n",
        "print(f'accuracy: {accuracy}')\n",
        "print(f'precision: {precision}')\n",
        "print(f'recall: {recall}')\n",
        "print(f'f1_score: {f1_score}')"
      ],
      "metadata": {
        "colab": {
          "base_uri": "https://localhost:8080/"
        },
        "outputId": "222801a5-70ab-49db-8385-0bf26668943c",
        "id": "gyFPXB5jGQEQ"
      },
      "execution_count": null,
      "outputs": [
        {
          "output_type": "stream",
          "name": "stdout",
          "text": [
            "accuracy: 0.8984859262270094\n",
            "precision: 0.4949036540462138\n",
            "recall: 0.49519186490833583\n",
            "f1_score: 0.4950255878431174\n"
          ]
        }
      ],
      "id": "gyFPXB5jGQEQ"
    },
    {
      "cell_type": "markdown",
      "source": [
        "## **2.2. Entrenamiento del Modelo y Selección de Hiperparámetros y Evaluación del modelo - Con reducción de la dimensionalidad**\n",
        "---"
      ],
      "metadata": {
        "id": "Melib0r7JRjl"
      },
      "id": "Melib0r7JRjl"
    },
    {
      "cell_type": "markdown",
      "source": [
        "![image.png](data:image/png;base64,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)"
      ],
      "metadata": {
        "id": "ZSU8dSUoJIUv"
      },
      "id": "ZSU8dSUoJIUv"
    },
    {
      "cell_type": "markdown",
      "id": "i_NYlM0dP_CI",
      "metadata": {
        "id": "i_NYlM0dP_CI"
      },
      "source": [
        "# **3. Aplicación del modelo y resultados**\n",
        "---\n"
      ]
    },
    {
      "cell_type": "markdown",
      "source": [
        "Como el mejor modelo es la regresión logística, usamos \"grid_search_LogisticRegression\" para evaluación con los datos test"
      ],
      "metadata": {
        "id": "fHbZrRYp8PuU"
      },
      "id": "fHbZrRYp8PuU"
    },
    {
      "cell_type": "code",
      "execution_count": null,
      "id": "Q5xfRI5LP-0o",
      "metadata": {
        "id": "Q5xfRI5LP-0o",
        "colab": {
          "base_uri": "https://localhost:8080/"
        },
        "outputId": "e2d9ce74-90d5-485a-a879-8fafe3f2196f"
      },
      "outputs": [
        {
          "output_type": "stream",
          "name": "stdout",
          "text": [
            "Informe de clasificación:\n",
            "              precision    recall  f1-score   support\n",
            "\n",
            "          No       0.96      0.99      0.97     46513\n",
            "         Yes       0.58      0.25      0.35      2692\n",
            "\n",
            "    accuracy                           0.95     49205\n",
            "   macro avg       0.77      0.62      0.66     49205\n",
            "weighted avg       0.94      0.95      0.94     49205\n",
            "\n"
          ]
        }
      ],
      "source": [
        "# Predecir en el conjunto de prueba\n",
        "y_pred = grid_search_LogisticRegression.predict(X_test)\n",
        "\n",
        "# Mostrar métricas de evaluación\n",
        "print(\"Informe de clasificación:\")\n",
        "Ligistic_regression_report=classification_report(y_test, y_pred)\n",
        "print(Ligistic_regression_report)"
      ]
    },
    {
      "cell_type": "code",
      "source": [
        "def list_confusion_matrix(cm,classes):\n",
        "  df = pd.DataFrame(data = cm,\n",
        "                    index = pd.MultiIndex.from_product([['Valor real'], classes]),\n",
        "                    columns = pd.MultiIndex.from_product([['Valor predicho'], classes]))\n",
        "\n",
        "  return df"
      ],
      "metadata": {
        "id": "lAfDspKxLuzr"
      },
      "id": "lAfDspKxLuzr",
      "execution_count": null,
      "outputs": []
    },
    {
      "cell_type": "code",
      "source": [
        "from sklearn.metrics import confusion_matrix\n",
        "\n",
        "cnf_matrix = confusion_matrix(y_test, y_pred)"
      ],
      "metadata": {
        "id": "xNXmZPMTMT4j"
      },
      "id": "xNXmZPMTMT4j",
      "execution_count": null,
      "outputs": []
    },
    {
      "cell_type": "code",
      "source": [
        "class_names = ['No', 'Yes']\n",
        "list_confusion_matrix(cnf_matrix,class_names)"
      ],
      "metadata": {
        "colab": {
          "base_uri": "https://localhost:8080/",
          "height": 143
        },
        "id": "PkkwHwy7MXbt",
        "outputId": "16bf4c36-7e0d-4f4a-9581-9735a0215f6c"
      },
      "id": "PkkwHwy7MXbt",
      "execution_count": null,
      "outputs": [
        {
          "output_type": "execute_result",
          "data": {
            "text/plain": [
              "               Valor predicho     \n",
              "                           No  Yes\n",
              "Valor real No           46014  499\n",
              "           Yes           2012  680"
            ],
            "text/html": [
              "\n",
              "  <div id=\"df-43ff8fbd-27a6-4bb3-88bf-646e6e0a0a00\" class=\"colab-df-container\">\n",
              "    <div>\n",
              "<style scoped>\n",
              "    .dataframe tbody tr th:only-of-type {\n",
              "        vertical-align: middle;\n",
              "    }\n",
              "\n",
              "    .dataframe tbody tr th {\n",
              "        vertical-align: top;\n",
              "    }\n",
              "\n",
              "    .dataframe thead tr th {\n",
              "        text-align: left;\n",
              "    }\n",
              "</style>\n",
              "<table border=\"1\" class=\"dataframe\">\n",
              "  <thead>\n",
              "    <tr>\n",
              "      <th></th>\n",
              "      <th></th>\n",
              "      <th colspan=\"2\" halign=\"left\">Valor predicho</th>\n",
              "    </tr>\n",
              "    <tr>\n",
              "      <th></th>\n",
              "      <th></th>\n",
              "      <th>No</th>\n",
              "      <th>Yes</th>\n",
              "    </tr>\n",
              "  </thead>\n",
              "  <tbody>\n",
              "    <tr>\n",
              "      <th rowspan=\"2\" valign=\"top\">Valor real</th>\n",
              "      <th>No</th>\n",
              "      <td>46014</td>\n",
              "      <td>499</td>\n",
              "    </tr>\n",
              "    <tr>\n",
              "      <th>Yes</th>\n",
              "      <td>2012</td>\n",
              "      <td>680</td>\n",
              "    </tr>\n",
              "  </tbody>\n",
              "</table>\n",
              "</div>\n",
              "    <div class=\"colab-df-buttons\">\n",
              "\n",
              "  <div class=\"colab-df-container\">\n",
              "    <button class=\"colab-df-convert\" onclick=\"convertToInteractive('df-43ff8fbd-27a6-4bb3-88bf-646e6e0a0a00')\"\n",
              "            title=\"Convert this dataframe to an interactive table.\"\n",
              "            style=\"display:none;\">\n",
              "\n",
              "  <svg xmlns=\"http://www.w3.org/2000/svg\" height=\"24px\" viewBox=\"0 -960 960 960\">\n",
              "    <path d=\"M120-120v-720h720v720H120Zm60-500h600v-160H180v160Zm220 220h160v-160H400v160Zm0 220h160v-160H400v160ZM180-400h160v-160H180v160Zm440 0h160v-160H620v160ZM180-180h160v-160H180v160Zm440 0h160v-160H620v160Z\"/>\n",
              "  </svg>\n",
              "    </button>\n",
              "\n",
              "  <style>\n",
              "    .colab-df-container {\n",
              "      display:flex;\n",
              "      gap: 12px;\n",
              "    }\n",
              "\n",
              "    .colab-df-convert {\n",
              "      background-color: #E8F0FE;\n",
              "      border: none;\n",
              "      border-radius: 50%;\n",
              "      cursor: pointer;\n",
              "      display: none;\n",
              "      fill: #1967D2;\n",
              "      height: 32px;\n",
              "      padding: 0 0 0 0;\n",
              "      width: 32px;\n",
              "    }\n",
              "\n",
              "    .colab-df-convert:hover {\n",
              "      background-color: #E2EBFA;\n",
              "      box-shadow: 0px 1px 2px rgba(60, 64, 67, 0.3), 0px 1px 3px 1px rgba(60, 64, 67, 0.15);\n",
              "      fill: #174EA6;\n",
              "    }\n",
              "\n",
              "    .colab-df-buttons div {\n",
              "      margin-bottom: 4px;\n",
              "    }\n",
              "\n",
              "    [theme=dark] .colab-df-convert {\n",
              "      background-color: #3B4455;\n",
              "      fill: #D2E3FC;\n",
              "    }\n",
              "\n",
              "    [theme=dark] .colab-df-convert:hover {\n",
              "      background-color: #434B5C;\n",
              "      box-shadow: 0px 1px 3px 1px rgba(0, 0, 0, 0.15);\n",
              "      filter: drop-shadow(0px 1px 2px rgba(0, 0, 0, 0.3));\n",
              "      fill: #FFFFFF;\n",
              "    }\n",
              "  </style>\n",
              "\n",
              "    <script>\n",
              "      const buttonEl =\n",
              "        document.querySelector('#df-43ff8fbd-27a6-4bb3-88bf-646e6e0a0a00 button.colab-df-convert');\n",
              "      buttonEl.style.display =\n",
              "        google.colab.kernel.accessAllowed ? 'block' : 'none';\n",
              "\n",
              "      async function convertToInteractive(key) {\n",
              "        const element = document.querySelector('#df-43ff8fbd-27a6-4bb3-88bf-646e6e0a0a00');\n",
              "        const dataTable =\n",
              "          await google.colab.kernel.invokeFunction('convertToInteractive',\n",
              "                                                    [key], {});\n",
              "        if (!dataTable) return;\n",
              "\n",
              "        const docLinkHtml = 'Like what you see? Visit the ' +\n",
              "          '<a target=\"_blank\" href=https://colab.research.google.com/notebooks/data_table.ipynb>data table notebook</a>'\n",
              "          + ' to learn more about interactive tables.';\n",
              "        element.innerHTML = '';\n",
              "        dataTable['output_type'] = 'display_data';\n",
              "        await google.colab.output.renderOutput(dataTable, element);\n",
              "        const docLink = document.createElement('div');\n",
              "        docLink.innerHTML = docLinkHtml;\n",
              "        element.appendChild(docLink);\n",
              "      }\n",
              "    </script>\n",
              "  </div>\n",
              "\n",
              "\n",
              "<div id=\"df-8260becc-d583-4404-97f5-53aa725d4aa6\">\n",
              "  <button class=\"colab-df-quickchart\" onclick=\"quickchart('df-8260becc-d583-4404-97f5-53aa725d4aa6')\"\n",
              "            title=\"Suggest charts\"\n",
              "            style=\"display:none;\">\n",
              "\n",
              "<svg xmlns=\"http://www.w3.org/2000/svg\" height=\"24px\"viewBox=\"0 0 24 24\"\n",
              "     width=\"24px\">\n",
              "    <g>\n",
              "        <path d=\"M19 3H5c-1.1 0-2 .9-2 2v14c0 1.1.9 2 2 2h14c1.1 0 2-.9 2-2V5c0-1.1-.9-2-2-2zM9 17H7v-7h2v7zm4 0h-2V7h2v10zm4 0h-2v-4h2v4z\"/>\n",
              "    </g>\n",
              "</svg>\n",
              "  </button>\n",
              "\n",
              "<style>\n",
              "  .colab-df-quickchart {\n",
              "      --bg-color: #E8F0FE;\n",
              "      --fill-color: #1967D2;\n",
              "      --hover-bg-color: #E2EBFA;\n",
              "      --hover-fill-color: #174EA6;\n",
              "      --disabled-fill-color: #AAA;\n",
              "      --disabled-bg-color: #DDD;\n",
              "  }\n",
              "\n",
              "  [theme=dark] .colab-df-quickchart {\n",
              "      --bg-color: #3B4455;\n",
              "      --fill-color: #D2E3FC;\n",
              "      --hover-bg-color: #434B5C;\n",
              "      --hover-fill-color: #FFFFFF;\n",
              "      --disabled-bg-color: #3B4455;\n",
              "      --disabled-fill-color: #666;\n",
              "  }\n",
              "\n",
              "  .colab-df-quickchart {\n",
              "    background-color: var(--bg-color);\n",
              "    border: none;\n",
              "    border-radius: 50%;\n",
              "    cursor: pointer;\n",
              "    display: none;\n",
              "    fill: var(--fill-color);\n",
              "    height: 32px;\n",
              "    padding: 0;\n",
              "    width: 32px;\n",
              "  }\n",
              "\n",
              "  .colab-df-quickchart:hover {\n",
              "    background-color: var(--hover-bg-color);\n",
              "    box-shadow: 0 1px 2px rgba(60, 64, 67, 0.3), 0 1px 3px 1px rgba(60, 64, 67, 0.15);\n",
              "    fill: var(--button-hover-fill-color);\n",
              "  }\n",
              "\n",
              "  .colab-df-quickchart-complete:disabled,\n",
              "  .colab-df-quickchart-complete:disabled:hover {\n",
              "    background-color: var(--disabled-bg-color);\n",
              "    fill: var(--disabled-fill-color);\n",
              "    box-shadow: none;\n",
              "  }\n",
              "\n",
              "  .colab-df-spinner {\n",
              "    border: 2px solid var(--fill-color);\n",
              "    border-color: transparent;\n",
              "    border-bottom-color: var(--fill-color);\n",
              "    animation:\n",
              "      spin 1s steps(1) infinite;\n",
              "  }\n",
              "\n",
              "  @keyframes spin {\n",
              "    0% {\n",
              "      border-color: transparent;\n",
              "      border-bottom-color: var(--fill-color);\n",
              "      border-left-color: var(--fill-color);\n",
              "    }\n",
              "    20% {\n",
              "      border-color: transparent;\n",
              "      border-left-color: var(--fill-color);\n",
              "      border-top-color: var(--fill-color);\n",
              "    }\n",
              "    30% {\n",
              "      border-color: transparent;\n",
              "      border-left-color: var(--fill-color);\n",
              "      border-top-color: var(--fill-color);\n",
              "      border-right-color: var(--fill-color);\n",
              "    }\n",
              "    40% {\n",
              "      border-color: transparent;\n",
              "      border-right-color: var(--fill-color);\n",
              "      border-top-color: var(--fill-color);\n",
              "    }\n",
              "    60% {\n",
              "      border-color: transparent;\n",
              "      border-right-color: var(--fill-color);\n",
              "    }\n",
              "    80% {\n",
              "      border-color: transparent;\n",
              "      border-right-color: var(--fill-color);\n",
              "      border-bottom-color: var(--fill-color);\n",
              "    }\n",
              "    90% {\n",
              "      border-color: transparent;\n",
              "      border-bottom-color: var(--fill-color);\n",
              "    }\n",
              "  }\n",
              "</style>\n",
              "\n",
              "  <script>\n",
              "    async function quickchart(key) {\n",
              "      const quickchartButtonEl =\n",
              "        document.querySelector('#' + key + ' button');\n",
              "      quickchartButtonEl.disabled = true;  // To prevent multiple clicks.\n",
              "      quickchartButtonEl.classList.add('colab-df-spinner');\n",
              "      try {\n",
              "        const charts = await google.colab.kernel.invokeFunction(\n",
              "            'suggestCharts', [key], {});\n",
              "      } catch (error) {\n",
              "        console.error('Error during call to suggestCharts:', error);\n",
              "      }\n",
              "      quickchartButtonEl.classList.remove('colab-df-spinner');\n",
              "      quickchartButtonEl.classList.add('colab-df-quickchart-complete');\n",
              "    }\n",
              "    (() => {\n",
              "      let quickchartButtonEl =\n",
              "        document.querySelector('#df-8260becc-d583-4404-97f5-53aa725d4aa6 button');\n",
              "      quickchartButtonEl.style.display =\n",
              "        google.colab.kernel.accessAllowed ? 'block' : 'none';\n",
              "    })();\n",
              "  </script>\n",
              "</div>\n",
              "    </div>\n",
              "  </div>\n"
            ],
            "application/vnd.google.colaboratory.intrinsic+json": {
              "type": "dataframe",
              "summary": "{\n  \"name\": \"list_confusion_matrix(cnf_matrix,class_names)\",\n  \"rows\": 2,\n  \"fields\": [\n    {\n      \"column\": [\n        \"Valor predicho\",\n        \"No\"\n      ],\n      \"properties\": {\n        \"dtype\": \"number\",\n        \"std\": 31114,\n        \"min\": 2012,\n        \"max\": 46014,\n        \"num_unique_values\": 2,\n        \"samples\": [\n          2012,\n          46014\n        ],\n        \"semantic_type\": \"\",\n        \"description\": \"\"\n      }\n    },\n    {\n      \"column\": [\n        \"Valor predicho\",\n        \"Yes\"\n      ],\n      \"properties\": {\n        \"dtype\": \"number\",\n        \"std\": 127,\n        \"min\": 499,\n        \"max\": 680,\n        \"num_unique_values\": 2,\n        \"samples\": [\n          680,\n          499\n        ],\n        \"semantic_type\": \"\",\n        \"description\": \"\"\n      }\n    }\n  ]\n}"
            }
          },
          "metadata": {},
          "execution_count": 18
        }
      ]
    },
    {
      "cell_type": "markdown",
      "source": [
        "## **3.1. Conclusiones**\n",
        "---"
      ],
      "metadata": {
        "id": "2DL6zDj4Df-I"
      },
      "id": "2DL6zDj4Df-I"
    },
    {
      "cell_type": "markdown",
      "source": [
        "A pesar de que es el mejor modelo de los que probamos, en la práctica no es un buen modelo para predecir los verdaderos positivos ya que con la ayuda de la matriz de confusión evidenciamos que tenemos varios \"Falsos-Negativos\", por lo que para un trabajo posterior se proyecta explorar nuevas técnicas que permitan mejorar los modelos como: expandir el rango de hiperparámetros, probar con modelos alternativos, etc."
      ],
      "metadata": {
        "id": "bYlojdEJP2b0"
      },
      "id": "bYlojdEJP2b0"
    }
  ],
  "metadata": {
    "colab": {
      "provenance": [],
      "toc_visible": true
    },
    "jupytext": {
      "cell_metadata_filter": "-all"
    },
    "kernelspec": {
      "display_name": "Python 3 (ipykernel)",
      "language": "python",
      "name": "python3"
    }
  },
  "nbformat": 4,
  "nbformat_minor": 5
}